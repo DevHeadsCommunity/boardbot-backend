{
  "cells": [
    {
      "cell_type": "markdown",
      "metadata": {},
      "source": [
        "# Response generator exploration\n"
      ]
    },
    {
      "cell_type": "code",
      "execution_count": 1,
      "metadata": {},
      "outputs": [],
      "source": [
        "import os\n",
        "import sys\n",
        "import logging\n",
        "from typing import List, Dict, Any\n",
        "from datetime import datetime\n",
        "from pydantic import BaseModel\n",
        "from IPython.display import Image, display\n",
        "\n",
        "# Add the project root to the Python path\n",
        "project_root = os.path.abspath(os.path.join(os.getcwd(), \"..\"))\n",
        "sys.path.append(project_root)\n",
        "\n",
        "# Import necessary components\n",
        "from config import Config\n",
        "from core.models.message import Message, RequestMessage\n",
        "from core.session_manager import SessionManager\n",
        "from generators.semantic_router import SemanticRouter\n",
        "from generators.llm_router import LLMRouter\n",
        "from generators.hybrid_router import HybridRouter\n",
        "from generators.dynamic_agent import DynamicAgent\n",
        "from generators.clear_intent_agent import ClearIntentAgent\n",
        "from generators.vague_intent_agent import VagueIntentAgent\n",
        "from services.weaviate_service import WeaviateService\n",
        "from services.openai_service import OpenAIService\n",
        "from services.tavily_service import TavilyService\n",
        "from services.query_processor import QueryProcessor\n",
        "from prompts.prompt_manager import PromptManager\n",
        "from feature_extraction.product_data_preprocessor import ProductDataProcessor\n",
        "\n",
        "# Load configuration\n",
        "config = Config()\n",
        "\n",
        "# Configure logging\n",
        "logging.basicConfig(level=logging.INFO, force=True)\n"
      ]
    },
    {
      "cell_type": "code",
      "execution_count": 2,
      "metadata": {},
      "outputs": [],
      "source": [
        "# Initialize services\n",
        "async def initialize_services():\n",
        "    openai_service = OpenAIService(config.OPENAI_API_KEY, config)\n",
        "    await openai_service.initialize()\n",
        "\n",
        "    tavily_service = TavilyService(config.TAVILY_API_KEY)\n",
        "    await tavily_service.connect()\n",
        "\n",
        "    product_data_preprocessor = ProductDataProcessor()\n",
        "    weaviate_service = WeaviateService(config.OPENAI_API_KEY, config.WEAVIATE_URL, product_data_preprocessor)\n",
        "    await weaviate_service.initialize_weaviate(reset=config.RESET_WEAVIATE)\n",
        "\n",
        "    query_processor = QueryProcessor(openai_service, PromptManager())\n",
        "\n",
        "    return openai_service, tavily_service, weaviate_service, query_processor\n",
        "\n",
        "\n",
        "# Initialize architectures\n",
        "async def initialize_architectures(openai_service, tavily_service, weaviate_service, query_processor):\n",
        "    session_manager = SessionManager()\n",
        "    prompt_manager = PromptManager()\n",
        "\n",
        "    # Initialize test session\n",
        "    session_manager.initialize_session(\"test\")\n",
        "\n",
        "    clear_intent_agent = ClearIntentAgent(weaviate_service, query_processor, openai_service, prompt_manager)\n",
        "    vague_intent_agent = VagueIntentAgent(weaviate_service, query_processor, openai_service, prompt_manager)\n",
        "\n",
        "    semantic_router = SemanticRouter(\n",
        "        session_manager, openai_service, weaviate_service, clear_intent_agent, vague_intent_agent, prompt_manager\n",
        "    )\n",
        "    llm_router = LLMRouter(\n",
        "        session_manager, openai_service, weaviate_service, clear_intent_agent, vague_intent_agent, prompt_manager\n",
        "    )\n",
        "    hybrid_router = HybridRouter(\n",
        "        session_manager, openai_service, weaviate_service, clear_intent_agent, vague_intent_agent, prompt_manager\n",
        "    )\n",
        "    dynamic_agent = DynamicAgent(session_manager, weaviate_service, query_processor, openai_service, prompt_manager)\n",
        "\n",
        "    display(Image(semantic_router.clear_intent_agent.workflow.get_graph().draw_mermaid_png()))\n",
        "    display(Image(semantic_router.vague_intent_agent.workflow.get_graph().draw_mermaid_png()))\n",
        "    display(Image(dynamic_agent.workflow.get_graph().draw_mermaid_png()))\n",
        "\n",
        "    return semantic_router, llm_router, hybrid_router, dynamic_agent"
      ]
    },
    {
      "cell_type": "code",
      "execution_count": 3,
      "metadata": {},
      "outputs": [],
      "source": [
        "# Helper function to run tests\n",
        "async def run_test(architecture, message: str, chat_history: List[Dict[str, str]] = None):\n",
        "    if chat_history is None:\n",
        "        chat_history = []\n",
        "\n",
        "    print(f\"Running test for {architecture.__class__.__name__}\")\n",
        "    print(f\"Input: {message}\")\n",
        "\n",
        "    mock_message = RequestMessage(\n",
        "        id=\"test\",\n",
        "        message=message,\n",
        "        timestamp=datetime.now(),\n",
        "        session_id=\"test\",\n",
        "        model=\"gpt-4o\",\n",
        "        architecture_choice=architecture.__class__.__name__.lower().replace(\"router\", \"-router\"),\n",
        "        history_management_choice=\"keep-all\",\n",
        "    )\n",
        "\n",
        "    response = await architecture.run(mock_message)\n",
        "\n",
        "    print(f\"Output: {response}\")\n",
        "    print(\"\\n\" + \"-\" * 50 + \"\\n\")\n",
        "    return response"
      ]
    },
    {
      "cell_type": "code",
      "execution_count": 4,
      "metadata": {},
      "outputs": [],
      "source": [
        "# Initialize services and architectures\n",
        "async def setup():\n",
        "    services = await initialize_services()\n",
        "    architectures = await initialize_architectures(*services)\n",
        "    return architectures\n"
      ]
    },
    {
      "cell_type": "code",
      "execution_count": 5,
      "metadata": {},
      "outputs": [],
      "source": [
        "# Run tests for all architectures\n",
        "async def run_all_tests(architectures, test_messages):\n",
        "    for arch in architectures:\n",
        "        print(f\"\\nTesting {arch.__class__.__name__}\")\n",
        "        for msg in test_messages:\n",
        "            await run_test(arch, msg)\n",
        "\n",
        "\n",
        "# Main execution\n",
        "async def main():\n",
        "    architectures = await setup()\n",
        "    test_messages = [\n",
        "        \"Hi\",\n",
        "        # \"Find me a single-board computer with 4GB RAM and an ARM processor.\",\n",
        "        # \"Tell me about the latest embedded systems.\",\n",
        "        # \"What are the differences between Arduino and Raspberry Pi?\",\n",
        "    ]\n",
        "    await run_all_tests(architectures, test_messages)\n"
      ]
    },
    {
      "cell_type": "code",
      "execution_count": 6,
      "metadata": {},
      "outputs": [
        {
          "name": "stderr",
          "output_type": "stream",
          "text": [
            "INFO:services.weaviate_service:Initializing Weaviate...\n",
            "INFO:httpx:HTTP Request: GET http://localhost:8080/v1/.well-known/openid-configuration \"HTTP/1.1 404 Not Found\"\n",
            "INFO:httpx:HTTP Request: GET http://localhost:8080/v1/meta \"HTTP/1.1 200 OK\"\n",
            "INFO:httpx:HTTP Request: GET https://pypi.org/pypi/weaviate-client/json \"HTTP/1.1 200 OK\"\n",
            "INFO:httpx:HTTP Request: GET http://localhost:8080/v1/schema \"HTTP/1.1 200 OK\"\n",
            "INFO:weaviate_interface.schema_manager:Mismatch in property product_id\n",
            "INFO:weaviate_interface.schema_manager:Property mismatch for RawProductData\n",
            "INFO:httpx:HTTP Request: GET http://localhost:8080/v1/schema \"HTTP/1.1 200 OK\"\n",
            "INFO:httpx:HTTP Request: POST http://localhost:8080/v1/graphql \"HTTP/1.1 200 OK\"\n",
            "INFO:weaviate_interface.weaviate_client:Aggregation results: AggregateReturn(properties={}, total_count=0)\n",
            "INFO:httpx:HTTP Request: POST http://localhost:8080/v1/graphql \"HTTP/1.1 200 OK\"\n",
            "INFO:weaviate_interface.weaviate_client:Aggregation results: AggregateReturn(properties={}, total_count=0)\n",
            "INFO:httpx:HTTP Request: POST http://localhost:8080/v1/graphql \"HTTP/1.1 200 OK\"\n",
            "INFO:weaviate_interface.weaviate_client:Aggregation results: AggregateReturn(properties={}, total_count=978)\n",
            "INFO:httpx:HTTP Request: POST http://localhost:8080/v1/graphql \"HTTP/1.1 200 OK\"\n",
            "INFO:weaviate_interface.weaviate_client:Aggregation results: AggregateReturn(properties={}, total_count=79)\n",
            "INFO:httpx:HTTP Request: POST http://localhost:8080/v1/graphql \"HTTP/1.1 200 OK\"\n",
            "INFO:weaviate_interface.weaviate_client:Aggregation results: AggregateReturn(properties={}, total_count=0)\n",
            "INFO:services.weaviate_service:Weaviate schema is valid: False\n",
            "INFO:services.weaviate_service:Weaviate schema info: Weaviate Schema Information:\n",
            "\n",
            "Class: ProductSearchResult\n",
            "  Object Count: 0\n",
            "  Properties:\n",
            "    - product_id (Type: text) - The unique identifier of the product\n",
            "    - search_query (Type: text) - The query used for this search\n",
            "    - search_result (Type: text) - The full search result\n",
            "    - data_source (Type: text) - The source of the search result\n",
            "  Vectorizer: none\n",
            "\n",
            "Class: ProductDataChunk\n",
            "  Object Count: 0\n",
            "  Properties:\n",
            "    - chunk_text (Type: text) - The text content of the chunk\n",
            "    - product_id (Type: text) - The unique identifier of the product\n",
            "    - source_type (Type: text) - The type of source this chunk came from (raw_data or search_result)\n",
            "    - source_id (Type: text) - The ID of the source (either RawProductData or ProductSearchResult)\n",
            "  Vectorizer: text2vec-openai\n",
            "\n",
            "Class: Product\n",
            "  Object Count: 978\n",
            "  Properties:\n",
            "    - product_id (Type: text) - The unique identifier of the product\n",
            "    - name (Type: text) - The official name of the product.\n",
            "    - manufacturer (Type: text) - The company that produces the product.\n",
            "    - form_factor (Type: text) - The physical dimensions or standard of the product.\n",
            "    - evaluation_or_commercialization (Type: text) - Indicates if the product is for evaluation or commercial use.\n",
            "    - processor_architecture (Type: text) - The architecture of the processor.\n",
            "    - processor_core_count (Type: text) - The number of cores in the processor.\n",
            "    - processor_manufacturer (Type: text) - The company that manufactures the processor.\n",
            "    - processor_tdp (Type: text) - The Thermal Design Power of the processor.\n",
            "    - memory (Type: text) - The size and type of RAM in the product.\n",
            "    - onboard_storage (Type: text) - The amount and type of built-in storage.\n",
            "    - input_voltage (Type: text) - The required input voltage for operation.\n",
            "    - io_count (Type: text[]) - The count and types of Input/Output interfaces.\n",
            "    - wireless (Type: text[]) - Wireless capabilities of the product.\n",
            "    - operating_system_bsp (Type: text[]) - Supported operating systems or Board Support Packages.\n",
            "    - operating_temperature_max (Type: text) - The maximum operating temperature.\n",
            "    - operating_temperature_min (Type: text) - The minimum operating temperature.\n",
            "    - certifications (Type: text[]) - Certifications and compliance standards met.\n",
            "    - short_summary (Type: text) - A concise description highlighting key features.\n",
            "    - full_summary (Type: text) - A detailed overview of the product's capabilities.\n",
            "    - full_product_description (Type: text) - An in-depth description including specifications.\n",
            "    - target_applications (Type: text[]) - Intended use cases or industries for the product.\n",
            "    - duplicate_ids (Type: text[]) - IDs of duplicate or related products.\n",
            "    - price (Type: text) - The cost of the product.\n",
            "    - stock_availability (Type: text) - Current stock status (e.g., In Stock, Out of Stock).\n",
            "    - lead_time (Type: text) - Time required to fulfill an order.\n",
            "  Vectorizer: text2vec-openai\n",
            "\n",
            "Class: Route\n",
            "  Object Count: 79\n",
            "  Properties:\n",
            "    - route (Type: text) - The route to follow\n",
            "    - description (Type: text) - Route description capturing different aspects of the route\n",
            "    - chitchat (Type: text[]) - This property was generated by Weaviate's auto-schema feature on Sun Oct  6 11:52:19 2024\n",
            "    - vague_intent_product (Type: text[]) - This property was generated by Weaviate's auto-schema feature on Sun Oct  6 11:52:19 2024\n",
            "    - clear_intent_product (Type: text[]) - This property was generated by Weaviate's auto-schema feature on Sun Oct  6 11:52:19 2024\n",
            "    - do_not_respond (Type: text[]) - This property was generated by Weaviate's auto-schema feature on Sun Oct  6 11:52:19 2024\n",
            "    - politics (Type: text[]) - This property was generated by Weaviate's auto-schema feature on Sun Oct  6 11:52:19 2024\n",
            "  Vectorizer: text2vec-openai\n",
            "\n",
            "Class: RawProductData\n",
            "  Object Count: 0\n",
            "  Properties:\n",
            "    - product_id (Type: text) - The unique identifier of the product\n",
            "    - raw_data (Type: text) - The full raw data for the product\n",
            "  Vectorizer: none\n",
            "\n"
          ]
        },
        {
          "data": {
            "image/jpeg": "[encoded data removed]",
            "text/plain": [
              "<IPython.core.display.Image object>"
            ]
          },
          "metadata": {},
          "output_type": "display_data"
        },
        {
          "data": {
            "image/jpeg": "[encoded data removed]",
            "text/plain": [
              "<IPython.core.display.Image object>"
            ]
          },
          "metadata": {},
          "output_type": "display_data"
        },
        {
          "data": {
            "image/jpeg": "[encoded data removed]",
            "text/plain": [
              "<IPython.core.display.Image object>"
            ]
          },
          "metadata": {},
          "output_type": "display_data"
        }
      ],
      "source": [
        "architectures = await setup()"
      ]
    },
    {
      "cell_type": "code",
      "execution_count": 7,
      "metadata": {},
      "outputs": [
        {
          "name": "stderr",
          "output_type": "stream",
          "text": [
            "INFO:generators.dynamic_agent:Running DynamicAgent with message: id='test' message='Find all devices with Quad-core ARM Cortex-A53 as processor with 4GB RAM' timestamp=datetime.datetime(2024, 10, 8, 17, 10, 22, 592437) session_id='test' model='gpt-4o' architecture_choice='dynamicagent' history_management_choice='keep-all' is_user_message=True\n",
            "INFO:generators.dynamic_agent:Starting workflow execution\n",
            "INFO:generators.dynamic_agent:Entered decision_node\n",
            "INFO:prompts.prompt_manager:===:> Generating dynamic agent prompt for query: Find all devices with Quad-core ARM Cortex-A53 as processor with 4GB RAM\n"
          ]
        },
        {
          "name": "stdout",
          "output_type": "stream",
          "text": [
            "Running test for DynamicAgent\n",
            "Input: Find all devices with Quad-core ARM Cortex-A53 as processor with 4GB RAM\n"
          ]
        },
        {
          "name": "stderr",
          "output_type": "stream",
          "text": [
            "INFO:httpx:HTTP Request: POST https://api.openai.com/v1/chat/completions \"HTTP/1.1 200 OK\"\n",
            "INFO:generators.dynamic_agent:Action decided by LLM: {'action': 'expanded_search', 'tool': 'expanded_search', 'input': {'query': 'Quad-core ARM Cortex-A53 processor with 4GB RAM', 'limit': 10}}\n",
            "INFO:generators.dynamic_agent:Entered response_generation_node\n",
            "INFO:prompts.prompt_manager:===:> Generating dynamic agent prompt for query: Find all devices with Quad-core ARM Cortex-A53 as processor with 4GB RAM\n",
            "INFO:httpx:HTTP Request: POST https://api.openai.com/v1/chat/completions \"HTTP/1.1 200 OK\"\n",
            "INFO:generators.dynamic_agent:Final response generated: {'action': 'expanded_search', 'tool': 'expanded_search', 'input': {'query': 'Quad-core ARM Cortex-A53 processor with 4GB RAM', 'limit': 10}}\n",
            "INFO:generators.dynamic_agent:Workflow execution completed\n",
            "ERROR:generators.dynamic_agent:Error running DynamicAgent: 'NoneType' object has no attribute 'get'\n",
            "Traceback (most recent call last):\n",
            "  File \"/Users/e729/Workspace/Tenacious/ThroughPut/backend/generators/dynamic_agent.py\", line 94, in run\n",
            "    return self.format_final_response(final_state)\n",
            "  File \"/Users/e729/Workspace/Tenacious/ThroughPut/backend/generators/dynamic_agent.py\", line 293, in format_final_response\n",
            "    products=final_state.get(\"tool_output\", {}).get(\"output\", []),\n",
            "AttributeError: 'NoneType' object has no attribute 'get'\n"
          ]
        },
        {
          "name": "stdout",
          "output_type": "stream",
          "text": [
            "Output: {'type': 'error', 'message': 'An error occurred while processing your request.', 'products': [], 'reasoning': \"'NoneType' object has no attribute 'get'\", 'follow_up_question': 'Would you like to try your query again?', 'metadata': {}}\n",
            "\n",
            "--------------------------------------------------\n",
            "\n"
          ]
        },
        {
          "data": {
            "text/plain": [
              "{'type': 'error',\n",
              " 'message': 'An error occurred while processing your request.',\n",
              " 'products': [],\n",
              " 'reasoning': \"'NoneType' object has no attribute 'get'\",\n",
              " 'follow_up_question': 'Would you like to try your query again?',\n",
              " 'metadata': {}}"
            ]
          },
          "execution_count": 7,
          "metadata": {},
          "output_type": "execute_result"
        }
      ],
      "source": [
        "await run_test(\n",
        "    architectures[3],\n",
        "    \"Find all devices with Quad-core ARM Cortex-A53 as processor with 4GB RAM\",\n",
        ")"
      ]
    },
    {
      "cell_type": "markdown",
      "metadata": {},
      "source": [
        "This notebook demonstrates and tests the four architecture implementations from the generators folder:\n",
        "1. Semantic Router\n",
        "2. LLM Router\n",
        "3. Hybrid Router\n",
        "4. Dynamic Agent\n",
        "\n",
        "We'll import the necessary components, set up the required services, and run test prompts for each architecture.\n"
      ]
    },
    {
      "cell_type": "markdown",
      "metadata": {},
      "source": [
        "## LLM ROUTER"
      ]
    },
    {
      "cell_type": "code",
      "execution_count": 6,
      "metadata": {},
      "outputs": [
        {
          "data": {
            "image/jpeg": "[encoded data removed]",
            "text/plain": [
              "<IPython.core.display.Image object>"
            ]
          },
          "metadata": {},
          "output_type": "display_data"
        }
      ],
      "source": [
        "arch = architectures[1]\n",
        "display(Image(arch.clear_intent_agent.workflow.get_graph().draw_mermaid_png()))"
      ]
    },
    {
      "cell_type": "code",
      "execution_count": 9,
      "metadata": {},
      "outputs": [
        {
          "name": "stderr",
          "output_type": "stream",
          "text": [
            "INFO:generators.dynamic_agent:Running DynamicAgent with message: id='test' message='Find all SBCs that support PCIe Gen3 interface.' timestamp=datetime.datetime(2024, 10, 7, 17, 9, 40, 178460) session_id='test' model='gpt-4o' architecture_choice='dynamicagent' history_management_choice='keep-all' is_user_message=True\n",
            "INFO:prompts.prompt_manager:===:> Generating dynamic agent prompt for query: Find all SBCs that support PCIe Gen3 interface.\n"
          ]
        },
        {
          "name": "stdout",
          "output_type": "stream",
          "text": [
            "Running test for DynamicAgent\n",
            "Input: Find all SBCs that support PCIe Gen3 interface.\n"
          ]
        },
        {
          "name": "stderr",
          "output_type": "stream",
          "text": [
            "INFO:httpx:HTTP Request: POST https://api.openai.com/v1/chat/completions \"HTTP/1.1 200 OK\"\n",
            "INFO:httpx:HTTP Request: POST https://api.openai.com/v1/chat/completions \"HTTP/1.1 200 OK\"\n",
            "INFO:httpx:HTTP Request: POST https://api.openai.com/v1/chat/completions \"HTTP/1.1 200 OK\"\n",
            "INFO:services.query_processor:\n",
            "\n",
            "Rerank_products response from OpenAI: {'products': [{'name': 'PCIEQ', 'relevance_score': 0.9, 'matching_criteria': ['PCIe Gen3', 'Single-board computer'], 'missing_criteria': [\"Form factor does not match 'Single-board computer' exactly, as it is 'PICMG'\"]}, {'name': 'SPCIEC', 'relevance_score': 0.85, 'matching_criteria': ['PCIe Gen3'], 'missing_criteria': [\"Form factor does not match 'Single-board computer' exactly, as it is 'PICMG'\"]}, {'name': 'PCEGA', 'relevance_score': 0.8, 'matching_criteria': ['PCIe Gen3'], 'missing_criteria': [\"Form factor does not match 'Single-board computer' exactly, as it is 'Slot SBC'\"]}, {'name': 'PCIEH', 'relevance_score': 0.75, 'matching_criteria': ['PCIe Gen3'], 'missing_criteria': [\"Form factor does not match 'Single-board computer' exactly, as it is 'Fullsize PICMG'\"]}, {'name': 'PCEQGAE', 'relevance_score': 0.7, 'matching_criteria': ['PCIe Gen3'], 'missing_criteria': [\"Form factor does not match 'Single-board computer' exactly, as it is 'Slot SBC'\"]}, {'name': 'PCEGAE', 'relevance_score': 0.65, 'matching_criteria': ['PCIe Gen3'], 'missing_criteria': [\"Form factor does not match 'Single-board computer' exactly, as it is 'SBC'\"]}, {'name': 'COM EXPRESS BASIC MODULE', 'relevance_score': 0.6, 'matching_criteria': ['PCIe Gen3'], 'missing_criteria': [\"Form factor does not match 'Single-board computer' exactly, as it is 'COM EXPRESS BASIC MODULE'\"]}, {'name': 'HPCIEQ', 'relevance_score': 0.55, 'matching_criteria': ['PCIe Gen3'], 'missing_criteria': [\"Form factor does not match 'Single-board computer' exactly, as it is 'Half-size PICMG'\"]}, {'name': 'PCM', 'relevance_score': 0.5, 'matching_criteria': ['PCIe Gen3'], 'missing_criteria': [\"Form factor does not match 'Single-board computer' exactly, as it is 'SBC'\"]}, {'name': 'ASMB', 'relevance_score': 0.45, 'matching_criteria': ['PCIe Gen3'], 'missing_criteria': [\"Form factor does not match 'Single-board computer' exactly, as it is 'ATX'\"]}], 'justification': \"The products were ranked based on their relevance to the query for single-board computers with PCIe Gen3 interfaces. The top products match the PCIe Gen3 criterion but do not exactly match the 'Single-board computer' form factor, as they are mostly PICMG or Slot SBCs. The relevance scores reflect the degree to which each product meets the specified criteria, with higher scores for those closer to the ideal match. No products fully matched both criteria, so the ranking includes those with partial matches, prioritizing the PCIe Gen3 interface.\"}\n",
            "\n",
            "\n",
            "INFO:prompts.prompt_manager:===:> Generating dynamic agent prompt for query: Find all SBCs that support PCIe Gen3 interface.\n",
            "INFO:httpx:HTTP Request: POST https://api.openai.com/v1/chat/completions \"HTTP/1.1 200 OK\"\n"
          ]
        },
        {
          "name": "stdout",
          "output_type": "stream",
          "text": [
            "Output: {'type': 'dynamic_agent', 'response': 'I found several products that support the PCIe Gen3 interface, but none of them are strictly single-board computers (SBCs) in the traditional sense. They are mostly variations of SBCs or other form factors like PICMG, Slot SBC, and COM Express modules.', 'products': [{'name': 'PCIEQ', 'relevance_score': 0.9, 'matching_criteria': ['PCIe Gen3', 'Single-board computer'], 'missing_criteria': [\"Form factor does not match 'Single-board computer' exactly, as it is 'PICMG'\"]}, {'name': 'SPCIEC', 'relevance_score': 0.85, 'matching_criteria': ['PCIe Gen3'], 'missing_criteria': [\"Form factor does not match 'Single-board computer' exactly, as it is 'PICMG'\"]}, {'name': 'PCEGA', 'relevance_score': 0.8, 'matching_criteria': ['PCIe Gen3'], 'missing_criteria': [\"Form factor does not match 'Single-board computer' exactly, as it is 'Slot SBC'\"]}, {'name': 'PCIEH', 'relevance_score': 0.75, 'matching_criteria': ['PCIe Gen3'], 'missing_criteria': [\"Form factor does not match 'Single-board computer' exactly, as it is 'Fullsize PICMG'\"]}, {'name': 'PCEQGAE', 'relevance_score': 0.7, 'matching_criteria': ['PCIe Gen3'], 'missing_criteria': [\"Form factor does not match 'Single-board computer' exactly, as it is 'Slot SBC'\"]}], 'reasoning': \"The search results indicate that while these products support PCIe Gen3, they do not strictly match the 'single-board computer' form factor. They are close relatives or variations, such as PICMG or Slot SBCs, which might still meet your needs depending on your specific application requirements.\", 'follow_up_question': 'Are you looking for a specific form factor or application for these SBCs with PCIe Gen3 support?', 'metadata': {'input_token_usage': {'agent': 2247}, 'output_token_usage': {'agent': 259}, 'time_taken': {'agent': 5.6026692390441895, 'expanded_search': 29.09900212287903}}}\n",
            "\n",
            "--------------------------------------------------\n",
            "\n"
          ]
        },
        {
          "data": {
            "text/plain": [
              "{'type': 'dynamic_agent',\n",
              " 'response': 'I found several products that support the PCIe Gen3 interface, but none of them are strictly single-board computers (SBCs) in the traditional sense. They are mostly variations of SBCs or other form factors like PICMG, Slot SBC, and COM Express modules.',\n",
              " 'products': [{'name': 'PCIEQ',\n",
              "   'relevance_score': 0.9,\n",
              "   'matching_criteria': ['PCIe Gen3', 'Single-board computer'],\n",
              "   'missing_criteria': [\"Form factor does not match 'Single-board computer' exactly, as it is 'PICMG'\"]},\n",
              "  {'name': 'SPCIEC',\n",
              "   'relevance_score': 0.85,\n",
              "   'matching_criteria': ['PCIe Gen3'],\n",
              "   'missing_criteria': [\"Form factor does not match 'Single-board computer' exactly, as it is 'PICMG'\"]},\n",
              "  {'name': 'PCEGA',\n",
              "   'relevance_score': 0.8,\n",
              "   'matching_criteria': ['PCIe Gen3'],\n",
              "   'missing_criteria': [\"Form factor does not match 'Single-board computer' exactly, as it is 'Slot SBC'\"]},\n",
              "  {'name': 'PCIEH',\n",
              "   'relevance_score': 0.75,\n",
              "   'matching_criteria': ['PCIe Gen3'],\n",
              "   'missing_criteria': [\"Form factor does not match 'Single-board computer' exactly, as it is 'Fullsize PICMG'\"]},\n",
              "  {'name': 'PCEQGAE',\n",
              "   'relevance_score': 0.7,\n",
              "   'matching_criteria': ['PCIe Gen3'],\n",
              "   'missing_criteria': [\"Form factor does not match 'Single-board computer' exactly, as it is 'Slot SBC'\"]}],\n",
              " 'reasoning': \"The search results indicate that while these products support PCIe Gen3, they do not strictly match the 'single-board computer' form factor. They are close relatives or variations, such as PICMG or Slot SBCs, which might still meet your needs depending on your specific application requirements.\",\n",
              " 'follow_up_question': 'Are you looking for a specific form factor or application for these SBCs with PCIe Gen3 support?',\n",
              " 'metadata': {'input_token_usage': {'agent': 2247},\n",
              "  'output_token_usage': {'agent': 259},\n",
              "  'time_taken': {'agent': 5.6026692390441895,\n",
              "   'expanded_search': 29.09900212287903}}}"
            ]
          },
          "execution_count": 9,
          "metadata": {},
          "output_type": "execute_result"
        }
      ],
      "source": [
        "await run_test(arch, \"Find all SBCs that support PCIe Gen3 interface.\")"
      ]
    },
    {
      "cell_type": "code",
      "execution_count": 8,
      "metadata": {},
      "outputs": [
        {
          "name": "stdout",
          "output_type": "stream",
          "text": [
            "Running test for LLMRouter\n",
            "Input: What is single board computer\n"
          ]
        },
        {
          "name": "stderr",
          "output_type": "stream",
          "text": [
            "INFO:httpx:HTTP Request: POST https://api.openai.com/v1/chat/completions \"HTTP/1.1 200 OK\"\n",
            "INFO:generators.llm_router:Route determined: {'category': 'vague_intent_product', 'justification': 'The query asks for information about a single board computer but does not specify any technical criteria or constraints.', 'confidence': 90}\n",
            "INFO:generators.vague_intent_agent:Running VagueIntentAgent with message: id='test' message='What is single board computer' timestamp=datetime.datetime(2024, 10, 7, 12, 43, 13, 254367) session_id='test' model='gpt-4o' architecture_choice='llm-router' history_management_choice='keep-all' is_user_message=True\n",
            "INFO:generators.vague_intent_agent:Starting workflow execution\n",
            "INFO:prompts.prompt_manager:Generating semantic search query prompt for query: What is single board computer\n",
            "INFO:httpx:HTTP Request: POST https://api.openai.com/v1/chat/completions \"HTTP/1.1 200 OK\"\n",
            "INFO:httpx:HTTP Request: POST https://api.openai.com/v1/chat/completions \"HTTP/1.1 200 OK\"\n",
            "INFO:generators.vague_intent_agent:Workflow execution completed\n"
          ]
        },
        {
          "name": "stdout",
          "output_type": "stream",
          "text": [
            "Output: {'type': 'vague_intent_product', 'response': 'A single board computer (SBC) is a complete computer built on a single circuit board, with microprocessor(s), memory, input/output (I/O), and other features required for a functional computer. SBCs are used in a wide range of applications, from industrial automation to IoT devices, due to their compact size, versatility, and cost-effectiveness. They often support various operating systems and can be tailored for specific tasks or environments.', 'products': [{'certifications': ['CE', 'FCC Class B'], 'duplicate_ids': ['RSB-4710CO-ANA1E', 'RSB-4710CO-XLA1E', 'RSB-4710CO-XNA1E', 'RSB-4710WO-XLA1E', 'RSB-4710WO-XNA1E'], 'processor_tdp': None, 'evaluation_or_commercialization': 'Commercial', 'onboard_storage': '16 GB eMMC', 'processor_core_count': '6', 'price': None, 'operating_temperature_min': '-20°C', 'full_product_description': 'The RSB is an industrial-grade single board computer designed for high-performance applications. It features a Rockchip RK ARM dual Cortex-A72 and quad Cortex-A53 processor, 4 GB LPDDR4 memory, and 16 GB eMMC storage. The board supports dual HDMI outputs, dual GbE, multiple USB ports, and wireless connectivity options including Wi-Fi, Bluetooth, and 4G. It is suitable for use in kiosks, POS systems, and vending machines, with an operating temperature range of -20°C to 60°C.', 'io_count': ['2 x HDMI', '2 x GbE', '6 x USB', '2 x Serial', '1 x SPI', '1 x I2C', '1 x GPIO'], 'lead_time': None, 'operating_temperature_max': '60°C', 'processor_manufacturer': 'ROCKCHIP', 'name': 'RSB', 'form_factor': 'SBC', 'processor_architecture': 'ARM', 'target_applications': ['Kiosk', 'POS', 'Vending machine'], 'full_summary': 'The RSB is a high-performance single board computer powered by the Rockchip RK ARM processor, featuring dual HDMI outputs, multiple I/O interfaces, and support for Debian and Android operating systems.', 'product_id': 'RSB-4710CO-ANA1E', 'operating_system_bsp': ['Debian', 'Android'], 'memory': '4 GB LPDDR4', 'manufacturer': 'ADVANTECH', 'input_voltage': '12V', 'wireless': ['Wi-Fi', 'Bluetooth', '4G'], 'short_summary': 'High-performance SBC with Rockchip RK processor, dual HDMI, and extensive I/O support.', 'stock_availability': None, 'distance': 0.4178387522697449, 'certainty': 0.7910805940628052}, {'duplicate_ids': ['SRI3710S00D04GE008Q00CH', 'SRI8000S00D04GE008Q00CH', 'SRI8000S00D04GE008Q01CE'], 'evaluation_or_commercialization': 'Commercial', 'processor_tdp': None, 'certifications': None, 'processor_core_count': None, 'onboard_storage': 'eMMC, M.2 SSD Connector', 'operating_temperature_max': '70C', 'operating_temperature_min': '0C', 'full_product_description': 'The SolidPC Q by SolidRun Ltd is a versatile single-board computer that simplifies the development process with its Intel Braswell processors. It offers up to 8GB of DDR3 memory, eMMC and M.2 SSD storage options, and a range of I/O interfaces including DisplayPort, HDMI, and USB. The device supports Windows, Linux, and Android operating systems, making it suitable for various applications.', 'io_count': ['DisplayPort, HDMI, USB Host, UART Headers'], 'lead_time': None, 'price': None, 'processor_manufacturer': 'INTEL', 'full_summary': \"The SolidPC Q is a single-board computer designed for robust computing solutions, featuring Intel's Braswell processors, up to 8GB of DDR3 memory, and a variety of connectivity options including DisplayPort, HDMI, and USB. It supports multiple operating systems such as Windows, Linux, and Android.\", 'form_factor': 'SINGLE-BOARD COMPUTER', 'processor_architecture': 'X86', 'target_applications': ['OEMs, IoT, Embedded Systems'], 'name': 'SOLIDPC Q', 'product_id': 'SRI3710S00D04GE008Q00CH', 'operating_system_bsp': ['Windows, Linux, Android'], 'memory': 'Up to 8GB DDR3', 'manufacturer': 'SOLIDRUN LTD', 'input_voltage': '12V', 'wireless': ['WiFi, Bluetooth'], 'short_summary': \"SolidPC Q is a feature-rich single-board computer based on Intel's Braswell family, supporting up to 8GB memory and various connectivity options.\", 'stock_availability': None, 'distance': 0.4206315875053406, 'certainty': 0.7896841764450073}, {'duplicate_ids': ['WAFER-AL-N1-R10'], 'input_voltage': '12V DC', 'processor_tdp': '6W', 'certifications': ['CE', 'FCC'], 'processor_core_count': None, 'onboard_storage': 'eMMC 5.0 high-speed drive 32GB soldered on board', 'operating_temperature_max': '60°C', 'operating_temperature_min': '0°C', 'full_product_description': \"The WAFER-AL single board computer is designed for industrial applications, featuring Intel's Apollo Lake platform with onboard SoC options for Pentium N4200 or Celeron N3350 processors. It supports up to 8GB of DDR3L memory, triple display outputs, and a wide range of I/O interfaces including USB 3.0, SATA 6Gb/s, and dual PCIe Mini Card slots. The board is CE and FCC compliant, making it suitable for various industrial and commercial applications.\", 'io_count': ['4 USB 3.0', '2 RS-232', '2 RS-422/485', '2 SATA 6Gb/s', '2 PCIe Mini Card slots'], 'lead_time': None, 'price': None, 'processor_manufacturer': 'Intel', 'full_summary': \"The WAFER-AL SBC features Intel's Apollo Lake platform with options for quad-core Pentium or dual-core Celeron processors. It supports triple independent displays and offers a variety of high-speed I/O interfaces including USB 3.0, SATA, and PCIe Mini slots.\", 'form_factor': 'Single Board Computer', 'processor_architecture': 'x86', 'target_applications': ['Industrial automation', 'Digital signage', 'Kiosk systems', 'Embedded systems'], 'name': 'WAFER-AL', 'product_id': 'WAFER-AL-N1-R10', 'operating_system_bsp': ['Windows 10 and Linux'], 'memory': '8GB DDR3L', 'evaluation_or_commercialization': 'Commercial', 'manufacturer': 'IEI', 'wireless': ['Wi-Fi 6E and Bluetooth via M.2 2230 A Key slot'], 'short_summary': 'WAFER-AL is a single board computer with Intel Apollo Lake platform, supporting quad-core Pentium and dual-core Celeron processors, triple display, and multiple I/O interfaces.', 'stock_availability': None, 'distance': 0.4233852028846741, 'certainty': 0.7883074283599854}, {'certifications': ['CE', 'FCC Class B', 'RoHS'], 'memory': '2 GB DDR3', 'processor_tdp': None, 'duplicate_ids': ['RSB-4411CD-PNA1E', 'RSB-4411CQ-PNA1E', 'RSB-4411WD-ONA1E', 'RSB-4411WQ-ONA1E'], 'processor_core_count': None, 'onboard_storage': '16 GB eMMC', 'operating_temperature_max': '60°C', 'operating_temperature_min': '-20°C', 'full_product_description': 'The RSB SBC is equipped with an NXP ARM Cortex-A iMX processor, offering dual and quad-core configurations at up to 1.2 GHz. It includes 2 GB DDR3 memory and 16 GB eMMC storage. The board supports a variety of interfaces including HDMI, VGA, LVDS, UART, GbE, USB, GPIO, I2C, SPI, and CAN. Wireless capabilities include Wi-Fi and Bluetooth, with expansion options via mini PCIe and M.2 slots. It operates in temperatures ranging from -20°C to 60°C and is compliant with CE, FCC Class B, and RoHS standards.', 'io_count': ['1 HDMI', '1 VGA', '2 LVDS', '2 UART', '1 GbE', '4 USB', 'GPIO', 'I2C', 'SPI', 'CAN'], 'lead_time': None, 'price': None, 'processor_manufacturer': 'NXP', 'name': 'RSB', 'form_factor': 'SBC', 'processor_architecture': 'ARM', 'target_applications': ['Industrial automation', 'IoT applications', 'Multimedia processing', 'Networking'], 'full_summary': 'The RSB is a single board computer powered by a high-performance NXP ARM Cortex-A iMX processor, featuring dual/quad-core options, full HD video encoding/decoding, and Gigabit Ethernet networking. It supports Linux and Android BSPs, making it ideal for developing unique application software.', 'product_id': 'RSB-4411CD-PNA1E', 'operating_system_bsp': ['Linux', 'Android'], 'input_voltage': '12V', 'evaluation_or_commercialization': 'Commercial', 'manufacturer': 'ADVANTECH', 'wireless': ['Wi-Fi', 'Bluetooth'], 'short_summary': 'High-performance SBC with NXP ARM Cortex-A iMX processor, supporting full HD video and Gigabit Ethernet.', 'stock_availability': None, 'distance': 0.42742741107940674, 'certainty': 0.7862862944602966}], 'reasoning': 'The RSB is suggested due to its high-performance ARM processor and extensive I/O support, making it suitable for applications like kiosks and vending machines. The SOLIDPC Q is recommended for its Intel Braswell processor and support for multiple operating systems, ideal for OEMs and IoT applications. The WAFER-AL is highlighted for its industrial-grade design and support for triple display outputs, suitable for digital signage and industrial automation. These products exemplify the diversity and adaptability of SBCs in various environments and use cases.', 'follow_up_question': 'What specific application or use case do you have in mind for the single board computer?', 'metadata': {'classification_result': {'category': 'vague_intent_product', 'justification': 'The query asks for information about a single board computer but does not specify any technical criteria or constraints.', 'confidence': 90}, 'input_token_usage': {'classification': 513, 'generate': 3571}, 'output_token_usage': {'classification': 46, 'generate': 283}, 'time_taken': {'classification': 1.77860689163208, 'generate': 4.421590089797974}}}\n",
            "\n",
            "--------------------------------------------------\n",
            "\n"
          ]
        },
        {
          "data": {
            "text/plain": [
              "{'type': 'vague_intent_product',\n",
              " 'response': 'A single board computer (SBC) is a complete computer built on a single circuit board, with microprocessor(s), memory, input/output (I/O), and other features required for a functional computer. SBCs are used in a wide range of applications, from industrial automation to IoT devices, due to their compact size, versatility, and cost-effectiveness. They often support various operating systems and can be tailored for specific tasks or environments.',\n",
              " 'products': [{'certifications': ['CE', 'FCC Class B'],\n",
              "   'duplicate_ids': ['RSB-4710CO-ANA1E',\n",
              "    'RSB-4710CO-XLA1E',\n",
              "    'RSB-4710CO-XNA1E',\n",
              "    'RSB-4710WO-XLA1E',\n",
              "    'RSB-4710WO-XNA1E'],\n",
              "   'processor_tdp': None,\n",
              "   'evaluation_or_commercialization': 'Commercial',\n",
              "   'onboard_storage': '16 GB eMMC',\n",
              "   'processor_core_count': '6',\n",
              "   'price': None,\n",
              "   'operating_temperature_min': '-20°C',\n",
              "   'full_product_description': 'The RSB is an industrial-grade single board computer designed for high-performance applications. It features a Rockchip RK ARM dual Cortex-A72 and quad Cortex-A53 processor, 4 GB LPDDR4 memory, and 16 GB eMMC storage. The board supports dual HDMI outputs, dual GbE, multiple USB ports, and wireless connectivity options including Wi-Fi, Bluetooth, and 4G. It is suitable for use in kiosks, POS systems, and vending machines, with an operating temperature range of -20°C to 60°C.',\n",
              "   'io_count': ['2 x HDMI',\n",
              "    '2 x GbE',\n",
              "    '6 x USB',\n",
              "    '2 x Serial',\n",
              "    '1 x SPI',\n",
              "    '1 x I2C',\n",
              "    '1 x GPIO'],\n",
              "   'lead_time': None,\n",
              "   'operating_temperature_max': '60°C',\n",
              "   'processor_manufacturer': 'ROCKCHIP',\n",
              "   'name': 'RSB',\n",
              "   'form_factor': 'SBC',\n",
              "   'processor_architecture': 'ARM',\n",
              "   'target_applications': ['Kiosk', 'POS', 'Vending machine'],\n",
              "   'full_summary': 'The RSB is a high-performance single board computer powered by the Rockchip RK ARM processor, featuring dual HDMI outputs, multiple I/O interfaces, and support for Debian and Android operating systems.',\n",
              "   'product_id': 'RSB-4710CO-ANA1E',\n",
              "   'operating_system_bsp': ['Debian', 'Android'],\n",
              "   'memory': '4 GB LPDDR4',\n",
              "   'manufacturer': 'ADVANTECH',\n",
              "   'input_voltage': '12V',\n",
              "   'wireless': ['Wi-Fi', 'Bluetooth', '4G'],\n",
              "   'short_summary': 'High-performance SBC with Rockchip RK processor, dual HDMI, and extensive I/O support.',\n",
              "   'stock_availability': None,\n",
              "   'distance': 0.4178387522697449,\n",
              "   'certainty': 0.7910805940628052},\n",
              "  {'duplicate_ids': ['SRI3710S00D04GE008Q00CH',\n",
              "    'SRI8000S00D04GE008Q00CH',\n",
              "    'SRI8000S00D04GE008Q01CE'],\n",
              "   'evaluation_or_commercialization': 'Commercial',\n",
              "   'processor_tdp': None,\n",
              "   'certifications': None,\n",
              "   'processor_core_count': None,\n",
              "   'onboard_storage': 'eMMC, M.2 SSD Connector',\n",
              "   'operating_temperature_max': '70C',\n",
              "   'operating_temperature_min': '0C',\n",
              "   'full_product_description': 'The SolidPC Q by SolidRun Ltd is a versatile single-board computer that simplifies the development process with its Intel Braswell processors. It offers up to 8GB of DDR3 memory, eMMC and M.2 SSD storage options, and a range of I/O interfaces including DisplayPort, HDMI, and USB. The device supports Windows, Linux, and Android operating systems, making it suitable for various applications.',\n",
              "   'io_count': ['DisplayPort, HDMI, USB Host, UART Headers'],\n",
              "   'lead_time': None,\n",
              "   'price': None,\n",
              "   'processor_manufacturer': 'INTEL',\n",
              "   'full_summary': \"The SolidPC Q is a single-board computer designed for robust computing solutions, featuring Intel's Braswell processors, up to 8GB of DDR3 memory, and a variety of connectivity options including DisplayPort, HDMI, and USB. It supports multiple operating systems such as Windows, Linux, and Android.\",\n",
              "   'form_factor': 'SINGLE-BOARD COMPUTER',\n",
              "   'processor_architecture': 'X86',\n",
              "   'target_applications': ['OEMs, IoT, Embedded Systems'],\n",
              "   'name': 'SOLIDPC Q',\n",
              "   'product_id': 'SRI3710S00D04GE008Q00CH',\n",
              "   'operating_system_bsp': ['Windows, Linux, Android'],\n",
              "   'memory': 'Up to 8GB DDR3',\n",
              "   'manufacturer': 'SOLIDRUN LTD',\n",
              "   'input_voltage': '12V',\n",
              "   'wireless': ['WiFi, Bluetooth'],\n",
              "   'short_summary': \"SolidPC Q is a feature-rich single-board computer based on Intel's Braswell family, supporting up to 8GB memory and various connectivity options.\",\n",
              "   'stock_availability': None,\n",
              "   'distance': 0.4206315875053406,\n",
              "   'certainty': 0.7896841764450073},\n",
              "  {'duplicate_ids': ['WAFER-AL-N1-R10'],\n",
              "   'input_voltage': '12V DC',\n",
              "   'processor_tdp': '6W',\n",
              "   'certifications': ['CE', 'FCC'],\n",
              "   'processor_core_count': None,\n",
              "   'onboard_storage': 'eMMC 5.0 high-speed drive 32GB soldered on board',\n",
              "   'operating_temperature_max': '60°C',\n",
              "   'operating_temperature_min': '0°C',\n",
              "   'full_product_description': \"The WAFER-AL single board computer is designed for industrial applications, featuring Intel's Apollo Lake platform with onboard SoC options for Pentium N4200 or Celeron N3350 processors. It supports up to 8GB of DDR3L memory, triple display outputs, and a wide range of I/O interfaces including USB 3.0, SATA 6Gb/s, and dual PCIe Mini Card slots. The board is CE and FCC compliant, making it suitable for various industrial and commercial applications.\",\n",
              "   'io_count': ['4 USB 3.0',\n",
              "    '2 RS-232',\n",
              "    '2 RS-422/485',\n",
              "    '2 SATA 6Gb/s',\n",
              "    '2 PCIe Mini Card slots'],\n",
              "   'lead_time': None,\n",
              "   'price': None,\n",
              "   'processor_manufacturer': 'Intel',\n",
              "   'full_summary': \"The WAFER-AL SBC features Intel's Apollo Lake platform with options for quad-core Pentium or dual-core Celeron processors. It supports triple independent displays and offers a variety of high-speed I/O interfaces including USB 3.0, SATA, and PCIe Mini slots.\",\n",
              "   'form_factor': 'Single Board Computer',\n",
              "   'processor_architecture': 'x86',\n",
              "   'target_applications': ['Industrial automation',\n",
              "    'Digital signage',\n",
              "    'Kiosk systems',\n",
              "    'Embedded systems'],\n",
              "   'name': 'WAFER-AL',\n",
              "   'product_id': 'WAFER-AL-N1-R10',\n",
              "   'operating_system_bsp': ['Windows 10 and Linux'],\n",
              "   'memory': '8GB DDR3L',\n",
              "   'evaluation_or_commercialization': 'Commercial',\n",
              "   'manufacturer': 'IEI',\n",
              "   'wireless': ['Wi-Fi 6E and Bluetooth via M.2 2230 A Key slot'],\n",
              "   'short_summary': 'WAFER-AL is a single board computer with Intel Apollo Lake platform, supporting quad-core Pentium and dual-core Celeron processors, triple display, and multiple I/O interfaces.',\n",
              "   'stock_availability': None,\n",
              "   'distance': 0.4233852028846741,\n",
              "   'certainty': 0.7883074283599854},\n",
              "  {'certifications': ['CE', 'FCC Class B', 'RoHS'],\n",
              "   'memory': '2 GB DDR3',\n",
              "   'processor_tdp': None,\n",
              "   'duplicate_ids': ['RSB-4411CD-PNA1E',\n",
              "    'RSB-4411CQ-PNA1E',\n",
              "    'RSB-4411WD-ONA1E',\n",
              "    'RSB-4411WQ-ONA1E'],\n",
              "   'processor_core_count': None,\n",
              "   'onboard_storage': '16 GB eMMC',\n",
              "   'operating_temperature_max': '60°C',\n",
              "   'operating_temperature_min': '-20°C',\n",
              "   'full_product_description': 'The RSB SBC is equipped with an NXP ARM Cortex-A iMX processor, offering dual and quad-core configurations at up to 1.2 GHz. It includes 2 GB DDR3 memory and 16 GB eMMC storage. The board supports a variety of interfaces including HDMI, VGA, LVDS, UART, GbE, USB, GPIO, I2C, SPI, and CAN. Wireless capabilities include Wi-Fi and Bluetooth, with expansion options via mini PCIe and M.2 slots. It operates in temperatures ranging from -20°C to 60°C and is compliant with CE, FCC Class B, and RoHS standards.',\n",
              "   'io_count': ['1 HDMI',\n",
              "    '1 VGA',\n",
              "    '2 LVDS',\n",
              "    '2 UART',\n",
              "    '1 GbE',\n",
              "    '4 USB',\n",
              "    'GPIO',\n",
              "    'I2C',\n",
              "    'SPI',\n",
              "    'CAN'],\n",
              "   'lead_time': None,\n",
              "   'price': None,\n",
              "   'processor_manufacturer': 'NXP',\n",
              "   'name': 'RSB',\n",
              "   'form_factor': 'SBC',\n",
              "   'processor_architecture': 'ARM',\n",
              "   'target_applications': ['Industrial automation',\n",
              "    'IoT applications',\n",
              "    'Multimedia processing',\n",
              "    'Networking'],\n",
              "   'full_summary': 'The RSB is a single board computer powered by a high-performance NXP ARM Cortex-A iMX processor, featuring dual/quad-core options, full HD video encoding/decoding, and Gigabit Ethernet networking. It supports Linux and Android BSPs, making it ideal for developing unique application software.',\n",
              "   'product_id': 'RSB-4411CD-PNA1E',\n",
              "   'operating_system_bsp': ['Linux', 'Android'],\n",
              "   'input_voltage': '12V',\n",
              "   'evaluation_or_commercialization': 'Commercial',\n",
              "   'manufacturer': 'ADVANTECH',\n",
              "   'wireless': ['Wi-Fi', 'Bluetooth'],\n",
              "   'short_summary': 'High-performance SBC with NXP ARM Cortex-A iMX processor, supporting full HD video and Gigabit Ethernet.',\n",
              "   'stock_availability': None,\n",
              "   'distance': 0.42742741107940674,\n",
              "   'certainty': 0.7862862944602966}],\n",
              " 'reasoning': 'The RSB is suggested due to its high-performance ARM processor and extensive I/O support, making it suitable for applications like kiosks and vending machines. The SOLIDPC Q is recommended for its Intel Braswell processor and support for multiple operating systems, ideal for OEMs and IoT applications. The WAFER-AL is highlighted for its industrial-grade design and support for triple display outputs, suitable for digital signage and industrial automation. These products exemplify the diversity and adaptability of SBCs in various environments and use cases.',\n",
              " 'follow_up_question': 'What specific application or use case do you have in mind for the single board computer?',\n",
              " 'metadata': {'classification_result': {'category': 'vague_intent_product',\n",
              "   'justification': 'The query asks for information about a single board computer but does not specify any technical criteria or constraints.',\n",
              "   'confidence': 90},\n",
              "  'input_token_usage': {'classification': 513, 'generate': 3571},\n",
              "  'output_token_usage': {'classification': 46, 'generate': 283},\n",
              "  'time_taken': {'classification': 1.77860689163208,\n",
              "   'generate': 4.421590089797974}}}"
            ]
          },
          "execution_count": 8,
          "metadata": {},
          "output_type": "execute_result"
        }
      ],
      "source": [
        "await run_test(arch, \"What is single board computer\")"
      ]
    },
    {
      "cell_type": "markdown",
      "metadata": {},
      "source": [
        "## Semantic Router\n"
      ]
    },
    {
      "cell_type": "code",
      "execution_count": 11,
      "metadata": {},
      "outputs": [
        {
          "data": {
            "image/jpeg": "[encoded data removed]",
            "text/plain": [
              "<IPython.core.display.Image object>"
            ]
          },
          "metadata": {},
          "output_type": "display_data"
        }
      ],
      "source": [
        "arch = architectures[0]\n",
        "display(Image(arch.clear_intent_agent.workflow.get_graph().draw_mermaid_png()))"
      ]
    },
    {
      "cell_type": "markdown",
      "metadata": {},
      "source": [
        "\n",
        "## Hybrid Router\n"
      ]
    },
    {
      "cell_type": "code",
      "execution_count": null,
      "metadata": {},
      "outputs": [],
      "source": [
        "arch = architectures[2]\n",
        "display(Image(arch.clear_intent_agent.workflow.get_graph().draw_mermaid_png()))\n"
      ]
    },
    {
      "cell_type": "markdown",
      "metadata": {},
      "source": [
        "## Dynamic Agent\n"
      ]
    },
    {
      "cell_type": "code",
      "execution_count": 7,
      "metadata": {},
      "outputs": [
        {
          "data": {
            "image/jpeg": "[encoded data removed]",
            "text/plain": [
              "<IPython.core.display.Image object>"
            ]
          },
          "metadata": {},
          "output_type": "display_data"
        }
      ],
      "source": [
        "arch = architectures[3]\n",
        "display(Image(arch.workflow.get_graph().draw_mermaid_png()))\n"
      ]
    },
    {
      "cell_type": "code",
      "execution_count": 8,
      "metadata": {},
      "outputs": [
        {
          "name": "stderr",
          "output_type": "stream",
          "text": [
            "INFO:generators.dynamic_agent:Running DynamicAgent with message: id='test' message='What is single board computer' timestamp=datetime.datetime(2024, 10, 7, 14, 41, 52, 15425) session_id='test' model='gpt-4o' architecture_choice='dynamicagent' history_management_choice='keep-all' is_user_message=True\n",
            "INFO:prompts.prompt_manager:===:> Generating dynamic agent prompt for query: What is single board computer\n"
          ]
        },
        {
          "name": "stdout",
          "output_type": "stream",
          "text": [
            "Running test for DynamicAgent\n",
            "Input: What is single board computer\n"
          ]
        },
        {
          "name": "stderr",
          "output_type": "stream",
          "text": [
            "INFO:httpx:HTTP Request: POST https://api.openai.com/v1/chat/completions \"HTTP/1.1 200 OK\"\n"
          ]
        },
        {
          "name": "stdout",
          "output_type": "stream",
          "text": [
            "Output: {'type': 'dynamic_agent', 'response': '```json\\n{\\n    \"message\": \"A single-board computer (SBC) is a complete computer built on a single circuit board, with microprocessor(s), memory, input/output (I/O), and other features required for a functional computer. Unlike traditional desktop computers, SBCs are compact and often used in embedded systems, industrial automation, and educational projects. Popular examples include the Raspberry Pi, BeagleBone, and Arduino boards.\",\\n    \"products\": [],\\n    \"reasoning\": \"The user asked for a definition of a single-board computer, which is a well-known concept in the field of computer hardware. Therefore, a tool search was not necessary. I provided a concise explanation of what an SBC is, along with examples to illustrate the concept.\",\\n    \"follow_up_question\": \"Are you looking for a specific single-board computer for a particular project or application?\"\\n}\\n```', 'products': [], 'reasoning': '', 'follow_up_question': '', 'metadata': {'input_token_usage': {'agent': 758}, 'output_token_usage': {'agent': 177}, 'time_taken': {'agent': 3.6183691024780273}}}\n",
            "\n",
            "--------------------------------------------------\n",
            "\n"
          ]
        },
        {
          "data": {
            "text/plain": [
              "{'type': 'dynamic_agent',\n",
              " 'response': '```json\\n{\\n    \"message\": \"A single-board computer (SBC) is a complete computer built on a single circuit board, with microprocessor(s), memory, input/output (I/O), and other features required for a functional computer. Unlike traditional desktop computers, SBCs are compact and often used in embedded systems, industrial automation, and educational projects. Popular examples include the Raspberry Pi, BeagleBone, and Arduino boards.\",\\n    \"products\": [],\\n    \"reasoning\": \"The user asked for a definition of a single-board computer, which is a well-known concept in the field of computer hardware. Therefore, a tool search was not necessary. I provided a concise explanation of what an SBC is, along with examples to illustrate the concept.\",\\n    \"follow_up_question\": \"Are you looking for a specific single-board computer for a particular project or application?\"\\n}\\n```',\n",
              " 'products': [],\n",
              " 'reasoning': '',\n",
              " 'follow_up_question': '',\n",
              " 'metadata': {'input_token_usage': {'agent': 758},\n",
              "  'output_token_usage': {'agent': 177},\n",
              "  'time_taken': {'agent': 3.6183691024780273}}}"
            ]
          },
          "execution_count": 8,
          "metadata": {},
          "output_type": "execute_result"
        }
      ],
      "source": [
        "await run_test(arch, \"What is single board computer\")"
      ]
    },
    {
      "cell_type": "code",
      "execution_count": 8,
      "metadata": {},
      "outputs": [
        {
          "name": "stderr",
          "output_type": "stream",
          "text": [
            "INFO:generators.dynamic_agent:Running DynamicAgent with message: id='test' message='List Single Board Computers with a processor frequency of at least 1.8 GHz and support for Linux.' timestamp=datetime.datetime(2024, 10, 7, 14, 56, 39, 936946) session_id='test' model='gpt-4o' architecture_choice='dynamicagent' history_management_choice='keep-all' is_user_message=True\n",
            "INFO:prompts.prompt_manager:===:> Generating dynamic agent prompt for query: List Single Board Computers with a processor frequency of at least 1.8 GHz and support for Linux.\n"
          ]
        },
        {
          "name": "stdout",
          "output_type": "stream",
          "text": [
            "Running test for DynamicAgent\n",
            "Input: List Single Board Computers with a processor frequency of at least 1.8 GHz and support for Linux.\n"
          ]
        },
        {
          "name": "stderr",
          "output_type": "stream",
          "text": [
            "INFO:httpx:HTTP Request: POST https://api.openai.com/v1/chat/completions \"HTTP/1.1 200 OK\"\n",
            "INFO:httpx:HTTP Request: POST https://api.openai.com/v1/chat/completions \"HTTP/1.1 200 OK\"\n",
            "INFO:httpx:HTTP Request: POST https://api.openai.com/v1/chat/completions \"HTTP/1.1 200 OK\"\n",
            "INFO:services.query_processor:\n",
            "\n",
            "Rerank_products response from OpenAI: {'products': [{'name': 'INTEL ATOM E SERIES SINGLE BOARD COMPUTER', 'relevance_score': 0.95, 'matching_criteria': ['Form Factor: Single Board Computer', 'Processor Speed: 1.8 GHz', 'Operating System BSP: Linux'], 'missing_criteria': []}, {'name': 'WAFER-AL', 'relevance_score': 0.9, 'matching_criteria': ['Form Factor: Single Board Computer', 'Operating System BSP: Linux'], 'missing_criteria': ['Processor Speed: 1.8 GHz']}, {'name': 'SBCEKL', 'relevance_score': 0.85, 'matching_criteria': ['Form Factor: Single Board Computer', 'Operating System BSP: Linux'], 'missing_criteria': ['Processor Speed: 1.8 GHz']}, {'name': 'CPU MINIITX SBC', 'relevance_score': 0.8, 'matching_criteria': ['Operating System BSP: Linux'], 'missing_criteria': ['Form Factor: Single Board Computer', 'Processor Speed: 1.8 GHz']}, {'name': 'RSB', 'relevance_score': 0.75, 'matching_criteria': ['Form Factor: Single Board Computer', 'Operating System BSP: Linux'], 'missing_criteria': ['Processor Speed: 1.8 GHz']}, {'name': 'ASOLinuXinoMICRO', 'relevance_score': 0.7, 'matching_criteria': ['Form Factor: Single Board Computer', 'Operating System BSP: Linux'], 'missing_criteria': ['Processor Speed: 1.8 GHz']}, {'name': 'PCM', 'relevance_score': 0.65, 'matching_criteria': ['Form Factor: Single Board Computer', 'Operating System BSP: Linux'], 'missing_criteria': ['Processor Speed: 1.8 GHz']}, {'name': 'SBC IMX', 'relevance_score': 0.6, 'matching_criteria': ['Operating System BSP: Linux'], 'missing_criteria': ['Form Factor: Single Board Computer', 'Processor Speed: 1.8 GHz']}, {'name': 'RSB-CQX-NAE', 'relevance_score': 0.55, 'matching_criteria': ['Form Factor: Single Board Computer', 'Operating System BSP: Linux'], 'missing_criteria': ['Processor Speed: 1.8 GHz']}, {'name': 'MIO', 'relevance_score': 0.5, 'matching_criteria': ['Operating System BSP: Linux'], 'missing_criteria': ['Form Factor: Single Board Computer', 'Processor Speed: 1.8 GHz']}], 'justification': \"The products were ranked based on their alignment with the specified criteria: form factor as 'Single Board Computer', processor speed of at least 1.8 GHz, and support for Linux operating systems. The 'INTEL ATOM E SERIES SINGLE BOARD COMPUTER' was ranked highest due to its exact match with all criteria. Other products were ranked based on partial matches, with priority given to those meeting the form factor and operating system requirements. Products missing the processor speed criterion were ranked lower, reflecting their partial relevance to the query.\"}\n",
            "\n",
            "\n",
            "INFO:prompts.prompt_manager:===:> Generating dynamic agent prompt for query: List Single Board Computers with a processor frequency of at least 1.8 GHz and support for Linux.\n",
            "INFO:httpx:HTTP Request: POST https://api.openai.com/v1/chat/completions \"HTTP/1.1 200 OK\"\n"
          ]
        },
        {
          "name": "stdout",
          "output_type": "stream",
          "text": [
            "Output: {'type': 'dynamic_agent', 'response': 'The INTEL ATOM E SERIES SINGLE BOARD COMPUTER meets your criteria with a processor frequency of at least 1.8 GHz and support for Linux.', 'products': [{'name': 'INTEL ATOM E SERIES SINGLE BOARD COMPUTER', 'relevance_score': 0.95, 'matching_criteria': ['Form Factor: Single Board Computer', 'Processor Speed: 1.8 GHz', 'Operating System BSP: Linux'], 'missing_criteria': []}], 'reasoning': 'The search results indicate that the INTEL ATOM E SERIES SINGLE BOARD COMPUTER is the only product that matches all the specified criteria: it is a single board computer with a processor speed of at least 1.8 GHz and supports Linux. Other products either do not meet the processor speed requirement or are missing other criteria.', 'follow_up_question': 'Are there any other specific features or specifications you are looking for in a single board computer?', 'metadata': {'input_token_usage': {'agent': 2265}, 'output_token_usage': {'agent': 191}, 'time_taken': {'agent': 4.228832721710205, 'expanded_search': 18.46024799346924}}}\n",
            "\n",
            "--------------------------------------------------\n",
            "\n"
          ]
        },
        {
          "data": {
            "text/plain": [
              "{'type': 'dynamic_agent',\n",
              " 'response': 'The INTEL ATOM E SERIES SINGLE BOARD COMPUTER meets your criteria with a processor frequency of at least 1.8 GHz and support for Linux.',\n",
              " 'products': [{'name': 'INTEL ATOM E SERIES SINGLE BOARD COMPUTER',\n",
              "   'relevance_score': 0.95,\n",
              "   'matching_criteria': ['Form Factor: Single Board Computer',\n",
              "    'Processor Speed: 1.8 GHz',\n",
              "    'Operating System BSP: Linux'],\n",
              "   'missing_criteria': []}],\n",
              " 'reasoning': 'The search results indicate that the INTEL ATOM E SERIES SINGLE BOARD COMPUTER is the only product that matches all the specified criteria: it is a single board computer with a processor speed of at least 1.8 GHz and supports Linux. Other products either do not meet the processor speed requirement or are missing other criteria.',\n",
              " 'follow_up_question': 'Are there any other specific features or specifications you are looking for in a single board computer?',\n",
              " 'metadata': {'input_token_usage': {'agent': 2265},\n",
              "  'output_token_usage': {'agent': 191},\n",
              "  'time_taken': {'agent': 4.228832721710205,\n",
              "   'expanded_search': 18.46024799346924}}}"
            ]
          },
          "execution_count": 8,
          "metadata": {},
          "output_type": "execute_result"
        }
      ],
      "source": [
        "await run_test(arch, \"List Single Board Computers with a processor frequency of at least 1.8 GHz and support for Linux.\")"
      ]
    }
  ],
  "metadata": {
    "kernelspec": {
      "display_name": "Python 3",
      "language": "python",
      "name": "python3"
    },
    "language_info": {
      "codemirror_mode": {
        "name": "ipython",
        "version": 3
      },
      "file_extension": ".py",
      "mimetype": "text/x-python",
      "name": "python",
      "nbconvert_exporter": "python",
      "pygments_lexer": "ipython3",
      "version": "3.10.13"
    }
  },
  "nbformat": 4,
  "nbformat_minor": 4
}
