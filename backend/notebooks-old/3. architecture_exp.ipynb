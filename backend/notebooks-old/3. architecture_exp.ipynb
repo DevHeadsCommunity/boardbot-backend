{
  "cells": [
    {
      "cell_type": "markdown",
      "metadata": {},
      "source": [
        "# ThroughPut Architecture Testing Notebook\n",
        "\n",
        "This notebook demonstrates and tests the three architecture implementations from the generators folder:\n",
        "1. Semantic Router V1\n",
        "2. Agent V1\n",
        "3. Agent V2\n",
        "\n",
        "We'll import the necessary components, set up the required services, and run test prompts for each architecture."
      ]
    },
    {
      "cell_type": "code",
      "execution_count": 1,
      "metadata": {},
      "outputs": [
        {
          "name": "stderr",
          "output_type": "stream",
          "text": [
            "INFO:httpx:HTTP Request: GET http://localhost:8080/v1/schema \"HTTP/1.1 200 OK\"\n",
            "INFO:httpx:HTTP Request: GET http://localhost:8080/v1/schema \"HTTP/1.1 200 OK\"\n",
            "INFO:httpx:HTTP Request: GET http://localhost:8080/v1/schema \"HTTP/1.1 200 OK\"\n",
            "INFO:httpx:HTTP Request: GET http://localhost:8080/v1/schema \"HTTP/1.1 200 OK\"\n",
            "INFO:httpx:HTTP Request: POST http://localhost:8080/v1/graphql \"HTTP/1.1 200 OK\"\n",
            "INFO:httpx:HTTP Request: POST http://localhost:8080/v1/graphql \"HTTP/1.1 200 OK\"\n",
            "INFO:root: Weaviate schema is valid: True\n",
            "INFO:root: Weaviate schema info: Weaviate Schema Information\n",
            "\n",
            "Class: Product (Entries: 1479)\n",
            "Properties:\n",
            "  - Name: name, Type: text, Description: The name of the product.\n",
            "  - Name: size, Type: text, Description: The size of the product.\n",
            "  - Name: form, Type: text, Description: The form of the product.\n",
            "  - Name: processor, Type: text, Description: The processor of the product.\n",
            "  - Name: core, Type: text, Description: The core of the product.\n",
            "  - Name: frequency, Type: text, Description: The frequency of the product.\n",
            "  - Name: memory, Type: text, Description: The memory of the product.\n",
            "  - Name: voltage, Type: text, Description: The voltage of the product.\n",
            "  - Name: io, Type: text, Description: The io of the product.\n",
            "  - Name: thermal, Type: text, Description: The thermal of the product.\n",
            "  - Name: feature, Type: text, Description: The feature of the product.\n",
            "  - Name: type, Type: text, Description: The type of the product.\n",
            "  - Name: specification, Type: text, Description: The specification of the product.\n",
            "  - Name: manufacturer, Type: text, Description: The manufacturer of the product.\n",
            "  - Name: location, Type: text, Description: The location related to the product.\n",
            "  - Name: description, Type: text, Description: The description of the product.\n",
            "  - Name: summary, Type: text, Description: The summary of the product.\n",
            "  Vectorizer: text2vec-openai\n",
            "\n",
            "Class: Route (Entries: 401)\n",
            "Properties:\n",
            "  - Name: prompt, Type: text, Description: example prompts for a given route\n",
            "  - Name: route, Type: text, Description: The route to follow\n",
            "  Vectorizer: text2vec-openai\n",
            "\n",
            "\n",
            "INFO:generators.agent_v1:Initializing Agent with model: gpt-4o\n",
            "INFO:generators.agent_v1:Setting up workflow\n",
            "INFO:generators.agent_v1:Workflow setup complete\n",
            "INFO:generators.agent_v2:Initializing AgentV2 with model: gpt-4\n",
            "INFO:generators.agent_v2:Setting up workflow\n",
            "INFO:generators.agent_v2:Workflow setup complete\n",
            "INFO:generators.agent_v3:Initializing Agent with model: gpt-4o\n",
            "INFO:generators.agent_v3:Setting up workflow\n",
            "INFO:generators.agent_v3:Workflow setup complete\n"
          ]
        },
        {
          "name": "stdout",
          "output_type": "stream",
          "text": [
            "===:> Initializing Weaviate\n",
            "Making request to /v1/schema\n",
            "Data: None\n",
            "Method: GET\n",
            "Making request to /v1/schema\n",
            "Data: None\n",
            "Method: GET\n",
            "Making request to /v1/schema\n",
            "Data: None\n",
            "Method: GET\n",
            "Making request to /v1/schema\n",
            "Data: None\n",
            "Method: GET\n",
            "Making request to /v1/graphql\n",
            "Data: {'query': '{ Aggregate { Product  { meta { count } } } }'}\n",
            "Method: POST\n",
            "Making request to /v1/graphql\n",
            "Data: {'query': '{ Aggregate { Route  { meta { count } } } }'}\n",
            "Method: POST\n",
            "Initialization complete.\n"
          ]
        }
      ],
      "source": [
        "import sys\n",
        "import os\n",
        "\n",
        "# Add the project root to the Python path\n",
        "project_root = os.path.abspath(os.path.join(os.getcwd(), '..'))\n",
        "sys.path.append(project_root)\n",
        "\n",
        "import asyncio\n",
        "from typing import List\n",
        "from models.message import Message\n",
        "from generators.semantic_router_v1 import SemanticRouterV1\n",
        "from generators.agent_v1 import AgentV1\n",
        "from generators.agent_v2 import AgentV2\n",
        "from generators.agent_v1 import AgentV1\n",
        "from services.weaviate_service import WeaviateService\n",
        "from services.openai_service import OpenAIService\n",
        "from services.tavily_service import TavilyService\n",
        "from services.query_processor import QueryProcessor\n",
        "from config import Config\n",
        "\n",
        "# Load configuration\n",
        "config = Config()\n",
        "\n",
        "# Initialize services\n",
        "weaviate_service = WeaviateService()\n",
        "await weaviate_service.initialize_weaviate(\n",
        "        config.OPENAI_API_KEY, config.WEAVIATE_URL, config.RESET_WEAVIATE\n",
        "    )\n",
        "\n",
        "openai_service = OpenAIService(config.OPENAI_API_KEY, config)\n",
        "tavily_service = TavilyService(config.TAVILY_API_KEY)\n",
        "query_processor = QueryProcessor(openai_service=openai_service)\n",
        "\n",
        "# Initialize architectures\n",
        "agent_v1 = AgentV1(weaviate_service)\n",
        "agent_v2 = AgentV2(weaviate_service, tavily_service, openai_service)\n",
        "agent_v3 = AgentV1(weaviate_service, query_processor, openai_service, \"gpt-4o\")\n",
        "semantic_router_v1 = SemanticRouterV1(openai_service, weaviate_service, agent_v3)\n",
        "\n",
        "print(\"Initialization complete.\")"
      ]
    },
    {
      "cell_type": "markdown",
      "metadata": {},
      "source": [
        "## Helper Functions"
      ]
    },
    {
      "cell_type": "code",
      "execution_count": 2,
      "metadata": {},
      "outputs": [],
      "source": [
        "from models.message import RequestMessage\n",
        "\n",
        "\n",
        "async def run_test(architecture, message: str, chat_history: List[Message] = None):\n",
        "    if chat_history is None:\n",
        "        chat_history = []\n",
        "\n",
        "    print(f\"Running test for {architecture.__class__.__name__}\")\n",
        "    print(f\"Input: {message}\")\n",
        "\n",
        "    if isinstance(architecture, SemanticRouterV1):\n",
        "        mock_message = RequestMessage(\n",
        "            id=\"test\",\n",
        "            content=message,\n",
        "            timestamp=\"2023-01-01T00:00:00Z\",\n",
        "            session_id=\"test\",\n",
        "            model=\"gpt-4o\",\n",
        "            architecture_choice=\"semantic-router-v1\",\n",
        "            history_management_choice=\"keep-all\",\n",
        "        )\n",
        "        response, stats = await architecture.run(mock_message, chat_history)\n",
        "    else:\n",
        "        response, stats = await architecture.run(message, chat_history)\n",
        "\n",
        "    print(f\"Output: {response}\")\n",
        "    print(f\"Stats: {stats}\")\n",
        "    print(\"\\n\" + \"-\" * 50 + \"\\n\")\n",
        "\n",
        "    return response, stats  # Return the results"
      ]
    },
    {
      "cell_type": "markdown",
      "metadata": {},
      "source": [
        "## Prompts\n"
      ]
    },
    {
      "cell_type": "code",
      "execution_count": 3,
      "metadata": {},
      "outputs": [],
      "source": [
        "clear_intent_1 = \"What are the top Computer on Modules available with high memory and I/O count?\""
      ]
    },
    {
      "cell_type": "markdown",
      "metadata": {},
      "source": [
        "## Test Semantic Router V1"
      ]
    },
    {
      "cell_type": "code",
      "execution_count": 4,
      "metadata": {},
      "outputs": [
        {
          "name": "stdout",
          "output_type": "stream",
          "text": [
            "Running test for SemanticRouterV1\n",
            "Input: What are the top Computer on Modules available with high memory and I/O count?\n",
            "Making request to /v1/graphql\n",
            "Data: {'query': '{ Get { Route (nearText: { concepts: [\"What are the top Computer on Modules available with high memory and I/O count?\"] }, limit: 1) { route } } }'}\n",
            "Method: POST\n"
          ]
        },
        {
          "name": "stderr",
          "output_type": "stream",
          "text": [
            "INFO:httpx:HTTP Request: POST http://localhost:8080/v1/graphql \"HTTP/1.1 200 OK\"\n",
            "INFO:generators.agent_v3:Running agent with message: What are the top Computer on Modules available with high memory and I/O count?\n",
            "INFO:root:initial state: {'messages': [], 'current_message': 'What are the top Computer on Modules available with high memory and I/O count?', 'agent_scratchpad': [], 'expanded_queries': [], 'search_results': [], 'final_results': []}\n",
            "INFO:generators.agent_v3:Starting workflow execution\n",
            "INFO:generators.agent_v3:Entering query_expansion_node\n"
          ]
        },
        {
          "name": "stdout",
          "output_type": "stream",
          "text": [
            "Found routes: [{'route': 'clear_intent_product'}]\n",
            "Found routes: clear_intent_product\n"
          ]
        },
        {
          "name": "stderr",
          "output_type": "stream",
          "text": [
            "INFO:services.openai_service:Input token count: 90\n",
            "INFO:httpx:HTTP Request: POST https://api.openai.com/v1/chat/completions \"HTTP/1.1 200 OK\"\n",
            "INFO:services.openai_service:Output token count: 95\n",
            "INFO:generators.agent_v3:Expanded queries: ['What are the top Computer on Modules available with high memory capacity and extensive I/O count?', 'What are the best Computer on Modules with high memory and a large number of I/O ports?', 'Which Computer on Modules have the highest memory and the most I/O interfaces?', 'Top-rated Computer on Modules with maximum memory and high I/O connectivity', 'Best Computer on Modules featuring high memory and numerous I/O options']\n",
            "INFO:generators.agent_v3:Entering product_search_node\n"
          ]
        },
        {
          "name": "stdout",
          "output_type": "stream",
          "text": [
            "expand_query response from OpenAI: [    \"What are the top Computer on Modules available with high memory capacity and extensive I/O count?\",    \"What are the best Computer on Modules with high memory and a large number of I/O ports?\",    \"Which Computer on Modules have the highest memory and the most I/O interfaces?\",    \"Top-rated Computer on Modules with maximum memory and high I/O connectivity\",    \"Best Computer on Modules featuring high memory and numerous I/O options\"]\n",
            "Making request to /v1/graphql\n",
            "Data: {'query': '{ Get { Product (nearText: { concepts: [\"What are the top Computer on Modules available with high memory and I/O count?\"] }, limit: 5) { name, size, form, processor, memory, io, manufacturer, summary } } }'}\n",
            "Method: POST\n"
          ]
        },
        {
          "name": "stderr",
          "output_type": "stream",
          "text": [
            "INFO:httpx:HTTP Request: POST http://localhost:8080/v1/graphql \"HTTP/1.1 200 OK\"\n"
          ]
        },
        {
          "name": "stdout",
          "output_type": "stream",
          "text": [
            "Making request to /v1/graphql\n",
            "Data: {'query': '{ Get { Product (nearText: { concepts: [\"What are the top Computer on Modules available with high memory capacity and extensive I/O count?\"] }, limit: 5) { name, size, form, processor, memory, io, manufacturer, summary } } }'}\n",
            "Method: POST\n"
          ]
        },
        {
          "name": "stderr",
          "output_type": "stream",
          "text": [
            "INFO:httpx:HTTP Request: POST http://localhost:8080/v1/graphql \"HTTP/1.1 200 OK\"\n"
          ]
        },
        {
          "name": "stdout",
          "output_type": "stream",
          "text": [
            "Making request to /v1/graphql\n",
            "Data: {'query': '{ Get { Product (nearText: { concepts: [\"What are the best Computer on Modules with high memory and a large number of I/O ports?\"] }, limit: 5) { name, size, form, processor, memory, io, manufacturer, summary } } }'}\n",
            "Method: POST\n"
          ]
        },
        {
          "name": "stderr",
          "output_type": "stream",
          "text": [
            "INFO:httpx:HTTP Request: POST http://localhost:8080/v1/graphql \"HTTP/1.1 200 OK\"\n"
          ]
        },
        {
          "name": "stdout",
          "output_type": "stream",
          "text": [
            "Making request to /v1/graphql\n",
            "Data: {'query': '{ Get { Product (nearText: { concepts: [\"Which Computer on Modules have the highest memory and the most I/O interfaces?\"] }, limit: 5) { name, size, form, processor, memory, io, manufacturer, summary } } }'}\n",
            "Method: POST\n"
          ]
        },
        {
          "name": "stderr",
          "output_type": "stream",
          "text": [
            "INFO:httpx:HTTP Request: POST http://localhost:8080/v1/graphql \"HTTP/1.1 200 OK\"\n"
          ]
        },
        {
          "name": "stdout",
          "output_type": "stream",
          "text": [
            "Making request to /v1/graphql\n",
            "Data: {'query': '{ Get { Product (nearText: { concepts: [\"Top-rated Computer on Modules with maximum memory and high I/O connectivity\"] }, limit: 5) { name, size, form, processor, memory, io, manufacturer, summary } } }'}\n",
            "Method: POST\n"
          ]
        },
        {
          "name": "stderr",
          "output_type": "stream",
          "text": [
            "INFO:httpx:HTTP Request: POST http://localhost:8080/v1/graphql \"HTTP/1.1 200 OK\"\n"
          ]
        },
        {
          "name": "stdout",
          "output_type": "stream",
          "text": [
            "Making request to /v1/graphql\n",
            "Data: {'query': '{ Get { Product (nearText: { concepts: [\"Best Computer on Modules featuring high memory and numerous I/O options\"] }, limit: 5) { name, size, form, processor, memory, io, manufacturer, summary } } }'}\n",
            "Method: POST\n"
          ]
        },
        {
          "name": "stderr",
          "output_type": "stream",
          "text": [
            "INFO:httpx:HTTP Request: POST http://localhost:8080/v1/graphql \"HTTP/1.1 200 OK\"\n",
            "INFO:generators.agent_v3:Found 5 unique products\n",
            "INFO:generators.agent_v3:Entering result_reranking_node\n",
            "INFO:services.openai_service:Input token count: 358\n",
            "INFO:httpx:HTTP Request: POST https://api.openai.com/v1/chat/completions \"HTTP/1.1 200 OK\"\n",
            "INFO:services.openai_service:Output token count: 128\n",
            "INFO:root:Reranked names: ['ET COM Express', 'SOM-5899', 'Computer On Modules', 'TX Computer On Module', 'Not available']\n",
            "INFO:root:Name to product: {'Computer On Modules': Product(name='Computer On Modules', summary='A COMExpress Basic Module with Intel Core i7/i5/i3/Celeron processors, dual channel DDR3L memory support, and extensive I/O options.', form='COMExpress Basic Module', io='PCIe x16, PCIe x1, SATAIII, USB 2.0, USB 3.0, GbE, VGA, LVDS, DVI, HDMI, DisplayPort', manufacturer='Advantech', memory='Dual Channel DDR3L SODIMM sockets, up to 16GB', processor='Intel Core i7/i5/i3/Celeron', size='125 x 95 mm'), 'Not available': Product(name='Not available', summary='High-performance COM Express Basic Module with Intel Xeon D processors, extensive I/O, and robust thermal management.', form='COM Express Basic Module', io='4 x SATA Ports (6 Gbps), 8 x USB Ports (4 x USB 3.0, 4 x USB 2.0), 1 x LPC, 1 x SPI Bus, 1 x GPIO (8-bit), 1 x Watchdog Timer, 2 x COM Ports, 2 x Ethernet (10GBASE-KR, 1GBASE-T), 32 x PCIe Gen3 lanes', manufacturer='Advantech', memory='DDR4, Max Capacity: 128 GB, Socket: 2 x 260P SODIMM, Dual Channel, ECC/Non-ECC', processor='Intel Xeon D (Ice Lake-D)', size='95 mm x 125 mm'), 'ET COM Express': Product(name='ET COM Express', summary='High-performance COM Express Type 6 modules with 8th Generation Intel Xeon E & Core i3/i5/i7 processors, extensive I/O, and display support.', form='COM Express Type 6', io='4 x USB 3.1, 8 x USB 2.0, 4 x COM, 4 x SATA III, 2 x PCIe x4, 1 x PCIe x16, 2 x GbE LAN', manufacturer='IBASE', memory='2 x DDR4 SODIMM, Max 32GB', processor='8th Generation Intel Xeon E & Core i3/i5/i7', size='95 mm x 125 mm'), 'TX Computer On Module': Product(name='TX Computer On Module', summary='A compact and cost-effective Computer On Module with NXP i.MX processor, designed for embedded applications with high CPU performance and multiple I/O interfaces.', form='SODIMM', io='Two 10/100 Mbps Ethernet ports, Two High-Speed USB ports, True color LCD controller, Two CAN interfaces, UART, SDCARD, I2C, PWM, Serial Audio, SPI', manufacturer='KaRo electronics GmbH', memory='64 MB DDR SDRAM', processor='NXP i.MX', size='67.6 mm x 26.4 mm x 4.2 mm'), 'SOM-5899': Product(name='SOM-5899', summary='COM Express Basic Module Type 6 with 6th Gen Intel Core/Celeron Processors, supporting up to 32GB DDR4 memory, flexible I/O, and multiple display options.', form='COM Express Basic Module Type 6', io='SATAIII, USB 3.0, PCIe x16, PCIe x1, Intel HD Audio, LPC, SMBus, I2C, GPIO, COM Ports, Express Card Ports', manufacturer='Advantech', memory='Dual channel DDR4, Max 32GB, ECC optional', processor='Intel 6th Gen Core i7/i5/i3/Celeron', size='125 x 95 mm')}\n",
            "INFO:generators.agent_v3:Reranked results: ['ET COM Express', 'SOM-5899', 'Computer On Modules', 'TX Computer On Module', 'Not available']\n",
            "INFO:generators.agent_v3:Entering response_generation_node\n",
            "INFO:services.openai_service:Input token count: 497\n"
          ]
        },
        {
          "name": "stdout",
          "output_type": "stream",
          "text": [
            "rerank_products response from OpenAI: [  {    \"name\": \"ET COM Express\",    \"relevance_score\": 0.95  },  {    \"name\": \"SOM-5899\",    \"relevance_score\": 0.90  },  {    \"name\": \"Computer On Modules\",    \"relevance_score\": 0.85  },  {    \"name\": \"TX Computer On Module\",    \"relevance_score\": 0.80  },  {    \"name\": \"Not available\",    \"relevance_score\": 0.75  }]\n"
          ]
        },
        {
          "name": "stderr",
          "output_type": "stream",
          "text": [
            "INFO:httpx:HTTP Request: POST https://api.openai.com/v1/chat/completions \"HTTP/1.1 200 OK\"\n",
            "INFO:services.openai_service:Output token count: 185\n",
            "INFO:generators.agent_v3:Generated response: {    \"response_description\": \"Here are some top Computer on Modules (COMs) with high memory and extensive I/O count available:\",    \"response_justification\": \"These products were selected based on their high memory capacity and extensive I/O options, which align with the user's query.\",    \"products\": [        {            \"name\": \"ET COM Express\"        },        {            \"name\": \"SOM-5899\"        },        {            \"name\": \"Computer On Modules\"        },        {            \"name\": \"TX Computer On Module\"        },        {            \"name\": \"Not available\"        }    ],    \"additional_info\": \"If you need more specific details like the exact number of I/O ports or maximum memory capacity, please provide additional information. It might also help to specify the type of applications or use cases you are targeting.\"}\n",
            "INFO:generators.agent_v3:===:> Workflow execution completed: final state: {'messages': [], 'current_message': 'What are the top Computer on Modules available with high memory and I/O count?', 'agent_scratchpad': [], 'expanded_queries': ['What are the top Computer on Modules available with high memory capacity and extensive I/O count?', 'What are the best Computer on Modules with high memory and a large number of I/O ports?', 'Which Computer on Modules have the highest memory and the most I/O interfaces?', 'Top-rated Computer on Modules with maximum memory and high I/O connectivity', 'Best Computer on Modules featuring high memory and numerous I/O options'], 'search_results': [Product(name='Computer On Modules', summary='A COMExpress Basic Module with Intel Core i7/i5/i3/Celeron processors, dual channel DDR3L memory support, and extensive I/O options.', form='COMExpress Basic Module', io='PCIe x16, PCIe x1, SATAIII, USB 2.0, USB 3.0, GbE, VGA, LVDS, DVI, HDMI, DisplayPort', manufacturer='Advantech', memory='Dual Channel DDR3L SODIMM sockets, up to 16GB', processor='Intel Core i7/i5/i3/Celeron', size='125 x 95 mm'), Product(name='Not available', summary='High-performance COM Express Basic Module with Intel Xeon D processors, extensive I/O, and robust thermal management.', form='COM Express Basic Module', io='4 x SATA Ports (6 Gbps), 8 x USB Ports (4 x USB 3.0, 4 x USB 2.0), 1 x LPC, 1 x SPI Bus, 1 x GPIO (8-bit), 1 x Watchdog Timer, 2 x COM Ports, 2 x Ethernet (10GBASE-KR, 1GBASE-T), 32 x PCIe Gen3 lanes', manufacturer='Advantech', memory='DDR4, Max Capacity: 128 GB, Socket: 2 x 260P SODIMM, Dual Channel, ECC/Non-ECC', processor='Intel Xeon D (Ice Lake-D)', size='95 mm x 125 mm'), Product(name='ET COM Express', summary='High-performance COM Express Type 6 modules with 8th Generation Intel Xeon E & Core i3/i5/i7 processors, extensive I/O, and display support.', form='COM Express Type 6', io='4 x USB 3.1, 8 x USB 2.0, 4 x COM, 4 x SATA III, 2 x PCIe x4, 1 x PCIe x16, 2 x GbE LAN', manufacturer='IBASE', memory='2 x DDR4 SODIMM, Max 32GB', processor='8th Generation Intel Xeon E & Core i3/i5/i7', size='95 mm x 125 mm'), Product(name='TX Computer On Module', summary='A compact and cost-effective Computer On Module with NXP i.MX processor, designed for embedded applications with high CPU performance and multiple I/O interfaces.', form='SODIMM', io='Two 10/100 Mbps Ethernet ports, Two High-Speed USB ports, True color LCD controller, Two CAN interfaces, UART, SDCARD, I2C, PWM, Serial Audio, SPI', manufacturer='KaRo electronics GmbH', memory='64 MB DDR SDRAM', processor='NXP i.MX', size='67.6 mm x 26.4 mm x 4.2 mm'), Product(name='SOM-5899', summary='COM Express Basic Module Type 6 with 6th Gen Intel Core/Celeron Processors, supporting up to 32GB DDR4 memory, flexible I/O, and multiple display options.', form='COM Express Basic Module Type 6', io='SATAIII, USB 3.0, PCIe x16, PCIe x1, Intel HD Audio, LPC, SMBus, I2C, GPIO, COM Ports, Express Card Ports', manufacturer='Advantech', memory='Dual channel DDR4, Max 32GB, ECC optional', processor='Intel 6th Gen Core i7/i5/i3/Celeron', size='125 x 95 mm')], 'final_results': [Product(name='ET COM Express', summary='High-performance COM Express Type 6 modules with 8th Generation Intel Xeon E & Core i3/i5/i7 processors, extensive I/O, and display support.', form='COM Express Type 6', io='4 x USB 3.1, 8 x USB 2.0, 4 x COM, 4 x SATA III, 2 x PCIe x4, 1 x PCIe x16, 2 x GbE LAN', manufacturer='IBASE', memory='2 x DDR4 SODIMM, Max 32GB', processor='8th Generation Intel Xeon E & Core i3/i5/i7', size='95 mm x 125 mm'), Product(name='SOM-5899', summary='COM Express Basic Module Type 6 with 6th Gen Intel Core/Celeron Processors, supporting up to 32GB DDR4 memory, flexible I/O, and multiple display options.', form='COM Express Basic Module Type 6', io='SATAIII, USB 3.0, PCIe x16, PCIe x1, Intel HD Audio, LPC, SMBus, I2C, GPIO, COM Ports, Express Card Ports', manufacturer='Advantech', memory='Dual channel DDR4, Max 32GB, ECC optional', processor='Intel 6th Gen Core i7/i5/i3/Celeron', size='125 x 95 mm'), Product(name='Computer On Modules', summary='A COMExpress Basic Module with Intel Core i7/i5/i3/Celeron processors, dual channel DDR3L memory support, and extensive I/O options.', form='COMExpress Basic Module', io='PCIe x16, PCIe x1, SATAIII, USB 2.0, USB 3.0, GbE, VGA, LVDS, DVI, HDMI, DisplayPort', manufacturer='Advantech', memory='Dual Channel DDR3L SODIMM sockets, up to 16GB', processor='Intel Core i7/i5/i3/Celeron', size='125 x 95 mm'), Product(name='TX Computer On Module', summary='A compact and cost-effective Computer On Module with NXP i.MX processor, designed for embedded applications with high CPU performance and multiple I/O interfaces.', form='SODIMM', io='Two 10/100 Mbps Ethernet ports, Two High-Speed USB ports, True color LCD controller, Two CAN interfaces, UART, SDCARD, I2C, PWM, Serial Audio, SPI', manufacturer='KaRo electronics GmbH', memory='64 MB DDR SDRAM', processor='NXP i.MX', size='67.6 mm x 26.4 mm x 4.2 mm'), Product(name='Not available', summary='High-performance COM Express Basic Module with Intel Xeon D processors, extensive I/O, and robust thermal management.', form='COM Express Basic Module', io='4 x SATA Ports (6 Gbps), 8 x USB Ports (4 x USB 3.0, 4 x USB 2.0), 1 x LPC, 1 x SPI Bus, 1 x GPIO (8-bit), 1 x Watchdog Timer, 2 x COM Ports, 2 x Ethernet (10GBASE-KR, 1GBASE-T), 32 x PCIe Gen3 lanes', manufacturer='Advantech', memory='DDR4, Max Capacity: 128 GB, Socket: 2 x 260P SODIMM, Dual Channel, ECC/Non-ECC', processor='Intel Xeon D (Ice Lake-D)', size='95 mm x 125 mm')], 'output': '{    \"response_description\": \"Here are some top Computer on Modules (COMs) with high memory and extensive I/O count available:\",    \"response_justification\": \"These products were selected based on their high memory capacity and extensive I/O options, which align with the user\\'s query.\",    \"products\": [        {            \"name\": \"ET COM Express\"        },        {            \"name\": \"SOM-5899\"        },        {            \"name\": \"Computer On Modules\"        },        {            \"name\": \"TX Computer On Module\"        },        {            \"name\": \"Not available\"        }    ],    \"additional_info\": \"If you need more specific details like the exact number of I/O ports or maximum memory capacity, please provide additional information. It might also help to specify the type of applications or use cases you are targeting.\"}'}\n",
            "INFO:services.openai_service:Input token count: 20\n",
            "INFO:httpx:HTTP Request: POST https://api.openai.com/v1/chat/completions \"HTTP/1.1 200 OK\"\n",
            "INFO:services.openai_service:Output token count: 1\n",
            "INFO:generators.agent_v3:Run completed. Input tokens: 20, Output tokens: 1\n"
          ]
        },
        {
          "name": "stdout",
          "output_type": "stream",
          "text": [
            "Output: {\n",
            "  \"response_description\": \"Here are some top Computer on Modules (COMs) with high memory and extensive I/O count available:\",\n",
            "  \"response_justification\": \"These products were selected based on their high memory capacity and extensive I/O options, which align with the user's query.\",\n",
            "  \"products\": [\n",
            "    {\n",
            "      \"name\": \"ET COM Express\",\n",
            "      \"summary\": \"High-performance COM Express Type 6 modules with 8th Generation Intel Xeon E & Core i3/i5/i7 processors, extensive I/O, and display support.\",\n",
            "      \"form\": \"COM Express Type 6\",\n",
            "      \"io\": \"4 x USB 3.1, 8 x USB 2.0, 4 x COM, 4 x SATA III, 2 x PCIe x4, 1 x PCIe x16, 2 x GbE LAN\",\n",
            "      \"manufacturer\": \"IBASE\",\n",
            "      \"memory\": \"2 x DDR4 SODIMM, Max 32GB\",\n",
            "      \"processor\": \"8th Generation Intel Xeon E & Core i3/i5/i7\",\n",
            "      \"size\": \"95 mm x 125 mm\"\n",
            "    },\n",
            "    {\n",
            "      \"name\": \"SOM-5899\",\n",
            "      \"summary\": \"COM Express Basic Module Type 6 with 6th Gen Intel Core/Celeron Processors, supporting up to 32GB DDR4 memory, flexible I/O, and multiple display options.\",\n",
            "      \"form\": \"COM Express Basic Module Type 6\",\n",
            "      \"io\": \"SATAIII, USB 3.0, PCIe x16, PCIe x1, Intel HD Audio, LPC, SMBus, I2C, GPIO, COM Ports, Express Card Ports\",\n",
            "      \"manufacturer\": \"Advantech\",\n",
            "      \"memory\": \"Dual channel DDR4, Max 32GB, ECC optional\",\n",
            "      \"processor\": \"Intel 6th Gen Core i7/i5/i3/Celeron\",\n",
            "      \"size\": \"125 x 95 mm\"\n",
            "    },\n",
            "    {\n",
            "      \"name\": \"Computer On Modules\",\n",
            "      \"summary\": \"A COMExpress Basic Module with Intel Core i7/i5/i3/Celeron processors, dual channel DDR3L memory support, and extensive I/O options.\",\n",
            "      \"form\": \"COMExpress Basic Module\",\n",
            "      \"io\": \"PCIe x16, PCIe x1, SATAIII, USB 2.0, USB 3.0, GbE, VGA, LVDS, DVI, HDMI, DisplayPort\",\n",
            "      \"manufacturer\": \"Advantech\",\n",
            "      \"memory\": \"Dual Channel DDR3L SODIMM sockets, up to 16GB\",\n",
            "      \"processor\": \"Intel Core i7/i5/i3/Celeron\",\n",
            "      \"size\": \"125 x 95 mm\"\n",
            "    },\n",
            "    {\n",
            "      \"name\": \"TX Computer On Module\",\n",
            "      \"summary\": \"A compact and cost-effective Computer On Module with NXP i.MX processor, designed for embedded applications with high CPU performance and multiple I/O interfaces.\",\n",
            "      \"form\": \"SODIMM\",\n",
            "      \"io\": \"Two 10/100 Mbps Ethernet ports, Two High-Speed USB ports, True color LCD controller, Two CAN interfaces, UART, SDCARD, I2C, PWM, Serial Audio, SPI\",\n",
            "      \"manufacturer\": \"KaRo electronics GmbH\",\n",
            "      \"memory\": \"64 MB DDR SDRAM\",\n",
            "      \"processor\": \"NXP i.MX\",\n",
            "      \"size\": \"67.6 mm x 26.4 mm x 4.2 mm\"\n",
            "    },\n",
            "    {\n",
            "      \"name\": \"Not available\",\n",
            "      \"summary\": \"High-performance COM Express Basic Module with Intel Xeon D processors, extensive I/O, and robust thermal management.\",\n",
            "      \"form\": \"COM Express Basic Module\",\n",
            "      \"io\": \"4 x SATA Ports (6 Gbps), 8 x USB Ports (4 x USB 3.0, 4 x USB 2.0), 1 x LPC, 1 x SPI Bus, 1 x GPIO (8-bit), 1 x Watchdog Timer, 2 x COM Ports, 2 x Ethernet (10GBASE-KR, 1GBASE-T), 32 x PCIe Gen3 lanes\",\n",
            "      \"manufacturer\": \"Advantech\",\n",
            "      \"memory\": \"DDR4, Max Capacity: 128 GB, Socket: 2 x 260P SODIMM, Dual Channel, ECC/Non-ECC\",\n",
            "      \"processor\": \"Intel Xeon D (Ice Lake-D)\",\n",
            "      \"size\": \"95 mm x 125 mm\"\n",
            "    }\n",
            "  ],\n",
            "  \"additional_info\": \"If you need more specific details like the exact number of I/O ports or maximum memory capacity, please provide additional information. It might also help to specify the type of applications or use cases you are targeting.\"\n",
            "}\n",
            "Stats: {'input_token_count': 20, 'output_token_count': 1}\n",
            "\n",
            "--------------------------------------------------\n",
            "\n"
          ]
        }
      ],
      "source": [
        "result = await run_test(semantic_router_v1, clear_intent_1)"
      ]
    },
    {
      "cell_type": "code",
      "execution_count": 5,
      "metadata": {},
      "outputs": [],
      "source": [
        "# result = await run_test(semantic_router_v1, \"How's the weather today?\")"
      ]
    },
    {
      "cell_type": "markdown",
      "metadata": {},
      "source": [
        "## Test Agent V1"
      ]
    },
    {
      "cell_type": "code",
      "execution_count": 6,
      "metadata": {},
      "outputs": [
        {
          "data": {
            "image/png": "[encoded data removed]",
            "text/plain": [
              "<IPython.core.display.Image object>"
            ]
          },
          "execution_count": 6,
          "metadata": {},
          "output_type": "execute_result"
        }
      ],
      "source": [
        "from IPython.display import Image\n",
        "\n",
        "Image(agent_v1.workflow.get_graph().draw_png())"
      ]
    },
    {
      "cell_type": "code",
      "execution_count": 7,
      "metadata": {},
      "outputs": [
        {
          "name": "stderr",
          "output_type": "stream",
          "text": [
            "INFO:generators.agent_v1:Running agent with message: What are the top Computer on Modules available with high memory and I/O count?\n",
            "INFO:generators.agent_v1:Starting workflow execution\n",
            "INFO:generators.agent_v1:Entering agent_node\n",
            "INFO:generators.agent_v1:Creating prompt template\n",
            "INFO:generators.agent_v1:Prompt: input_variables=['agent_scratchpad', 'chat_history', 'input'] input_types={'chat_history': typing.List[typing.Union[langchain_core.messages.ai.AIMessage, langchain_core.messages.human.HumanMessage, langchain_core.messages.chat.ChatMessage, langchain_core.messages.system.SystemMessage, langchain_core.messages.function.FunctionMessage, langchain_core.messages.tool.ToolMessage]], 'agent_scratchpad': typing.List[typing.Union[langchain_core.messages.ai.AIMessage, langchain_core.messages.human.HumanMessage, langchain_core.messages.chat.ChatMessage, langchain_core.messages.system.SystemMessage, langchain_core.messages.function.FunctionMessage, langchain_core.messages.tool.ToolMessage]]} messages=[SystemMessagePromptTemplate(prompt=PromptTemplate(input_variables=[], template='You are ThroughPut assistant. Your main task is to help users with their queries about products.\\n        When a user asks about products, you should construct an effective query string for a vector search.\\n        Use the product_search function to perform the search and then synthesize the information from the results.\\n        Always respond in JSON format as shown in the example below.\\n\\n        Example response format:\\n        {{\\n            \"response_description\": \"A concise description of the products that match the user\\'s query.\",\\n            \"response_justification\": \"Explanation of why this response is appropriate.\",\\n            \"products\": [\\n                {{\\n                    \"name\": \"Product Name\",\\n                    \"form\": \"Product Form Factor\",\\n                    \"processor\": \"Processor Information\",\\n                    \"memory\": \"Memory Specifications\",\\n                    \"io\": \"I/O Specifications\",\\n                    \"manufacturer\": \"Manufacturer Name\",\\n                    \"size\": \"Product Size\",\\n                    \"summary\": \"Brief product summary\"\\n                }},\\n                // ... more products if applicable\\n            ]\\n        }}\\n        ')), MessagesPlaceholder(variable_name='chat_history'), HumanMessagePromptTemplate(prompt=PromptTemplate(input_variables=['input'], template='{input}')), MessagesPlaceholder(variable_name='agent_scratchpad')]\n",
            "INFO:generators.agent_v1:Invoking model with messages: [SystemMessage(content='You are ThroughPut assistant. Your main task is to help users with their queries about products.\\n        When a user asks about products, you should construct an effective query string for a vector search.\\n        Use the product_search function to perform the search and then synthesize the information from the results.\\n        Always respond in JSON format as shown in the example below.\\n\\n        Example response format:\\n        {\\n            \"response_description\": \"A concise description of the products that match the user\\'s query.\",\\n            \"response_justification\": \"Explanation of why this response is appropriate.\",\\n            \"products\": [\\n                {\\n                    \"name\": \"Product Name\",\\n                    \"form\": \"Product Form Factor\",\\n                    \"processor\": \"Processor Information\",\\n                    \"memory\": \"Memory Specifications\",\\n                    \"io\": \"I/O Specifications\",\\n                    \"manufacturer\": \"Manufacturer Name\",\\n                    \"size\": \"Product Size\",\\n                    \"summary\": \"Brief product summary\"\\n                },\\n                // ... more products if applicable\\n            ]\\n        }\\n        '), HumanMessage(content='What are the top Computer on Modules available with high memory and I/O count?')]\n"
          ]
        },
        {
          "name": "stdout",
          "output_type": "stream",
          "text": [
            "Running test for AgentV1\n",
            "Input: What are the top Computer on Modules available with high memory and I/O count?\n"
          ]
        },
        {
          "name": "stderr",
          "output_type": "stream",
          "text": [
            "INFO:httpx:HTTP Request: POST https://api.openai.com/v1/chat/completions \"HTTP/1.1 200 OK\"\n",
            "INFO:generators.agent_v1:Model response: content='' additional_kwargs={'function_call': {'arguments': '{\"query\":\"Computer on Modules with high memory and I/O count\",\"limit\":5}', 'name': 'product_search'}} response_metadata={'token_usage': {'completion_tokens': 27, 'prompt_tokens': 274, 'total_tokens': 301}, 'model_name': 'gpt-4o', 'system_fingerprint': 'fp_400f27fa1f', 'finish_reason': 'function_call', 'logprobs': None} id='run-e8e4b6a0-dffe-4b4b-80d5-9ff4642e79e3-0' usage_metadata={'input_tokens': 274, 'output_tokens': 27, 'total_tokens': 301}\n",
            "INFO:generators.agent_v1:Exiting agent_node\n",
            "INFO:generators.agent_v1:Evaluating whether to continue or end\n",
            "INFO:generators.agent_v1:Decided to continue\n",
            "INFO:generators.agent_v1:Entering tool_node\n",
            "INFO:generators.agent_v1:Executing tool: product_search with arguments: {'query': 'Computer on Modules with high memory and I/O count', 'limit': 5}\n",
            "INFO:generators.agent_v1:Performing product search with query: Computer on Modules with high memory and I/O count, limit: 5\n"
          ]
        },
        {
          "name": "stdout",
          "output_type": "stream",
          "text": [
            "Making request to /v1/graphql\n",
            "Data: {'query': '{ Get { Product (nearText: { concepts: [\"Computer on Modules with high memory and I/O count\"] }, limit: 5) { name, size, form, processor, memory, io, manufacturer, summary } } }'}\n",
            "Method: POST\n"
          ]
        },
        {
          "name": "stderr",
          "output_type": "stream",
          "text": [
            "INFO:httpx:HTTP Request: POST http://localhost:8080/v1/graphql \"HTTP/1.1 200 OK\"\n",
            "INFO:generators.agent_v1:Product search results: [{'form': 'COM Express BASIC TYPE', 'io': '4x USB 3.0, 4x USB 2.0, 4x PCIe Gen3, 4x PCIe Gen2, 2x SATA, 2x GbE', 'manufacturer': 'Kontron', 'memory': 'DDR4, up to 32GB ECC SODIMMs', 'name': 'COMebBD Module', 'processor': 'Intel Xeon Processor Dxx family', 'size': '125mm x 95mm', 'summary': 'The COMebBD Module is a high-performance Computer on Module featuring Intel Xeon processors, supporting up to 32GB DDR4 ECC memory, and offering extensive I/O options including USB, PCIe, SATA, and GbE.'}, {'form': 'COM Express Basic', 'io': 'USB 3.0, USB 2.0, PCIe, SATA, Ethernet, LPC, SPI, I2C, GPIO', 'manufacturer': 'Kontron', 'memory': 'DDR4 SODIMM, up to 128GB, ECC and non-ECC', 'name': 'COMebBD', 'processor': 'Intel Xeon Processor D', 'size': '95mm x 125mm', 'summary': 'High-performance COM Express Basic module with Intel Xeon D processor, supporting up to 16 cores, DDR4 memory, and a wide range of I/O interfaces.'}, {'form': 'COM Express compact form factor', 'io': '2x SATA 6Gb/s, 4x USB 3.1 Gen 2, 8x USB 2.0, 1x Gigabit Ethernet, 4x PCIe x1, 1x PCIe x4, 1x LPC, 1x SPI, 1x I2C, 1x SMBus, 1x HD Audio', 'manufacturer': 'Kontron', 'memory': 'Up to 64 GB DDR4 non-ECC memory via 2x SODIMM sockets', 'name': 'COMecWL', 'processor': 'Intel 8th Generation Core Series CPU processors', 'size': '95 mm x 95 mm', 'summary': 'The COMecWL is a high-performance Computer-on-Module featuring Intel 8th Generation Core Series CPU processors, up to 64 GB DDR4 memory, and a variety of I/O interfaces, designed for industrial applications.'}, {'form': 'COM Express COMPACT TYPE 6', 'io': 'USB 3.0, USB 2.0, PCIe, SATA, Ethernet, LVDS, eDP, HDMI, DVI, VGA', 'manufacturer': 'Kontron', 'memory': 'DDR4 SODIMM, up to 32GB', 'name': 'COMecSL', 'processor': 'Intel Skylake-U', 'size': '95mm x 95mm', 'summary': 'The COMecSL is a compact, high-performance Computer-on-Module featuring Intel Skylake-U processors, supporting multiple I/O interfaces and advanced technologies for embedded and IoT applications.'}, {'form': 'PICMG COM.0 R2.1 Mini Module', 'io': 'USB, PCIe, SATA, Ethernet, LVDS, HDMI/DVI/DP, Serial Port, Audio Interface, LPC Bus, SMBus, I2C Bus, SPI', 'manufacturer': 'Advantech Co., Ltd.', 'memory': 'Up to 4GB onboard DDR3L 1333/1066 MHz memory', 'name': 'SOM', 'processor': 'Intel 4th generation Atom processors (Bay trail)', 'size': '84mm x 55mm', 'summary': 'SOM-7569 is a compact COM Express Mini module featuring Intel 4th generation Atom processors, up to 4GB onboard memory, and a variety of I/O interfaces, ideal for industrial and medical applications.'}]\n",
            "INFO:generators.agent_v1:Tool result: [{\"form\": \"COM Express BASIC TYPE\", \"io\": \"4x USB 3.0, 4x USB 2.0, 4x PCIe Gen3, 4x PCIe Gen2, 2x SATA, 2x GbE\", \"manufacturer\": \"Kontron\", \"memory\": \"DDR4, up to 32GB ECC SODIMMs\", \"name\": \"COMebBD Module\", \"processor\": \"Intel Xeon Processor Dxx family\", \"size\": \"125mm x 95mm\", \"summary\": \"The COMebBD Module is a high-performance Computer on Module featuring Intel Xeon processors, supporting up to 32GB DDR4 ECC memory, and offering extensive I/O options including USB, PCIe, SATA, and GbE.\"}, {\"form\": \"COM Express Basic\", \"io\": \"USB 3.0, USB 2.0, PCIe, SATA, Ethernet, LPC, SPI, I2C, GPIO\", \"manufacturer\": \"Kontron\", \"memory\": \"DDR4 SODIMM, up to 128GB, ECC and non-ECC\", \"name\": \"COMebBD\", \"processor\": \"Intel Xeon Processor D\", \"size\": \"95mm x 125mm\", \"summary\": \"High-performance COM Express Basic module with Intel Xeon D processor, supporting up to 16 cores, DDR4 memory, and a wide range of I/O interfaces.\"}, {\"form\": \"COM Express compact form factor\", \"io\": \"2x SATA 6Gb/s, 4x USB 3.1 Gen 2, 8x USB 2.0, 1x Gigabit Ethernet, 4x PCIe x1, 1x PCIe x4, 1x LPC, 1x SPI, 1x I2C, 1x SMBus, 1x HD Audio\", \"manufacturer\": \"Kontron\", \"memory\": \"Up to 64 GB DDR4 non-ECC memory via 2x SODIMM sockets\", \"name\": \"COMecWL\", \"processor\": \"Intel 8th Generation Core Series CPU processors\", \"size\": \"95 mm x 95 mm\", \"summary\": \"The COMecWL is a high-performance Computer-on-Module featuring Intel 8th Generation Core Series CPU processors, up to 64 GB DDR4 memory, and a variety of I/O interfaces, designed for industrial applications.\"}, {\"form\": \"COM Express COMPACT TYPE 6\", \"io\": \"USB 3.0, USB 2.0, PCIe, SATA, Ethernet, LVDS, eDP, HDMI, DVI, VGA\", \"manufacturer\": \"Kontron\", \"memory\": \"DDR4 SODIMM, up to 32GB\", \"name\": \"COMecSL\", \"processor\": \"Intel Skylake-U\", \"size\": \"95mm x 95mm\", \"summary\": \"The COMecSL is a compact, high-performance Computer-on-Module featuring Intel Skylake-U processors, supporting multiple I/O interfaces and advanced technologies for embedded and IoT applications.\"}, {\"form\": \"PICMG COM.0 R2.1 Mini Module\", \"io\": \"USB, PCIe, SATA, Ethernet, LVDS, HDMI/DVI/DP, Serial Port, Audio Interface, LPC Bus, SMBus, I2C Bus, SPI\", \"manufacturer\": \"Advantech Co., Ltd.\", \"memory\": \"Up to 4GB onboard DDR3L 1333/1066 MHz memory\", \"name\": \"SOM\", \"processor\": \"Intel 4th generation Atom processors (Bay trail)\", \"size\": \"84mm x 55mm\", \"summary\": \"SOM-7569 is a compact COM Express Mini module featuring Intel 4th generation Atom processors, up to 4GB onboard memory, and a variety of I/O interfaces, ideal for industrial and medical applications.\"}]\n",
            "INFO:generators.agent_v1:Exiting tool_node\n",
            "INFO:generators.agent_v1:Entering agent_node\n",
            "INFO:generators.agent_v1:Creating prompt template\n",
            "INFO:generators.agent_v1:Prompt: input_variables=['agent_scratchpad', 'chat_history', 'input'] input_types={'chat_history': typing.List[typing.Union[langchain_core.messages.ai.AIMessage, langchain_core.messages.human.HumanMessage, langchain_core.messages.chat.ChatMessage, langchain_core.messages.system.SystemMessage, langchain_core.messages.function.FunctionMessage, langchain_core.messages.tool.ToolMessage]], 'agent_scratchpad': typing.List[typing.Union[langchain_core.messages.ai.AIMessage, langchain_core.messages.human.HumanMessage, langchain_core.messages.chat.ChatMessage, langchain_core.messages.system.SystemMessage, langchain_core.messages.function.FunctionMessage, langchain_core.messages.tool.ToolMessage]]} messages=[SystemMessagePromptTemplate(prompt=PromptTemplate(input_variables=[], template='You are ThroughPut assistant. Your main task is to help users with their queries about products.\\n        When a user asks about products, you should construct an effective query string for a vector search.\\n        Use the product_search function to perform the search and then synthesize the information from the results.\\n        Always respond in JSON format as shown in the example below.\\n\\n        Example response format:\\n        {{\\n            \"response_description\": \"A concise description of the products that match the user\\'s query.\",\\n            \"response_justification\": \"Explanation of why this response is appropriate.\",\\n            \"products\": [\\n                {{\\n                    \"name\": \"Product Name\",\\n                    \"form\": \"Product Form Factor\",\\n                    \"processor\": \"Processor Information\",\\n                    \"memory\": \"Memory Specifications\",\\n                    \"io\": \"I/O Specifications\",\\n                    \"manufacturer\": \"Manufacturer Name\",\\n                    \"size\": \"Product Size\",\\n                    \"summary\": \"Brief product summary\"\\n                }},\\n                // ... more products if applicable\\n            ]\\n        }}\\n        ')), MessagesPlaceholder(variable_name='chat_history'), HumanMessagePromptTemplate(prompt=PromptTemplate(input_variables=['input'], template='{input}')), MessagesPlaceholder(variable_name='agent_scratchpad')]\n",
            "INFO:generators.agent_v1:Invoking model with messages: [SystemMessage(content='You are ThroughPut assistant. Your main task is to help users with their queries about products.\\n        When a user asks about products, you should construct an effective query string for a vector search.\\n        Use the product_search function to perform the search and then synthesize the information from the results.\\n        Always respond in JSON format as shown in the example below.\\n\\n        Example response format:\\n        {\\n            \"response_description\": \"A concise description of the products that match the user\\'s query.\",\\n            \"response_justification\": \"Explanation of why this response is appropriate.\",\\n            \"products\": [\\n                {\\n                    \"name\": \"Product Name\",\\n                    \"form\": \"Product Form Factor\",\\n                    \"processor\": \"Processor Information\",\\n                    \"memory\": \"Memory Specifications\",\\n                    \"io\": \"I/O Specifications\",\\n                    \"manufacturer\": \"Manufacturer Name\",\\n                    \"size\": \"Product Size\",\\n                    \"summary\": \"Brief product summary\"\\n                },\\n                // ... more products if applicable\\n            ]\\n        }\\n        '), AIMessage(content='', additional_kwargs={'function_call': {'arguments': '{\"query\":\"Computer on Modules with high memory and I/O count\",\"limit\":5}', 'name': 'product_search'}}, response_metadata={'token_usage': {'completion_tokens': 27, 'prompt_tokens': 274, 'total_tokens': 301}, 'model_name': 'gpt-4o', 'system_fingerprint': 'fp_400f27fa1f', 'finish_reason': 'function_call', 'logprobs': None}, id='run-e8e4b6a0-dffe-4b4b-80d5-9ff4642e79e3-0', usage_metadata={'input_tokens': 274, 'output_tokens': 27, 'total_tokens': 301}), HumanMessage(content='What are the top Computer on Modules available with high memory and I/O count?'), FunctionMessage(content='[{\"form\": \"COM Express BASIC TYPE\", \"io\": \"4x USB 3.0, 4x USB 2.0, 4x PCIe Gen3, 4x PCIe Gen2, 2x SATA, 2x GbE\", \"manufacturer\": \"Kontron\", \"memory\": \"DDR4, up to 32GB ECC SODIMMs\", \"name\": \"COMebBD Module\", \"processor\": \"Intel Xeon Processor Dxx family\", \"size\": \"125mm x 95mm\", \"summary\": \"The COMebBD Module is a high-performance Computer on Module featuring Intel Xeon processors, supporting up to 32GB DDR4 ECC memory, and offering extensive I/O options including USB, PCIe, SATA, and GbE.\"}, {\"form\": \"COM Express Basic\", \"io\": \"USB 3.0, USB 2.0, PCIe, SATA, Ethernet, LPC, SPI, I2C, GPIO\", \"manufacturer\": \"Kontron\", \"memory\": \"DDR4 SODIMM, up to 128GB, ECC and non-ECC\", \"name\": \"COMebBD\", \"processor\": \"Intel Xeon Processor D\", \"size\": \"95mm x 125mm\", \"summary\": \"High-performance COM Express Basic module with Intel Xeon D processor, supporting up to 16 cores, DDR4 memory, and a wide range of I/O interfaces.\"}, {\"form\": \"COM Express compact form factor\", \"io\": \"2x SATA 6Gb/s, 4x USB 3.1 Gen 2, 8x USB 2.0, 1x Gigabit Ethernet, 4x PCIe x1, 1x PCIe x4, 1x LPC, 1x SPI, 1x I2C, 1x SMBus, 1x HD Audio\", \"manufacturer\": \"Kontron\", \"memory\": \"Up to 64 GB DDR4 non-ECC memory via 2x SODIMM sockets\", \"name\": \"COMecWL\", \"processor\": \"Intel 8th Generation Core Series CPU processors\", \"size\": \"95 mm x 95 mm\", \"summary\": \"The COMecWL is a high-performance Computer-on-Module featuring Intel 8th Generation Core Series CPU processors, up to 64 GB DDR4 memory, and a variety of I/O interfaces, designed for industrial applications.\"}, {\"form\": \"COM Express COMPACT TYPE 6\", \"io\": \"USB 3.0, USB 2.0, PCIe, SATA, Ethernet, LVDS, eDP, HDMI, DVI, VGA\", \"manufacturer\": \"Kontron\", \"memory\": \"DDR4 SODIMM, up to 32GB\", \"name\": \"COMecSL\", \"processor\": \"Intel Skylake-U\", \"size\": \"95mm x 95mm\", \"summary\": \"The COMecSL is a compact, high-performance Computer-on-Module featuring Intel Skylake-U processors, supporting multiple I/O interfaces and advanced technologies for embedded and IoT applications.\"}, {\"form\": \"PICMG COM.0 R2.1 Mini Module\", \"io\": \"USB, PCIe, SATA, Ethernet, LVDS, HDMI/DVI/DP, Serial Port, Audio Interface, LPC Bus, SMBus, I2C Bus, SPI\", \"manufacturer\": \"Advantech Co., Ltd.\", \"memory\": \"Up to 4GB onboard DDR3L 1333/1066 MHz memory\", \"name\": \"SOM\", \"processor\": \"Intel 4th generation Atom processors (Bay trail)\", \"size\": \"84mm x 55mm\", \"summary\": \"SOM-7569 is a compact COM Express Mini module featuring Intel 4th generation Atom processors, up to 4GB onboard memory, and a variety of I/O interfaces, ideal for industrial and medical applications.\"}]', name='product_search')]\n",
            "INFO:httpx:HTTP Request: POST https://api.openai.com/v1/chat/completions \"HTTP/1.1 200 OK\"\n",
            "INFO:generators.agent_v1:Model response: content='```json\\n{\\n    \"response_description\": \"Here are the top Computer on Modules (COMs) available with high memory and I/O count.\",\\n    \"response_justification\": \"These products were selected based on their high memory capacity and extensive I/O options, making them suitable for demanding applications.\",\\n    \"products\": [\\n        {\\n            \"name\": \"COMebBD Module\",\\n            \"form\": \"COM Express BASIC TYPE\",\\n            \"processor\": \"Intel Xeon Processor Dxx family\",\\n            \"memory\": \"DDR4, up to 32GB ECC SODIMMs\",\\n            \"io\": \"4x USB 3.0, 4x USB 2.0, 4x PCIe Gen3, 4x PCIe Gen2, 2x SATA, 2x GbE\",\\n            \"manufacturer\": \"Kontron\",\\n            \"size\": \"125mm x 95mm\",\\n            \"summary\": \"The COMebBD Module is a high-performance Computer on Module featuring Intel Xeon processors, supporting up to 32GB DDR4 ECC memory, and offering extensive I/O options including USB, PCIe, SATA, and GbE.\"\\n        },\\n        {\\n            \"name\": \"COMebBD\",\\n            \"form\": \"COM Express Basic\",\\n            \"processor\": \"Intel Xeon Processor D\",\\n            \"memory\": \"DDR4 SODIMM, up to 128GB, ECC and non-ECC\",\\n            \"io\": \"USB 3.0, USB 2.0, PCIe, SATA, Ethernet, LPC, SPI, I2C, GPIO\",\\n            \"manufacturer\": \"Kontron\",\\n            \"size\": \"95mm x 125mm\",\\n            \"summary\": \"High-performance COM Express Basic module with Intel Xeon D processor, supporting up to 16 cores, DDR4 memory, and a wide range of I/O interfaces.\"\\n        },\\n        {\\n            \"name\": \"COMecWL\",\\n            \"form\": \"COM Express compact form factor\",\\n            \"processor\": \"Intel 8th Generation Core Series CPU processors\",\\n            \"memory\": \"Up to 64 GB DDR4 non-ECC memory via 2x SODIMM sockets\",\\n            \"io\": \"2x SATA 6Gb/s, 4x USB 3.1 Gen 2, 8x USB 2.0, 1x Gigabit Ethernet, 4x PCIe x1, 1x PCIe x4, 1x LPC, 1x SPI, 1x I2C, 1x SMBus, 1x HD Audio\",\\n            \"manufacturer\": \"Kontron\",\\n            \"size\": \"95 mm x 95 mm\",\\n            \"summary\": \"The COMecWL is a high-performance Computer-on-Module featuring Intel 8th Generation Core Series CPU processors, up to 64 GB DDR4 memory, and a variety of I/O interfaces, designed for industrial applications.\"\\n        },\\n        {\\n            \"name\": \"COMecSL\",\\n            \"form\": \"COM Express COMPACT TYPE 6\",\\n            \"processor\": \"Intel Skylake-U\",\\n            \"memory\": \"DDR4 SODIMM, up to 32GB\",\\n            \"io\": \"USB 3.0, USB 2.0, PCIe, SATA, Ethernet, LVDS, eDP, HDMI, DVI, VGA\",\\n            \"manufacturer\": \"Kontron\",\\n            \"size\": \"95mm x 95mm\",\\n            \"summary\": \"The COMecSL is a compact, high-performance Computer-on-Module featuring Intel Skylake-U processors, supporting multiple I/O interfaces and advanced technologies for embedded and IoT applications.\"\\n        },\\n        {\\n            \"name\": \"SOM\",\\n            \"form\": \"PICMG COM.0 R2.1 Mini Module\",\\n            \"processor\": \"Intel 4th generation Atom processors (Bay trail)\",\\n            \"memory\": \"Up to 4GB onboard DDR3L 1333/1066 MHz memory\",\\n            \"io\": \"USB, PCIe, SATA, Ethernet, LVDS, HDMI/DVI/DP, Serial Port, Audio Interface, LPC Bus, SMBus, I2C Bus, SPI\",\\n            \"manufacturer\": \"Advantech Co., Ltd.\",\\n            \"size\": \"84mm x 55mm\",\\n            \"summary\": \"SOM-7569 is a compact COM Express Mini module featuring Intel 4th generation Atom processors, up to 4GB onboard memory, and a variety of I/O interfaces, ideal for industrial and medical applications.\"\\n        }\\n    ]\\n}\\n```' response_metadata={'token_usage': {'completion_tokens': 950, 'prompt_tokens': 1134, 'total_tokens': 2084}, 'model_name': 'gpt-4o', 'system_fingerprint': 'fp_400f27fa1f', 'finish_reason': 'stop', 'logprobs': None} id='run-4f8df822-fb65-402f-aa68-99321de297ef-0' usage_metadata={'input_tokens': 1134, 'output_tokens': 950, 'total_tokens': 2084}\n",
            "INFO:generators.agent_v1:Exiting agent_node\n",
            "INFO:generators.agent_v1:Evaluating whether to continue or end\n",
            "INFO:generators.agent_v1:Decided to end\n",
            "INFO:generators.agent_v1:Workflow execution completed. Final output: ```json\n",
            "{\n",
            "    \"response_description\": \"Here are the top Computer on Modules (COMs) available with high memory and I/O count.\",\n",
            "    \"response_justification\": \"These products were selected based on their high memory capacity and extensive I/O options, making them suitable for demanding applications.\",\n",
            "    \"products\": [\n",
            "        {\n",
            "            \"name\": \"COMebBD Module\",\n",
            "            \"form\": \"COM Express BASIC TYPE\",\n",
            "            \"processor\": \"Intel Xeon Processor Dxx family\",\n",
            "            \"memory\": \"DDR4, up to 32GB ECC SODIMMs\",\n",
            "            \"io\": \"4x USB 3.0, 4x USB 2.0, 4x PCIe Gen3, 4x PCIe Gen2, 2x SATA, 2x GbE\",\n",
            "            \"manufacturer\": \"Kontron\",\n",
            "            \"size\": \"125mm x 95mm\",\n",
            "            \"summary\": \"The COMebBD Module is a high-performance Computer on Module featuring Intel Xeon processors, supporting up to 32GB DDR4 ECC memory, and offering extensive I/O options including USB, PCIe, SATA, and GbE.\"\n",
            "        },\n",
            "        {\n",
            "            \"name\": \"COMebBD\",\n",
            "            \"form\": \"COM Express Basic\",\n",
            "            \"processor\": \"Intel Xeon Processor D\",\n",
            "            \"memory\": \"DDR4 SODIMM, up to 128GB, ECC and non-ECC\",\n",
            "            \"io\": \"USB 3.0, USB 2.0, PCIe, SATA, Ethernet, LPC, SPI, I2C, GPIO\",\n",
            "            \"manufacturer\": \"Kontron\",\n",
            "            \"size\": \"95mm x 125mm\",\n",
            "            \"summary\": \"High-performance COM Express Basic module with Intel Xeon D processor, supporting up to 16 cores, DDR4 memory, and a wide range of I/O interfaces.\"\n",
            "        },\n",
            "        {\n",
            "            \"name\": \"COMecWL\",\n",
            "            \"form\": \"COM Express compact form factor\",\n",
            "            \"processor\": \"Intel 8th Generation Core Series CPU processors\",\n",
            "            \"memory\": \"Up to 64 GB DDR4 non-ECC memory via 2x SODIMM sockets\",\n",
            "            \"io\": \"2x SATA 6Gb/s, 4x USB 3.1 Gen 2, 8x USB 2.0, 1x Gigabit Ethernet, 4x PCIe x1, 1x PCIe x4, 1x LPC, 1x SPI, 1x I2C, 1x SMBus, 1x HD Audio\",\n",
            "            \"manufacturer\": \"Kontron\",\n",
            "            \"size\": \"95 mm x 95 mm\",\n",
            "            \"summary\": \"The COMecWL is a high-performance Computer-on-Module featuring Intel 8th Generation Core Series CPU processors, up to 64 GB DDR4 memory, and a variety of I/O interfaces, designed for industrial applications.\"\n",
            "        },\n",
            "        {\n",
            "            \"name\": \"COMecSL\",\n",
            "            \"form\": \"COM Express COMPACT TYPE 6\",\n",
            "            \"processor\": \"Intel Skylake-U\",\n",
            "            \"memory\": \"DDR4 SODIMM, up to 32GB\",\n",
            "            \"io\": \"USB 3.0, USB 2.0, PCIe, SATA, Ethernet, LVDS, eDP, HDMI, DVI, VGA\",\n",
            "            \"manufacturer\": \"Kontron\",\n",
            "            \"size\": \"95mm x 95mm\",\n",
            "            \"summary\": \"The COMecSL is a compact, high-performance Computer-on-Module featuring Intel Skylake-U processors, supporting multiple I/O interfaces and advanced technologies for embedded and IoT applications.\"\n",
            "        },\n",
            "        {\n",
            "            \"name\": \"SOM\",\n",
            "            \"form\": \"PICMG COM.0 R2.1 Mini Module\",\n",
            "            \"processor\": \"Intel 4th generation Atom processors (Bay trail)\",\n",
            "            \"memory\": \"Up to 4GB onboard DDR3L 1333/1066 MHz memory\",\n",
            "            \"io\": \"USB, PCIe, SATA, Ethernet, LVDS, HDMI/DVI/DP, Serial Port, Audio Interface, LPC Bus, SMBus, I2C Bus, SPI\",\n",
            "            \"manufacturer\": \"Advantech Co., Ltd.\",\n",
            "            \"size\": \"84mm x 55mm\",\n",
            "            \"summary\": \"SOM-7569 is a compact COM Express Mini module featuring Intel 4th generation Atom processors, up to 4GB onboard memory, and a variety of I/O interfaces, ideal for industrial and medical applications.\"\n",
            "        }\n",
            "    ]\n",
            "}\n",
            "```\n",
            "INFO:generators.agent_v1:Run completed. Input tokens: 14, Output tokens: 434\n"
          ]
        },
        {
          "name": "stdout",
          "output_type": "stream",
          "text": [
            "Output: ```json\n",
            "{\n",
            "    \"response_description\": \"Here are the top Computer on Modules (COMs) available with high memory and I/O count.\",\n",
            "    \"response_justification\": \"These products were selected based on their high memory capacity and extensive I/O options, making them suitable for demanding applications.\",\n",
            "    \"products\": [\n",
            "        {\n",
            "            \"name\": \"COMebBD Module\",\n",
            "            \"form\": \"COM Express BASIC TYPE\",\n",
            "            \"processor\": \"Intel Xeon Processor Dxx family\",\n",
            "            \"memory\": \"DDR4, up to 32GB ECC SODIMMs\",\n",
            "            \"io\": \"4x USB 3.0, 4x USB 2.0, 4x PCIe Gen3, 4x PCIe Gen2, 2x SATA, 2x GbE\",\n",
            "            \"manufacturer\": \"Kontron\",\n",
            "            \"size\": \"125mm x 95mm\",\n",
            "            \"summary\": \"The COMebBD Module is a high-performance Computer on Module featuring Intel Xeon processors, supporting up to 32GB DDR4 ECC memory, and offering extensive I/O options including USB, PCIe, SATA, and GbE.\"\n",
            "        },\n",
            "        {\n",
            "            \"name\": \"COMebBD\",\n",
            "            \"form\": \"COM Express Basic\",\n",
            "            \"processor\": \"Intel Xeon Processor D\",\n",
            "            \"memory\": \"DDR4 SODIMM, up to 128GB, ECC and non-ECC\",\n",
            "            \"io\": \"USB 3.0, USB 2.0, PCIe, SATA, Ethernet, LPC, SPI, I2C, GPIO\",\n",
            "            \"manufacturer\": \"Kontron\",\n",
            "            \"size\": \"95mm x 125mm\",\n",
            "            \"summary\": \"High-performance COM Express Basic module with Intel Xeon D processor, supporting up to 16 cores, DDR4 memory, and a wide range of I/O interfaces.\"\n",
            "        },\n",
            "        {\n",
            "            \"name\": \"COMecWL\",\n",
            "            \"form\": \"COM Express compact form factor\",\n",
            "            \"processor\": \"Intel 8th Generation Core Series CPU processors\",\n",
            "            \"memory\": \"Up to 64 GB DDR4 non-ECC memory via 2x SODIMM sockets\",\n",
            "            \"io\": \"2x SATA 6Gb/s, 4x USB 3.1 Gen 2, 8x USB 2.0, 1x Gigabit Ethernet, 4x PCIe x1, 1x PCIe x4, 1x LPC, 1x SPI, 1x I2C, 1x SMBus, 1x HD Audio\",\n",
            "            \"manufacturer\": \"Kontron\",\n",
            "            \"size\": \"95 mm x 95 mm\",\n",
            "            \"summary\": \"The COMecWL is a high-performance Computer-on-Module featuring Intel 8th Generation Core Series CPU processors, up to 64 GB DDR4 memory, and a variety of I/O interfaces, designed for industrial applications.\"\n",
            "        },\n",
            "        {\n",
            "            \"name\": \"COMecSL\",\n",
            "            \"form\": \"COM Express COMPACT TYPE 6\",\n",
            "            \"processor\": \"Intel Skylake-U\",\n",
            "            \"memory\": \"DDR4 SODIMM, up to 32GB\",\n",
            "            \"io\": \"USB 3.0, USB 2.0, PCIe, SATA, Ethernet, LVDS, eDP, HDMI, DVI, VGA\",\n",
            "            \"manufacturer\": \"Kontron\",\n",
            "            \"size\": \"95mm x 95mm\",\n",
            "            \"summary\": \"The COMecSL is a compact, high-performance Computer-on-Module featuring Intel Skylake-U processors, supporting multiple I/O interfaces and advanced technologies for embedded and IoT applications.\"\n",
            "        },\n",
            "        {\n",
            "            \"name\": \"SOM\",\n",
            "            \"form\": \"PICMG COM.0 R2.1 Mini Module\",\n",
            "            \"processor\": \"Intel 4th generation Atom processors (Bay trail)\",\n",
            "            \"memory\": \"Up to 4GB onboard DDR3L 1333/1066 MHz memory\",\n",
            "            \"io\": \"USB, PCIe, SATA, Ethernet, LVDS, HDMI/DVI/DP, Serial Port, Audio Interface, LPC Bus, SMBus, I2C Bus, SPI\",\n",
            "            \"manufacturer\": \"Advantech Co., Ltd.\",\n",
            "            \"size\": \"84mm x 55mm\",\n",
            "            \"summary\": \"SOM-7569 is a compact COM Express Mini module featuring Intel 4th generation Atom processors, up to 4GB onboard memory, and a variety of I/O interfaces, ideal for industrial and medical applications.\"\n",
            "        }\n",
            "    ]\n",
            "}\n",
            "```\n",
            "Stats: {'input_token_count': 14, 'output_token_count': 434}\n",
            "\n",
            "--------------------------------------------------\n",
            "\n"
          ]
        }
      ],
      "source": [
        "result = await run_test(agent_v1, clear_intent_1)"
      ]
    },
    {
      "cell_type": "code",
      "execution_count": 7,
      "metadata": {},
      "outputs": [
        {
          "name": "stdout",
          "output_type": "stream",
          "text": [
            "Running test for AgentV1\n",
            "Input: how's the weather today?\n"
          ]
        },
        {
          "name": "stderr",
          "output_type": "stream",
          "text": [
            "INFO:httpx:HTTP Request: POST https://api.openai.com/v1/chat/completions \"HTTP/1.1 200 OK\"\n"
          ]
        },
        {
          "name": "stdout",
          "output_type": "stream",
          "text": [
            "Output: I'm sorry for the confusion, but as a product search assistant, I don't have the ability to provide real-time weather updates. I can help you find products such as weather stations or weather apps.\n",
            "Stats: {'input_token_count': 4, 'output_token_count': 34}\n",
            "\n",
            "--------------------------------------------------\n",
            "\n"
          ]
        }
      ],
      "source": [
        "result = await run_test(agent_v1, \"how's the weather today?\")"
      ]
    },
    {
      "cell_type": "markdown",
      "metadata": {},
      "source": [
        "## Test Agent V2"
      ]
    },
    {
      "cell_type": "code",
      "execution_count": 4,
      "metadata": {},
      "outputs": [
        {
          "data": {
            "image/jpeg": "[encoded data removed]",
            "text/plain": [
              "<IPython.core.display.Image object>"
            ]
          },
          "metadata": {},
          "output_type": "display_data"
        }
      ],
      "source": [
        "from IPython.display import Image, display\n",
        "\n",
        "try:\n",
        "    display(Image(agent_v1.workflow.get_graph().draw_mermaid_png()))\n",
        "except Exception:\n",
        "    # This requires some extra dependencies and is optional\n",
        "    pass"
      ]
    },
    {
      "cell_type": "code",
      "execution_count": 5,
      "metadata": {},
      "outputs": [
        {
          "name": "stderr",
          "output_type": "stream",
          "text": [
            "INFO:generators.agent_v1:Running agent with message: What are the top Computer on Modules available with high memory and I/O count?\n",
            "INFO:generators.agent_v1:Starting workflow execution\n",
            "INFO:generators.agent_v1:Entering agent_node\n",
            "INFO:generators.agent_v1:Creating prompt template\n",
            "INFO:generators.agent_v1:Prompt: input_variables=['agent_scratchpad', 'chat_history', 'input'] input_types={'chat_history': typing.List[typing.Union[langchain_core.messages.ai.AIMessage, langchain_core.messages.human.HumanMessage, langchain_core.messages.chat.ChatMessage, langchain_core.messages.system.SystemMessage, langchain_core.messages.function.FunctionMessage, langchain_core.messages.tool.ToolMessage]], 'agent_scratchpad': typing.List[typing.Union[langchain_core.messages.ai.AIMessage, langchain_core.messages.human.HumanMessage, langchain_core.messages.chat.ChatMessage, langchain_core.messages.system.SystemMessage, langchain_core.messages.function.FunctionMessage, langchain_core.messages.tool.ToolMessage]]} messages=[SystemMessagePromptTemplate(prompt=PromptTemplate(input_variables=[], template='You are ThroughPut assistant. Your main task is to help users with their queries about products.\\n        When a user asks about products, you should construct an effective query string for a vector search.\\n        Use the product_search function to perform the search and then synthesize the information from the results.\\n        Always respond in JSON format as shown in the example below.\\n\\n        Example response format:\\n        {{\\n            \"response_description\": \"A concise description of the products that match the user\\'s query.\",\\n            \"response_justification\": \"Explanation of why this response is appropriate.\",\\n            \"products\": [\\n                {{\\n                    \"name\": \"Product Name\",\\n                    \"form\": \"Product Form Factor\",\\n                    \"processor\": \"Processor Information\",\\n                    \"memory\": \"Memory Specifications\",\\n                    \"io\": \"I/O Specifications\",\\n                    \"manufacturer\": \"Manufacturer Name\",\\n                    \"size\": \"Product Size\",\\n                    \"summary\": \"Brief product summary\"\\n                }},\\n                // ... more products if applicable\\n            ]\\n        }}\\n        ')), MessagesPlaceholder(variable_name='chat_history'), HumanMessagePromptTemplate(prompt=PromptTemplate(input_variables=['input'], template='{input}')), MessagesPlaceholder(variable_name='agent_scratchpad')]\n",
            "INFO:generators.agent_v1:Invoking model with messages: [SystemMessage(content='You are ThroughPut assistant. Your main task is to help users with their queries about products.\\n        When a user asks about products, you should construct an effective query string for a vector search.\\n        Use the product_search function to perform the search and then synthesize the information from the results.\\n        Always respond in JSON format as shown in the example below.\\n\\n        Example response format:\\n        {\\n            \"response_description\": \"A concise description of the products that match the user\\'s query.\",\\n            \"response_justification\": \"Explanation of why this response is appropriate.\",\\n            \"products\": [\\n                {\\n                    \"name\": \"Product Name\",\\n                    \"form\": \"Product Form Factor\",\\n                    \"processor\": \"Processor Information\",\\n                    \"memory\": \"Memory Specifications\",\\n                    \"io\": \"I/O Specifications\",\\n                    \"manufacturer\": \"Manufacturer Name\",\\n                    \"size\": \"Product Size\",\\n                    \"summary\": \"Brief product summary\"\\n                },\\n                // ... more products if applicable\\n            ]\\n        }\\n        '), HumanMessage(content='What are the top Computer on Modules available with high memory and I/O count?')]\n"
          ]
        },
        {
          "name": "stdout",
          "output_type": "stream",
          "text": [
            "Running test for AgentV1\n",
            "Input: What are the top Computer on Modules available with high memory and I/O count?\n"
          ]
        },
        {
          "name": "stderr",
          "output_type": "stream",
          "text": [
            "INFO:httpx:HTTP Request: POST https://api.openai.com/v1/chat/completions \"HTTP/1.1 200 OK\"\n",
            "INFO:generators.agent_v1:Model response: content='' additional_kwargs={'function_call': {'arguments': '{\"query\":\"Computer on Modules with high memory and I/O count\",\"limit\":5}', 'name': 'product_search'}} response_metadata={'token_usage': {'completion_tokens': 27, 'prompt_tokens': 274, 'total_tokens': 301}, 'model_name': 'gpt-4o', 'system_fingerprint': 'fp_18cc0f1fa0', 'finish_reason': 'function_call', 'logprobs': None} id='run-f7e3af9d-3cf6-4fe2-86ca-75335e99e7f8-0' usage_metadata={'input_tokens': 274, 'output_tokens': 27, 'total_tokens': 301}\n",
            "INFO:generators.agent_v1:Exiting agent_node\n",
            "INFO:generators.agent_v1:Evaluating whether to continue or end\n",
            "INFO:generators.agent_v1:Decided to continue\n",
            "INFO:generators.agent_v1:Entering tool_node\n",
            "INFO:generators.agent_v1:Executing tool: product_search with arguments: {'query': 'Computer on Modules with high memory and I/O count', 'limit': 5}\n",
            "INFO:generators.agent_v1:Performing product search with query: Computer on Modules with high memory and I/O count, limit: 5\n"
          ]
        },
        {
          "name": "stdout",
          "output_type": "stream",
          "text": [
            "Making request to /v1/graphql\n",
            "Data: {'query': '{ Get { Product (nearText: { concepts: [\"Computer on Modules with high memory and I/O count\"] }, limit: 5) { name, size, form, processor, memory, io, manufacturer, summary } } }'}\n",
            "Method: POST\n"
          ]
        },
        {
          "name": "stderr",
          "output_type": "stream",
          "text": [
            "INFO:httpx:HTTP Request: POST http://localhost:8080/v1/graphql \"HTTP/1.1 200 OK\"\n",
            "INFO:generators.agent_v1:Product search results: [{'form': 'COM Express BASIC TYPE', 'io': '4x USB 3.0, 4x USB 2.0, 4x PCIe Gen3, 4x PCIe Gen2, 2x SATA, 2x GbE', 'manufacturer': 'Kontron', 'memory': 'DDR4, up to 32GB ECC SODIMMs', 'name': 'COMebBD Module', 'processor': 'Intel Xeon Processor Dxx family', 'size': '125mm x 95mm', 'summary': 'The COMebBD Module is a high-performance Computer on Module featuring Intel Xeon processors, supporting up to 32GB DDR4 ECC memory, and offering extensive I/O options including USB, PCIe, SATA, and GbE.'}, {'form': 'COM Express Basic', 'io': 'USB 3.0, USB 2.0, PCIe, SATA, Ethernet, LPC, SPI, I2C, GPIO', 'manufacturer': 'Kontron', 'memory': 'DDR4 SODIMM, up to 128GB, ECC and non-ECC', 'name': 'COMebBD', 'processor': 'Intel Xeon Processor D', 'size': '95mm x 125mm', 'summary': 'High-performance COM Express Basic module with Intel Xeon D processor, supporting up to 16 cores, DDR4 memory, and a wide range of I/O interfaces.'}, {'form': 'COM Express compact form factor', 'io': '2x SATA 6Gb/s, 4x USB 3.1 Gen 2, 8x USB 2.0, 1x Gigabit Ethernet, 4x PCIe x1, 1x PCIe x4, 1x LPC, 1x SPI, 1x I2C, 1x SMBus, 1x HD Audio', 'manufacturer': 'Kontron', 'memory': 'Up to 64 GB DDR4 non-ECC memory via 2x SODIMM sockets', 'name': 'COMecWL', 'processor': 'Intel 8th Generation Core Series CPU processors', 'size': '95 mm x 95 mm', 'summary': 'The COMecWL is a high-performance Computer-on-Module featuring Intel 8th Generation Core Series CPU processors, up to 64 GB DDR4 memory, and a variety of I/O interfaces, designed for industrial applications.'}, {'form': 'COM Express COMPACT TYPE 6', 'io': 'USB 3.0, USB 2.0, PCIe, SATA, Ethernet, LVDS, eDP, HDMI, DVI, VGA', 'manufacturer': 'Kontron', 'memory': 'DDR4 SODIMM, up to 32GB', 'name': 'COMecSL', 'processor': 'Intel Skylake-U', 'size': '95mm x 95mm', 'summary': 'The COMecSL is a compact, high-performance Computer-on-Module featuring Intel Skylake-U processors, supporting multiple I/O interfaces and advanced technologies for embedded and IoT applications.'}, {'form': 'PICMG COM.0 R2.1 Mini Module', 'io': 'USB, PCIe, SATA, Ethernet, LVDS, HDMI/DVI/DP, Serial Port, Audio Interface, LPC Bus, SMBus, I2C Bus, SPI', 'manufacturer': 'Advantech Co., Ltd.', 'memory': 'Up to 4GB onboard DDR3L 1333/1066 MHz memory', 'name': 'SOM', 'processor': 'Intel 4th generation Atom processors (Bay trail)', 'size': '84mm x 55mm', 'summary': 'SOM-7569 is a compact COM Express Mini module featuring Intel 4th generation Atom processors, up to 4GB onboard memory, and a variety of I/O interfaces, ideal for industrial and medical applications.'}]\n",
            "INFO:generators.agent_v1:Tool result: [{\"form\": \"COM Express BASIC TYPE\", \"io\": \"4x USB 3.0, 4x USB 2.0, 4x PCIe Gen3, 4x PCIe Gen2, 2x SATA, 2x GbE\", \"manufacturer\": \"Kontron\", \"memory\": \"DDR4, up to 32GB ECC SODIMMs\", \"name\": \"COMebBD Module\", \"processor\": \"Intel Xeon Processor Dxx family\", \"size\": \"125mm x 95mm\", \"summary\": \"The COMebBD Module is a high-performance Computer on Module featuring Intel Xeon processors, supporting up to 32GB DDR4 ECC memory, and offering extensive I/O options including USB, PCIe, SATA, and GbE.\"}, {\"form\": \"COM Express Basic\", \"io\": \"USB 3.0, USB 2.0, PCIe, SATA, Ethernet, LPC, SPI, I2C, GPIO\", \"manufacturer\": \"Kontron\", \"memory\": \"DDR4 SODIMM, up to 128GB, ECC and non-ECC\", \"name\": \"COMebBD\", \"processor\": \"Intel Xeon Processor D\", \"size\": \"95mm x 125mm\", \"summary\": \"High-performance COM Express Basic module with Intel Xeon D processor, supporting up to 16 cores, DDR4 memory, and a wide range of I/O interfaces.\"}, {\"form\": \"COM Express compact form factor\", \"io\": \"2x SATA 6Gb/s, 4x USB 3.1 Gen 2, 8x USB 2.0, 1x Gigabit Ethernet, 4x PCIe x1, 1x PCIe x4, 1x LPC, 1x SPI, 1x I2C, 1x SMBus, 1x HD Audio\", \"manufacturer\": \"Kontron\", \"memory\": \"Up to 64 GB DDR4 non-ECC memory via 2x SODIMM sockets\", \"name\": \"COMecWL\", \"processor\": \"Intel 8th Generation Core Series CPU processors\", \"size\": \"95 mm x 95 mm\", \"summary\": \"The COMecWL is a high-performance Computer-on-Module featuring Intel 8th Generation Core Series CPU processors, up to 64 GB DDR4 memory, and a variety of I/O interfaces, designed for industrial applications.\"}, {\"form\": \"COM Express COMPACT TYPE 6\", \"io\": \"USB 3.0, USB 2.0, PCIe, SATA, Ethernet, LVDS, eDP, HDMI, DVI, VGA\", \"manufacturer\": \"Kontron\", \"memory\": \"DDR4 SODIMM, up to 32GB\", \"name\": \"COMecSL\", \"processor\": \"Intel Skylake-U\", \"size\": \"95mm x 95mm\", \"summary\": \"The COMecSL is a compact, high-performance Computer-on-Module featuring Intel Skylake-U processors, supporting multiple I/O interfaces and advanced technologies for embedded and IoT applications.\"}, {\"form\": \"PICMG COM.0 R2.1 Mini Module\", \"io\": \"USB, PCIe, SATA, Ethernet, LVDS, HDMI/DVI/DP, Serial Port, Audio Interface, LPC Bus, SMBus, I2C Bus, SPI\", \"manufacturer\": \"Advantech Co., Ltd.\", \"memory\": \"Up to 4GB onboard DDR3L 1333/1066 MHz memory\", \"name\": \"SOM\", \"processor\": \"Intel 4th generation Atom processors (Bay trail)\", \"size\": \"84mm x 55mm\", \"summary\": \"SOM-7569 is a compact COM Express Mini module featuring Intel 4th generation Atom processors, up to 4GB onboard memory, and a variety of I/O interfaces, ideal for industrial and medical applications.\"}]\n",
            "INFO:generators.agent_v1:Exiting tool_node\n",
            "INFO:generators.agent_v1:Entering agent_node\n",
            "INFO:generators.agent_v1:Creating prompt template\n",
            "INFO:generators.agent_v1:Prompt: input_variables=['agent_scratchpad', 'chat_history', 'input'] input_types={'chat_history': typing.List[typing.Union[langchain_core.messages.ai.AIMessage, langchain_core.messages.human.HumanMessage, langchain_core.messages.chat.ChatMessage, langchain_core.messages.system.SystemMessage, langchain_core.messages.function.FunctionMessage, langchain_core.messages.tool.ToolMessage]], 'agent_scratchpad': typing.List[typing.Union[langchain_core.messages.ai.AIMessage, langchain_core.messages.human.HumanMessage, langchain_core.messages.chat.ChatMessage, langchain_core.messages.system.SystemMessage, langchain_core.messages.function.FunctionMessage, langchain_core.messages.tool.ToolMessage]]} messages=[SystemMessagePromptTemplate(prompt=PromptTemplate(input_variables=[], template='You are ThroughPut assistant. Your main task is to help users with their queries about products.\\n        When a user asks about products, you should construct an effective query string for a vector search.\\n        Use the product_search function to perform the search and then synthesize the information from the results.\\n        Always respond in JSON format as shown in the example below.\\n\\n        Example response format:\\n        {{\\n            \"response_description\": \"A concise description of the products that match the user\\'s query.\",\\n            \"response_justification\": \"Explanation of why this response is appropriate.\",\\n            \"products\": [\\n                {{\\n                    \"name\": \"Product Name\",\\n                    \"form\": \"Product Form Factor\",\\n                    \"processor\": \"Processor Information\",\\n                    \"memory\": \"Memory Specifications\",\\n                    \"io\": \"I/O Specifications\",\\n                    \"manufacturer\": \"Manufacturer Name\",\\n                    \"size\": \"Product Size\",\\n                    \"summary\": \"Brief product summary\"\\n                }},\\n                // ... more products if applicable\\n            ]\\n        }}\\n        ')), MessagesPlaceholder(variable_name='chat_history'), HumanMessagePromptTemplate(prompt=PromptTemplate(input_variables=['input'], template='{input}')), MessagesPlaceholder(variable_name='agent_scratchpad')]\n",
            "INFO:generators.agent_v1:Invoking model with messages: [SystemMessage(content='You are ThroughPut assistant. Your main task is to help users with their queries about products.\\n        When a user asks about products, you should construct an effective query string for a vector search.\\n        Use the product_search function to perform the search and then synthesize the information from the results.\\n        Always respond in JSON format as shown in the example below.\\n\\n        Example response format:\\n        {\\n            \"response_description\": \"A concise description of the products that match the user\\'s query.\",\\n            \"response_justification\": \"Explanation of why this response is appropriate.\",\\n            \"products\": [\\n                {\\n                    \"name\": \"Product Name\",\\n                    \"form\": \"Product Form Factor\",\\n                    \"processor\": \"Processor Information\",\\n                    \"memory\": \"Memory Specifications\",\\n                    \"io\": \"I/O Specifications\",\\n                    \"manufacturer\": \"Manufacturer Name\",\\n                    \"size\": \"Product Size\",\\n                    \"summary\": \"Brief product summary\"\\n                },\\n                // ... more products if applicable\\n            ]\\n        }\\n        '), AIMessage(content='', additional_kwargs={'function_call': {'arguments': '{\"query\":\"Computer on Modules with high memory and I/O count\",\"limit\":5}', 'name': 'product_search'}}, response_metadata={'token_usage': {'completion_tokens': 27, 'prompt_tokens': 274, 'total_tokens': 301}, 'model_name': 'gpt-4o', 'system_fingerprint': 'fp_18cc0f1fa0', 'finish_reason': 'function_call', 'logprobs': None}, id='run-f7e3af9d-3cf6-4fe2-86ca-75335e99e7f8-0', usage_metadata={'input_tokens': 274, 'output_tokens': 27, 'total_tokens': 301}), HumanMessage(content='What are the top Computer on Modules available with high memory and I/O count?'), FunctionMessage(content='[{\"form\": \"COM Express BASIC TYPE\", \"io\": \"4x USB 3.0, 4x USB 2.0, 4x PCIe Gen3, 4x PCIe Gen2, 2x SATA, 2x GbE\", \"manufacturer\": \"Kontron\", \"memory\": \"DDR4, up to 32GB ECC SODIMMs\", \"name\": \"COMebBD Module\", \"processor\": \"Intel Xeon Processor Dxx family\", \"size\": \"125mm x 95mm\", \"summary\": \"The COMebBD Module is a high-performance Computer on Module featuring Intel Xeon processors, supporting up to 32GB DDR4 ECC memory, and offering extensive I/O options including USB, PCIe, SATA, and GbE.\"}, {\"form\": \"COM Express Basic\", \"io\": \"USB 3.0, USB 2.0, PCIe, SATA, Ethernet, LPC, SPI, I2C, GPIO\", \"manufacturer\": \"Kontron\", \"memory\": \"DDR4 SODIMM, up to 128GB, ECC and non-ECC\", \"name\": \"COMebBD\", \"processor\": \"Intel Xeon Processor D\", \"size\": \"95mm x 125mm\", \"summary\": \"High-performance COM Express Basic module with Intel Xeon D processor, supporting up to 16 cores, DDR4 memory, and a wide range of I/O interfaces.\"}, {\"form\": \"COM Express compact form factor\", \"io\": \"2x SATA 6Gb/s, 4x USB 3.1 Gen 2, 8x USB 2.0, 1x Gigabit Ethernet, 4x PCIe x1, 1x PCIe x4, 1x LPC, 1x SPI, 1x I2C, 1x SMBus, 1x HD Audio\", \"manufacturer\": \"Kontron\", \"memory\": \"Up to 64 GB DDR4 non-ECC memory via 2x SODIMM sockets\", \"name\": \"COMecWL\", \"processor\": \"Intel 8th Generation Core Series CPU processors\", \"size\": \"95 mm x 95 mm\", \"summary\": \"The COMecWL is a high-performance Computer-on-Module featuring Intel 8th Generation Core Series CPU processors, up to 64 GB DDR4 memory, and a variety of I/O interfaces, designed for industrial applications.\"}, {\"form\": \"COM Express COMPACT TYPE 6\", \"io\": \"USB 3.0, USB 2.0, PCIe, SATA, Ethernet, LVDS, eDP, HDMI, DVI, VGA\", \"manufacturer\": \"Kontron\", \"memory\": \"DDR4 SODIMM, up to 32GB\", \"name\": \"COMecSL\", \"processor\": \"Intel Skylake-U\", \"size\": \"95mm x 95mm\", \"summary\": \"The COMecSL is a compact, high-performance Computer-on-Module featuring Intel Skylake-U processors, supporting multiple I/O interfaces and advanced technologies for embedded and IoT applications.\"}, {\"form\": \"PICMG COM.0 R2.1 Mini Module\", \"io\": \"USB, PCIe, SATA, Ethernet, LVDS, HDMI/DVI/DP, Serial Port, Audio Interface, LPC Bus, SMBus, I2C Bus, SPI\", \"manufacturer\": \"Advantech Co., Ltd.\", \"memory\": \"Up to 4GB onboard DDR3L 1333/1066 MHz memory\", \"name\": \"SOM\", \"processor\": \"Intel 4th generation Atom processors (Bay trail)\", \"size\": \"84mm x 55mm\", \"summary\": \"SOM-7569 is a compact COM Express Mini module featuring Intel 4th generation Atom processors, up to 4GB onboard memory, and a variety of I/O interfaces, ideal for industrial and medical applications.\"}]', name='product_search')]\n",
            "INFO:httpx:HTTP Request: POST https://api.openai.com/v1/chat/completions \"HTTP/1.1 200 OK\"\n",
            "INFO:generators.agent_v1:Model response: content='```json\\n{\\n    \"response_description\": \"Here are the top Computer on Modules (COMs) available with high memory and I/O count.\",\\n    \"response_justification\": \"These products were selected based on their high memory capacity and extensive I/O options, making them suitable for demanding applications.\",\\n    \"products\": [\\n        {\\n            \"name\": \"COMebBD Module\",\\n            \"form\": \"COM Express BASIC TYPE\",\\n            \"processor\": \"Intel Xeon Processor Dxx family\",\\n            \"memory\": \"DDR4, up to 32GB ECC SODIMMs\",\\n            \"io\": \"4x USB 3.0, 4x USB 2.0, 4x PCIe Gen3, 4x PCIe Gen2, 2x SATA, 2x GbE\",\\n            \"manufacturer\": \"Kontron\",\\n            \"size\": \"125mm x 95mm\",\\n            \"summary\": \"The COMebBD Module is a high-performance Computer on Module featuring Intel Xeon processors, supporting up to 32GB DDR4 ECC memory, and offering extensive I/O options including USB, PCIe, SATA, and GbE.\"\\n        },\\n        {\\n            \"name\": \"COMebBD\",\\n            \"form\": \"COM Express Basic\",\\n            \"processor\": \"Intel Xeon Processor D\",\\n            \"memory\": \"DDR4 SODIMM, up to 128GB, ECC and non-ECC\",\\n            \"io\": \"USB 3.0, USB 2.0, PCIe, SATA, Ethernet, LPC, SPI, I2C, GPIO\",\\n            \"manufacturer\": \"Kontron\",\\n            \"size\": \"95mm x 125mm\",\\n            \"summary\": \"High-performance COM Express Basic module with Intel Xeon D processor, supporting up to 16 cores, DDR4 memory, and a wide range of I/O interfaces.\"\\n        },\\n        {\\n            \"name\": \"COMecWL\",\\n            \"form\": \"COM Express compact form factor\",\\n            \"processor\": \"Intel 8th Generation Core Series CPU processors\",\\n            \"memory\": \"Up to 64 GB DDR4 non-ECC memory via 2x SODIMM sockets\",\\n            \"io\": \"2x SATA 6Gb/s, 4x USB 3.1 Gen 2, 8x USB 2.0, 1x Gigabit Ethernet, 4x PCIe x1, 1x PCIe x4, 1x LPC, 1x SPI, 1x I2C, 1x SMBus, 1x HD Audio\",\\n            \"manufacturer\": \"Kontron\",\\n            \"size\": \"95 mm x 95 mm\",\\n            \"summary\": \"The COMecWL is a high-performance Computer-on-Module featuring Intel 8th Generation Core Series CPU processors, up to 64 GB DDR4 memory, and a variety of I/O interfaces, designed for industrial applications.\"\\n        },\\n        {\\n            \"name\": \"COMecSL\",\\n            \"form\": \"COM Express COMPACT TYPE 6\",\\n            \"processor\": \"Intel Skylake-U\",\\n            \"memory\": \"DDR4 SODIMM, up to 32GB\",\\n            \"io\": \"USB 3.0, USB 2.0, PCIe, SATA, Ethernet, LVDS, eDP, HDMI, DVI, VGA\",\\n            \"manufacturer\": \"Kontron\",\\n            \"size\": \"95mm x 95mm\",\\n            \"summary\": \"The COMecSL is a compact, high-performance Computer-on-Module featuring Intel Skylake-U processors, supporting multiple I/O interfaces and advanced technologies for embedded and IoT applications.\"\\n        },\\n        {\\n            \"name\": \"SOM\",\\n            \"form\": \"PICMG COM.0 R2.1 Mini Module\",\\n            \"processor\": \"Intel 4th generation Atom processors (Bay trail)\",\\n            \"memory\": \"Up to 4GB onboard DDR3L 1333/1066 MHz memory\",\\n            \"io\": \"USB, PCIe, SATA, Ethernet, LVDS, HDMI/DVI/DP, Serial Port, Audio Interface, LPC Bus, SMBus, I2C Bus, SPI\",\\n            \"manufacturer\": \"Advantech Co., Ltd.\",\\n            \"size\": \"84mm x 55mm\",\\n            \"summary\": \"SOM-7569 is a compact COM Express Mini module featuring Intel 4th generation Atom processors, up to 4GB onboard memory, and a variety of I/O interfaces, ideal for industrial and medical applications.\"\\n        }\\n    ]\\n}\\n```' response_metadata={'token_usage': {'completion_tokens': 950, 'prompt_tokens': 1134, 'total_tokens': 2084}, 'model_name': 'gpt-4o', 'system_fingerprint': 'fp_400f27fa1f', 'finish_reason': 'stop', 'logprobs': None} id='run-745db658-8690-4841-af24-c6fdca83f033-0' usage_metadata={'input_tokens': 1134, 'output_tokens': 950, 'total_tokens': 2084}\n",
            "INFO:generators.agent_v1:Exiting agent_node\n",
            "INFO:generators.agent_v1:Evaluating whether to continue or end\n",
            "INFO:generators.agent_v1:Decided to end\n",
            "INFO:generators.agent_v1:Workflow execution completed. Final output: ```json\n",
            "{\n",
            "    \"response_description\": \"Here are the top Computer on Modules (COMs) available with high memory and I/O count.\",\n",
            "    \"response_justification\": \"These products were selected based on their high memory capacity and extensive I/O options, making them suitable for demanding applications.\",\n",
            "    \"products\": [\n",
            "        {\n",
            "            \"name\": \"COMebBD Module\",\n",
            "            \"form\": \"COM Express BASIC TYPE\",\n",
            "            \"processor\": \"Intel Xeon Processor Dxx family\",\n",
            "            \"memory\": \"DDR4, up to 32GB ECC SODIMMs\",\n",
            "            \"io\": \"4x USB 3.0, 4x USB 2.0, 4x PCIe Gen3, 4x PCIe Gen2, 2x SATA, 2x GbE\",\n",
            "            \"manufacturer\": \"Kontron\",\n",
            "            \"size\": \"125mm x 95mm\",\n",
            "            \"summary\": \"The COMebBD Module is a high-performance Computer on Module featuring Intel Xeon processors, supporting up to 32GB DDR4 ECC memory, and offering extensive I/O options including USB, PCIe, SATA, and GbE.\"\n",
            "        },\n",
            "        {\n",
            "            \"name\": \"COMebBD\",\n",
            "            \"form\": \"COM Express Basic\",\n",
            "            \"processor\": \"Intel Xeon Processor D\",\n",
            "            \"memory\": \"DDR4 SODIMM, up to 128GB, ECC and non-ECC\",\n",
            "            \"io\": \"USB 3.0, USB 2.0, PCIe, SATA, Ethernet, LPC, SPI, I2C, GPIO\",\n",
            "            \"manufacturer\": \"Kontron\",\n",
            "            \"size\": \"95mm x 125mm\",\n",
            "            \"summary\": \"High-performance COM Express Basic module with Intel Xeon D processor, supporting up to 16 cores, DDR4 memory, and a wide range of I/O interfaces.\"\n",
            "        },\n",
            "        {\n",
            "            \"name\": \"COMecWL\",\n",
            "            \"form\": \"COM Express compact form factor\",\n",
            "            \"processor\": \"Intel 8th Generation Core Series CPU processors\",\n",
            "            \"memory\": \"Up to 64 GB DDR4 non-ECC memory via 2x SODIMM sockets\",\n",
            "            \"io\": \"2x SATA 6Gb/s, 4x USB 3.1 Gen 2, 8x USB 2.0, 1x Gigabit Ethernet, 4x PCIe x1, 1x PCIe x4, 1x LPC, 1x SPI, 1x I2C, 1x SMBus, 1x HD Audio\",\n",
            "            \"manufacturer\": \"Kontron\",\n",
            "            \"size\": \"95 mm x 95 mm\",\n",
            "            \"summary\": \"The COMecWL is a high-performance Computer-on-Module featuring Intel 8th Generation Core Series CPU processors, up to 64 GB DDR4 memory, and a variety of I/O interfaces, designed for industrial applications.\"\n",
            "        },\n",
            "        {\n",
            "            \"name\": \"COMecSL\",\n",
            "            \"form\": \"COM Express COMPACT TYPE 6\",\n",
            "            \"processor\": \"Intel Skylake-U\",\n",
            "            \"memory\": \"DDR4 SODIMM, up to 32GB\",\n",
            "            \"io\": \"USB 3.0, USB 2.0, PCIe, SATA, Ethernet, LVDS, eDP, HDMI, DVI, VGA\",\n",
            "            \"manufacturer\": \"Kontron\",\n",
            "            \"size\": \"95mm x 95mm\",\n",
            "            \"summary\": \"The COMecSL is a compact, high-performance Computer-on-Module featuring Intel Skylake-U processors, supporting multiple I/O interfaces and advanced technologies for embedded and IoT applications.\"\n",
            "        },\n",
            "        {\n",
            "            \"name\": \"SOM\",\n",
            "            \"form\": \"PICMG COM.0 R2.1 Mini Module\",\n",
            "            \"processor\": \"Intel 4th generation Atom processors (Bay trail)\",\n",
            "            \"memory\": \"Up to 4GB onboard DDR3L 1333/1066 MHz memory\",\n",
            "            \"io\": \"USB, PCIe, SATA, Ethernet, LVDS, HDMI/DVI/DP, Serial Port, Audio Interface, LPC Bus, SMBus, I2C Bus, SPI\",\n",
            "            \"manufacturer\": \"Advantech Co., Ltd.\",\n",
            "            \"size\": \"84mm x 55mm\",\n",
            "            \"summary\": \"SOM-7569 is a compact COM Express Mini module featuring Intel 4th generation Atom processors, up to 4GB onboard memory, and a variety of I/O interfaces, ideal for industrial and medical applications.\"\n",
            "        }\n",
            "    ]\n",
            "}\n",
            "```\n",
            "INFO:generators.agent_v1:Run completed. Input tokens: 14, Output tokens: 434\n"
          ]
        },
        {
          "name": "stdout",
          "output_type": "stream",
          "text": [
            "Output: ```json\n",
            "{\n",
            "    \"response_description\": \"Here are the top Computer on Modules (COMs) available with high memory and I/O count.\",\n",
            "    \"response_justification\": \"These products were selected based on their high memory capacity and extensive I/O options, making them suitable for demanding applications.\",\n",
            "    \"products\": [\n",
            "        {\n",
            "            \"name\": \"COMebBD Module\",\n",
            "            \"form\": \"COM Express BASIC TYPE\",\n",
            "            \"processor\": \"Intel Xeon Processor Dxx family\",\n",
            "            \"memory\": \"DDR4, up to 32GB ECC SODIMMs\",\n",
            "            \"io\": \"4x USB 3.0, 4x USB 2.0, 4x PCIe Gen3, 4x PCIe Gen2, 2x SATA, 2x GbE\",\n",
            "            \"manufacturer\": \"Kontron\",\n",
            "            \"size\": \"125mm x 95mm\",\n",
            "            \"summary\": \"The COMebBD Module is a high-performance Computer on Module featuring Intel Xeon processors, supporting up to 32GB DDR4 ECC memory, and offering extensive I/O options including USB, PCIe, SATA, and GbE.\"\n",
            "        },\n",
            "        {\n",
            "            \"name\": \"COMebBD\",\n",
            "            \"form\": \"COM Express Basic\",\n",
            "            \"processor\": \"Intel Xeon Processor D\",\n",
            "            \"memory\": \"DDR4 SODIMM, up to 128GB, ECC and non-ECC\",\n",
            "            \"io\": \"USB 3.0, USB 2.0, PCIe, SATA, Ethernet, LPC, SPI, I2C, GPIO\",\n",
            "            \"manufacturer\": \"Kontron\",\n",
            "            \"size\": \"95mm x 125mm\",\n",
            "            \"summary\": \"High-performance COM Express Basic module with Intel Xeon D processor, supporting up to 16 cores, DDR4 memory, and a wide range of I/O interfaces.\"\n",
            "        },\n",
            "        {\n",
            "            \"name\": \"COMecWL\",\n",
            "            \"form\": \"COM Express compact form factor\",\n",
            "            \"processor\": \"Intel 8th Generation Core Series CPU processors\",\n",
            "            \"memory\": \"Up to 64 GB DDR4 non-ECC memory via 2x SODIMM sockets\",\n",
            "            \"io\": \"2x SATA 6Gb/s, 4x USB 3.1 Gen 2, 8x USB 2.0, 1x Gigabit Ethernet, 4x PCIe x1, 1x PCIe x4, 1x LPC, 1x SPI, 1x I2C, 1x SMBus, 1x HD Audio\",\n",
            "            \"manufacturer\": \"Kontron\",\n",
            "            \"size\": \"95 mm x 95 mm\",\n",
            "            \"summary\": \"The COMecWL is a high-performance Computer-on-Module featuring Intel 8th Generation Core Series CPU processors, up to 64 GB DDR4 memory, and a variety of I/O interfaces, designed for industrial applications.\"\n",
            "        },\n",
            "        {\n",
            "            \"name\": \"COMecSL\",\n",
            "            \"form\": \"COM Express COMPACT TYPE 6\",\n",
            "            \"processor\": \"Intel Skylake-U\",\n",
            "            \"memory\": \"DDR4 SODIMM, up to 32GB\",\n",
            "            \"io\": \"USB 3.0, USB 2.0, PCIe, SATA, Ethernet, LVDS, eDP, HDMI, DVI, VGA\",\n",
            "            \"manufacturer\": \"Kontron\",\n",
            "            \"size\": \"95mm x 95mm\",\n",
            "            \"summary\": \"The COMecSL is a compact, high-performance Computer-on-Module featuring Intel Skylake-U processors, supporting multiple I/O interfaces and advanced technologies for embedded and IoT applications.\"\n",
            "        },\n",
            "        {\n",
            "            \"name\": \"SOM\",\n",
            "            \"form\": \"PICMG COM.0 R2.1 Mini Module\",\n",
            "            \"processor\": \"Intel 4th generation Atom processors (Bay trail)\",\n",
            "            \"memory\": \"Up to 4GB onboard DDR3L 1333/1066 MHz memory\",\n",
            "            \"io\": \"USB, PCIe, SATA, Ethernet, LVDS, HDMI/DVI/DP, Serial Port, Audio Interface, LPC Bus, SMBus, I2C Bus, SPI\",\n",
            "            \"manufacturer\": \"Advantech Co., Ltd.\",\n",
            "            \"size\": \"84mm x 55mm\",\n",
            "            \"summary\": \"SOM-7569 is a compact COM Express Mini module featuring Intel 4th generation Atom processors, up to 4GB onboard memory, and a variety of I/O interfaces, ideal for industrial and medical applications.\"\n",
            "        }\n",
            "    ]\n",
            "}\n",
            "```\n",
            "Stats: {'input_token_count': 14, 'output_token_count': 434}\n",
            "\n",
            "--------------------------------------------------\n",
            "\n"
          ]
        }
      ],
      "source": [
        "result = await run_test(agent_v1, clear_intent_1)"
      ]
    },
    {
      "cell_type": "markdown",
      "metadata": {},
      "source": [
        "## Test Agent V3"
      ]
    },
    {
      "cell_type": "code",
      "execution_count": 4,
      "metadata": {},
      "outputs": [
        {
          "data": {
            "image/jpeg": "[encoded data removed]",
            "text/plain": [
              "<IPython.core.display.Image object>"
            ]
          },
          "metadata": {},
          "output_type": "display_data"
        }
      ],
      "source": [
        "from IPython.display import Image, display\n",
        "\n",
        "try:\n",
        "    display(Image(agent_v3.workflow.get_graph().draw_mermaid_png()))\n",
        "except Exception:\n",
        "    # This requires some extra dependencies and is optional\n",
        "    pass"
      ]
    },
    {
      "cell_type": "code",
      "execution_count": 8,
      "metadata": {},
      "outputs": [
        {
          "name": "stderr",
          "output_type": "stream",
          "text": [
            "INFO:generators.agent_v3:Running agent with message: What are the top Computer on Modules available with high memory and I/O count?\n",
            "INFO:generators.agent_v3:Starting workflow execution\n",
            "INFO:generators.agent_v3:Entering query_expansion_node\n",
            "INFO:services.openai_service:Input token count: 90\n"
          ]
        },
        {
          "name": "stdout",
          "output_type": "stream",
          "text": [
            "Running test for AgentV3\n",
            "Input: What are the top Computer on Modules available with high memory and I/O count?\n"
          ]
        },
        {
          "name": "stderr",
          "output_type": "stream",
          "text": [
            "INFO:httpx:HTTP Request: POST https://api.openai.com/v1/chat/completions \"HTTP/1.1 200 OK\"\n",
            "INFO:services.openai_service:Output token count: 94\n",
            "INFO:generators.agent_v3:Expanded queries: ['What are the top Computer on Modules available with high memory capacity and extensive I/O count?', 'What are the best Computer on Modules with high RAM and numerous I/O ports?', 'Which Computer on Modules have the highest memory and the most I/O interfaces?', 'Top-rated Computer on Modules with large memory and high number of I/O connections', 'Best Computer on Modules featuring high memory and extensive input/output options']\n",
            "INFO:generators.agent_v3:Entering product_search_node\n"
          ]
        },
        {
          "name": "stdout",
          "output_type": "stream",
          "text": [
            "expand_query response from OpenAI: [    \"What are the top Computer on Modules available with high memory capacity and extensive I/O count?\",    \"What are the best Computer on Modules with high RAM and numerous I/O ports?\",    \"Which Computer on Modules have the highest memory and the most I/O interfaces?\",    \"Top-rated Computer on Modules with large memory and high number of I/O connections\",    \"Best Computer on Modules featuring high memory and extensive input/output options\"]\n",
            "Making request to /v1/graphql\n",
            "Data: {'query': '{ Get { Product (nearText: { concepts: [\"What are the top Computer on Modules available with high memory and I/O count?\"] }, limit: 5) { name, size, form, processor, memory, io, manufacturer, summary } } }'}\n",
            "Method: POST\n"
          ]
        },
        {
          "name": "stderr",
          "output_type": "stream",
          "text": [
            "INFO:httpx:HTTP Request: POST http://localhost:8080/v1/graphql \"HTTP/1.1 200 OK\"\n"
          ]
        },
        {
          "name": "stdout",
          "output_type": "stream",
          "text": [
            "Making request to /v1/graphql\n",
            "Data: {'query': '{ Get { Product (nearText: { concepts: [\"What are the top Computer on Modules available with high memory capacity and extensive I/O count?\"] }, limit: 5) { name, size, form, processor, memory, io, manufacturer, summary } } }'}\n",
            "Method: POST\n"
          ]
        },
        {
          "name": "stderr",
          "output_type": "stream",
          "text": [
            "INFO:httpx:HTTP Request: POST http://localhost:8080/v1/graphql \"HTTP/1.1 200 OK\"\n"
          ]
        },
        {
          "name": "stdout",
          "output_type": "stream",
          "text": [
            "Making request to /v1/graphql\n",
            "Data: {'query': '{ Get { Product (nearText: { concepts: [\"What are the best Computer on Modules with high RAM and numerous I/O ports?\"] }, limit: 5) { name, size, form, processor, memory, io, manufacturer, summary } } }'}\n",
            "Method: POST\n"
          ]
        },
        {
          "name": "stderr",
          "output_type": "stream",
          "text": [
            "INFO:httpx:HTTP Request: POST http://localhost:8080/v1/graphql \"HTTP/1.1 200 OK\"\n"
          ]
        },
        {
          "name": "stdout",
          "output_type": "stream",
          "text": [
            "Making request to /v1/graphql\n",
            "Data: {'query': '{ Get { Product (nearText: { concepts: [\"Which Computer on Modules have the highest memory and the most I/O interfaces?\"] }, limit: 5) { name, size, form, processor, memory, io, manufacturer, summary } } }'}\n",
            "Method: POST\n"
          ]
        },
        {
          "name": "stderr",
          "output_type": "stream",
          "text": [
            "INFO:httpx:HTTP Request: POST http://localhost:8080/v1/graphql \"HTTP/1.1 200 OK\"\n"
          ]
        },
        {
          "name": "stdout",
          "output_type": "stream",
          "text": [
            "Making request to /v1/graphql\n",
            "Data: {'query': '{ Get { Product (nearText: { concepts: [\"Top-rated Computer on Modules with large memory and high number of I/O connections\"] }, limit: 5) { name, size, form, processor, memory, io, manufacturer, summary } } }'}\n",
            "Method: POST\n"
          ]
        },
        {
          "name": "stderr",
          "output_type": "stream",
          "text": [
            "INFO:httpx:HTTP Request: POST http://localhost:8080/v1/graphql \"HTTP/1.1 200 OK\"\n"
          ]
        },
        {
          "name": "stdout",
          "output_type": "stream",
          "text": [
            "Making request to /v1/graphql\n",
            "Data: {'query': '{ Get { Product (nearText: { concepts: [\"Best Computer on Modules featuring high memory and extensive input/output options\"] }, limit: 5) { name, size, form, processor, memory, io, manufacturer, summary } } }'}\n",
            "Method: POST\n"
          ]
        },
        {
          "name": "stderr",
          "output_type": "stream",
          "text": [
            "INFO:httpx:HTTP Request: POST http://localhost:8080/v1/graphql \"HTTP/1.1 200 OK\"\n",
            "INFO:generators.agent_v3:Found 5 unique products\n",
            "INFO:generators.agent_v3:Entering result_reranking_node\n",
            "INFO:services.openai_service:Input token count: 365\n",
            "INFO:httpx:HTTP Request: POST https://api.openai.com/v1/chat/completions \"HTTP/1.1 200 OK\"\n",
            "INFO:services.openai_service:Output token count: 126\n",
            "INFO:root:Reranked names: ['congaTS', 'ET COM Express', 'Computer On Modules', 'Not available', 'TX Computer On Module']\n",
            "INFO:root:Name to product: {'Computer On Modules': Product(name='Computer On Modules', summary='A COMExpress Basic Module with Intel Core i7/i5/i3/Celeron processors, dual channel DDR3L memory support, and extensive I/O options.', form='COMExpress Basic Module', io='PCIe x16, PCIe x1, SATAIII, USB 2.0, USB 3.0, GbE, VGA, LVDS, DVI, HDMI, DisplayPort', manufacturer='Advantech', memory='Dual Channel DDR3L SODIMM sockets, up to 16GB', processor='Intel Core i7/i5/i3/Celeron', size='125 x 95 mm'), 'Not available': Product(name='Not available', summary='High-performance COM Express Basic Module with Intel Xeon D processors, extensive I/O, and robust thermal management.', form='COM Express Basic Module', io='4 x SATA Ports (6 Gbps), 8 x USB Ports (4 x USB 3.0, 4 x USB 2.0), 1 x LPC, 1 x SPI Bus, 1 x GPIO (8-bit), 1 x Watchdog Timer, 2 x COM Ports, 2 x Ethernet (10GBASE-KR, 1GBASE-T), 32 x PCIe Gen3 lanes', manufacturer='Advantech', memory='DDR4, Max Capacity: 128 GB, Socket: 2 x 260P SODIMM, Dual Channel, ECC/Non-ECC', processor='Intel Xeon D (Ice Lake-D)', size='95 mm x 125 mm'), 'ET COM Express': Product(name='ET COM Express', summary='High-performance COM Express Type 6 modules with 8th Generation Intel Xeon E & Core i3/i5/i7 processors, extensive I/O, and display support.', form='COM Express Type 6', io='4 x USB 3.1, 8 x USB 2.0, 4 x COM, 4 x SATA III, 2 x PCIe x4, 1 x PCIe x16, 2 x GbE LAN', manufacturer='IBASE', memory='2 x DDR4 SODIMM, Max 32GB', processor='8th Generation Intel Xeon E & Core i3/i5/i7', size='95 mm x 125 mm'), 'TX Computer On Module': Product(name='TX Computer On Module', summary='A compact and cost-effective Computer On Module with NXP i.MX processor, designed for embedded applications with high CPU performance and multiple I/O interfaces.', form='SODIMM', io='Two 10/100 Mbps Ethernet ports, Two High-Speed USB ports, True color LCD controller, Two CAN interfaces, UART, SDCARD, I2C, PWM, Serial Audio, SPI', manufacturer='KaRo electronics GmbH', memory='64 MB DDR SDRAM', processor='NXP i.MX', size='67.6 mm x 26.4 mm x 4.2 mm'), 'congaTS': Product(name='congaTS', summary='The congaTS is a high-performance COM Express Basic module featuring 8th Generation Intel Core and Intel Xeon processors, supporting dual channel DDR4 memory with ECC, and a variety of I/O interfaces, ideal for data center applications.', form='COM Express Basic', io='4x PCI Express Gen 3 lanes, 1x PEG x16 Gen 3, 3x SATA Gen 3, 4x USB 3.1 Gen 2 (10 Gbits), 8x USB 2.0, LPC bus, I2C bus, 2x UART', manufacturer='congatec AG', memory='Dual channel DDR4 2666 MT/s, up to 64 GByte, ECC support', processor='Intel Core i7/i5/i3, Intel Xeon, Intel Celeron', size='125 x 95 mm')}\n",
            "INFO:generators.agent_v3:Reranked results: ['congaTS', 'ET COM Express', 'Computer On Modules', 'Not available', 'TX Computer On Module']\n",
            "INFO:generators.agent_v3:Entering response_generation_node\n",
            "INFO:services.openai_service:Input token count: 504\n"
          ]
        },
        {
          "name": "stdout",
          "output_type": "stream",
          "text": [
            "rerank_products response from OpenAI: [  {    \"name\": \"congaTS\",    \"relevance_score\": 0.95  },  {    \"name\": \"ET COM Express\",    \"relevance_score\": 0.90  },  {    \"name\": \"Computer On Modules\",    \"relevance_score\": 0.85  },  {    \"name\": \"Not available\",    \"relevance_score\": 0.80  },  {    \"name\": \"TX Computer On Module\",    \"relevance_score\": 0.75  }]\n"
          ]
        },
        {
          "name": "stderr",
          "output_type": "stream",
          "text": [
            "INFO:httpx:HTTP Request: POST https://api.openai.com/v1/chat/completions \"HTTP/1.1 200 OK\"\n",
            "INFO:services.openai_service:Output token count: 175\n",
            "INFO:generators.agent_v3:Generated response: {    \"response_description\": \"Here are the top Computer on Modules available with high memory and I/O count based on your query.\",    \"response_justification\": \"The selected products are high-performance COM Express modules featuring the latest Intel processors, extensive I/O options, and robust memory support, which meets the user's requirements for high memory and I/O count.\",    \"products\": [        {            \"name\": \"congaTS\"        },        {            \"name\": \"ET COM Express\"        },        {            \"name\": \"Computer On Modules\"        },        {            \"name\": \"Not available\"        },        {            \"name\": \"TX Computer On Module\"        }    ],    \"additional_info\": \"If you need more specific details about memory capacity or I/O interfaces, please refine your query or provide additional criteria.\"}\n",
            "INFO:generators.agent_v3:===:> Workflow execution completed: final state: {'messages': [], 'current_message': 'What are the top Computer on Modules available with high memory and I/O count?', 'agent_scratchpad': [], 'expanded_queries': ['What are the top Computer on Modules available with high memory capacity and extensive I/O count?', 'What are the best Computer on Modules with high RAM and numerous I/O ports?', 'Which Computer on Modules have the highest memory and the most I/O interfaces?', 'Top-rated Computer on Modules with large memory and high number of I/O connections', 'Best Computer on Modules featuring high memory and extensive input/output options'], 'search_results': [Product(name='Computer On Modules', summary='A COMExpress Basic Module with Intel Core i7/i5/i3/Celeron processors, dual channel DDR3L memory support, and extensive I/O options.', form='COMExpress Basic Module', io='PCIe x16, PCIe x1, SATAIII, USB 2.0, USB 3.0, GbE, VGA, LVDS, DVI, HDMI, DisplayPort', manufacturer='Advantech', memory='Dual Channel DDR3L SODIMM sockets, up to 16GB', processor='Intel Core i7/i5/i3/Celeron', size='125 x 95 mm'), Product(name='Not available', summary='High-performance COM Express Basic Module with Intel Xeon D processors, extensive I/O, and robust thermal management.', form='COM Express Basic Module', io='4 x SATA Ports (6 Gbps), 8 x USB Ports (4 x USB 3.0, 4 x USB 2.0), 1 x LPC, 1 x SPI Bus, 1 x GPIO (8-bit), 1 x Watchdog Timer, 2 x COM Ports, 2 x Ethernet (10GBASE-KR, 1GBASE-T), 32 x PCIe Gen3 lanes', manufacturer='Advantech', memory='DDR4, Max Capacity: 128 GB, Socket: 2 x 260P SODIMM, Dual Channel, ECC/Non-ECC', processor='Intel Xeon D (Ice Lake-D)', size='95 mm x 125 mm'), Product(name='ET COM Express', summary='High-performance COM Express Type 6 modules with 8th Generation Intel Xeon E & Core i3/i5/i7 processors, extensive I/O, and display support.', form='COM Express Type 6', io='4 x USB 3.1, 8 x USB 2.0, 4 x COM, 4 x SATA III, 2 x PCIe x4, 1 x PCIe x16, 2 x GbE LAN', manufacturer='IBASE', memory='2 x DDR4 SODIMM, Max 32GB', processor='8th Generation Intel Xeon E & Core i3/i5/i7', size='95 mm x 125 mm'), Product(name='TX Computer On Module', summary='A compact and cost-effective Computer On Module with NXP i.MX processor, designed for embedded applications with high CPU performance and multiple I/O interfaces.', form='SODIMM', io='Two 10/100 Mbps Ethernet ports, Two High-Speed USB ports, True color LCD controller, Two CAN interfaces, UART, SDCARD, I2C, PWM, Serial Audio, SPI', manufacturer='KaRo electronics GmbH', memory='64 MB DDR SDRAM', processor='NXP i.MX', size='67.6 mm x 26.4 mm x 4.2 mm'), Product(name='congaTS', summary='The congaTS is a high-performance COM Express Basic module featuring 8th Generation Intel Core and Intel Xeon processors, supporting dual channel DDR4 memory with ECC, and a variety of I/O interfaces, ideal for data center applications.', form='COM Express Basic', io='4x PCI Express Gen 3 lanes, 1x PEG x16 Gen 3, 3x SATA Gen 3, 4x USB 3.1 Gen 2 (10 Gbits), 8x USB 2.0, LPC bus, I2C bus, 2x UART', manufacturer='congatec AG', memory='Dual channel DDR4 2666 MT/s, up to 64 GByte, ECC support', processor='Intel Core i7/i5/i3, Intel Xeon, Intel Celeron', size='125 x 95 mm')], 'final_results': [Product(name='congaTS', summary='The congaTS is a high-performance COM Express Basic module featuring 8th Generation Intel Core and Intel Xeon processors, supporting dual channel DDR4 memory with ECC, and a variety of I/O interfaces, ideal for data center applications.', form='COM Express Basic', io='4x PCI Express Gen 3 lanes, 1x PEG x16 Gen 3, 3x SATA Gen 3, 4x USB 3.1 Gen 2 (10 Gbits), 8x USB 2.0, LPC bus, I2C bus, 2x UART', manufacturer='congatec AG', memory='Dual channel DDR4 2666 MT/s, up to 64 GByte, ECC support', processor='Intel Core i7/i5/i3, Intel Xeon, Intel Celeron', size='125 x 95 mm'), Product(name='ET COM Express', summary='High-performance COM Express Type 6 modules with 8th Generation Intel Xeon E & Core i3/i5/i7 processors, extensive I/O, and display support.', form='COM Express Type 6', io='4 x USB 3.1, 8 x USB 2.0, 4 x COM, 4 x SATA III, 2 x PCIe x4, 1 x PCIe x16, 2 x GbE LAN', manufacturer='IBASE', memory='2 x DDR4 SODIMM, Max 32GB', processor='8th Generation Intel Xeon E & Core i3/i5/i7', size='95 mm x 125 mm'), Product(name='Computer On Modules', summary='A COMExpress Basic Module with Intel Core i7/i5/i3/Celeron processors, dual channel DDR3L memory support, and extensive I/O options.', form='COMExpress Basic Module', io='PCIe x16, PCIe x1, SATAIII, USB 2.0, USB 3.0, GbE, VGA, LVDS, DVI, HDMI, DisplayPort', manufacturer='Advantech', memory='Dual Channel DDR3L SODIMM sockets, up to 16GB', processor='Intel Core i7/i5/i3/Celeron', size='125 x 95 mm'), Product(name='Not available', summary='High-performance COM Express Basic Module with Intel Xeon D processors, extensive I/O, and robust thermal management.', form='COM Express Basic Module', io='4 x SATA Ports (6 Gbps), 8 x USB Ports (4 x USB 3.0, 4 x USB 2.0), 1 x LPC, 1 x SPI Bus, 1 x GPIO (8-bit), 1 x Watchdog Timer, 2 x COM Ports, 2 x Ethernet (10GBASE-KR, 1GBASE-T), 32 x PCIe Gen3 lanes', manufacturer='Advantech', memory='DDR4, Max Capacity: 128 GB, Socket: 2 x 260P SODIMM, Dual Channel, ECC/Non-ECC', processor='Intel Xeon D (Ice Lake-D)', size='95 mm x 125 mm'), Product(name='TX Computer On Module', summary='A compact and cost-effective Computer On Module with NXP i.MX processor, designed for embedded applications with high CPU performance and multiple I/O interfaces.', form='SODIMM', io='Two 10/100 Mbps Ethernet ports, Two High-Speed USB ports, True color LCD controller, Two CAN interfaces, UART, SDCARD, I2C, PWM, Serial Audio, SPI', manufacturer='KaRo electronics GmbH', memory='64 MB DDR SDRAM', processor='NXP i.MX', size='67.6 mm x 26.4 mm x 4.2 mm')], 'output': '{    \"response_description\": \"Here are the top Computer on Modules available with high memory and I/O count based on your query.\",    \"response_justification\": \"The selected products are high-performance COM Express modules featuring the latest Intel processors, extensive I/O options, and robust memory support, which meets the user\\'s requirements for high memory and I/O count.\",    \"products\": [        {            \"name\": \"congaTS\"        },        {            \"name\": \"ET COM Express\"        },        {            \"name\": \"Computer On Modules\"        },        {            \"name\": \"Not available\"        },        {            \"name\": \"TX Computer On Module\"        }    ],    \"additional_info\": \"If you need more specific details about memory capacity or I/O interfaces, please refine your query or provide additional criteria.\"}'}\n",
            "INFO:services.openai_service:Input token count: 20\n",
            "INFO:httpx:HTTP Request: POST https://api.openai.com/v1/chat/completions \"HTTP/1.1 200 OK\"\n",
            "INFO:services.openai_service:Output token count: 1\n",
            "INFO:generators.agent_v3:Run completed. Input tokens: 20, Output tokens: 1\n"
          ]
        },
        {
          "name": "stdout",
          "output_type": "stream",
          "text": [
            "Output: {\n",
            "  \"response_description\": \"Here are the top Computer on Modules available with high memory and I/O count based on your query.\",\n",
            "  \"response_justification\": \"The selected products are high-performance COM Express modules featuring the latest Intel processors, extensive I/O options, and robust memory support, which meets the user's requirements for high memory and I/O count.\",\n",
            "  \"products\": [\n",
            "    {\n",
            "      \"name\": \"congaTS\",\n",
            "      \"summary\": \"The congaTS is a high-performance COM Express Basic module featuring 8th Generation Intel Core and Intel Xeon processors, supporting dual channel DDR4 memory with ECC, and a variety of I/O interfaces, ideal for data center applications.\",\n",
            "      \"form\": \"COM Express Basic\",\n",
            "      \"io\": \"4x PCI Express Gen 3 lanes, 1x PEG x16 Gen 3, 3x SATA Gen 3, 4x USB 3.1 Gen 2 (10 Gbits), 8x USB 2.0, LPC bus, I2C bus, 2x UART\",\n",
            "      \"manufacturer\": \"congatec AG\",\n",
            "      \"memory\": \"Dual channel DDR4 2666 MT/s, up to 64 GByte, ECC support\",\n",
            "      \"processor\": \"Intel Core i7/i5/i3, Intel Xeon, Intel Celeron\",\n",
            "      \"size\": \"125 x 95 mm\"\n",
            "    },\n",
            "    {\n",
            "      \"name\": \"ET COM Express\",\n",
            "      \"summary\": \"High-performance COM Express Type 6 modules with 8th Generation Intel Xeon E & Core i3/i5/i7 processors, extensive I/O, and display support.\",\n",
            "      \"form\": \"COM Express Type 6\",\n",
            "      \"io\": \"4 x USB 3.1, 8 x USB 2.0, 4 x COM, 4 x SATA III, 2 x PCIe x4, 1 x PCIe x16, 2 x GbE LAN\",\n",
            "      \"manufacturer\": \"IBASE\",\n",
            "      \"memory\": \"2 x DDR4 SODIMM, Max 32GB\",\n",
            "      \"processor\": \"8th Generation Intel Xeon E & Core i3/i5/i7\",\n",
            "      \"size\": \"95 mm x 125 mm\"\n",
            "    },\n",
            "    {\n",
            "      \"name\": \"Computer On Modules\",\n",
            "      \"summary\": \"A COMExpress Basic Module with Intel Core i7/i5/i3/Celeron processors, dual channel DDR3L memory support, and extensive I/O options.\",\n",
            "      \"form\": \"COMExpress Basic Module\",\n",
            "      \"io\": \"PCIe x16, PCIe x1, SATAIII, USB 2.0, USB 3.0, GbE, VGA, LVDS, DVI, HDMI, DisplayPort\",\n",
            "      \"manufacturer\": \"Advantech\",\n",
            "      \"memory\": \"Dual Channel DDR3L SODIMM sockets, up to 16GB\",\n",
            "      \"processor\": \"Intel Core i7/i5/i3/Celeron\",\n",
            "      \"size\": \"125 x 95 mm\"\n",
            "    },\n",
            "    {\n",
            "      \"name\": \"Not available\",\n",
            "      \"summary\": \"High-performance COM Express Basic Module with Intel Xeon D processors, extensive I/O, and robust thermal management.\",\n",
            "      \"form\": \"COM Express Basic Module\",\n",
            "      \"io\": \"4 x SATA Ports (6 Gbps), 8 x USB Ports (4 x USB 3.0, 4 x USB 2.0), 1 x LPC, 1 x SPI Bus, 1 x GPIO (8-bit), 1 x Watchdog Timer, 2 x COM Ports, 2 x Ethernet (10GBASE-KR, 1GBASE-T), 32 x PCIe Gen3 lanes\",\n",
            "      \"manufacturer\": \"Advantech\",\n",
            "      \"memory\": \"DDR4, Max Capacity: 128 GB, Socket: 2 x 260P SODIMM, Dual Channel, ECC/Non-ECC\",\n",
            "      \"processor\": \"Intel Xeon D (Ice Lake-D)\",\n",
            "      \"size\": \"95 mm x 125 mm\"\n",
            "    },\n",
            "    {\n",
            "      \"name\": \"TX Computer On Module\",\n",
            "      \"summary\": \"A compact and cost-effective Computer On Module with NXP i.MX processor, designed for embedded applications with high CPU performance and multiple I/O interfaces.\",\n",
            "      \"form\": \"SODIMM\",\n",
            "      \"io\": \"Two 10/100 Mbps Ethernet ports, Two High-Speed USB ports, True color LCD controller, Two CAN interfaces, UART, SDCARD, I2C, PWM, Serial Audio, SPI\",\n",
            "      \"manufacturer\": \"KaRo electronics GmbH\",\n",
            "      \"memory\": \"64 MB DDR SDRAM\",\n",
            "      \"processor\": \"NXP i.MX\",\n",
            "      \"size\": \"67.6 mm x 26.4 mm x 4.2 mm\"\n",
            "    }\n",
            "  ],\n",
            "  \"additional_info\": \"If you need more specific details about memory capacity or I/O interfaces, please refine your query or provide additional criteria.\"\n",
            "}\n",
            "Stats: {'input_token_count': 20, 'output_token_count': 1}\n",
            "\n",
            "--------------------------------------------------\n",
            "\n"
          ]
        }
      ],
      "source": [
        "result = await run_test(agent_v3, clear_intent_1)"
      ]
    }
  ],
  "metadata": {
    "kernelspec": {
      "display_name": "Python 3",
      "language": "python",
      "name": "python3"
    },
    "language_info": {
      "codemirror_mode": {
        "name": "ipython",
        "version": 3
      },
      "file_extension": ".py",
      "mimetype": "text/x-python",
      "name": "python",
      "nbconvert_exporter": "python",
      "pygments_lexer": "ipython3",
      "version": "3.10.13"
    }
  },
  "nbformat": 4,
  "nbformat_minor": 4
}
