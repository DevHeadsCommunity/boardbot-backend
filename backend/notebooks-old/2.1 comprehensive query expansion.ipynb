{
 "cells": [
  {
   "cell_type": "markdown",
   "metadata": {},
   "source": [
    "# Comprehensive query processing"
   ]
  },
  {
   "cell_type": "code",
   "execution_count": 1,
   "metadata": {},
   "outputs": [
    {
     "name": "stderr",
     "output_type": "stream",
     "text": [
      "INFO:httpx:HTTP Request: GET http://localhost:8080/v1/schema \"HTTP/1.1 200 OK\"\n",
      "INFO:httpx:HTTP Request: GET http://localhost:8080/v1/schema \"HTTP/1.1 200 OK\"\n",
      "INFO:httpx:HTTP Request: GET http://localhost:8080/v1/schema \"HTTP/1.1 200 OK\"\n",
      "INFO:httpx:HTTP Request: GET http://localhost:8080/v1/schema \"HTTP/1.1 200 OK\"\n",
      "INFO:httpx:HTTP Request: POST http://localhost:8080/v1/graphql \"HTTP/1.1 200 OK\"\n",
      "INFO:httpx:HTTP Request: POST http://localhost:8080/v1/graphql \"HTTP/1.1 200 OK\"\n",
      "INFO:root: Weaviate schema is valid: True\n",
      "INFO:root: Weaviate schema info: Weaviate Schema Information\n",
      "\n",
      "Class: Product (Entries: 768)\n",
      "Properties:\n",
      "  - Name: name, Type: text, Description: The name of the product.\n",
      "  - Name: ids, Type: text, Description: ids of the products\n",
      "  - Name: manufacturer, Type: text, Description: The manufacturer of the product.\n",
      "  - Name: form_factor, Type: text, Description: The form of the product.\n",
      "  - Name: processor, Type: text, Description: The processor of the product.\n",
      "  - Name: core_count, Type: text, Description: The core of the product.\n",
      "  - Name: processor_tdp, Type: text, Description: The processor of the product.\n",
      "  - Name: memory, Type: text, Description: The memory of the product.\n",
      "  - Name: io, Type: text, Description: The io of the product.\n",
      "  - Name: operating_system, Type: text, Description: The operating_system of the product.\n",
      "  - Name: environmentals, Type: text, Description: The environmentals of the product.\n",
      "  - Name: certifications, Type: text, Description: The certifications of the product.\n",
      "  - Name: short_summary, Type: text, Description: The short_summary of the product.\n",
      "  - Name: full_summary, Type: text, Description: The full product summary.\n",
      "  - Name: full_product_description, Type: text, Description: The description of the product.\n",
      "  Vectorizer: text2vec-openai\n",
      "\n",
      "Class: Route (Entries: 401)\n",
      "Properties:\n",
      "  - Name: prompt, Type: text, Description: example prompts for a given route\n",
      "  - Name: route, Type: text, Description: The route to follow\n",
      "  Vectorizer: text2vec-openai\n",
      "\n",
      "\n"
     ]
    },
    {
     "name": "stdout",
     "output_type": "stream",
     "text": [
      "===:> Initializing Weaviate\n"
     ]
    }
   ],
   "source": [
    "import os\n",
    "import sys\n",
    "\n",
    "# Add the project root to the Python path\n",
    "project_root = os.path.abspath(os.path.join(os.getcwd(), \"..\"))\n",
    "sys.path.append(project_root)\n",
    "\n",
    "import asyncio\n",
    "from typing import Dict, List\n",
    "from models.message import Message\n",
    "from models.product import Product\n",
    "from services.weaviate_service import WeaviateService\n",
    "from services.openai_service import OpenAIService\n",
    "from services.query_processor import QueryProcessor\n",
    "from config import Config\n",
    "\n",
    "# Load configuration\n",
    "config = Config()\n",
    "\n",
    "# Initialize services\n",
    "weaviate_service = WeaviateService()\n",
    "await weaviate_service.initialize_weaviate(config.OPENAI_API_KEY, config.WEAVIATE_URL, config.RESET_WEAVIATE)\n",
    "\n",
    "openai_service = OpenAIService(config.OPENAI_API_KEY, config)\n",
    "query_processor = QueryProcessor(openai_service=openai_service)"
   ]
  },
  {
   "cell_type": "markdown",
   "metadata": {},
   "source": [
    "### Helper functions"
   ]
  },
  {
   "cell_type": "code",
   "execution_count": 2,
   "metadata": {},
   "outputs": [],
   "source": [
    "async def display_search_results(query: str, features: List[str], limit: int = 5):\n",
    "    print(f\"Searching for: {query}\")\n",
    "    results = await weaviate_service.search_products(query, limit=limit)\n",
    "    print(\"-\" * 80)\n",
    "    for result in results:\n",
    "        for feature in features:\n",
    "            print(f\"{str(feature).capitalize()}: {result[feature]}\")\n",
    "    print(\"-\" * 80)\n",
    "    return results"
   ]
  },
  {
   "cell_type": "code",
   "execution_count": 3,
   "metadata": {},
   "outputs": [],
   "source": [
    "def get_unique_products(products):\n",
    "    unique_products = {}\n",
    "    for prod in products:\n",
    "        if prod[\"name\"] not in unique_products:\n",
    "            unique_products[prod[\"name\"]] = Product(\n",
    "                name=prod[\"name\"],\n",
    "                ids=prod[\"ids\"],\n",
    "                manufacturer=prod[\"manufacturer\"],\n",
    "                form_factor=prod[\"form_factor\"],\n",
    "                processor=prod[\"processor\"],\n",
    "                core_count=prod[\"core_count\"],\n",
    "                processor_tdp=prod[\"processor_tdp\"],\n",
    "                memory=prod[\"memory\"],\n",
    "                io=prod[\"io\"],\n",
    "                operating_system=prod[\"operating_system\"],\n",
    "                environmentals=prod[\"environmentals\"],\n",
    "                certifications=prod[\"certifications\"],\n",
    "                short_summary=prod[\"short_summary\"],\n",
    "                full_summary=prod[\"full_summary\"],\n",
    "                full_product_description=prod[\"full_product_description\"],\n",
    "            )\n",
    "    return list(unique_products.values())"
   ]
  },
  {
   "cell_type": "code",
   "execution_count": 4,
   "metadata": {},
   "outputs": [],
   "source": [
    "def compare_products(extended_products: List[str], original_products: List[str]) -> None:\n",
    "    \"\"\"Compares products retrieved from original and expanded queries.\"\"\"\n",
    "    max_length = max(len(extended_products), len(original_products))\n",
    "\n",
    "    print(f\"{'Original Products':<80}{'Extended Products':<80}\")\n",
    "    print(\"-\" * 160)\n",
    "\n",
    "    for i in range(max_length):\n",
    "        original_product = original_products[i] if i < len(original_products) else \"\"\n",
    "        extended_product = extended_products[i] if i < len(extended_products) else \"\"\n",
    "\n",
    "        print(f\"{original_product:<80}{extended_product:<80}\")"
   ]
  },
  {
   "cell_type": "markdown",
   "metadata": {},
   "source": [
    "### Prompt 1\n"
   ]
  },
  {
   "cell_type": "code",
   "execution_count": 5,
   "metadata": {},
   "outputs": [],
   "source": [
    "clear_intent_1 = \"What are the top Computer on Modules available with high memory and I/O count?\"\n",
    "chat_history = []"
   ]
  },
  {
   "cell_type": "markdown",
   "metadata": {},
   "source": [
    "#### Original prompt search results"
   ]
  },
  {
   "cell_type": "code",
   "execution_count": 6,
   "metadata": {},
   "outputs": [
    {
     "name": "stdout",
     "output_type": "stream",
     "text": [
      "Searching for: What are the top Computer on Modules available with high memory and I/O count?\n"
     ]
    },
    {
     "name": "stderr",
     "output_type": "stream",
     "text": [
      "INFO:httpx:HTTP Request: POST http://localhost:8080/v1/graphql \"HTTP/1.1 200 OK\"\n"
     ]
    },
    {
     "name": "stdout",
     "output_type": "stream",
     "text": [
      "--------------------------------------------------------------------------------\n",
      "Name: SOM 7th Gen Intel Xeon Core Celeron Processors COM Express Basic Module\n",
      "Name: ET COM Express\n",
      "Name: Com Express Basic Module\n",
      "Name: SOM 13th Gen Intel Core Processor\n",
      "Name: SOM Intel Xeon D Processor\n",
      "Name: CPU COM Express Basic Type\n",
      "Name: COM Express Basic Type CPU Module\n",
      "Name: COMecRP E\n",
      "Name: EmQi C\n",
      "Name: Computer On Module\n",
      "--------------------------------------------------------------------------------\n"
     ]
    }
   ],
   "source": [
    "original_products = await display_search_results(clear_intent_1, [\"name\"], 10)"
   ]
  },
  {
   "cell_type": "code",
   "execution_count": 7,
   "metadata": {},
   "outputs": [
    {
     "data": {
      "text/plain": [
       "{'certifications': 'Class I, Division 2 Solution',\n",
       " 'core_count': 'Quad/Dual Cores',\n",
       " 'environmentals': 'Operating: 0°C to 60°C, Storage: -40°C to 85°C, Humidity: 10% to 90% non-condensing',\n",
       " 'form_factor': 'COM Express Basic Module Type 6',\n",
       " 'full_product_description': 'The SOM 7th Gen Intel Xeon/Core/Celeron Processors COM Express Basic Module from Advantech is designed for embedded applications requiring high performance and flexibility. It supports dual DDR4 memory up to 32GB, multiple I/O interfaces including PCIe, SATA, USB, and Ethernet, and various display outputs such as HDMI, DVI, and DisplayPort. The module operates within a temperature range of 0°C to 60°C and supports Windows IoT Enterprise LTSB.',\n",
       " 'full_summary': 'The SOM 7th Gen Intel Xeon/Core/Celeron Processors COM Express Basic Module offers flexible I/O support, dual DDR4 memory up to 32GB, and various processor options with different TDPs. It supports multiple display outputs and is suitable for embedded applications.',\n",
       " 'ids': 'SOM-5897C7-U0A2',\n",
       " 'io': 'PCIe x16, PCIe x1, SATA III, USB 3.0, USB 2.0, Intel HD Audio, Ethernet, GPIO, COM Port',\n",
       " 'manufacturer': 'Advantech',\n",
       " 'memory': 'Dual DDR4, up to 32GB',\n",
       " 'name': 'SOM 7th Gen Intel Xeon Core Celeron Processors COM Express Basic Module',\n",
       " 'operating_system': 'Windows IoT Enterprise LTSB',\n",
       " 'processor': '7th Gen Intel Xeon/Core/Celeron',\n",
       " 'processor_tdp': 'Varies (25W, 35W, 45W)',\n",
       " 'short_summary': 'SOM 7th Gen Intel Xeon/Core/Celeron Processors COM Express Basic Module with flexible I/O support and dual DDR4 memory.'}"
      ]
     },
     "execution_count": 7,
     "metadata": {},
     "output_type": "execute_result"
    }
   ],
   "source": [
    "original_products[0]"
   ]
  },
  {
   "cell_type": "code",
   "execution_count": 8,
   "metadata": {},
   "outputs": [
    {
     "data": {
      "text/plain": [
       "[Product(name='SOM 7th Gen Intel Xeon Core Celeron Processors COM Express Basic Module', ids='SOM-5897C7-U0A2', manufacturer='Advantech', form_factor='COM Express Basic Module Type 6', processor='7th Gen Intel Xeon/Core/Celeron', core_count='Quad/Dual Cores', processor_tdp='Varies (25W, 35W, 45W)', memory='Dual DDR4, up to 32GB', io='PCIe x16, PCIe x1, SATA III, USB 3.0, USB 2.0, Intel HD Audio, Ethernet, GPIO, COM Port', operating_system='Windows IoT Enterprise LTSB', environmentals='Operating: 0°C to 60°C, Storage: -40°C to 85°C, Humidity: 10% to 90% non-condensing', certifications='Class I, Division 2 Solution', short_summary='SOM 7th Gen Intel Xeon/Core/Celeron Processors COM Express Basic Module with flexible I/O support and dual DDR4 memory.', full_summary='The SOM 7th Gen Intel Xeon/Core/Celeron Processors COM Express Basic Module offers flexible I/O support, dual DDR4 memory up to 32GB, and various processor options with different TDPs. It supports multiple display outputs and is suitable for embedded applications.', full_product_description='The SOM 7th Gen Intel Xeon/Core/Celeron Processors COM Express Basic Module from Advantech is designed for embedded applications requiring high performance and flexibility. It supports dual DDR4 memory up to 32GB, multiple I/O interfaces including PCIe, SATA, USB, and Ethernet, and various display outputs such as HDMI, DVI, and DisplayPort. The module operates within a temperature range of 0°C to 60°C and supports Windows IoT Enterprise LTSB.'),\n",
       " Product(name='ET COM Express', ids='ET970K-i7', manufacturer='IBASE', form_factor='125 mm x 95 mm', processor='Intel Xeon E Core iii', core_count='Not available', processor_tdp='Not available', memory='DDR4 SODIMM, Max 32 GB', io='4x PCIe, 4x USB 3.0, 8x USB 2.0, 2x COM, 4x SATA III, 2x GbE LAN', operating_system='Windows 10 (64-bit)', environmentals='Operating Temperature: 0°C to 60°C, Storage Temperature: -40°C to 85°C, Relative Humidity: 5% to 95% non-condensing', certifications='CE, FCC Class B, RoHS', short_summary='ET COM Express module with Intel Xeon E Core iii processors, DDR4 SODIMM, and multiple I/O interfaces.', full_summary='The ET COM Express module features Intel Xeon E Core iii processors, supports up to 32 GB DDR4 SODIMM memory, and offers a variety of I/O interfaces including PCIe, USB, COM, SATA, and GbE LAN. It is designed for embedded systems and supports multiple independent displays.', full_product_description='The ET COM Express module from IBASE is equipped with Intel Xeon E Core iii processors and supports up to 32 GB of DDR4 SODIMM memory. It includes a range of I/O interfaces such as 4x PCIe, 4x USB 3.0, 8x USB 2.0, 2x COM, 4x SATA III, and 2x GbE LAN. The module is designed for embedded systems and supports multiple independent displays. Environmental specifications include an operating temperature range of 0°C to 60°C, storage temperature range of -40°C to 85°C, and relative humidity of 5% to 95% non-condensing.'),\n",
       " Product(name='Com Express Basic Module', ids='SOM-5899C7Q-U6A3,SOM-5899C7Q-U6A1,10K00067508X0', manufacturer='Advantech', form_factor='COM Express Basic Module', processor='Intel Xeon', core_count='Hexa/Quad', processor_tdp='25W to 45W', memory='Dual channel DDR4, up to 64GB, ECC optional', io='High Speed IO, USB 3.1 Gen 2, PCIe Gen 3, SATA Gen 3', operating_system='Windows 10 IoT Enterprise, Ubuntu', environmentals='Operating Temperature: -40°C to 85°C, Storage Temperature: -40°C to 85°C, Humidity: 95% relative humidity non-condensing', certifications='IPC-A-610 Class 3, MIL-STD-810G', short_summary='COM Express Basic Module with Intel Xeon processors, supporting high-speed IO and multiple independent displays.', full_summary='The COM Express Basic Module features Intel Xeon processors with Hexa and Quad cores, dual channel DDR4 memory up to 64GB with ECC optional, high-speed IO including USB 3.1 Gen 2, PCIe Gen 3, and SATA Gen 3. It supports multiple independent displays and is suitable for a wide range of industrial applications.', full_product_description='The COM Express Basic Module from Advantech is equipped with Intel Xeon processors, offering Hexa and Quad core options. It supports dual channel DDR4 memory up to 64GB with ECC optional. The module includes high-speed IO interfaces such as USB 3.1 Gen 2, PCIe Gen 3, and SATA Gen 3. It is capable of supporting multiple independent displays and is designed for industrial applications requiring robust performance and reliability. The module operates within a temperature range of -40°C to 85°C and can withstand up to 95% relative humidity non-condensing.'),\n",
       " Product(name='SOM 13th Gen Intel Core Processor', ids='SOM-6884C7HX-U5A1,SOM-6884C7H-U5A1', manufacturer='Advantech', form_factor='95 x 95 mm', processor='13th Gen Intel Core Processor (Raptor Lake-P)', core_count='Up to 24 cores', processor_tdp='15W, 28W, 45W', memory='Dual channel DDR5, up to 64GB', io='4x PCIe Gen 4, 8x PCIe Gen 3, 4x USB 3.2 Gen 2, 8x USB 2.0, 2x SATA III, 2x Ethernet', operating_system='Windows 10 IoT Enterprise, Ubuntu', environmentals='Operating: 0°C to 60°C, Storage: -40°C to 85°C, Humidity: 10% to 90% non-condensing', certifications='Not available', short_summary='13th Gen Intel Core Processor COM Express Compact Module with high-speed I/O and dual-channel DDR5 memory.', full_summary='The SOM 13th Gen Intel Core Processor COM Express Compact Module features the latest Raptor Lake-P processors, dual-channel DDR5 memory up to 64GB, and a variety of high-speed I/O interfaces including PCIe Gen 4 and USB 3.2 Gen 2. It supports multiple operating systems including Windows 10 IoT Enterprise and Ubuntu.', full_product_description='The SOM 13th Gen Intel Core Processor COM Express Compact Module by Advantech is designed for high-performance computing applications. It features the latest 13th Gen Intel Core processors (Raptor Lake-P), dual-channel DDR5 memory up to 64GB, and a wide range of high-speed I/O interfaces including 4x PCIe Gen 4, 8x PCIe Gen 3, 4x USB 3.2 Gen 2, and 8x USB 2.0. The module supports multiple display outputs and is compatible with various operating systems such as Windows 10 IoT Enterprise and Ubuntu. It is suitable for use in environments with operating temperatures ranging from 0°C to 60°C and storage temperatures from -40°C to 85°C, with humidity levels of 10% to 90% non-condensing.'),\n",
       " Product(name='SOM Intel Xeon D Processor', ids='SOM-5993D8-U2A1', manufacturer='Advantech', form_factor='COM Express Basic Module', processor='Intel Xeon D Processor Code Name Ice Lake-D LCC', core_count='Up to 16 cores', processor_tdp='Max TDP 65W', memory='DDR4 3200MHz, up to 128GB, ECC/non-ECC, Dual Channel', io='PCIe Gen4, USB 3.2, SATA III, GbE, GBase-KR', operating_system='Supports SUSI DeviceOn Edge AI Suite Software APIs Utilities', environmentals='Operating Temperature: -40°C to 85°C, Storage Temperature: -40°C to 85°C, Humidity: 95% @ 60°C', certifications='IPC-A-610 Class 3, MIL-STD-810G', short_summary='SOM Intel Xeon D Processor COM Express Basic Module with high-speed Ethernet and various expansion options.', full_summary='The SOM Intel Xeon D Processor COM Express Basic Module features the Intel Xeon D Processor with high-speed Ethernet, multiple PCIe Gen4 lanes, and support for up to 128GB DDR4 memory. It is designed for high-performance computing applications.', full_product_description='The SOM Intel Xeon D Processor COM Express Basic Module, manufactured by Advantech, is equipped with the Intel Xeon D Processor (Ice Lake-D LCC). It supports high-speed Ethernet interfaces, multiple PCIe Gen4 lanes, and up to 128GB DDR4 memory with ECC/non-ECC support. The module is designed for high-performance computing applications and includes various I/O interfaces such as USB 3.2, SATA III, and GbE. It operates within a temperature range of -40°C to 85°C and supports the SUSI DeviceOn Edge AI Suite Software APIs Utilities.'),\n",
       " Product(name='CPU COM Express Basic Type', ids='CPU-162-22-01', manufacturer='Eurotech', form_factor='125mm x 95mm Basic form factor', processor='Intel Core and Celeron', core_count='Dual and Quad core configurations', processor_tdp='15W', memory='Up to 32GB DDR4 2400MHz Dual Channel', io='1x Gbit Ethernet, 4x SATA, RAID support, 4x USB 2.0, 8x USB 3.0, 8-16x PCIe Gen 3 lanes, 3x independent video ports (LVDS, VGA, DDI), HD Audio', operating_system='Windows IoT Enterprise, Linux, Yocto, Fedora, Other Linux, RTOS', environmentals='Operating temperature: -40°C to 85°C, Storage temperature: -40°C to 85°C, Conformal coating options', certifications='RoHS, REACH, PICMG COM Express R2.1', short_summary='Rugged COM Express module with Intel Core and Celeron processors, supporting wide temperature ranges and multiple high-speed interfaces.', full_summary='The CPU COM Express Basic Type module features Intel Core and Celeron processors, dual and quad-core configurations, up to 32GB DDR4 memory, and a variety of high-speed interfaces. It supports wide operating temperatures and is designed for industrial, rugged, and fanless applications.', full_product_description=\"The CPU COM Express Basic Type module is designed to deliver intense computation for industrial and rugged applications. It features Intel Core and Celeron processors with dual and quad-core configurations, up to 32GB DDR4 memory, and multiple high-speed interfaces including PCIe lanes, SATA, USB, and independent video ports. The module supports wide operating temperatures, conformal coating options, and is compliant with PICMG COM Express R2.1. It also includes support for Windows IoT Enterprise, Linux, and other operating systems, along with Eurotech's IoT middleware and integration platform.\"),\n",
       " Product(name='COM Express Basic Type CPU Module', ids='EmETXe-i89M0-WT-6102E,EmETXe-i87M0-4700EQ,EmETXe-i9455,EmETXe-i89M3-WT-6442EQ', manufacturer='ARBOR Technology', form_factor='125 x 95 mm', processor='6th Generation Intel Core i7-6820EQ', core_count='4', processor_tdp='45W', memory='2 x DDR4 SODIMM sockets, up to 32GB', io='4 x USB 2.0 ports, 4 x USB 3.0 ports, 2 x UART ports, 4 x PCIe x1 lanes, 2 x SATA ports, 1 x Intel i219LM PCIe GbE PHY', operating_system='Windows 10 64-bit, Windows 7 64-bit, Linux Ubuntu', environmentals='Operating Temp: -40°C to 85°C, Operating Humidity: 5% to 95% non-condensing', certifications='Not available', short_summary='6th Generation Intel Core i7-6820EQ Processor COM Express Basic Type CPU Module with wide range voltage input and operating temperature.', full_summary='The COM Express Basic Type CPU Module features a soldered onboard 6th Generation Intel Core i7-6820EQ processor, dual channels 18/24-bit LVDS, and multiple I/O interfaces including USB, UART, PCIe, and SATA. It supports wide range voltage input and operating temperature, making it suitable for various industrial applications.', full_product_description='The COM Express Basic Type CPU Module is equipped with a soldered onboard 6th Generation Intel Core i7-6820EQ processor, offering a base frequency of 2.8 GHz and a turbo frequency of 3.5 GHz. It supports up to 32GB of DDR4 memory through two SODIMM sockets. The module includes a variety of I/O interfaces such as 4 USB 2.0 ports, 4 USB 3.0 ports, 2 UART ports, and 4 PCIe x1 lanes. It also features dual channels 18/24-bit LVDS and multiple DDI ports for independent displays. The module is designed to operate in a wide temperature range from -40°C to 85°C and supports Windows 10 64-bit, Windows 7 64-bit, and Linux Ubuntu operating systems.'),\n",
       " Product(name='COMecRP E', ids='36037-1600-27-5', manufacturer='Kontron', form_factor='95 x 95 mm', processor='Intel 13th Generation Core Raptor Lake', core_count='Varies by model (up to 14 cores)', processor_tdp='Varies by model (up to 45W)', memory='Up to 32 GByte LPDDR4x', io='Up to 2x Gb Ethernet TSN, 2x SATA 6Gb/s, Up to 1TB NVMe SSD, 8x PCIe, 4x USB 3.2 Gen 2, 8x USB 2.0, 2x serial interfaces, Intel High Definition Audio', operating_system='Windows, Linux, VxWorks (project-based)', environmentals='Operating temperature: -40°C to 85°C, Non-operating temperature: -40°C to 85°C, Relative humidity: 93% at 40°C non-condensing', certifications='Not available', short_summary='COMecRP E is a COM Express Compact Type 6 module featuring Intel 13th Generation Core processors, up to 32 GByte LPDDR4x memory, and various I/O interfaces.', full_summary=\"The COMecRP E is a COM Express Compact Type 6 module that integrates Intel's 13th Generation Core Raptor Lake processors. It supports up to 32 GByte of LPDDR4x memory and offers a range of I/O interfaces including up to 2x Gb Ethernet TSN, 2x SATA 6Gb/s, up to 1TB NVMe SSD, 8x PCIe, 4x USB 3.2 Gen 2, 8x USB 2.0, and 2x serial interfaces. The module is designed for industrial applications with an operating temperature range of -40°C to 85°C.\", full_product_description=\"The COMecRP E module from Kontron is a high-performance COM Express Compact Type 6 solution powered by Intel's 13th Generation Core Raptor Lake processors. It supports up to 32 GByte of LPDDR4x memory and offers extensive I/O capabilities including up to 2x Gb Ethernet TSN, 2x SATA 6Gb/s, up to 1TB NVMe SSD, 8x PCIe, 4x USB 3.2 Gen 2, 8x USB 2.0, and 2x serial interfaces. The module is suitable for a wide range of industrial applications, with an operating temperature range of -40°C to 85°C and non-operating temperature range of -40°C to 85°C. It also features Intel Iris Xe Graphics for i7 processors and Intel UHD Graphics for i3 processors. Additional features include Trusted Platform Module (TPM), vPRO, AMT, TXT, AES support, and fail-safe via a second SPI flash. The module is compatible with Windows, Linux, and VxWorks (project-based).\"),\n",
       " Product(name='EmQi C', ids='EmQ-i2401-N4200', manufacturer='ARBOR Technology', form_factor='Qseven R CPU Module', processor='Intel Pentium N, Celeron N, Atom xE', core_count='Quad Core', processor_tdp='Not available', memory='Soldered onboard 4GB DDRL SDRAM, upgradable to 8GB', io='4x USB ports, 2x USB SuperSpeed ports, 4x PCIex lanes, 2x Serial ATA ports, Integrated Gigabit Ethernet, HD Audio Link', operating_system='Windows 10, Linux Ubuntu', environmentals='Operating Temp: -40°C to 85°C, Operating Humidity: 0-95% non-condensing', certifications='Not available', short_summary='EmQi C is a Qseven R CPU module featuring soldered onboard Intel Apollolake SoC processors with integrated Gigabit Ethernet and dual-channel LVDS.', full_summary='The EmQi C series is a Qseven R CPU module that comes with soldered onboard Intel Apollolake SoC processors, including Intel Pentium N, Celeron N, and Atom xE models. It features integrated Gigabit Ethernet, dual-channel 24-bit LVDS, and multiple I/O interfaces.', full_product_description='The EmQi C series Qseven R CPU module is designed for high-performance applications. It includes soldered onboard Intel Apollolake SoC processors (Pentium N, Celeron N, Atom xE), integrated Gigabit Ethernet, dual-channel 24-bit LVDS, and various I/O interfaces such as USB ports, PCIex lanes, and Serial ATA ports. The module supports Windows 10 and Linux Ubuntu operating systems and operates in temperatures ranging from -40°C to 85°C with up to 95% non-condensing humidity.'),\n",
       " Product(name='Computer On Module', ids='SOM-5899RC3Q-S6A1,SOM-4463NZ2-S6B1E,SOM-7583R7X-S8A1,SOM-2569BCBC-S1A1,SOM-5992P2-U2A1,SOM-4463D-S6A2E,SOM-5898C5-U1A1,SOM-5893RG-U7A1E,SOM-4455ZR-LSA2E,SOM-6867AC-S9A1E,SOM-6894C3Z-S7A1E,SOM-6898C7Z2-U8A1E,SOM-6765NZ-S6A1E', manufacturer='Advantech', form_factor='COM Express Basic Module', processor='Intel Xeon/Core', core_count='Hexa/Quad', processor_tdp='Up to 45W', memory='Dual channel DDR4, Max 128GB, ECC optional', io='USB 3.1 Gen2, PCIe x16 Gen3, SATA Gen3, Three Independent Displays, Ethernet, Audio, Serial, GPIO, SPI, CAN Bus', operating_system='Windows 10 IoT Enterprise LTSB, Windows 10 IoT Enterprise LTSB 64-bit', environmentals='Operating Temperature: 0°C to 60°C, Extended Temperature: -40°C to 85°C, Storage Temperature: -40°C to 85°C, Humidity: 95% relative humidity non-condensing', certifications='Military-grade', short_summary='Computer On Module with Intel Xeon/Core processors, supporting up to 128GB DDR4 memory, multiple I/O interfaces, and various environmental conditions.', full_summary=\"The Computer On Module features Intel's latest Xeon/Core processors, offering Hexa and Quad core options. It supports dual channel DDR4 memory up to 128GB with ECC optional. The module includes high-speed I/O interfaces such as USB 3.1 Gen2, PCIe x16 Gen3, and SATA Gen3. It supports three independent displays and various environmental conditions, making it suitable for a wide range of applications.\", full_product_description=\"The Computer On Module is designed with Intel's latest Xeon/Core processors, providing options for Hexa and Quad cores. It supports dual channel DDR4 memory up to 128GB with ECC optional. The module includes high-speed I/O interfaces such as USB 3.1 Gen2, PCIe x16 Gen3, and SATA Gen3. It supports three independent displays and various environmental conditions, making it suitable for a wide range of applications. The module also features Intel UHD Graphics, multiple display outputs including HDMI, DVI, and DisplayPort, and various expansion options. It is designed to operate in standard and extended temperature ranges, with robust environmental specifications for storage and humidity.\")]"
      ]
     },
     "execution_count": 8,
     "metadata": {},
     "output_type": "execute_result"
    }
   ],
   "source": [
    "unique_original_products = get_unique_products(original_products)\n",
    "unique_original_products"
   ]
  },
  {
   "cell_type": "code",
   "execution_count": 10,
   "metadata": {},
   "outputs": [
    {
     "name": "stderr",
     "output_type": "stream",
     "text": [
      "INFO:httpx:HTTP Request: POST https://api.openai.com/v1/chat/completions \"HTTP/1.1 200 OK\"\n"
     ]
    },
    {
     "name": "stdout",
     "output_type": "stream",
     "text": [
      "rerank_products response from OpenAI: [{'name': 'Computer On Module', 'relevance_score': 0.95}, {'name': 'SOM 7th Gen Intel Xeon Core Celeron Processors COM Express Basic Module', 'relevance_score': 0.9}, {'name': 'ET COM Express', 'relevance_score': 0.88}, {'name': 'SOM 13th Gen Intel Core Processor', 'relevance_score': 0.85}, {'name': 'Com Express Basic Module', 'relevance_score': 0.83}]\n",
      "Input tokens: 601, Output tokens: 149\n"
     ]
    },
    {
     "data": {
      "text/plain": [
       "['Computer On Module',\n",
       " 'SOM 7th Gen Intel Xeon Core Celeron Processors COM Express Basic Module',\n",
       " 'ET COM Express',\n",
       " 'SOM 13th Gen Intel Core Processor',\n",
       " 'Com Express Basic Module']"
      ]
     },
     "execution_count": 10,
     "metadata": {},
     "output_type": "execute_result"
    }
   ],
   "source": [
    "products_for_reranking = [{\"name\": p.name, \"short_summary\": p.short_summary} for p in unique_original_products]\n",
    "res_initial, input_tokens, output_tokens = await query_processor.rerank_products(\n",
    "    clear_intent_1, products_for_reranking, top_k=5\n",
    ")\n",
    "print(f\"Input tokens: {input_tokens}, Output tokens: {output_tokens}\")\n",
    "res_initial"
   ]
  },
  {
   "cell_type": "code",
   "execution_count": 11,
   "metadata": {},
   "outputs": [
    {
     "name": "stderr",
     "output_type": "stream",
     "text": [
      "INFO:httpx:HTTP Request: POST https://api.openai.com/v1/chat/completions \"HTTP/1.1 200 OK\"\n"
     ]
    },
    {
     "name": "stdout",
     "output_type": "stream",
     "text": [
      "rerank_products response from OpenAI: [{'name': 'SOM Intel Xeon D Processor', 'relevance_score': 0.95}, {'name': 'Computer On Module', 'relevance_score': 0.92}, {'name': 'Com Express Basic Module', 'relevance_score': 0.9}, {'name': 'SOM 13th Gen Intel Core Processor', 'relevance_score': 0.88}, {'name': 'ET COM Express', 'relevance_score': 0.85}]\n",
      "Input tokens: 1066, Output tokens: 137\n"
     ]
    },
    {
     "data": {
      "text/plain": [
       "['SOM Intel Xeon D Processor',\n",
       " 'Computer On Module',\n",
       " 'Com Express Basic Module',\n",
       " 'SOM 13th Gen Intel Core Processor',\n",
       " 'ET COM Express']"
      ]
     },
     "execution_count": 11,
     "metadata": {},
     "output_type": "execute_result"
    }
   ],
   "source": [
    "products_for_reranking = [{\"name\": p.name, \"full_summary\": p.full_summary} for p in unique_original_products]\n",
    "res_initial2, input_tokens, output_tokens = await query_processor.rerank_products(\n",
    "    clear_intent_1, products_for_reranking, top_k=5\n",
    ")\n",
    "print(f\"Input tokens: {input_tokens}, Output tokens: {output_tokens}\")\n",
    "res_initial2"
   ]
  },
  {
   "cell_type": "code",
   "execution_count": 12,
   "metadata": {},
   "outputs": [
    {
     "name": "stderr",
     "output_type": "stream",
     "text": [
      "INFO:httpx:HTTP Request: POST https://api.openai.com/v1/chat/completions \"HTTP/1.1 200 OK\"\n"
     ]
    },
    {
     "name": "stdout",
     "output_type": "stream",
     "text": [
      "rerank_products response from OpenAI: [{'name': 'Computer On Module', 'relevance_score': 0.95}, {'name': 'SOM Intel Xeon D Processor', 'relevance_score': 0.92}, {'name': 'Com Express Basic Module', 'relevance_score': 0.9}, {'name': 'SOM 13th Gen Intel Core Processor', 'relevance_score': 0.88}, {'name': 'ET COM Express', 'relevance_score': 0.85}]\n",
      "Input tokens: 1829, Output tokens: 137\n"
     ]
    },
    {
     "data": {
      "text/plain": [
       "['Computer On Module',\n",
       " 'SOM Intel Xeon D Processor',\n",
       " 'Com Express Basic Module',\n",
       " 'SOM 13th Gen Intel Core Processor',\n",
       " 'ET COM Express']"
      ]
     },
     "execution_count": 12,
     "metadata": {},
     "output_type": "execute_result"
    }
   ],
   "source": [
    "products_for_reranking = [\n",
    "    {\"name\": p.name, \"description\": p.full_product_description} for p in unique_original_products\n",
    "]\n",
    "res_initial3, input_tokens, output_tokens = await query_processor.rerank_products(\n",
    "    clear_intent_1, products_for_reranking, top_k=5\n",
    ")\n",
    "print(f\"Input tokens: {input_tokens}, Output tokens: {output_tokens}\")\n",
    "res_initial3"
   ]
  },
  {
   "cell_type": "markdown",
   "metadata": {},
   "source": [
    "#### Comprehensive query expansion"
   ]
  },
  {
   "cell_type": "code",
   "execution_count": 10,
   "metadata": {},
   "outputs": [
    {
     "name": "stderr",
     "output_type": "stream",
     "text": [
      "INFO:httpx:HTTP Request: POST https://api.openai.com/v1/chat/completions \"HTTP/1.1 200 OK\"\n"
     ]
    },
    {
     "name": "stdout",
     "output_type": "stream",
     "text": [
      "Input tokens: 734, Output tokens: 159\n"
     ]
    },
    {
     "data": {
      "text/plain": [
       "{'extracted_attributes': {'form_factor': 'Computer on Module',\n",
       "  'memory': 'high',\n",
       "  'io': 'high'},\n",
       " 'expanded_queries': ['Computer on Modules with high RAM and storage capacity and extensive I/O interfaces',\n",
       "  'Top Computer on Modules featuring large memory capacities and multiple I/O options',\n",
       "  'High-memory Computer on Modules with a wide range of I/O interfaces'],\n",
       " 'search_params': {'form_factor': ['Computer on Module'],\n",
       "  'memory': ['RAM: >= 1 GB', 'Storage: >= 8 GB'],\n",
       "  'io': ['Ethernet', 'USB', 'UART', 'I2C', 'SPI', 'GPIO']}}"
      ]
     },
     "execution_count": 10,
     "metadata": {},
     "output_type": "execute_result"
    }
   ],
   "source": [
    "res, input_tokens, output_tokens = await query_processor.process_query_comprehensive3(clear_intent_1, chat_history)\n",
    "print(f\"Input tokens: {input_tokens}, Output tokens: {output_tokens}\")\n",
    "res"
   ]
  },
  {
   "cell_type": "code",
   "execution_count": 16,
   "metadata": {},
   "outputs": [],
   "source": [
    "from typing import Any, Dict\n",
    "\n",
    "def generate_semantic_search_queries(comprehensive_result: Dict[str, Any]) -> List[str]:\n",
    "    \"\"\"Generates semantic search queries based on the extracted attributes.\"\"\"\n",
    "    expanded_queries = comprehensive_result[\"expanded_queries\"]\n",
    "    search_params = comprehensive_result[\"search_params\"]\n",
    "    extracted_attributes = comprehensive_result[\"extracted_attributes\"]\n",
    "\n",
    "    # Generate queries based on expanded queries\n",
    "    queries = expanded_queries.copy()\n",
    "\n",
    "    # Generate queries based on search parameters\n",
    "    search_param_query = \", \".join(\n",
    "        [f\"{key}: {', '.join(value)}\" for key, value in search_params.items()]\n",
    "    )\n",
    "    queries.append(search_param_query)\n",
    "\n",
    "    # Generate query based on extracted attributes\n",
    "    extracted_attributes_query = \", \".join(\n",
    "        [f\"{key}: {value}\" for key, value in extracted_attributes.items()]\n",
    "    )\n",
    "    queries.append(extracted_attributes_query)\n",
    "\n",
    "    return queries"
   ]
  },
  {
   "cell_type": "code",
   "execution_count": 17,
   "metadata": {},
   "outputs": [
    {
     "data": {
      "text/plain": [
       "['Computer on Modules with high RAM and storage capacity and extensive I/O interfaces',\n",
       " 'Top Computer on Modules featuring large memory capacities and multiple I/O options',\n",
       " 'High-memory Computer on Modules with a wide range of I/O interfaces',\n",
       " 'form_factor: Computer on Module, memory: RAM: >= 1 GB, Storage: >= 8 GB, io: Ethernet, USB, UART, I2C, SPI, GPIO',\n",
       " 'form_factor: Computer on Module, memory: high, io: high']"
      ]
     },
     "execution_count": 17,
     "metadata": {},
     "output_type": "execute_result"
    }
   ],
   "source": [
    "queries = generate_semantic_search_queries(res)\n",
    "queries"
   ]
  },
  {
   "cell_type": "code",
   "execution_count": 18,
   "metadata": {},
   "outputs": [
    {
     "name": "stdout",
     "output_type": "stream",
     "text": [
      "Searching for: Computer on Modules with high RAM and storage capacity and extensive I/O interfaces\n"
     ]
    },
    {
     "name": "stderr",
     "output_type": "stream",
     "text": [
      "INFO:httpx:HTTP Request: POST http://localhost:8080/v1/graphql \"HTTP/1.1 200 OK\"\n"
     ]
    },
    {
     "name": "stdout",
     "output_type": "stream",
     "text": [
      "--------------------------------------------------------------------------------\n",
      "Name: ET COM Express\n",
      "Name: Computer On Module\n",
      "Name: SOM 7th Gen Intel Xeon Core Celeron Processors COM Express Basic Module\n",
      "Name: CongaBE COM Express\n",
      "Name: CPU COM Express Basic Type\n",
      "--------------------------------------------------------------------------------\n",
      "Searching for: Top Computer on Modules featuring large memory capacities and multiple I/O options\n"
     ]
    },
    {
     "name": "stderr",
     "output_type": "stream",
     "text": [
      "INFO:httpx:HTTP Request: POST http://localhost:8080/v1/graphql \"HTTP/1.1 200 OK\"\n"
     ]
    },
    {
     "name": "stdout",
     "output_type": "stream",
     "text": [
      "--------------------------------------------------------------------------------\n",
      "Name: SOM 7th Gen Intel Xeon Core Celeron Processors COM Express Basic Module\n",
      "Name: Computer On Module\n",
      "Name: ET COM Express\n",
      "Name: COMecRP E\n",
      "Name: Congabxd\n",
      "--------------------------------------------------------------------------------\n",
      "Searching for: High-memory Computer on Modules with a wide range of I/O interfaces\n"
     ]
    },
    {
     "name": "stderr",
     "output_type": "stream",
     "text": [
      "INFO:httpx:HTTP Request: POST http://localhost:8080/v1/graphql \"HTTP/1.1 200 OK\"\n"
     ]
    },
    {
     "name": "stdout",
     "output_type": "stream",
     "text": [
      "--------------------------------------------------------------------------------\n",
      "Name: ET COM Express\n",
      "Name: Computer On Module\n",
      "Name: ExpressBD\n",
      "Name: CongaBE COM Express\n",
      "Name: SOM 7th Gen Intel Xeon Core Celeron Processors COM Express Basic Module\n",
      "--------------------------------------------------------------------------------\n",
      "Searching for: form_factor: Computer on Module, memory: RAM: >= 1 GB, Storage: >= 8 GB, io: Ethernet, USB, UART, I2C, SPI, GPIO\n"
     ]
    },
    {
     "name": "stderr",
     "output_type": "stream",
     "text": [
      "INFO:httpx:HTTP Request: POST http://localhost:8080/v1/graphql \"HTTP/1.1 200 OK\"\n"
     ]
    },
    {
     "name": "stdout",
     "output_type": "stream",
     "text": [
      "--------------------------------------------------------------------------------\n",
      "Name: EDCMIO Computer\n",
      "Name: CM Industrial\n",
      "Name: PC CPU Module\n",
      "Name: QS QFN Style Computer On Module\n",
      "Name: Phycore Imx M Mininano\n",
      "--------------------------------------------------------------------------------\n",
      "Searching for: form_factor: Computer on Module, memory: high, io: high\n"
     ]
    },
    {
     "name": "stderr",
     "output_type": "stream",
     "text": [
      "INFO:httpx:HTTP Request: POST http://localhost:8080/v1/graphql \"HTTP/1.1 200 OK\"\n"
     ]
    },
    {
     "name": "stdout",
     "output_type": "stream",
     "text": [
      "--------------------------------------------------------------------------------\n",
      "Name: SOM COMExpress Basic Module\n",
      "Name: QS QFN Style Computer On Module\n",
      "Name: Computer On Module\n",
      "Name: QSXM QFN Style SolderDown Computer On Module\n",
      "Name: CPU COM Express Basic Type\n",
      "--------------------------------------------------------------------------------\n"
     ]
    }
   ],
   "source": [
    "extended_products = []\n",
    "for query in queries:\n",
    "    products = await display_search_results(query, [\"name\"])\n",
    "    extended_products.extend(products)"
   ]
  },
  {
   "cell_type": "code",
   "execution_count": 19,
   "metadata": {},
   "outputs": [
    {
     "data": {
      "text/plain": [
       "[Product(name='ET COM Express', ids='ET970K-i7', manufacturer='IBASE', form_factor='125 mm x 95 mm', processor='Intel Xeon E Core iii', core_count='Not available', processor_tdp='Not available', memory='DDR4 SODIMM, Max 32 GB', io='4x PCIe, 4x USB 3.0, 8x USB 2.0, 2x COM, 4x SATA III, 2x GbE LAN', operating_system='Windows 10 (64-bit)', environmentals='Operating Temperature: 0°C to 60°C, Storage Temperature: -40°C to 85°C, Relative Humidity: 5% to 95% non-condensing', certifications='CE, FCC Class B, RoHS', short_summary='ET COM Express module with Intel Xeon E Core iii processors, DDR4 SODIMM, and multiple I/O interfaces.', full_summary='The ET COM Express module features Intel Xeon E Core iii processors, supports up to 32 GB DDR4 SODIMM memory, and offers a variety of I/O interfaces including PCIe, USB, COM, SATA, and GbE LAN. It is designed for embedded systems and supports multiple independent displays.', full_product_description='The ET COM Express module from IBASE is equipped with Intel Xeon E Core iii processors and supports up to 32 GB of DDR4 SODIMM memory. It includes a range of I/O interfaces such as 4x PCIe, 4x USB 3.0, 8x USB 2.0, 2x COM, 4x SATA III, and 2x GbE LAN. The module is designed for embedded systems and supports multiple independent displays. Environmental specifications include an operating temperature range of 0°C to 60°C, storage temperature range of -40°C to 85°C, and relative humidity of 5% to 95% non-condensing.'),\n",
       " Product(name='Computer On Module', ids='SOM-5899RC3Q-S6A1,SOM-4463NZ2-S6B1E,SOM-7583R7X-S8A1,SOM-2569BCBC-S1A1,SOM-5992P2-U2A1,SOM-4463D-S6A2E,SOM-5898C5-U1A1,SOM-5893RG-U7A1E,SOM-4455ZR-LSA2E,SOM-6867AC-S9A1E,SOM-6894C3Z-S7A1E,SOM-6898C7Z2-U8A1E,SOM-6765NZ-S6A1E', manufacturer='Advantech', form_factor='COM Express Basic Module', processor='Intel Xeon/Core', core_count='Hexa/Quad', processor_tdp='Up to 45W', memory='Dual channel DDR4, Max 128GB, ECC optional', io='USB 3.1 Gen2, PCIe x16 Gen3, SATA Gen3, Three Independent Displays, Ethernet, Audio, Serial, GPIO, SPI, CAN Bus', operating_system='Windows 10 IoT Enterprise LTSB, Windows 10 IoT Enterprise LTSB 64-bit', environmentals='Operating Temperature: 0°C to 60°C, Extended Temperature: -40°C to 85°C, Storage Temperature: -40°C to 85°C, Humidity: 95% relative humidity non-condensing', certifications='Military-grade', short_summary='Computer On Module with Intel Xeon/Core processors, supporting up to 128GB DDR4 memory, multiple I/O interfaces, and various environmental conditions.', full_summary=\"The Computer On Module features Intel's latest Xeon/Core processors, offering Hexa and Quad core options. It supports dual channel DDR4 memory up to 128GB with ECC optional. The module includes high-speed I/O interfaces such as USB 3.1 Gen2, PCIe x16 Gen3, and SATA Gen3. It supports three independent displays and various environmental conditions, making it suitable for a wide range of applications.\", full_product_description=\"The Computer On Module is designed with Intel's latest Xeon/Core processors, providing options for Hexa and Quad cores. It supports dual channel DDR4 memory up to 128GB with ECC optional. The module includes high-speed I/O interfaces such as USB 3.1 Gen2, PCIe x16 Gen3, and SATA Gen3. It supports three independent displays and various environmental conditions, making it suitable for a wide range of applications. The module also features Intel UHD Graphics, multiple display outputs including HDMI, DVI, and DisplayPort, and various expansion options. It is designed to operate in standard and extended temperature ranges, with robust environmental specifications for storage and humidity.\"),\n",
       " Product(name='SOM 7th Gen Intel Xeon Core Celeron Processors COM Express Basic Module', ids='SOM-5897C7-U0A2', manufacturer='Advantech', form_factor='COM Express Basic Module Type 6', processor='7th Gen Intel Xeon/Core/Celeron', core_count='Quad/Dual Cores', processor_tdp='Varies (25W, 35W, 45W)', memory='Dual DDR4, up to 32GB', io='PCIe x16, PCIe x1, SATA III, USB 3.0, USB 2.0, Intel HD Audio, Ethernet, GPIO, COM Port', operating_system='Windows IoT Enterprise LTSB', environmentals='Operating: 0°C to 60°C, Storage: -40°C to 85°C, Humidity: 10% to 90% non-condensing', certifications='Class I, Division 2 Solution', short_summary='SOM 7th Gen Intel Xeon/Core/Celeron Processors COM Express Basic Module with flexible I/O support and dual DDR4 memory.', full_summary='The SOM 7th Gen Intel Xeon/Core/Celeron Processors COM Express Basic Module offers flexible I/O support, dual DDR4 memory up to 32GB, and various processor options with different TDPs. It supports multiple display outputs and is suitable for embedded applications.', full_product_description='The SOM 7th Gen Intel Xeon/Core/Celeron Processors COM Express Basic Module from Advantech is designed for embedded applications requiring high performance and flexibility. It supports dual DDR4 memory up to 32GB, multiple I/O interfaces including PCIe, SATA, USB, and Ethernet, and various display outputs such as HDMI, DVI, and DisplayPort. The module operates within a temperature range of 0°C to 60°C and supports Windows IoT Enterprise LTSB.'),\n",
       " Product(name='CongaBE COM Express', ids='conga-B7E3slashi-3255', manufacturer='Congatec', form_factor='125 x 95 mm', processor='AMD EPYC Embedded', core_count='4, 8, 12, or 16', processor_tdp='100W', memory='DDR4 SODIMM, up to 64GB', io='4x PCI Express Gen 3 lanes, 4x USB 3.1, 4x USB 2.0, 2x SATA III, 2x Gigabit Ethernet', operating_system='Windows 10, Windows Server 2016, Linux (Ubuntu, Fedora)', environmentals='Operating: -40°C to 85°C, Storage: -40°C to 85°C, Humidity: 93% rH non-condensing', certifications='Not available', short_summary='CongaBE COM Express module based on AMD EPYC Embedded processors, supporting up to 64GB DDR4 memory and various I/O interfaces.', full_summary='The CongaBE COM Express module features AMD EPYC Embedded processors, offering high performance with up to 64GB DDR4 memory support. It includes multiple I/O interfaces such as PCI Express, USB, SATA, and Gigabit Ethernet, making it suitable for industrial applications.', full_product_description='The CongaBE COM Express module is designed for high-performance computing with AMD EPYC Embedded processors. It supports up to 64GB of DDR4 SODIMM memory and offers a variety of I/O interfaces including PCI Express Gen 3 lanes, USB 3.1, USB 2.0, SATA III, and Gigabit Ethernet. The module is suitable for industrial applications with its robust environmental specifications, including an operating temperature range of -40°C to 85°C and storage temperature range of -40°C to 85°C. It supports multiple operating systems including Windows 10, Windows Server 2016, and various Linux distributions.'),\n",
       " Product(name='CPU COM Express Basic Type', ids='CPU-162-22-01', manufacturer='Eurotech', form_factor='125mm x 95mm Basic form factor', processor='Intel Core and Celeron', core_count='Dual and Quad core configurations', processor_tdp='15W', memory='Up to 32GB DDR4 2400MHz Dual Channel', io='1x Gbit Ethernet, 4x SATA, RAID support, 4x USB 2.0, 8x USB 3.0, 8-16x PCIe Gen 3 lanes, 3x independent video ports (LVDS, VGA, DDI), HD Audio', operating_system='Windows IoT Enterprise, Linux, Yocto, Fedora, Other Linux, RTOS', environmentals='Operating temperature: -40°C to 85°C, Storage temperature: -40°C to 85°C, Conformal coating options', certifications='RoHS, REACH, PICMG COM Express R2.1', short_summary='Rugged COM Express module with Intel Core and Celeron processors, supporting wide temperature ranges and multiple high-speed interfaces.', full_summary='The CPU COM Express Basic Type module features Intel Core and Celeron processors, dual and quad-core configurations, up to 32GB DDR4 memory, and a variety of high-speed interfaces. It supports wide operating temperatures and is designed for industrial, rugged, and fanless applications.', full_product_description=\"The CPU COM Express Basic Type module is designed to deliver intense computation for industrial and rugged applications. It features Intel Core and Celeron processors with dual and quad-core configurations, up to 32GB DDR4 memory, and multiple high-speed interfaces including PCIe lanes, SATA, USB, and independent video ports. The module supports wide operating temperatures, conformal coating options, and is compliant with PICMG COM Express R2.1. It also includes support for Windows IoT Enterprise, Linux, and other operating systems, along with Eurotech's IoT middleware and integration platform.\"),\n",
       " Product(name='COMecRP E', ids='36037-1600-27-5', manufacturer='Kontron', form_factor='95 x 95 mm', processor='Intel 13th Generation Core Raptor Lake', core_count='Varies by model (up to 14 cores)', processor_tdp='Varies by model (up to 45W)', memory='Up to 32 GByte LPDDR4x', io='Up to 2x Gb Ethernet TSN, 2x SATA 6Gb/s, Up to 1TB NVMe SSD, 8x PCIe, 4x USB 3.2 Gen 2, 8x USB 2.0, 2x serial interfaces, Intel High Definition Audio', operating_system='Windows, Linux, VxWorks (project-based)', environmentals='Operating temperature: -40°C to 85°C, Non-operating temperature: -40°C to 85°C, Relative humidity: 93% at 40°C non-condensing', certifications='Not available', short_summary='COMecRP E is a COM Express Compact Type 6 module featuring Intel 13th Generation Core processors, up to 32 GByte LPDDR4x memory, and various I/O interfaces.', full_summary=\"The COMecRP E is a COM Express Compact Type 6 module that integrates Intel's 13th Generation Core Raptor Lake processors. It supports up to 32 GByte of LPDDR4x memory and offers a range of I/O interfaces including up to 2x Gb Ethernet TSN, 2x SATA 6Gb/s, up to 1TB NVMe SSD, 8x PCIe, 4x USB 3.2 Gen 2, 8x USB 2.0, and 2x serial interfaces. The module is designed for industrial applications with an operating temperature range of -40°C to 85°C.\", full_product_description=\"The COMecRP E module from Kontron is a high-performance COM Express Compact Type 6 solution powered by Intel's 13th Generation Core Raptor Lake processors. It supports up to 32 GByte of LPDDR4x memory and offers extensive I/O capabilities including up to 2x Gb Ethernet TSN, 2x SATA 6Gb/s, up to 1TB NVMe SSD, 8x PCIe, 4x USB 3.2 Gen 2, 8x USB 2.0, and 2x serial interfaces. The module is suitable for a wide range of industrial applications, with an operating temperature range of -40°C to 85°C and non-operating temperature range of -40°C to 85°C. It also features Intel Iris Xe Graphics for i7 processors and Intel UHD Graphics for i3 processors. Additional features include Trusted Platform Module (TPM), vPRO, AMT, TXT, AES support, and fail-safe via a second SPI flash. The module is compatible with Windows, Linux, and VxWorks (project-based).\"),\n",
       " Product(name='Congabxd', ids='047505', manufacturer='Congatec', form_factor='COM Express Basic 125 x 95 mm', processor='Intel Xeon D, Intel Pentium D', core_count='Up to 16 cores', processor_tdp='Up to 65W', memory='Dual channel DDR4 2400 MT/s, up to 64GB, optionally ECC support', io='4x PCIe Gen3, 8x PCIe Gen2, 4x USB 3.0, 8x USB 2.0, 4x SATA III 6Gb/s, LPC, SPI, I2C, 2x UART, SMBus', operating_system='Windows 10, Windows Server, RHEL, SuSE, Fedora, Ubuntu, CentOS, FreeBSD, VMware, HyperV, Xen, ESXI', environmentals='Operating: -40°C to 85°C, Storage: -40°C to 85°C, Humidity: Operating 10-90% rH non-condensing, Storage 5-95% rH non-condensing', certifications='Not available', short_summary='The CongaBXD is a COM Express Type 7 module featuring Intel Xeon D and Pentium D processors, supporting up to 16 cores, dual channel DDR4 memory, and a wide range of I/O interfaces.', full_summary='The CongaBXD is a high-performance COM Express Type 7 module designed for server-class applications. It supports Intel Xeon D and Pentium D processors with up to 16 cores, dual channel DDR4 memory with ECC support, and a comprehensive set of I/O interfaces including PCIe, USB, SATA, and Ethernet. The module is suitable for industrial and commercial temperature ranges, making it ideal for a variety of demanding environments.', full_product_description='The CongaBXD COM Express Type 7 module from Congatec is engineered for high-performance server-class applications. It features Intel Xeon D and Pentium D processors, offering up to 16 cores and a thermal design power (TDP) of up to 65W. The module supports dual channel DDR4 memory with speeds up to 2400 MT/s and capacities up to 64GB, with optional ECC support for enhanced reliability. I/O interfaces include 4x PCIe Gen3, 8x PCIe Gen2, 4x USB 3.0, 8x USB 2.0, 4x SATA III 6Gb/s, LPC, SPI, I2C, and 2x UART. The CongaBXD is designed to operate in a wide temperature range from -40°C to 85°C and supports various operating systems including Windows, Linux distributions, and virtualization platforms. This makes it a versatile solution for industrial, commercial, and embedded applications.'),\n",
       " Product(name='ExpressBD', ids='Express-BD74-D1559', manufacturer='ADLINK Technology', form_factor='Basic size 125 mm x 95 mm', processor='Intel Xeon D SoC', core_count='4 to 16 cores', processor_tdp='35W to 65W', memory='Dual channel DDR4 2133 MHz ECC memory, up to 64 GB', io='4x USB 3.0, 4x USB 2.0, 2x SATA 6 Gb/s, 1x PCIe x16 Gen3, 1x PCIe x4 Gen3, 1x PCIe x1 Gen2, 2x 10 GbE, 1x GbE', operating_system='Windows 10 64-bit, Windows Server 2016 64-bit, Linux 64-bit', environmentals='Operating Temperature: -40°C to 85°C (Extreme Rugged), 0°C to 60°C (Standard); Humidity: 95% RH operating, non-condensing', certifications='IEC 60068-2-27, IEC 60068-2-64, MIL-STD-810F', short_summary='ExpressBD is a COM Express Basic Size Type 7 module featuring Intel Xeon D SoC with up to 16 cores, dual channel DDR4 memory, and extensive I/O options.', full_summary='The ExpressBD is a high-performance COM Express Basic Size Type 7 module powered by Intel Xeon D SoC, offering up to 16 cores and dual channel DDR4 memory. It supports a wide range of I/O interfaces including USB, SATA, PCIe, and Ethernet, making it suitable for various embedded applications. The module is available in standard and extreme rugged versions, supporting operating temperatures from -40°C to 85°C.', full_product_description='The ExpressBD COM Express Basic Size Type 7 module from ADLINK Technology is designed for high-performance embedded applications. It features the Intel Xeon D SoC with up to 16 cores, dual channel DDR4 2133 MHz ECC memory, and a variety of I/O interfaces including 4x USB 3.0, 4x USB 2.0, 2x SATA 6 Gb/s, 1x PCIe x16 Gen3, 1x PCIe x4 Gen3, 1x PCIe x1 Gen2, 2x 10 GbE, and 1x GbE. The module supports a wide range of operating systems including Windows 10 64-bit, Windows Server 2016 64-bit, and Linux 64-bit. It is available in both standard and extreme rugged versions, with operating temperatures ranging from -40°C to 85°C and humidity up to 95% RH operating, non-condensing. The ExpressBD also includes advanced features such as Intel VT, Intel HT Technology, Intel Turbo Boost Technology, and various security technologies. It is certified to IEC 60068-2-27, IEC 60068-2-64, and MIL-STD-810F standards.'),\n",
       " Product(name='EDCMIO Computer', ids='ED-CM4IO-02SD-C', manufacturer='EDA Technology', form_factor='Length x Width x Height: Not available', processor='Broadcom BCM', core_count='4', processor_tdp='Not available', memory='1GB, 2GB, 4GB, 8GB option', io='HDMI, Gigabit Ethernet, USB, microUSB, microSD Card Slot, Antennas, PCIe, GPIO, PoE', operating_system='Compatible with official Raspberry Pi OS, provides BSP software support package', environmentals='Working temperature: -20°C to 70°C, Storage temperature: -40°C to 85°C, Working environment humidity: 10% to 90%', certifications='FIPS-140', short_summary='EDCMIO Computer is a commercial industrial computer based on the Raspberry Pi Compute Module IO Board.', full_summary='EDCMIO Computer is a commercial industrial computer based on the Raspberry Pi Compute Module IO Board. It is designed for industrial applications, advertising displays, and intelligent manufacturing.', full_product_description='The EDCMIO Computer is an industrial embedded computer based on the Raspberry Pi Compute Module IO Board. It features a Broadcom BCM processor, memory options ranging from 1GB to 8GB, and supports various I/O interfaces including HDMI, Gigabit Ethernet, USB, microUSB, and microSD Card Slot. It is compatible with the official Raspberry Pi OS and provides a BSP software support package. The device is designed for industrial applications, advertising displays, and intelligent manufacturing. It operates within a temperature range of -20°C to 70°C and supports dual-band WiFi and Bluetooth communication.'),\n",
       " Product(name='CM Industrial', ids='ED-CM4IND-1208-4C(EU)', manufacturer='Shanghai EDA Technology Co Ltd', form_factor='Length x Width x Height: Not available', processor='BCM2837B0 ARM Cortex-A53', core_count='4', processor_tdp='7 W', memory='1GB/2GB/4GB/8GB RAM, 8GB/16GB/32GB/64GB eMMC', io='Gigabit Ethernet, USB, HDMI, microSD Card Slot, SIM Card Slot, ADC, RS232, RS485, Isolated DI, Relay, SPI Flash, RTC, Buzzer, MIPI DSI, MIPI CSI, miniPCIe, UART, GPIO, microUSB, PoE', operating_system='Raspberry Pi OS', environmentals='Operating temperature: -20°C to 70°C, Storage temperature: -40°C to 85°C, Working environment humidity: 10% to 90%', certifications='Wireless authentication', short_summary='CM Industrial is an industrial embedded computer based on Raspberry Pi Compute Module, offering a variety of industrial communication interfaces and powerful communication capabilities.', full_summary='CM Industrial is an industrial embedded computer based on Raspberry Pi Compute Module. It is configured with up to 8GB RAM and 64GB eMMC, and supports boot from SD card. It provides a variety of industrial communication interfaces and functions, including multichannel RS232/RS485, high-precision ADC, isolated IO input, relay control, battery backup, real-time clock, alarm buzzer, and powerful communication capabilities with Gigabit Ethernet, PoE, 4G LTE, dual-band WiFi, and Bluetooth. It also supports CSI and DSI display interfaces, HDMI, and onboard 16Mb serial Flash for storing system data.', full_product_description='CM Industrial is an industrial embedded computer based on the Raspberry Pi Compute Module. It is available with 1GB, 2GB, 4GB, or 8GB RAM and 8GB, 16GB, 32GB, or 64GB eMMC, depending on the application. It supports boot from SD card and provides a variety of industrial communication interfaces and functions, including multichannel RS232/RS485, high-precision ADC, isolated IO input, relay control, battery backup, real-time clock, alarm buzzer, and powerful communication capabilities with one Gigabit Ethernet interface, PoE function, and one 4G LTE module certified for dual-band WiFi and Bluetooth. It supports external antennas and CSI interfaces, DSI display interface, HDMI cable interface, and other features such as onboard 16Mb serial Flash for storing system data and a wide power supply range. The device is designed for applications such as IoT gateways, industrial control, advertising displays, and intelligent manufacturing. It is compatible with the official Raspberry Pi OS and provides BSP software support package for online installation and updates via APT. The device is housed in a full metal shell and supports DIN guide rail installation. It operates within a temperature range of -20°C to 70°C and has passed wireless authentication together with the Raspberry Pi CM.'),\n",
       " Product(name='PC CPU Module', ids='PCM-3117-00A1E,PCM-3362N-S6A1E,PCM-3353Z-L0A3,PCM-3356Z2-2GM0A2E,PCM-3343EF-256A1E', manufacturer='Intel', form_factor='Tower, Small Form Factor (SFF), Micro', processor='10th Generation Intel® Core™ i5-10400, i5-10500, i5-10600', core_count='6 Core', processor_tdp='65W', memory='4GB or Greater System Memory Capability', io='RS232, CANbus, USB, Ethernet', operating_system='64-bit operating system required to support 4GB or more of system memory', environmentals='Operating Temperature: -40 to 85°C, Storage Temperature: -40 to 85°C, Operating Humidity: 5-95% RH non-condensing', certifications='CE, FCC', short_summary='PC CPU Modules with various interfaces including RS232, CANbus, USB, and Ethernet.', full_summary='PC CPU Modules designed for various communication interfaces such as RS232, CANbus, USB, and Ethernet. These modules are compliant with CE and FCC certifications and can operate in a wide range of environmental conditions.', full_product_description='PC CPU Modules offer a variety of communication interfaces including RS232, CANbus, USB, and Ethernet. They are designed to meet CE and FCC certifications and can operate in harsh environmental conditions with operating temperatures ranging from -40 to 85°C and storage temperatures from -40 to 85°C. The modules support various data bits, parity, and speed configurations, making them versatile for different applications.'),\n",
       " Product(name='QS QFN Style Computer On Module', ids='QS93-5210', manufacturer='KaRo Electronics GmbH', form_factor='40 mm x 40 mm, 5 mm total height', processor='NXP i.MX 8M Mini', core_count='4', processor_tdp='Not available', memory='4 GB LPDDR4, 16 GB eMMC', io='2x USB, 2x Gb Ethernet, RGMII, 2x eMMC/SD, 2x FlexCAN, 2x UART, 2x I2C, 2x SPI, 2x PWM, SAI, Up to 100x GPIO, MIPI-CSI', operating_system='Linux', environmentals='Industrial: -40°C to 85°C', certifications='Not available', short_summary='QS QFN Style Computer On Module with NXP i.MX 8M Mini processor, 4 GB LPDDR4, and 16 GB eMMC, suitable for industrial applications.', full_summary='The QS QFN Style Computer On Module by KaRo Electronics GmbH features the NXP i.MX 8M Mini processor with 4 ARM Cortex-A53 cores and 1 ARM Cortex-M4 core. It includes 4 GB of LPDDR4 memory and 16 GB of eMMC storage. The module supports various interfaces including USB, Ethernet, eMMC/SD, FlexCAN, UART, I2C, SPI, PWM, SAI, and up to 100 GPIOs. It is designed for industrial applications with an operating temperature range of -40°C to 85°C.', full_product_description='The QS QFN Style Computer On Module from KaRo Electronics GmbH is a compact and robust solution designed for industrial applications. It is powered by the NXP i.MX 8M Mini processor, featuring 4 ARM Cortex-A53 cores running at 1.8 GHz and an ARM Cortex-M4 core at 400 MHz. The module includes 4 GB of LPDDR4 memory and 16 GB of eMMC storage. It supports a wide range of interfaces including 2x USB, 2x Gb Ethernet, RGMII, 2x eMMC/SD, 2x FlexCAN, 2x UART, 2x I2C, 2x SPI, 2x PWM, SAI, and up to 100x GPIOs. The module is designed to operate in harsh industrial environments with a temperature range of -40°C to 85°C. It also features advanced soldering techniques with a large thermal pad for efficient heat dissipation.'),\n",
       " Product(name='Phycore Imx M Mininano', ids='KPB-02820-001', manufacturer='Phytec', form_factor='Size 37 mm x 37 mm x 3.8 mm', processor='ARM Cortex-A7, Cortex-M4', core_count='4', processor_tdp='Not available', memory='Up to 2 GB LPDDR4 RAM, Up to 64 GB eMMC, 256 kB EEPROM, 64 MB QSPI NOR Flash', io='Ethernet, UART, USB OTG, SPI, I2C, MMC/SDIO, PWM, MIPI-DSI, LVDS, SAI, SPDIF, MIPI-CSI, PCIe, GPIO, JTAG', operating_system='Linux, Android', environmentals='Operating temperature: -40°C to 85°C (industrial), 0°C to 70°C (commercial); Humidity: 90% RH non-condensing; Storage temperature: -40°C to 85°C', certifications='Not available', short_summary='The phyCORE-i.MX 8M Mini/Nano System Module offers high performance, low power consumption, and compact size, ideal for various applications.', full_summary='The phyCORE-i.MX 8M Mini/Nano System Module combines best-in-class performance with low power consumption and a compact size. It features an ARM Cortex-A7 processor, up to 2 GB LPDDR4 RAM, and multiple I/O interfaces, making it suitable for a wide range of applications.', full_product_description='The phyCORE-i.MX 8M Mini/Nano System Module is designed for high performance and low power consumption. It features an ARM Cortex-A7 processor with up to 4 cores, a Cortex-M4 coprocessor, and various memory configurations including up to 2 GB LPDDR4 RAM, up to 64 GB eMMC, 256 kB EEPROM, and 64 MB QSPI NOR Flash. The module supports multiple I/O interfaces such as Ethernet, UART, USB OTG, SPI, I2C, MMC/SDIO, PWM, MIPI-DSI, LVDS, SAI, SPDIF, MIPI-CSI, PCIe, GPIO, and JTAG. It is available with Linux and Android BSPs and is suitable for both commercial and industrial temperature ranges.'),\n",
       " Product(name='SOM COMExpress Basic Module', ids='SOM-5788FG-S0A1E', manufacturer='Advantech', form_factor='95 mm x 125 mm', processor='Intel Core processors', core_count='4', processor_tdp='12-25W', memory='DDR3 8 GB', io='PCI Express, Serial ATA, USB, LVDS, HD Audio', operating_system='Windows XP Professional, Other OS', environmentals='Operating temperature: 0°C to 60°C, Operating humidity: 40% to 90% relative humidity, non-condensing', certifications='CE, FCC Class A', short_summary='The SOM COMExpress Basic Module is a highly integrated multimedia COM module that combines audio, video, and network functions, providing high processing capability via Intel Core processors.', full_summary='The SOM COMExpress Basic Module is a scalable, high-performance, and easy-to-integrate solution for customer applications utilizing a plug-in CPU module and application-specific customer solution board. It integrates Intel Arrandale CPU and Ibex Peak-M chipset, supporting Intel Embedded Gen 5.0 GFx execution units with full AVC, VC1, and MPEG2 HW decode features.', full_product_description=\"The SOM COMExpress Basic Module type 2 pinouts fully comply with the PCI Industrial Computer Manufacturers PICMG COM Express standard. The new CPU module integrates Intel Arrandale CPU and Ibex Peak-M chipset, supporting Intel Embedded Gen 5.0 GFx execution units with full AVC, VC1, and MPEG2 HW decode features. In a basic form factor of 95 mm x 125 mm, the SOM provides a scalable, high-performance, and easy-to-integrate solution for customer applications utilizing a plug-in CPU module and application-specific customer solution board. The SOM's advanced I/O capacity incorporates serial differential signaling technologies such as PCI Express, Serial ATA, USB, LVDS, and HD Audio interfaces. The SOM offers design partners choices for applications needing higher computing speeds while maintaining a compact form factor. The SOM complies with the Green Function standard and supports Doze, Standby, and Suspend modes. The basic module size is 95 mm x 125 mm and uses one high-capacity connector based on the proven COMExpress Basic Module form factor, allowing modules to be easily and securely mounted onto a customized solution board or standard SOM-DB development board. The SOM is a highly integrated multimedia COM module that combines audio, video, and network functions. It provides high processing capability via Intel Core processors, dual-channel LVDS, HDMI, DVI, TV-out, four independent display support, hybrid multi-monitor capability, and integrated discrete graphics working simultaneously. It supports DDR3 memory up to 8 GB and high-definition audio interface ACAzalia.\"),\n",
       " Product(name='QSXM QFN Style SolderDown Computer On Module', ids='QSXM-MM60', manufacturer='KaRo Electronics GmbH', form_factor='45mm x 45mm, 3.5mm total height', processor='NXP i.MX 8M Mini Quad Cortex-A53 1.8GHz', core_count='4', processor_tdp='Not available', memory='2GB LPDDR4, 8GB eMMC', io='2x USB, 2x Gb Ethernet RGMII, 2x eMMC/SD, 1x PCIe Gen2 lane, 4x UART, 4x I2C, 4x SPI, 4x PWM, 4x SAI, Up to 100x General Purpose IO, 2x MIPI-CSI lane', operating_system='Linux, Windows IoT', environmentals='Industrial -40°C to 85°C', certifications='Not available', short_summary='QSXM QFN Style SolderDown Computer On Module with NXP i.MX 8M Mini Quad Cortex-A53 processor, 2GB LPDDR4, and 8GB eMMC.', full_summary='The QSXM QFN Style SolderDown Computer On Module features the NXP i.MX 8M Mini Quad Cortex-A53 processor running at 1.8GHz, 2GB LPDDR4 memory, and 8GB eMMC storage. It supports a wide range of connectivity options including USB, Ethernet, PCIe, UART, I2C, SPI, PWM, SAI, and General Purpose IO. The module is designed for industrial applications with an operating temperature range of -40°C to 85°C and supports Linux and Windows IoT operating systems.', full_product_description=\"The QSXM QFN Style SolderDown Computer On Module is part of the second generation QS module series by KaRo Electronics GmbH. It features the NXP i.MX 8M Mini Quad Cortex-A53 processor with a clock speed of 1.8GHz, 2GB LPDDR4 RAM, and 8GB eMMC storage. The module supports various connectivity options including 2x USB, 2x Gb Ethernet RGMII, 2x eMMC/SD, 1x PCIe Gen2 lane, 4x UART, 4x I2C, 4x SPI, 4x PWM, 4x SAI, and up to 100x General Purpose IO. Additionally, it includes 2x MIPI-CSI lanes for camera interfaces. The QSXM module is designed for industrial applications with an operating temperature range of -40°C to 85°C and supports both Linux and Windows IoT operating systems. The module's QFN type lead style with 0.8mm pitch pads allows for visual solder joint inspection and single-sided assembly. It also features a large thermal pad for efficient heat dissipation.\")]"
      ]
     },
     "execution_count": 19,
     "metadata": {},
     "output_type": "execute_result"
    }
   ],
   "source": [
    "unique_extended_products = get_unique_products(extended_products)\n",
    "unique_extended_products"
   ]
  },
  {
   "cell_type": "code",
   "execution_count": 20,
   "metadata": {},
   "outputs": [
    {
     "name": "stderr",
     "output_type": "stream",
     "text": [
      "INFO:httpx:HTTP Request: POST https://api.openai.com/v1/chat/completions \"HTTP/1.1 200 OK\"\n"
     ]
    },
    {
     "name": "stdout",
     "output_type": "stream",
     "text": [
      "rerank_products response from OpenAI: [{'name': 'Computer On Module', 'relevance_score': 0.95}, {'name': 'Congabxd', 'relevance_score': 0.9}, {'name': 'CPU COM Express Basic Type', 'relevance_score': 0.88}, {'name': 'ExpressBD', 'relevance_score': 0.85}, {'name': 'CongaBE COM Express', 'relevance_score': 0.83}]\n",
      "Input tokens: 1661, Output tokens: 129\n"
     ]
    },
    {
     "data": {
      "text/plain": [
       "['Computer On Module',\n",
       " 'Congabxd',\n",
       " 'CPU COM Express Basic Type',\n",
       " 'ExpressBD',\n",
       " 'CongaBE COM Express']"
      ]
     },
     "execution_count": 20,
     "metadata": {},
     "output_type": "execute_result"
    }
   ],
   "source": [
    "products_for_reranking = [\n",
    "    {\"name\": p.name, \"memory\": p.memory, \"io\": p.io, \"form_factor\": p.form_factor} for p in unique_extended_products\n",
    "]\n",
    "res, input_tokens, output_tokens = await query_processor.rerank_products(\n",
    "    clear_intent_1, products_for_reranking, top_k=5\n",
    ")\n",
    "print(f\"Input tokens: {input_tokens}, Output tokens: {output_tokens}\")\n",
    "res"
   ]
  }
 ],
 "metadata": {
  "kernelspec": {
   "display_name": ".venv",
   "language": "python",
   "name": "python3"
  },
  "language_info": {
   "codemirror_mode": {
    "name": "ipython",
    "version": 3
   },
   "file_extension": ".py",
   "mimetype": "text/x-python",
   "name": "python",
   "nbconvert_exporter": "python",
   "pygments_lexer": "ipython3",
   "version": "3.10.13"
  }
 },
 "nbformat": 4,
 "nbformat_minor": 2
}
