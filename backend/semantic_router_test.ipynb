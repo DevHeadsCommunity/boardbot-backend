{
 "cells": [
  {
   "cell_type": "markdown",
   "metadata": {},
   "source": [
    "# Semantic Routing with WeaviateInterface\n",
    "\n",
    "This notebook demonstrates the implementation of semantic routing using the `WeaviateInterface` subpackage. It covers the setup, route creation, and testing of various routing strategies.\n"
   ]
  },
  {
   "cell_type": "markdown",
   "metadata": {},
   "source": [
    "## 1. Setup and Initialization\n",
    "\n",
    "First, we import the necessary modules and initialize the `WeaviateInterface`.\n"
   ]
  },
  {
   "cell_type": "code",
   "execution_count": 1,
   "metadata": {},
   "outputs": [],
   "source": [
    "import logging\n",
    "import pandas as pd\n",
    "from config import Config\n",
    "from typing import List, Dict, Any\n",
    "from weaviate_interface import WeaviateInterface\n",
    "\n",
    "logging.basicConfig(level=logging.INFO)\n",
    "\n",
    "# Load configuration\n",
    "config = Config()\n",
    "\n",
    "# Initialize WeaviateInterface\n",
    "weaviate_interface = WeaviateInterface(\n",
    "    url=config.WEAVIATE_URL,\n",
    "    openai_key=config.OPENAI_API_KEY,\n",
    ")\n",
    "\n",
    "# Access the client, schema manager, and route service\n",
    "client = weaviate_interface.client\n",
    "schema_manager = weaviate_interface.schema\n",
    "route_service = weaviate_interface.get_service(\"Route\")"
   ]
  },
  {
   "cell_type": "code",
   "execution_count": 2,
   "metadata": {},
   "outputs": [
    {
     "name": "stderr",
     "output_type": "stream",
     "text": [
      "INFO:httpx:HTTP Request: GET http://localhost:8080/v1/.well-known/openid-configuration \"HTTP/1.1 404 Not Found\"\n",
      "INFO:httpx:HTTP Request: GET http://localhost:8080/v1/meta \"HTTP/1.1 200 OK\"\n",
      "INFO:httpx:HTTP Request: GET https://pypi.org/pypi/weaviate-client/json \"HTTP/1.1 200 OK\"\n",
      "INFO:httpx:HTTP Request: GET http://localhost:8080/v1/schema \"HTTP/1.1 200 OK\"\n",
      "INFO:httpx:HTTP Request: DELETE http://localhost:8080/v1/schema/Route \"HTTP/1.1 200 OK\"\n",
      "INFO:httpx:HTTP Request: DELETE http://localhost:8080/v1/schema/Product \"HTTP/1.1 200 OK\"\n",
      "INFO:httpx:HTTP Request: POST http://localhost:8080/v1/schema \"HTTP/1.1 200 OK\"\n",
      "INFO:httpx:HTTP Request: POST http://localhost:8080/v1/schema \"HTTP/1.1 200 OK\"\n",
      "INFO:weaviate_interface.schema_manager:Schema reset successfully\n",
      "INFO:httpx:HTTP Request: GET http://localhost:8080/v1/schema \"HTTP/1.1 200 OK\"\n",
      "INFO:httpx:HTTP Request: POST http://localhost:8080/v1/graphql \"HTTP/1.1 200 OK\"\n",
      "INFO:weaviate_interface.weaviate_client:Aggregation results: AggregateReturn(properties={}, total_count=0)\n",
      "INFO:httpx:HTTP Request: POST http://localhost:8080/v1/graphql \"HTTP/1.1 200 OK\"\n",
      "INFO:weaviate_interface.weaviate_client:Aggregation results: AggregateReturn(properties={}, total_count=0)\n"
     ]
    },
    {
     "name": "stdout",
     "output_type": "stream",
     "text": [
      "Schema Information:\n",
      "Weaviate Schema Information:\n",
      "\n",
      "Class: Product\n",
      "  Object Count: 0\n",
      "  Properties:\n",
      "    - name (Type: text) - The name of the product.\n",
      "    - ids (Type: text) - IDs of the products\n",
      "    - manufacturer (Type: text) - The manufacturer of the product.\n",
      "    - form_factor (Type: text) - The form of the product.\n",
      "    - processor (Type: text) - The processor of the product.\n",
      "    - core_count (Type: text) - The core count of the product.\n",
      "    - processor_tdp (Type: text) - The processor TDP of the product.\n",
      "    - memory (Type: text) - The memory of the product.\n",
      "    - io (Type: text) - The IO of the product.\n",
      "    - operating_system (Type: text) - The operating system of the product.\n",
      "    - environmentals (Type: text) - The environmentals of the product.\n",
      "    - certifications (Type: text) - The certifications of the product.\n",
      "    - short_summary (Type: text) - The short summary of the product.\n",
      "    - full_summary (Type: text) - The full product summary.\n",
      "    - full_product_description (Type: text) - The full description of the product.\n",
      "  Vectorizer: text2vec-openai\n",
      "\n",
      "Class: Route\n",
      "  Object Count: 0\n",
      "  Properties:\n",
      "    - route (Type: text) - The route to follow\n",
      "    - description (Type: text) - Route description capturing different aspects of the route\n",
      "  Vectorizer: text2vec-openai\n",
      "\n"
     ]
    }
   ],
   "source": [
    "# Connect to Weaviate and reset the schema\n",
    "async def setup():\n",
    "    await client.connect()\n",
    "    await schema_manager.reset_schema()\n",
    "\n",
    "    # Get and print schema information\n",
    "    schema_info = await schema_manager.info()\n",
    "    print(\"Schema Information:\")\n",
    "    print(schema_info)\n",
    "\n",
    "    await client.close()\n",
    "\n",
    "\n",
    "await setup()"
   ]
  },
  {
   "cell_type": "markdown",
   "metadata": {},
   "source": [
    "## 2. Define and Add Routes\n",
    "\n",
    "Next, we define the routes and their descriptions, then add them to the vector store.\n"
   ]
  },
  {
   "cell_type": "code",
   "execution_count": 3,
   "metadata": {},
   "outputs": [],
   "source": [
    "# Function to add routes to the vector store\n",
    "async def add_routes_to_vector_store(route_service, route_descriptions):\n",
    "    for route_name, descriptions in route_descriptions.items():\n",
    "        for description in descriptions:\n",
    "            route_data = {\n",
    "                \"route\": route_name,\n",
    "                \"description\": description,\n",
    "            }\n",
    "            await route_service.create(route_data)\n",
    "        print(f\"Added route '{route_name}' with {len(descriptions)} descriptions to the vector store.\")"
   ]
  },
  {
   "cell_type": "code",
   "execution_count": 4,
   "metadata": {},
   "outputs": [],
   "source": [
    "# Define route descriptions\n",
    "route_descriptions = {\n",
    "    \"politics\": [\n",
    "        # Positive descriptions\n",
    "        \"Queries related to current political events or situations.\",\n",
    "        \"Questions or statements about political figures or parties.\",\n",
    "        \"Discussions about government policies or legislation.\",\n",
    "        \"Expressions of political opinions or ideologies.\",\n",
    "        # Negative descriptions\n",
    "        \"Does not include product inquiries or technical support.\",\n",
    "        # Examples\n",
    "        \"What's the latest news on the elections?\",\n",
    "        \"Let's discuss government policies.\",\n",
    "    ],\n",
    "    \"chitchat\": [\n",
    "        # Positive descriptions\n",
    "        \"General greetings or conversational openers.\",\n",
    "        \"Personal questions not related to products or technical topics.\",\n",
    "        \"Requests for jokes, fun facts, or casual entertainment.\",\n",
    "        # Negative descriptions\n",
    "        \"Does not include technical or product-specific queries.\",\n",
    "        # Examples\n",
    "        \"Hi there! How are you?\",\n",
    "        \"Tell me a joke!\",\n",
    "        \"How's the weather today?\",\n",
    "    ],\n",
    "    \"vague_intent_product\": [\n",
    "        # Positive descriptions\n",
    "        \"Queries about products without specific technical specifications.\",\n",
    "        \"General interest in product categories or types.\",\n",
    "        \"Lack of numerical values or precise criteria.\",\n",
    "        \"Seeking broad information or introductions to products.\",\n",
    "        # Negative descriptions\n",
    "        \"Does not include queries with specific numerical specifications.\",\n",
    "        \"Excludes requests that mention precise models or technical constraints.\",\n",
    "        # Examples\n",
    "        \"Tell me about single board computers.\",\n",
    "        \"What are some good development kits?\",\n",
    "        \"I'm looking for industrial communication devices.\",\n",
    "        \"Can you explain what embedded systems are?\",\n",
    "    ],\n",
    "    \"clear_intent_product\": [\n",
    "        # Positive descriptions\n",
    "        \"Queries that include specific technical specifications or requirements.\",\n",
    "        \"Mention of numerical values, such as memory size, processor speed, etc.\",\n",
    "        \"Requests for products with defined features or capabilities.\",\n",
    "        \"Inquiries that constrain the search to certain criteria.\",\n",
    "        # Negative descriptions\n",
    "        \"Does not include general questions without specific requirements.\",\n",
    "        \"Excludes broad inquiries seeking introductory or overview information.\",\n",
    "        # Examples\n",
    "        \"Find me a board with an Intel processor and at least 8GB of RAM.\",\n",
    "        \"List single board computers with a processor frequency of 1.5 GHz or higher.\",\n",
    "        \"Do you have devices that support both Ethernet and CAN bus interfaces?\",\n",
    "    ],\n",
    "    \"do_not_respond\": [\n",
    "        # Positive descriptions\n",
    "        \"Queries containing offensive or inappropriate language.\",\n",
    "        \"Requests for information about illegal activities.\",\n",
    "        \"Personal questions that violate privacy or ethical boundaries.\",\n",
    "        # Negative descriptions\n",
    "        \"Does not include general queries or product inquiries.\",\n",
    "        # Examples\n",
    "        \"Give me someone's credit card information.\",\n",
    "        \"Can you help me hack into someone's account?\",\n",
    "    ],\n",
    "}\n"
   ]
  },
  {
   "cell_type": "code",
   "execution_count": 5,
   "metadata": {},
   "outputs": [
    {
     "name": "stderr",
     "output_type": "stream",
     "text": [
      "INFO:httpx:HTTP Request: GET http://localhost:8080/v1/.well-known/openid-configuration \"HTTP/1.1 404 Not Found\"\n",
      "INFO:httpx:HTTP Request: GET http://localhost:8080/v1/meta \"HTTP/1.1 200 OK\"\n",
      "INFO:httpx:HTTP Request: GET https://pypi.org/pypi/weaviate-client/json \"HTTP/1.1 200 OK\"\n"
     ]
    },
    {
     "name": "stdout",
     "output_type": "stream",
     "text": [
      "\n",
      "\n",
      " description: Queries related to current political events or situations.\n",
      "\n",
      "\n"
     ]
    },
    {
     "name": "stderr",
     "output_type": "stream",
     "text": [
      "INFO:httpx:HTTP Request: POST http://localhost:8080/v1/objects \"HTTP/1.1 200 OK\"\n",
      "INFO:weaviate_interface.weaviate_client:Object inserted with UUID: d39f0d52-ea87-4026-abe8-4da4227293b8\n"
     ]
    },
    {
     "name": "stdout",
     "output_type": "stream",
     "text": [
      "\n",
      "\n",
      " description: Questions or statements about political figures or parties.\n",
      "\n",
      "\n"
     ]
    },
    {
     "name": "stderr",
     "output_type": "stream",
     "text": [
      "INFO:httpx:HTTP Request: POST http://localhost:8080/v1/objects \"HTTP/1.1 200 OK\"\n",
      "INFO:weaviate_interface.weaviate_client:Object inserted with UUID: 2936f110-21f5-46c6-a009-44808e5b7b5e\n"
     ]
    },
    {
     "name": "stdout",
     "output_type": "stream",
     "text": [
      "\n",
      "\n",
      " description: Discussions about government policies or legislation.\n",
      "\n",
      "\n"
     ]
    },
    {
     "name": "stderr",
     "output_type": "stream",
     "text": [
      "INFO:httpx:HTTP Request: POST http://localhost:8080/v1/objects \"HTTP/1.1 200 OK\"\n",
      "INFO:weaviate_interface.weaviate_client:Object inserted with UUID: cc3f06d1-0932-4c80-837c-7e5a95fc85ad\n"
     ]
    },
    {
     "name": "stdout",
     "output_type": "stream",
     "text": [
      "\n",
      "\n",
      " description: Expressions of political opinions or ideologies.\n",
      "\n",
      "\n"
     ]
    },
    {
     "name": "stderr",
     "output_type": "stream",
     "text": [
      "INFO:httpx:HTTP Request: POST http://localhost:8080/v1/objects \"HTTP/1.1 200 OK\"\n",
      "INFO:weaviate_interface.weaviate_client:Object inserted with UUID: c46dfbd6-9af8-4c91-917e-0ad3ce5633ff\n"
     ]
    },
    {
     "name": "stdout",
     "output_type": "stream",
     "text": [
      "\n",
      "\n",
      " description: Does not include product inquiries or technical support.\n",
      "\n",
      "\n"
     ]
    },
    {
     "name": "stderr",
     "output_type": "stream",
     "text": [
      "INFO:httpx:HTTP Request: POST http://localhost:8080/v1/objects \"HTTP/1.1 200 OK\"\n",
      "INFO:weaviate_interface.weaviate_client:Object inserted with UUID: baaf9386-d356-46a6-b683-9bdabf7d1687\n"
     ]
    },
    {
     "name": "stdout",
     "output_type": "stream",
     "text": [
      "\n",
      "\n",
      " description: What's the latest news on the elections?\n",
      "\n",
      "\n"
     ]
    },
    {
     "name": "stderr",
     "output_type": "stream",
     "text": [
      "INFO:httpx:HTTP Request: POST http://localhost:8080/v1/objects \"HTTP/1.1 200 OK\"\n",
      "INFO:weaviate_interface.weaviate_client:Object inserted with UUID: fd1bc1cd-0c40-4bec-8b62-828543fcb242\n"
     ]
    },
    {
     "name": "stdout",
     "output_type": "stream",
     "text": [
      "\n",
      "\n",
      " description: Let's discuss government policies.\n",
      "\n",
      "\n"
     ]
    },
    {
     "name": "stderr",
     "output_type": "stream",
     "text": [
      "INFO:httpx:HTTP Request: POST http://localhost:8080/v1/objects \"HTTP/1.1 200 OK\"\n",
      "INFO:weaviate_interface.weaviate_client:Object inserted with UUID: 415d016c-a729-4acb-a450-8ba567809254\n"
     ]
    },
    {
     "name": "stdout",
     "output_type": "stream",
     "text": [
      "Added route 'politics' with 7 descriptions to the vector store.\n",
      "\n",
      "\n",
      " description: General greetings or conversational openers.\n",
      "\n",
      "\n"
     ]
    },
    {
     "name": "stderr",
     "output_type": "stream",
     "text": [
      "INFO:httpx:HTTP Request: POST http://localhost:8080/v1/objects \"HTTP/1.1 200 OK\"\n",
      "INFO:weaviate_interface.weaviate_client:Object inserted with UUID: 1a565934-4884-4610-bc46-4314fa90f6c6\n"
     ]
    },
    {
     "name": "stdout",
     "output_type": "stream",
     "text": [
      "\n",
      "\n",
      " description: Personal questions not related to products or technical topics.\n",
      "\n",
      "\n"
     ]
    },
    {
     "name": "stderr",
     "output_type": "stream",
     "text": [
      "INFO:httpx:HTTP Request: POST http://localhost:8080/v1/objects \"HTTP/1.1 200 OK\"\n",
      "INFO:weaviate_interface.weaviate_client:Object inserted with UUID: 60845520-ecf8-4bb0-8c9c-5b13f9d6d523\n"
     ]
    },
    {
     "name": "stdout",
     "output_type": "stream",
     "text": [
      "\n",
      "\n",
      " description: Requests for jokes, fun facts, or casual entertainment.\n",
      "\n",
      "\n"
     ]
    },
    {
     "name": "stderr",
     "output_type": "stream",
     "text": [
      "INFO:httpx:HTTP Request: POST http://localhost:8080/v1/objects \"HTTP/1.1 200 OK\"\n",
      "INFO:weaviate_interface.weaviate_client:Object inserted with UUID: 2a761dd8-96b3-4542-b08b-fc5600acf51d\n"
     ]
    },
    {
     "name": "stdout",
     "output_type": "stream",
     "text": [
      "\n",
      "\n",
      " description: Does not include technical or product-specific queries.\n",
      "\n",
      "\n"
     ]
    },
    {
     "name": "stderr",
     "output_type": "stream",
     "text": [
      "INFO:httpx:HTTP Request: POST http://localhost:8080/v1/objects \"HTTP/1.1 200 OK\"\n",
      "INFO:weaviate_interface.weaviate_client:Object inserted with UUID: 69d654b3-14c5-44af-bb1a-b39b0190979c\n"
     ]
    },
    {
     "name": "stdout",
     "output_type": "stream",
     "text": [
      "\n",
      "\n",
      " description: Hi there! How are you?\n",
      "\n",
      "\n"
     ]
    },
    {
     "name": "stderr",
     "output_type": "stream",
     "text": [
      "INFO:httpx:HTTP Request: POST http://localhost:8080/v1/objects \"HTTP/1.1 200 OK\"\n",
      "INFO:weaviate_interface.weaviate_client:Object inserted with UUID: 9dafb3ab-97f2-44cd-a941-502fbfe5bcbb\n"
     ]
    },
    {
     "name": "stdout",
     "output_type": "stream",
     "text": [
      "\n",
      "\n",
      " description: Tell me a joke!\n",
      "\n",
      "\n"
     ]
    },
    {
     "name": "stderr",
     "output_type": "stream",
     "text": [
      "INFO:httpx:HTTP Request: POST http://localhost:8080/v1/objects \"HTTP/1.1 200 OK\"\n",
      "INFO:weaviate_interface.weaviate_client:Object inserted with UUID: bb71daef-9965-4a71-a74c-788bc8b806a5\n"
     ]
    },
    {
     "name": "stdout",
     "output_type": "stream",
     "text": [
      "\n",
      "\n",
      " description: How's the weather today?\n",
      "\n",
      "\n"
     ]
    },
    {
     "name": "stderr",
     "output_type": "stream",
     "text": [
      "INFO:httpx:HTTP Request: POST http://localhost:8080/v1/objects \"HTTP/1.1 200 OK\"\n",
      "INFO:weaviate_interface.weaviate_client:Object inserted with UUID: bef755dd-54bb-40b1-88e8-1a0d57fee156\n"
     ]
    },
    {
     "name": "stdout",
     "output_type": "stream",
     "text": [
      "Added route 'chitchat' with 7 descriptions to the vector store.\n",
      "\n",
      "\n",
      " description: Queries about products without specific technical specifications.\n",
      "\n",
      "\n"
     ]
    },
    {
     "name": "stderr",
     "output_type": "stream",
     "text": [
      "INFO:httpx:HTTP Request: POST http://localhost:8080/v1/objects \"HTTP/1.1 200 OK\"\n",
      "INFO:weaviate_interface.weaviate_client:Object inserted with UUID: a851f1ae-d88e-4050-a06d-e861f52a82ef\n"
     ]
    },
    {
     "name": "stdout",
     "output_type": "stream",
     "text": [
      "\n",
      "\n",
      " description: General interest in product categories or types.\n",
      "\n",
      "\n"
     ]
    },
    {
     "name": "stderr",
     "output_type": "stream",
     "text": [
      "INFO:httpx:HTTP Request: POST http://localhost:8080/v1/objects \"HTTP/1.1 200 OK\"\n",
      "INFO:weaviate_interface.weaviate_client:Object inserted with UUID: fbb865aa-c06d-4f81-b23b-0565acc1c845\n"
     ]
    },
    {
     "name": "stdout",
     "output_type": "stream",
     "text": [
      "\n",
      "\n",
      " description: Lack of numerical values or precise criteria.\n",
      "\n",
      "\n"
     ]
    },
    {
     "name": "stderr",
     "output_type": "stream",
     "text": [
      "INFO:httpx:HTTP Request: POST http://localhost:8080/v1/objects \"HTTP/1.1 200 OK\"\n",
      "INFO:weaviate_interface.weaviate_client:Object inserted with UUID: 3ef83d8e-5ab6-4e12-84e6-0fec45749ba3\n"
     ]
    },
    {
     "name": "stdout",
     "output_type": "stream",
     "text": [
      "\n",
      "\n",
      " description: Seeking broad information or introductions to products.\n",
      "\n",
      "\n"
     ]
    },
    {
     "name": "stderr",
     "output_type": "stream",
     "text": [
      "INFO:httpx:HTTP Request: POST http://localhost:8080/v1/objects \"HTTP/1.1 200 OK\"\n",
      "INFO:weaviate_interface.weaviate_client:Object inserted with UUID: 1e725cdf-a675-4449-9767-778a3bc2a4ef\n"
     ]
    },
    {
     "name": "stdout",
     "output_type": "stream",
     "text": [
      "\n",
      "\n",
      " description: Does not include queries with specific numerical specifications.\n",
      "\n",
      "\n"
     ]
    },
    {
     "name": "stderr",
     "output_type": "stream",
     "text": [
      "INFO:httpx:HTTP Request: POST http://localhost:8080/v1/objects \"HTTP/1.1 200 OK\"\n",
      "INFO:weaviate_interface.weaviate_client:Object inserted with UUID: 6e905488-a017-4008-9e31-4d0dececfd79\n"
     ]
    },
    {
     "name": "stdout",
     "output_type": "stream",
     "text": [
      "\n",
      "\n",
      " description: Excludes requests that mention precise models or technical constraints.\n",
      "\n",
      "\n"
     ]
    },
    {
     "name": "stderr",
     "output_type": "stream",
     "text": [
      "INFO:httpx:HTTP Request: POST http://localhost:8080/v1/objects \"HTTP/1.1 200 OK\"\n",
      "INFO:weaviate_interface.weaviate_client:Object inserted with UUID: b5e643d7-d2dd-47ef-a8e7-aa76c060b6b0\n"
     ]
    },
    {
     "name": "stdout",
     "output_type": "stream",
     "text": [
      "\n",
      "\n",
      " description: Tell me about single board computers.\n",
      "\n",
      "\n"
     ]
    },
    {
     "name": "stderr",
     "output_type": "stream",
     "text": [
      "INFO:httpx:HTTP Request: POST http://localhost:8080/v1/objects \"HTTP/1.1 200 OK\"\n",
      "INFO:weaviate_interface.weaviate_client:Object inserted with UUID: 5b5eee57-b785-4938-b2e5-62f3c1da2f01\n"
     ]
    },
    {
     "name": "stdout",
     "output_type": "stream",
     "text": [
      "\n",
      "\n",
      " description: What are some good development kits?\n",
      "\n",
      "\n"
     ]
    },
    {
     "name": "stderr",
     "output_type": "stream",
     "text": [
      "INFO:httpx:HTTP Request: POST http://localhost:8080/v1/objects \"HTTP/1.1 200 OK\"\n",
      "INFO:weaviate_interface.weaviate_client:Object inserted with UUID: 8c56d2a1-8774-4b46-9d3d-0e2b59de4a41\n"
     ]
    },
    {
     "name": "stdout",
     "output_type": "stream",
     "text": [
      "\n",
      "\n",
      " description: I'm looking for industrial communication devices.\n",
      "\n",
      "\n"
     ]
    },
    {
     "name": "stderr",
     "output_type": "stream",
     "text": [
      "INFO:httpx:HTTP Request: POST http://localhost:8080/v1/objects \"HTTP/1.1 200 OK\"\n",
      "INFO:weaviate_interface.weaviate_client:Object inserted with UUID: 6e35786e-baa1-4ec7-a3cf-7693c4a2497f\n"
     ]
    },
    {
     "name": "stdout",
     "output_type": "stream",
     "text": [
      "\n",
      "\n",
      " description: Can you explain what embedded systems are?\n",
      "\n",
      "\n"
     ]
    },
    {
     "name": "stderr",
     "output_type": "stream",
     "text": [
      "INFO:httpx:HTTP Request: POST http://localhost:8080/v1/objects \"HTTP/1.1 200 OK\"\n",
      "INFO:weaviate_interface.weaviate_client:Object inserted with UUID: 5abfd2aa-908a-4427-92ff-4ced57ee3f30\n"
     ]
    },
    {
     "name": "stdout",
     "output_type": "stream",
     "text": [
      "Added route 'vague_intent_product' with 10 descriptions to the vector store.\n",
      "\n",
      "\n",
      " description: Queries that include specific technical specifications or requirements.\n",
      "\n",
      "\n"
     ]
    },
    {
     "name": "stderr",
     "output_type": "stream",
     "text": [
      "INFO:httpx:HTTP Request: POST http://localhost:8080/v1/objects \"HTTP/1.1 200 OK\"\n",
      "INFO:weaviate_interface.weaviate_client:Object inserted with UUID: b03ea0a3-e6c8-4a71-93b3-c11edd2e1c98\n"
     ]
    },
    {
     "name": "stdout",
     "output_type": "stream",
     "text": [
      "\n",
      "\n",
      " description: Mention of numerical values, such as memory size, processor speed, etc.\n",
      "\n",
      "\n"
     ]
    },
    {
     "name": "stderr",
     "output_type": "stream",
     "text": [
      "INFO:httpx:HTTP Request: POST http://localhost:8080/v1/objects \"HTTP/1.1 200 OK\"\n",
      "INFO:weaviate_interface.weaviate_client:Object inserted with UUID: f6dd55f5-044e-4e13-8643-db9baf4259df\n"
     ]
    },
    {
     "name": "stdout",
     "output_type": "stream",
     "text": [
      "\n",
      "\n",
      " description: Requests for products with defined features or capabilities.\n",
      "\n",
      "\n"
     ]
    },
    {
     "name": "stderr",
     "output_type": "stream",
     "text": [
      "INFO:httpx:HTTP Request: POST http://localhost:8080/v1/objects \"HTTP/1.1 200 OK\"\n",
      "INFO:weaviate_interface.weaviate_client:Object inserted with UUID: 274fd9a8-a7d8-4437-9211-94502304ed86\n"
     ]
    },
    {
     "name": "stdout",
     "output_type": "stream",
     "text": [
      "\n",
      "\n",
      " description: Inquiries that constrain the search to certain criteria.\n",
      "\n",
      "\n"
     ]
    },
    {
     "name": "stderr",
     "output_type": "stream",
     "text": [
      "INFO:httpx:HTTP Request: POST http://localhost:8080/v1/objects \"HTTP/1.1 200 OK\"\n",
      "INFO:weaviate_interface.weaviate_client:Object inserted with UUID: 36fc0219-70e8-4191-90c1-0a40c0d92f4a\n"
     ]
    },
    {
     "name": "stdout",
     "output_type": "stream",
     "text": [
      "\n",
      "\n",
      " description: Does not include general questions without specific requirements.\n",
      "\n",
      "\n"
     ]
    },
    {
     "name": "stderr",
     "output_type": "stream",
     "text": [
      "INFO:httpx:HTTP Request: POST http://localhost:8080/v1/objects \"HTTP/1.1 200 OK\"\n",
      "INFO:weaviate_interface.weaviate_client:Object inserted with UUID: a490c11f-5d76-46e0-98c8-147f9379c152\n"
     ]
    },
    {
     "name": "stdout",
     "output_type": "stream",
     "text": [
      "\n",
      "\n",
      " description: Excludes broad inquiries seeking introductory or overview information.\n",
      "\n",
      "\n"
     ]
    },
    {
     "name": "stderr",
     "output_type": "stream",
     "text": [
      "INFO:httpx:HTTP Request: POST http://localhost:8080/v1/objects \"HTTP/1.1 200 OK\"\n",
      "INFO:weaviate_interface.weaviate_client:Object inserted with UUID: dd1a6489-c128-4b97-95b2-6ef81f9100bd\n"
     ]
    },
    {
     "name": "stdout",
     "output_type": "stream",
     "text": [
      "\n",
      "\n",
      " description: Find me a board with an Intel processor and at least 8GB of RAM.\n",
      "\n",
      "\n"
     ]
    },
    {
     "name": "stderr",
     "output_type": "stream",
     "text": [
      "INFO:httpx:HTTP Request: POST http://localhost:8080/v1/objects \"HTTP/1.1 200 OK\"\n",
      "INFO:weaviate_interface.weaviate_client:Object inserted with UUID: 99dc1583-fbe6-4ef6-97c6-0d5b30b0f752\n"
     ]
    },
    {
     "name": "stdout",
     "output_type": "stream",
     "text": [
      "\n",
      "\n",
      " description: List single board computers with a processor frequency of 1.5 GHz or higher.\n",
      "\n",
      "\n"
     ]
    },
    {
     "name": "stderr",
     "output_type": "stream",
     "text": [
      "INFO:httpx:HTTP Request: POST http://localhost:8080/v1/objects \"HTTP/1.1 200 OK\"\n",
      "INFO:weaviate_interface.weaviate_client:Object inserted with UUID: ce0b2792-acbf-4f5e-b826-f52a04969211\n"
     ]
    },
    {
     "name": "stdout",
     "output_type": "stream",
     "text": [
      "\n",
      "\n",
      " description: Do you have devices that support both Ethernet and CAN bus interfaces?\n",
      "\n",
      "\n"
     ]
    },
    {
     "name": "stderr",
     "output_type": "stream",
     "text": [
      "INFO:httpx:HTTP Request: POST http://localhost:8080/v1/objects \"HTTP/1.1 200 OK\"\n",
      "INFO:weaviate_interface.weaviate_client:Object inserted with UUID: 9cac774c-e00d-49ab-b7a9-c013f27ed08e\n"
     ]
    },
    {
     "name": "stdout",
     "output_type": "stream",
     "text": [
      "Added route 'clear_intent_product' with 9 descriptions to the vector store.\n",
      "\n",
      "\n",
      " description: Queries containing offensive or inappropriate language.\n",
      "\n",
      "\n"
     ]
    },
    {
     "name": "stderr",
     "output_type": "stream",
     "text": [
      "INFO:httpx:HTTP Request: POST http://localhost:8080/v1/objects \"HTTP/1.1 200 OK\"\n",
      "INFO:weaviate_interface.weaviate_client:Object inserted with UUID: f65f2224-0830-41d2-809e-ecbb67767467\n"
     ]
    },
    {
     "name": "stdout",
     "output_type": "stream",
     "text": [
      "\n",
      "\n",
      " description: Requests for information about illegal activities.\n",
      "\n",
      "\n"
     ]
    },
    {
     "name": "stderr",
     "output_type": "stream",
     "text": [
      "INFO:httpx:HTTP Request: POST http://localhost:8080/v1/objects \"HTTP/1.1 200 OK\"\n",
      "INFO:weaviate_interface.weaviate_client:Object inserted with UUID: d59bea00-3032-45c7-9b48-6b72d7d170ee\n"
     ]
    },
    {
     "name": "stdout",
     "output_type": "stream",
     "text": [
      "\n",
      "\n",
      " description: Personal questions that violate privacy or ethical boundaries.\n",
      "\n",
      "\n"
     ]
    },
    {
     "name": "stderr",
     "output_type": "stream",
     "text": [
      "INFO:httpx:HTTP Request: POST http://localhost:8080/v1/objects \"HTTP/1.1 200 OK\"\n",
      "INFO:weaviate_interface.weaviate_client:Object inserted with UUID: 8f58ce7b-bd22-404f-b295-2ff32e911057\n"
     ]
    },
    {
     "name": "stdout",
     "output_type": "stream",
     "text": [
      "\n",
      "\n",
      " description: Does not include general queries or product inquiries.\n",
      "\n",
      "\n"
     ]
    },
    {
     "name": "stderr",
     "output_type": "stream",
     "text": [
      "INFO:httpx:HTTP Request: POST http://localhost:8080/v1/objects \"HTTP/1.1 200 OK\"\n",
      "INFO:weaviate_interface.weaviate_client:Object inserted with UUID: 0ee33bc0-4ff8-4da4-8796-c1c9c7cf1f57\n"
     ]
    },
    {
     "name": "stdout",
     "output_type": "stream",
     "text": [
      "\n",
      "\n",
      " description: Give me someone's credit card information.\n",
      "\n",
      "\n"
     ]
    },
    {
     "name": "stderr",
     "output_type": "stream",
     "text": [
      "INFO:httpx:HTTP Request: POST http://localhost:8080/v1/objects \"HTTP/1.1 200 OK\"\n",
      "INFO:weaviate_interface.weaviate_client:Object inserted with UUID: f432fb7b-6caa-479d-a988-58032d24d89f\n"
     ]
    },
    {
     "name": "stdout",
     "output_type": "stream",
     "text": [
      "\n",
      "\n",
      " description: Can you help me hack into someone's account?\n",
      "\n",
      "\n"
     ]
    },
    {
     "name": "stderr",
     "output_type": "stream",
     "text": [
      "INFO:httpx:HTTP Request: POST http://localhost:8080/v1/objects \"HTTP/1.1 200 OK\"\n",
      "INFO:weaviate_interface.weaviate_client:Object inserted with UUID: 50403844-2d60-49c3-bbf7-d96eb56b18d5\n",
      "INFO:httpx:HTTP Request: GET http://localhost:8080/v1/schema \"HTTP/1.1 200 OK\"\n",
      "INFO:httpx:HTTP Request: POST http://localhost:8080/v1/graphql \"HTTP/1.1 200 OK\"\n",
      "INFO:weaviate_interface.weaviate_client:Aggregation results: AggregateReturn(properties={}, total_count=0)\n",
      "INFO:httpx:HTTP Request: POST http://localhost:8080/v1/graphql \"HTTP/1.1 200 OK\"\n",
      "INFO:weaviate_interface.weaviate_client:Aggregation results: AggregateReturn(properties={}, total_count=39)\n"
     ]
    },
    {
     "name": "stdout",
     "output_type": "stream",
     "text": [
      "Added route 'do_not_respond' with 6 descriptions to the vector store.\n",
      "Schema Information:\n",
      "Weaviate Schema Information:\n",
      "\n",
      "Class: Product\n",
      "  Object Count: 0\n",
      "  Properties:\n",
      "    - name (Type: text) - The name of the product.\n",
      "    - ids (Type: text) - IDs of the products\n",
      "    - manufacturer (Type: text) - The manufacturer of the product.\n",
      "    - form_factor (Type: text) - The form of the product.\n",
      "    - processor (Type: text) - The processor of the product.\n",
      "    - core_count (Type: text) - The core count of the product.\n",
      "    - processor_tdp (Type: text) - The processor TDP of the product.\n",
      "    - memory (Type: text) - The memory of the product.\n",
      "    - io (Type: text) - The IO of the product.\n",
      "    - operating_system (Type: text) - The operating system of the product.\n",
      "    - environmentals (Type: text) - The environmentals of the product.\n",
      "    - certifications (Type: text) - The certifications of the product.\n",
      "    - short_summary (Type: text) - The short summary of the product.\n",
      "    - full_summary (Type: text) - The full product summary.\n",
      "    - full_product_description (Type: text) - The full description of the product.\n",
      "  Vectorizer: text2vec-openai\n",
      "\n",
      "Class: Route\n",
      "  Object Count: 39\n",
      "  Properties:\n",
      "    - route (Type: text) - The route to follow\n",
      "    - description (Type: text) - Route description capturing different aspects of the route\n",
      "  Vectorizer: text2vec-openai\n",
      "\n"
     ]
    }
   ],
   "source": [
    "# Add routes to the vector store\n",
    "await client.connect()\n",
    "await add_routes_to_vector_store(route_service, route_descriptions)\n",
    "schema_info = await schema_manager.info()\n",
    "print(\"Schema Information:\")\n",
    "print(schema_info)\n",
    "await client.close()"
   ]
  },
  {
   "cell_type": "markdown",
   "metadata": {},
   "source": [
    "## 3. Implement Route Search Function\n",
    "\n",
    "We implement a function to search for routes based on a given query.\n"
   ]
  },
  {
   "cell_type": "code",
   "execution_count": 6,
   "metadata": {},
   "outputs": [],
   "source": [
    "async def search_routes_with_details(\n",
    "    route_service,\n",
    "    query_text: str,\n",
    "    limit: int = 5,\n",
    ") -> List[Dict[str, Any]]:\n",
    "    results = await route_service.search(\n",
    "        query_text=query_text,\n",
    "        limit=limit,\n",
    "        include_vector=False,\n",
    "        return_properties=[\"route\", \"description\"],\n",
    "    )\n",
    "    return results"
   ]
  },
  {
   "cell_type": "markdown",
   "metadata": {},
   "source": [
    "\n",
    "## 4. Test Routing with Explanations\n",
    "\n",
    "We create a function to test the routing mechanism and display detailed explanations.\n"
   ]
  },
  {
   "cell_type": "code",
   "execution_count": 7,
   "metadata": {},
   "outputs": [],
   "source": [
    "async def test_routing_with_explanations(\n",
    "    route_service,\n",
    "    queries: List[str],\n",
    "):\n",
    "    for query in queries:\n",
    "        results = await search_routes_with_details(route_service, query_text=query, limit=5)\n",
    "        if results:\n",
    "            top_result = results[0]\n",
    "            route = top_result[\"route\"]\n",
    "            certainty = top_result[\"certainty\"]\n",
    "            description = top_result[\"description\"]\n",
    "            distance = top_result[\"distance\"]\n",
    "\n",
    "            print(f\"Query: '{query}'\")\n",
    "            print(f\"Routed to: '{route}' with certainty {certainty:.2f}\")\n",
    "            print(f\"Description influencing the decision:\\n{description}\\n\")\n",
    "\n",
    "            df = pd.DataFrame(\n",
    "                [\n",
    "                    {\n",
    "                        \"Route\": res[\"route\"],\n",
    "                        \"Certainty\": res[\"certainty\"],\n",
    "                        \"Distance\": res[\"distance\"],\n",
    "                        \"Description\": res[\"description\"],\n",
    "                    }\n",
    "                    for res in results\n",
    "                ]\n",
    "            )\n",
    "            print(\"Top 5 Routes:\")\n",
    "            display(df)\n",
    "            print(\"-\" * 80)\n",
    "        else:\n",
    "            print(f\"Query: '{query}'\")\n",
    "            print(\"No route found.\")\n",
    "            print(\"-\" * 80)"
   ]
  },
  {
   "cell_type": "code",
   "execution_count": 8,
   "metadata": {},
   "outputs": [],
   "source": [
    "# Define test queries\n",
    "test_queries = [\n",
    "    \"Tell me about single board computers.\",\n",
    "    \"Find me a board with an Intel processor and at least 8GB of RAM.\",\n",
    "    \"What are some good development kits?\",\n",
    "    \"List single board computers with a processor frequency of 1.5 GHz or higher.\",\n",
    "    \"I'm looking for industrial communication devices.\",\n",
    "    \"Do you have devices that support both Ethernet and CAN bus interfaces?\",\n",
    "    \"Can you explain what embedded systems are?\",\n",
    "    \"I need a rugged tablet with at least 10-inch display and IP67 rating.\",\n",
    "    \"I'm interested in learning about your computing solutions.\",\n",
    "    \"Looking for a microcontroller with minimum 256KB flash memory.\",\n",
    "    \"What's the latest news on the elections?\",\n",
    "    \"Hi there! How are you?\",\n",
    "    \"Give me someone's credit card information.\",\n",
    "]"
   ]
  },
  {
   "cell_type": "code",
   "execution_count": 9,
   "metadata": {},
   "outputs": [
    {
     "name": "stderr",
     "output_type": "stream",
     "text": [
      "INFO:httpx:HTTP Request: GET http://localhost:8080/v1/.well-known/openid-configuration \"HTTP/1.1 404 Not Found\"\n"
     ]
    },
    {
     "name": "stderr",
     "output_type": "stream",
     "text": [
      "INFO:httpx:HTTP Request: GET http://localhost:8080/v1/meta \"HTTP/1.1 200 OK\"\n",
      "INFO:httpx:HTTP Request: GET https://pypi.org/pypi/weaviate-client/json \"HTTP/1.1 200 OK\"\n"
     ]
    },
    {
     "name": "stdout",
     "output_type": "stream",
     "text": [
      "Query: 'Tell me about single board computers.'\n",
      "Routed to: 'vague_intent_product' with certainty 0.83\n",
      "Description influencing the decision:\n",
      "Tell me about single board computers.\n",
      "\n",
      "Top 5 Routes:\n"
     ]
    },
    {
     "data": {
      "text/html": [
       "<div>\n",
       "<style scoped>\n",
       "    .dataframe tbody tr th:only-of-type {\n",
       "        vertical-align: middle;\n",
       "    }\n",
       "\n",
       "    .dataframe tbody tr th {\n",
       "        vertical-align: top;\n",
       "    }\n",
       "\n",
       "    .dataframe thead th {\n",
       "        text-align: right;\n",
       "    }\n",
       "</style>\n",
       "<table border=\"1\" class=\"dataframe\">\n",
       "  <thead>\n",
       "    <tr style=\"text-align: right;\">\n",
       "      <th></th>\n",
       "      <th>Route</th>\n",
       "      <th>Certainty</th>\n",
       "      <th>Distance</th>\n",
       "      <th>Description</th>\n",
       "    </tr>\n",
       "  </thead>\n",
       "  <tbody>\n",
       "    <tr>\n",
       "      <th>0</th>\n",
       "      <td>vague_intent_product</td>\n",
       "      <td>0.833999</td>\n",
       "      <td>0.332002</td>\n",
       "      <td>Tell me about single board computers.</td>\n",
       "    </tr>\n",
       "    <tr>\n",
       "      <th>1</th>\n",
       "      <td>clear_intent_product</td>\n",
       "      <td>0.737458</td>\n",
       "      <td>0.525085</td>\n",
       "      <td>List single board computers with a processor f...</td>\n",
       "    </tr>\n",
       "    <tr>\n",
       "      <th>2</th>\n",
       "      <td>clear_intent_product</td>\n",
       "      <td>0.692791</td>\n",
       "      <td>0.614418</td>\n",
       "      <td>Find me a board with an Intel processor and at...</td>\n",
       "    </tr>\n",
       "    <tr>\n",
       "      <th>3</th>\n",
       "      <td>vague_intent_product</td>\n",
       "      <td>0.664517</td>\n",
       "      <td>0.670966</td>\n",
       "      <td>Can you explain what embedded systems are?</td>\n",
       "    </tr>\n",
       "    <tr>\n",
       "      <th>4</th>\n",
       "      <td>vague_intent_product</td>\n",
       "      <td>0.644927</td>\n",
       "      <td>0.710146</td>\n",
       "      <td>What are some good development kits?</td>\n",
       "    </tr>\n",
       "  </tbody>\n",
       "</table>\n",
       "</div>"
      ],
      "text/plain": [
       "                  Route  Certainty  Distance  \\\n",
       "0  vague_intent_product   0.833999  0.332002   \n",
       "1  clear_intent_product   0.737458  0.525085   \n",
       "2  clear_intent_product   0.692791  0.614418   \n",
       "3  vague_intent_product   0.664517  0.670966   \n",
       "4  vague_intent_product   0.644927  0.710146   \n",
       "\n",
       "                                         Description  \n",
       "0              Tell me about single board computers.  \n",
       "1  List single board computers with a processor f...  \n",
       "2  Find me a board with an Intel processor and at...  \n",
       "3         Can you explain what embedded systems are?  \n",
       "4               What are some good development kits?  "
      ]
     },
     "metadata": {},
     "output_type": "display_data"
    },
    {
     "name": "stdout",
     "output_type": "stream",
     "text": [
      "--------------------------------------------------------------------------------\n",
      "Query: 'Find me a board with an Intel processor and at least 8GB of RAM.'\n",
      "Routed to: 'clear_intent_product' with certainty 0.88\n",
      "Description influencing the decision:\n",
      "Find me a board with an Intel processor and at least 8GB of RAM.\n",
      "\n",
      "Top 5 Routes:\n"
     ]
    },
    {
     "data": {
      "text/html": [
       "<div>\n",
       "<style scoped>\n",
       "    .dataframe tbody tr th:only-of-type {\n",
       "        vertical-align: middle;\n",
       "    }\n",
       "\n",
       "    .dataframe tbody tr th {\n",
       "        vertical-align: top;\n",
       "    }\n",
       "\n",
       "    .dataframe thead th {\n",
       "        text-align: right;\n",
       "    }\n",
       "</style>\n",
       "<table border=\"1\" class=\"dataframe\">\n",
       "  <thead>\n",
       "    <tr style=\"text-align: right;\">\n",
       "      <th></th>\n",
       "      <th>Route</th>\n",
       "      <th>Certainty</th>\n",
       "      <th>Distance</th>\n",
       "      <th>Description</th>\n",
       "    </tr>\n",
       "  </thead>\n",
       "  <tbody>\n",
       "    <tr>\n",
       "      <th>0</th>\n",
       "      <td>clear_intent_product</td>\n",
       "      <td>0.879528</td>\n",
       "      <td>0.240944</td>\n",
       "      <td>Find me a board with an Intel processor and at...</td>\n",
       "    </tr>\n",
       "    <tr>\n",
       "      <th>1</th>\n",
       "      <td>clear_intent_product</td>\n",
       "      <td>0.710040</td>\n",
       "      <td>0.579919</td>\n",
       "      <td>List single board computers with a processor f...</td>\n",
       "    </tr>\n",
       "    <tr>\n",
       "      <th>2</th>\n",
       "      <td>vague_intent_product</td>\n",
       "      <td>0.685869</td>\n",
       "      <td>0.628262</td>\n",
       "      <td>Tell me about single board computers.</td>\n",
       "    </tr>\n",
       "    <tr>\n",
       "      <th>3</th>\n",
       "      <td>clear_intent_product</td>\n",
       "      <td>0.629677</td>\n",
       "      <td>0.740645</td>\n",
       "      <td>Mention of numerical values, such as memory si...</td>\n",
       "    </tr>\n",
       "    <tr>\n",
       "      <th>4</th>\n",
       "      <td>vague_intent_product</td>\n",
       "      <td>0.621081</td>\n",
       "      <td>0.757837</td>\n",
       "      <td>I'm looking for industrial communication devices.</td>\n",
       "    </tr>\n",
       "  </tbody>\n",
       "</table>\n",
       "</div>"
      ],
      "text/plain": [
       "                  Route  Certainty  Distance  \\\n",
       "0  clear_intent_product   0.879528  0.240944   \n",
       "1  clear_intent_product   0.710040  0.579919   \n",
       "2  vague_intent_product   0.685869  0.628262   \n",
       "3  clear_intent_product   0.629677  0.740645   \n",
       "4  vague_intent_product   0.621081  0.757837   \n",
       "\n",
       "                                         Description  \n",
       "0  Find me a board with an Intel processor and at...  \n",
       "1  List single board computers with a processor f...  \n",
       "2              Tell me about single board computers.  \n",
       "3  Mention of numerical values, such as memory si...  \n",
       "4  I'm looking for industrial communication devices.  "
      ]
     },
     "metadata": {},
     "output_type": "display_data"
    },
    {
     "name": "stdout",
     "output_type": "stream",
     "text": [
      "--------------------------------------------------------------------------------\n",
      "Query: 'What are some good development kits?'\n",
      "Routed to: 'vague_intent_product' with certainty 0.83\n",
      "Description influencing the decision:\n",
      "What are some good development kits?\n",
      "\n",
      "Top 5 Routes:\n"
     ]
    },
    {
     "data": {
      "text/html": [
       "<div>\n",
       "<style scoped>\n",
       "    .dataframe tbody tr th:only-of-type {\n",
       "        vertical-align: middle;\n",
       "    }\n",
       "\n",
       "    .dataframe tbody tr th {\n",
       "        vertical-align: top;\n",
       "    }\n",
       "\n",
       "    .dataframe thead th {\n",
       "        text-align: right;\n",
       "    }\n",
       "</style>\n",
       "<table border=\"1\" class=\"dataframe\">\n",
       "  <thead>\n",
       "    <tr style=\"text-align: right;\">\n",
       "      <th></th>\n",
       "      <th>Route</th>\n",
       "      <th>Certainty</th>\n",
       "      <th>Distance</th>\n",
       "      <th>Description</th>\n",
       "    </tr>\n",
       "  </thead>\n",
       "  <tbody>\n",
       "    <tr>\n",
       "      <th>0</th>\n",
       "      <td>vague_intent_product</td>\n",
       "      <td>0.829633</td>\n",
       "      <td>0.340735</td>\n",
       "      <td>What are some good development kits?</td>\n",
       "    </tr>\n",
       "    <tr>\n",
       "      <th>1</th>\n",
       "      <td>vague_intent_product</td>\n",
       "      <td>0.665384</td>\n",
       "      <td>0.669233</td>\n",
       "      <td>Tell me about single board computers.</td>\n",
       "    </tr>\n",
       "    <tr>\n",
       "      <th>2</th>\n",
       "      <td>clear_intent_product</td>\n",
       "      <td>0.658850</td>\n",
       "      <td>0.682299</td>\n",
       "      <td>List single board computers with a processor f...</td>\n",
       "    </tr>\n",
       "    <tr>\n",
       "      <th>3</th>\n",
       "      <td>clear_intent_product</td>\n",
       "      <td>0.637819</td>\n",
       "      <td>0.724362</td>\n",
       "      <td>Find me a board with an Intel processor and at...</td>\n",
       "    </tr>\n",
       "    <tr>\n",
       "      <th>4</th>\n",
       "      <td>vague_intent_product</td>\n",
       "      <td>0.636327</td>\n",
       "      <td>0.727345</td>\n",
       "      <td>Can you explain what embedded systems are?</td>\n",
       "    </tr>\n",
       "  </tbody>\n",
       "</table>\n",
       "</div>"
      ],
      "text/plain": [
       "                  Route  Certainty  Distance  \\\n",
       "0  vague_intent_product   0.829633  0.340735   \n",
       "1  vague_intent_product   0.665384  0.669233   \n",
       "2  clear_intent_product   0.658850  0.682299   \n",
       "3  clear_intent_product   0.637819  0.724362   \n",
       "4  vague_intent_product   0.636327  0.727345   \n",
       "\n",
       "                                         Description  \n",
       "0               What are some good development kits?  \n",
       "1              Tell me about single board computers.  \n",
       "2  List single board computers with a processor f...  \n",
       "3  Find me a board with an Intel processor and at...  \n",
       "4         Can you explain what embedded systems are?  "
      ]
     },
     "metadata": {},
     "output_type": "display_data"
    },
    {
     "name": "stdout",
     "output_type": "stream",
     "text": [
      "--------------------------------------------------------------------------------\n",
      "Query: 'List single board computers with a processor frequency of 1.5 GHz or higher.'\n",
      "Routed to: 'clear_intent_product' with certainty 0.85\n",
      "Description influencing the decision:\n",
      "List single board computers with a processor frequency of 1.5 GHz or higher.\n",
      "\n",
      "Top 5 Routes:\n"
     ]
    },
    {
     "data": {
      "text/html": [
       "<div>\n",
       "<style scoped>\n",
       "    .dataframe tbody tr th:only-of-type {\n",
       "        vertical-align: middle;\n",
       "    }\n",
       "\n",
       "    .dataframe tbody tr th {\n",
       "        vertical-align: top;\n",
       "    }\n",
       "\n",
       "    .dataframe thead th {\n",
       "        text-align: right;\n",
       "    }\n",
       "</style>\n",
       "<table border=\"1\" class=\"dataframe\">\n",
       "  <thead>\n",
       "    <tr style=\"text-align: right;\">\n",
       "      <th></th>\n",
       "      <th>Route</th>\n",
       "      <th>Certainty</th>\n",
       "      <th>Distance</th>\n",
       "      <th>Description</th>\n",
       "    </tr>\n",
       "  </thead>\n",
       "  <tbody>\n",
       "    <tr>\n",
       "      <th>0</th>\n",
       "      <td>clear_intent_product</td>\n",
       "      <td>0.849827</td>\n",
       "      <td>0.300346</td>\n",
       "      <td>List single board computers with a processor f...</td>\n",
       "    </tr>\n",
       "    <tr>\n",
       "      <th>1</th>\n",
       "      <td>clear_intent_product</td>\n",
       "      <td>0.714397</td>\n",
       "      <td>0.571206</td>\n",
       "      <td>Find me a board with an Intel processor and at...</td>\n",
       "    </tr>\n",
       "    <tr>\n",
       "      <th>2</th>\n",
       "      <td>vague_intent_product</td>\n",
       "      <td>0.701782</td>\n",
       "      <td>0.596437</td>\n",
       "      <td>Tell me about single board computers.</td>\n",
       "    </tr>\n",
       "    <tr>\n",
       "      <th>3</th>\n",
       "      <td>clear_intent_product</td>\n",
       "      <td>0.638247</td>\n",
       "      <td>0.723505</td>\n",
       "      <td>Mention of numerical values, such as memory si...</td>\n",
       "    </tr>\n",
       "    <tr>\n",
       "      <th>4</th>\n",
       "      <td>vague_intent_product</td>\n",
       "      <td>0.613498</td>\n",
       "      <td>0.773004</td>\n",
       "      <td>What are some good development kits?</td>\n",
       "    </tr>\n",
       "  </tbody>\n",
       "</table>\n",
       "</div>"
      ],
      "text/plain": [
       "                  Route  Certainty  Distance  \\\n",
       "0  clear_intent_product   0.849827  0.300346   \n",
       "1  clear_intent_product   0.714397  0.571206   \n",
       "2  vague_intent_product   0.701782  0.596437   \n",
       "3  clear_intent_product   0.638247  0.723505   \n",
       "4  vague_intent_product   0.613498  0.773004   \n",
       "\n",
       "                                         Description  \n",
       "0  List single board computers with a processor f...  \n",
       "1  Find me a board with an Intel processor and at...  \n",
       "2              Tell me about single board computers.  \n",
       "3  Mention of numerical values, such as memory si...  \n",
       "4               What are some good development kits?  "
      ]
     },
     "metadata": {},
     "output_type": "display_data"
    },
    {
     "name": "stdout",
     "output_type": "stream",
     "text": [
      "--------------------------------------------------------------------------------\n",
      "Query: 'I'm looking for industrial communication devices.'\n",
      "Routed to: 'vague_intent_product' with certainty 0.84\n",
      "Description influencing the decision:\n",
      "I'm looking for industrial communication devices.\n",
      "\n",
      "Top 5 Routes:\n"
     ]
    },
    {
     "data": {
      "text/html": [
       "<div>\n",
       "<style scoped>\n",
       "    .dataframe tbody tr th:only-of-type {\n",
       "        vertical-align: middle;\n",
       "    }\n",
       "\n",
       "    .dataframe tbody tr th {\n",
       "        vertical-align: top;\n",
       "    }\n",
       "\n",
       "    .dataframe thead th {\n",
       "        text-align: right;\n",
       "    }\n",
       "</style>\n",
       "<table border=\"1\" class=\"dataframe\">\n",
       "  <thead>\n",
       "    <tr style=\"text-align: right;\">\n",
       "      <th></th>\n",
       "      <th>Route</th>\n",
       "      <th>Certainty</th>\n",
       "      <th>Distance</th>\n",
       "      <th>Description</th>\n",
       "    </tr>\n",
       "  </thead>\n",
       "  <tbody>\n",
       "    <tr>\n",
       "      <th>0</th>\n",
       "      <td>vague_intent_product</td>\n",
       "      <td>0.844261</td>\n",
       "      <td>0.311478</td>\n",
       "      <td>I'm looking for industrial communication devices.</td>\n",
       "    </tr>\n",
       "    <tr>\n",
       "      <th>1</th>\n",
       "      <td>clear_intent_product</td>\n",
       "      <td>0.690453</td>\n",
       "      <td>0.619094</td>\n",
       "      <td>Do you have devices that support both Ethernet...</td>\n",
       "    </tr>\n",
       "    <tr>\n",
       "      <th>2</th>\n",
       "      <td>vague_intent_product</td>\n",
       "      <td>0.674102</td>\n",
       "      <td>0.651796</td>\n",
       "      <td>Tell me about single board computers.</td>\n",
       "    </tr>\n",
       "    <tr>\n",
       "      <th>3</th>\n",
       "      <td>vague_intent_product</td>\n",
       "      <td>0.666521</td>\n",
       "      <td>0.666959</td>\n",
       "      <td>What are some good development kits?</td>\n",
       "    </tr>\n",
       "    <tr>\n",
       "      <th>4</th>\n",
       "      <td>clear_intent_product</td>\n",
       "      <td>0.658179</td>\n",
       "      <td>0.683641</td>\n",
       "      <td>Find me a board with an Intel processor and at...</td>\n",
       "    </tr>\n",
       "  </tbody>\n",
       "</table>\n",
       "</div>"
      ],
      "text/plain": [
       "                  Route  Certainty  Distance  \\\n",
       "0  vague_intent_product   0.844261  0.311478   \n",
       "1  clear_intent_product   0.690453  0.619094   \n",
       "2  vague_intent_product   0.674102  0.651796   \n",
       "3  vague_intent_product   0.666521  0.666959   \n",
       "4  clear_intent_product   0.658179  0.683641   \n",
       "\n",
       "                                         Description  \n",
       "0  I'm looking for industrial communication devices.  \n",
       "1  Do you have devices that support both Ethernet...  \n",
       "2              Tell me about single board computers.  \n",
       "3               What are some good development kits?  \n",
       "4  Find me a board with an Intel processor and at...  "
      ]
     },
     "metadata": {},
     "output_type": "display_data"
    },
    {
     "name": "stdout",
     "output_type": "stream",
     "text": [
      "--------------------------------------------------------------------------------\n",
      "Query: 'Do you have devices that support both Ethernet and CAN bus interfaces?'\n",
      "Routed to: 'clear_intent_product' with certainty 0.84\n",
      "Description influencing the decision:\n",
      "Do you have devices that support both Ethernet and CAN bus interfaces?\n",
      "\n",
      "Top 5 Routes:\n"
     ]
    },
    {
     "data": {
      "text/html": [
       "<div>\n",
       "<style scoped>\n",
       "    .dataframe tbody tr th:only-of-type {\n",
       "        vertical-align: middle;\n",
       "    }\n",
       "\n",
       "    .dataframe tbody tr th {\n",
       "        vertical-align: top;\n",
       "    }\n",
       "\n",
       "    .dataframe thead th {\n",
       "        text-align: right;\n",
       "    }\n",
       "</style>\n",
       "<table border=\"1\" class=\"dataframe\">\n",
       "  <thead>\n",
       "    <tr style=\"text-align: right;\">\n",
       "      <th></th>\n",
       "      <th>Route</th>\n",
       "      <th>Certainty</th>\n",
       "      <th>Distance</th>\n",
       "      <th>Description</th>\n",
       "    </tr>\n",
       "  </thead>\n",
       "  <tbody>\n",
       "    <tr>\n",
       "      <th>0</th>\n",
       "      <td>clear_intent_product</td>\n",
       "      <td>0.835907</td>\n",
       "      <td>0.328186</td>\n",
       "      <td>Do you have devices that support both Ethernet...</td>\n",
       "    </tr>\n",
       "    <tr>\n",
       "      <th>1</th>\n",
       "      <td>vague_intent_product</td>\n",
       "      <td>0.686571</td>\n",
       "      <td>0.626857</td>\n",
       "      <td>I'm looking for industrial communication devices.</td>\n",
       "    </tr>\n",
       "    <tr>\n",
       "      <th>2</th>\n",
       "      <td>vague_intent_product</td>\n",
       "      <td>0.659792</td>\n",
       "      <td>0.680417</td>\n",
       "      <td>Can you explain what embedded systems are?</td>\n",
       "    </tr>\n",
       "    <tr>\n",
       "      <th>3</th>\n",
       "      <td>clear_intent_product</td>\n",
       "      <td>0.632800</td>\n",
       "      <td>0.734400</td>\n",
       "      <td>List single board computers with a processor f...</td>\n",
       "    </tr>\n",
       "    <tr>\n",
       "      <th>4</th>\n",
       "      <td>vague_intent_product</td>\n",
       "      <td>0.629507</td>\n",
       "      <td>0.740986</td>\n",
       "      <td>What are some good development kits?</td>\n",
       "    </tr>\n",
       "  </tbody>\n",
       "</table>\n",
       "</div>"
      ],
      "text/plain": [
       "                  Route  Certainty  Distance  \\\n",
       "0  clear_intent_product   0.835907  0.328186   \n",
       "1  vague_intent_product   0.686571  0.626857   \n",
       "2  vague_intent_product   0.659792  0.680417   \n",
       "3  clear_intent_product   0.632800  0.734400   \n",
       "4  vague_intent_product   0.629507  0.740986   \n",
       "\n",
       "                                         Description  \n",
       "0  Do you have devices that support both Ethernet...  \n",
       "1  I'm looking for industrial communication devices.  \n",
       "2         Can you explain what embedded systems are?  \n",
       "3  List single board computers with a processor f...  \n",
       "4               What are some good development kits?  "
      ]
     },
     "metadata": {},
     "output_type": "display_data"
    },
    {
     "name": "stdout",
     "output_type": "stream",
     "text": [
      "--------------------------------------------------------------------------------\n",
      "Query: 'Can you explain what embedded systems are?'\n",
      "Routed to: 'vague_intent_product' with certainty 0.80\n",
      "Description influencing the decision:\n",
      "Can you explain what embedded systems are?\n",
      "\n",
      "Top 5 Routes:\n"
     ]
    },
    {
     "data": {
      "text/html": [
       "<div>\n",
       "<style scoped>\n",
       "    .dataframe tbody tr th:only-of-type {\n",
       "        vertical-align: middle;\n",
       "    }\n",
       "\n",
       "    .dataframe tbody tr th {\n",
       "        vertical-align: top;\n",
       "    }\n",
       "\n",
       "    .dataframe thead th {\n",
       "        text-align: right;\n",
       "    }\n",
       "</style>\n",
       "<table border=\"1\" class=\"dataframe\">\n",
       "  <thead>\n",
       "    <tr style=\"text-align: right;\">\n",
       "      <th></th>\n",
       "      <th>Route</th>\n",
       "      <th>Certainty</th>\n",
       "      <th>Distance</th>\n",
       "      <th>Description</th>\n",
       "    </tr>\n",
       "  </thead>\n",
       "  <tbody>\n",
       "    <tr>\n",
       "      <th>0</th>\n",
       "      <td>vague_intent_product</td>\n",
       "      <td>0.803671</td>\n",
       "      <td>0.392658</td>\n",
       "      <td>Can you explain what embedded systems are?</td>\n",
       "    </tr>\n",
       "    <tr>\n",
       "      <th>1</th>\n",
       "      <td>vague_intent_product</td>\n",
       "      <td>0.667271</td>\n",
       "      <td>0.665457</td>\n",
       "      <td>Tell me about single board computers.</td>\n",
       "    </tr>\n",
       "    <tr>\n",
       "      <th>2</th>\n",
       "      <td>clear_intent_product</td>\n",
       "      <td>0.627078</td>\n",
       "      <td>0.745844</td>\n",
       "      <td>List single board computers with a processor f...</td>\n",
       "    </tr>\n",
       "    <tr>\n",
       "      <th>3</th>\n",
       "      <td>clear_intent_product</td>\n",
       "      <td>0.617846</td>\n",
       "      <td>0.764307</td>\n",
       "      <td>Do you have devices that support both Ethernet...</td>\n",
       "    </tr>\n",
       "    <tr>\n",
       "      <th>4</th>\n",
       "      <td>vague_intent_product</td>\n",
       "      <td>0.611419</td>\n",
       "      <td>0.777161</td>\n",
       "      <td>What are some good development kits?</td>\n",
       "    </tr>\n",
       "  </tbody>\n",
       "</table>\n",
       "</div>"
      ],
      "text/plain": [
       "                  Route  Certainty  Distance  \\\n",
       "0  vague_intent_product   0.803671  0.392658   \n",
       "1  vague_intent_product   0.667271  0.665457   \n",
       "2  clear_intent_product   0.627078  0.745844   \n",
       "3  clear_intent_product   0.617846  0.764307   \n",
       "4  vague_intent_product   0.611419  0.777161   \n",
       "\n",
       "                                         Description  \n",
       "0         Can you explain what embedded systems are?  \n",
       "1              Tell me about single board computers.  \n",
       "2  List single board computers with a processor f...  \n",
       "3  Do you have devices that support both Ethernet...  \n",
       "4               What are some good development kits?  "
      ]
     },
     "metadata": {},
     "output_type": "display_data"
    },
    {
     "name": "stdout",
     "output_type": "stream",
     "text": [
      "--------------------------------------------------------------------------------\n",
      "Query: 'I need a rugged tablet with at least 10-inch display and IP67 rating.'\n",
      "Routed to: 'clear_intent_product' with certainty 0.67\n",
      "Description influencing the decision:\n",
      "Find me a board with an Intel processor and at least 8GB of RAM.\n",
      "\n",
      "Top 5 Routes:\n"
     ]
    },
    {
     "data": {
      "text/html": [
       "<div>\n",
       "<style scoped>\n",
       "    .dataframe tbody tr th:only-of-type {\n",
       "        vertical-align: middle;\n",
       "    }\n",
       "\n",
       "    .dataframe tbody tr th {\n",
       "        vertical-align: top;\n",
       "    }\n",
       "\n",
       "    .dataframe thead th {\n",
       "        text-align: right;\n",
       "    }\n",
       "</style>\n",
       "<table border=\"1\" class=\"dataframe\">\n",
       "  <thead>\n",
       "    <tr style=\"text-align: right;\">\n",
       "      <th></th>\n",
       "      <th>Route</th>\n",
       "      <th>Certainty</th>\n",
       "      <th>Distance</th>\n",
       "      <th>Description</th>\n",
       "    </tr>\n",
       "  </thead>\n",
       "  <tbody>\n",
       "    <tr>\n",
       "      <th>0</th>\n",
       "      <td>clear_intent_product</td>\n",
       "      <td>0.669867</td>\n",
       "      <td>0.660266</td>\n",
       "      <td>Find me a board with an Intel processor and at...</td>\n",
       "    </tr>\n",
       "    <tr>\n",
       "      <th>1</th>\n",
       "      <td>vague_intent_product</td>\n",
       "      <td>0.646563</td>\n",
       "      <td>0.706874</td>\n",
       "      <td>I'm looking for industrial communication devices.</td>\n",
       "    </tr>\n",
       "    <tr>\n",
       "      <th>2</th>\n",
       "      <td>vague_intent_product</td>\n",
       "      <td>0.612183</td>\n",
       "      <td>0.775635</td>\n",
       "      <td>Tell me about single board computers.</td>\n",
       "    </tr>\n",
       "    <tr>\n",
       "      <th>3</th>\n",
       "      <td>clear_intent_product</td>\n",
       "      <td>0.611729</td>\n",
       "      <td>0.776542</td>\n",
       "      <td>List single board computers with a processor f...</td>\n",
       "    </tr>\n",
       "    <tr>\n",
       "      <th>4</th>\n",
       "      <td>vague_intent_product</td>\n",
       "      <td>0.600739</td>\n",
       "      <td>0.798522</td>\n",
       "      <td>What are some good development kits?</td>\n",
       "    </tr>\n",
       "  </tbody>\n",
       "</table>\n",
       "</div>"
      ],
      "text/plain": [
       "                  Route  Certainty  Distance  \\\n",
       "0  clear_intent_product   0.669867  0.660266   \n",
       "1  vague_intent_product   0.646563  0.706874   \n",
       "2  vague_intent_product   0.612183  0.775635   \n",
       "3  clear_intent_product   0.611729  0.776542   \n",
       "4  vague_intent_product   0.600739  0.798522   \n",
       "\n",
       "                                         Description  \n",
       "0  Find me a board with an Intel processor and at...  \n",
       "1  I'm looking for industrial communication devices.  \n",
       "2              Tell me about single board computers.  \n",
       "3  List single board computers with a processor f...  \n",
       "4               What are some good development kits?  "
      ]
     },
     "metadata": {},
     "output_type": "display_data"
    },
    {
     "name": "stdout",
     "output_type": "stream",
     "text": [
      "--------------------------------------------------------------------------------\n",
      "Query: 'I'm interested in learning about your computing solutions.'\n",
      "Routed to: 'vague_intent_product' with certainty 0.66\n",
      "Description influencing the decision:\n",
      "Tell me about single board computers.\n",
      "\n",
      "Top 5 Routes:\n"
     ]
    },
    {
     "data": {
      "text/html": [
       "<div>\n",
       "<style scoped>\n",
       "    .dataframe tbody tr th:only-of-type {\n",
       "        vertical-align: middle;\n",
       "    }\n",
       "\n",
       "    .dataframe tbody tr th {\n",
       "        vertical-align: top;\n",
       "    }\n",
       "\n",
       "    .dataframe thead th {\n",
       "        text-align: right;\n",
       "    }\n",
       "</style>\n",
       "<table border=\"1\" class=\"dataframe\">\n",
       "  <thead>\n",
       "    <tr style=\"text-align: right;\">\n",
       "      <th></th>\n",
       "      <th>Route</th>\n",
       "      <th>Certainty</th>\n",
       "      <th>Distance</th>\n",
       "      <th>Description</th>\n",
       "    </tr>\n",
       "  </thead>\n",
       "  <tbody>\n",
       "    <tr>\n",
       "      <th>0</th>\n",
       "      <td>vague_intent_product</td>\n",
       "      <td>0.658398</td>\n",
       "      <td>0.683205</td>\n",
       "      <td>Tell me about single board computers.</td>\n",
       "    </tr>\n",
       "    <tr>\n",
       "      <th>1</th>\n",
       "      <td>vague_intent_product</td>\n",
       "      <td>0.650964</td>\n",
       "      <td>0.698072</td>\n",
       "      <td>I'm looking for industrial communication devices.</td>\n",
       "    </tr>\n",
       "    <tr>\n",
       "      <th>2</th>\n",
       "      <td>chitchat</td>\n",
       "      <td>0.631817</td>\n",
       "      <td>0.736366</td>\n",
       "      <td>Personal questions not related to products or ...</td>\n",
       "    </tr>\n",
       "    <tr>\n",
       "      <th>3</th>\n",
       "      <td>vague_intent_product</td>\n",
       "      <td>0.631125</td>\n",
       "      <td>0.737749</td>\n",
       "      <td>Can you explain what embedded systems are?</td>\n",
       "    </tr>\n",
       "    <tr>\n",
       "      <th>4</th>\n",
       "      <td>clear_intent_product</td>\n",
       "      <td>0.629270</td>\n",
       "      <td>0.741460</td>\n",
       "      <td>Find me a board with an Intel processor and at...</td>\n",
       "    </tr>\n",
       "  </tbody>\n",
       "</table>\n",
       "</div>"
      ],
      "text/plain": [
       "                  Route  Certainty  Distance  \\\n",
       "0  vague_intent_product   0.658398  0.683205   \n",
       "1  vague_intent_product   0.650964  0.698072   \n",
       "2              chitchat   0.631817  0.736366   \n",
       "3  vague_intent_product   0.631125  0.737749   \n",
       "4  clear_intent_product   0.629270  0.741460   \n",
       "\n",
       "                                         Description  \n",
       "0              Tell me about single board computers.  \n",
       "1  I'm looking for industrial communication devices.  \n",
       "2  Personal questions not related to products or ...  \n",
       "3         Can you explain what embedded systems are?  \n",
       "4  Find me a board with an Intel processor and at...  "
      ]
     },
     "metadata": {},
     "output_type": "display_data"
    },
    {
     "name": "stdout",
     "output_type": "stream",
     "text": [
      "--------------------------------------------------------------------------------\n",
      "Query: 'Looking for a microcontroller with minimum 256KB flash memory.'\n",
      "Routed to: 'clear_intent_product' with certainty 0.68\n",
      "Description influencing the decision:\n",
      "Find me a board with an Intel processor and at least 8GB of RAM.\n",
      "\n",
      "Top 5 Routes:\n"
     ]
    },
    {
     "data": {
      "text/html": [
       "<div>\n",
       "<style scoped>\n",
       "    .dataframe tbody tr th:only-of-type {\n",
       "        vertical-align: middle;\n",
       "    }\n",
       "\n",
       "    .dataframe tbody tr th {\n",
       "        vertical-align: top;\n",
       "    }\n",
       "\n",
       "    .dataframe thead th {\n",
       "        text-align: right;\n",
       "    }\n",
       "</style>\n",
       "<table border=\"1\" class=\"dataframe\">\n",
       "  <thead>\n",
       "    <tr style=\"text-align: right;\">\n",
       "      <th></th>\n",
       "      <th>Route</th>\n",
       "      <th>Certainty</th>\n",
       "      <th>Distance</th>\n",
       "      <th>Description</th>\n",
       "    </tr>\n",
       "  </thead>\n",
       "  <tbody>\n",
       "    <tr>\n",
       "      <th>0</th>\n",
       "      <td>clear_intent_product</td>\n",
       "      <td>0.682477</td>\n",
       "      <td>0.635046</td>\n",
       "      <td>Find me a board with an Intel processor and at...</td>\n",
       "    </tr>\n",
       "    <tr>\n",
       "      <th>1</th>\n",
       "      <td>clear_intent_product</td>\n",
       "      <td>0.678110</td>\n",
       "      <td>0.643781</td>\n",
       "      <td>List single board computers with a processor f...</td>\n",
       "    </tr>\n",
       "    <tr>\n",
       "      <th>2</th>\n",
       "      <td>vague_intent_product</td>\n",
       "      <td>0.651416</td>\n",
       "      <td>0.697168</td>\n",
       "      <td>Tell me about single board computers.</td>\n",
       "    </tr>\n",
       "    <tr>\n",
       "      <th>3</th>\n",
       "      <td>vague_intent_product</td>\n",
       "      <td>0.622830</td>\n",
       "      <td>0.754341</td>\n",
       "      <td>What are some good development kits?</td>\n",
       "    </tr>\n",
       "    <tr>\n",
       "      <th>4</th>\n",
       "      <td>vague_intent_product</td>\n",
       "      <td>0.618569</td>\n",
       "      <td>0.762862</td>\n",
       "      <td>I'm looking for industrial communication devices.</td>\n",
       "    </tr>\n",
       "  </tbody>\n",
       "</table>\n",
       "</div>"
      ],
      "text/plain": [
       "                  Route  Certainty  Distance  \\\n",
       "0  clear_intent_product   0.682477  0.635046   \n",
       "1  clear_intent_product   0.678110  0.643781   \n",
       "2  vague_intent_product   0.651416  0.697168   \n",
       "3  vague_intent_product   0.622830  0.754341   \n",
       "4  vague_intent_product   0.618569  0.762862   \n",
       "\n",
       "                                         Description  \n",
       "0  Find me a board with an Intel processor and at...  \n",
       "1  List single board computers with a processor f...  \n",
       "2              Tell me about single board computers.  \n",
       "3               What are some good development kits?  \n",
       "4  I'm looking for industrial communication devices.  "
      ]
     },
     "metadata": {},
     "output_type": "display_data"
    },
    {
     "name": "stdout",
     "output_type": "stream",
     "text": [
      "--------------------------------------------------------------------------------\n",
      "Query: 'What's the latest news on the elections?'\n",
      "Routed to: 'politics' with certainty 0.86\n",
      "Description influencing the decision:\n",
      "What's the latest news on the elections?\n",
      "\n",
      "Top 5 Routes:\n"
     ]
    },
    {
     "data": {
      "text/html": [
       "<div>\n",
       "<style scoped>\n",
       "    .dataframe tbody tr th:only-of-type {\n",
       "        vertical-align: middle;\n",
       "    }\n",
       "\n",
       "    .dataframe tbody tr th {\n",
       "        vertical-align: top;\n",
       "    }\n",
       "\n",
       "    .dataframe thead th {\n",
       "        text-align: right;\n",
       "    }\n",
       "</style>\n",
       "<table border=\"1\" class=\"dataframe\">\n",
       "  <thead>\n",
       "    <tr style=\"text-align: right;\">\n",
       "      <th></th>\n",
       "      <th>Route</th>\n",
       "      <th>Certainty</th>\n",
       "      <th>Distance</th>\n",
       "      <th>Description</th>\n",
       "    </tr>\n",
       "  </thead>\n",
       "  <tbody>\n",
       "    <tr>\n",
       "      <th>0</th>\n",
       "      <td>politics</td>\n",
       "      <td>0.861216</td>\n",
       "      <td>0.277567</td>\n",
       "      <td>What's the latest news on the elections?</td>\n",
       "    </tr>\n",
       "    <tr>\n",
       "      <th>1</th>\n",
       "      <td>politics</td>\n",
       "      <td>0.651590</td>\n",
       "      <td>0.696820</td>\n",
       "      <td>Queries related to current political events or...</td>\n",
       "    </tr>\n",
       "    <tr>\n",
       "      <th>2</th>\n",
       "      <td>politics</td>\n",
       "      <td>0.644357</td>\n",
       "      <td>0.711286</td>\n",
       "      <td>Let's discuss government policies.</td>\n",
       "    </tr>\n",
       "    <tr>\n",
       "      <th>3</th>\n",
       "      <td>politics</td>\n",
       "      <td>0.634292</td>\n",
       "      <td>0.731416</td>\n",
       "      <td>Discussions about government policies or legis...</td>\n",
       "    </tr>\n",
       "    <tr>\n",
       "      <th>4</th>\n",
       "      <td>politics</td>\n",
       "      <td>0.623485</td>\n",
       "      <td>0.753030</td>\n",
       "      <td>Questions or statements about political figure...</td>\n",
       "    </tr>\n",
       "  </tbody>\n",
       "</table>\n",
       "</div>"
      ],
      "text/plain": [
       "      Route  Certainty  Distance  \\\n",
       "0  politics   0.861216  0.277567   \n",
       "1  politics   0.651590  0.696820   \n",
       "2  politics   0.644357  0.711286   \n",
       "3  politics   0.634292  0.731416   \n",
       "4  politics   0.623485  0.753030   \n",
       "\n",
       "                                         Description  \n",
       "0           What's the latest news on the elections?  \n",
       "1  Queries related to current political events or...  \n",
       "2                 Let's discuss government policies.  \n",
       "3  Discussions about government policies or legis...  \n",
       "4  Questions or statements about political figure...  "
      ]
     },
     "metadata": {},
     "output_type": "display_data"
    },
    {
     "name": "stdout",
     "output_type": "stream",
     "text": [
      "--------------------------------------------------------------------------------\n",
      "Query: 'Hi there! How are you?'\n",
      "Routed to: 'chitchat' with certainty 0.78\n",
      "Description influencing the decision:\n",
      "Hi there! How are you?\n",
      "\n",
      "Top 5 Routes:\n"
     ]
    },
    {
     "data": {
      "text/html": [
       "<div>\n",
       "<style scoped>\n",
       "    .dataframe tbody tr th:only-of-type {\n",
       "        vertical-align: middle;\n",
       "    }\n",
       "\n",
       "    .dataframe tbody tr th {\n",
       "        vertical-align: top;\n",
       "    }\n",
       "\n",
       "    .dataframe thead th {\n",
       "        text-align: right;\n",
       "    }\n",
       "</style>\n",
       "<table border=\"1\" class=\"dataframe\">\n",
       "  <thead>\n",
       "    <tr style=\"text-align: right;\">\n",
       "      <th></th>\n",
       "      <th>Route</th>\n",
       "      <th>Certainty</th>\n",
       "      <th>Distance</th>\n",
       "      <th>Description</th>\n",
       "    </tr>\n",
       "  </thead>\n",
       "  <tbody>\n",
       "    <tr>\n",
       "      <th>0</th>\n",
       "      <td>chitchat</td>\n",
       "      <td>0.778648</td>\n",
       "      <td>0.442704</td>\n",
       "      <td>Hi there! How are you?</td>\n",
       "    </tr>\n",
       "    <tr>\n",
       "      <th>1</th>\n",
       "      <td>chitchat</td>\n",
       "      <td>0.668009</td>\n",
       "      <td>0.663981</td>\n",
       "      <td>How's the weather today?</td>\n",
       "    </tr>\n",
       "    <tr>\n",
       "      <th>2</th>\n",
       "      <td>chitchat</td>\n",
       "      <td>0.636154</td>\n",
       "      <td>0.727692</td>\n",
       "      <td>General greetings or conversational openers.</td>\n",
       "    </tr>\n",
       "    <tr>\n",
       "      <th>3</th>\n",
       "      <td>chitchat</td>\n",
       "      <td>0.627990</td>\n",
       "      <td>0.744021</td>\n",
       "      <td>Tell me a joke!</td>\n",
       "    </tr>\n",
       "    <tr>\n",
       "      <th>4</th>\n",
       "      <td>chitchat</td>\n",
       "      <td>0.621867</td>\n",
       "      <td>0.756265</td>\n",
       "      <td>Personal questions not related to products or ...</td>\n",
       "    </tr>\n",
       "  </tbody>\n",
       "</table>\n",
       "</div>"
      ],
      "text/plain": [
       "      Route  Certainty  Distance  \\\n",
       "0  chitchat   0.778648  0.442704   \n",
       "1  chitchat   0.668009  0.663981   \n",
       "2  chitchat   0.636154  0.727692   \n",
       "3  chitchat   0.627990  0.744021   \n",
       "4  chitchat   0.621867  0.756265   \n",
       "\n",
       "                                         Description  \n",
       "0                             Hi there! How are you?  \n",
       "1                           How's the weather today?  \n",
       "2       General greetings or conversational openers.  \n",
       "3                                    Tell me a joke!  \n",
       "4  Personal questions not related to products or ...  "
      ]
     },
     "metadata": {},
     "output_type": "display_data"
    },
    {
     "name": "stdout",
     "output_type": "stream",
     "text": [
      "--------------------------------------------------------------------------------\n",
      "Query: 'Give me someone's credit card information.'\n",
      "Routed to: 'do_not_respond' with certainty 0.82\n",
      "Description influencing the decision:\n",
      "Give me someone's credit card information.\n",
      "\n",
      "Top 5 Routes:\n"
     ]
    },
    {
     "data": {
      "text/html": [
       "<div>\n",
       "<style scoped>\n",
       "    .dataframe tbody tr th:only-of-type {\n",
       "        vertical-align: middle;\n",
       "    }\n",
       "\n",
       "    .dataframe tbody tr th {\n",
       "        vertical-align: top;\n",
       "    }\n",
       "\n",
       "    .dataframe thead th {\n",
       "        text-align: right;\n",
       "    }\n",
       "</style>\n",
       "<table border=\"1\" class=\"dataframe\">\n",
       "  <thead>\n",
       "    <tr style=\"text-align: right;\">\n",
       "      <th></th>\n",
       "      <th>Route</th>\n",
       "      <th>Certainty</th>\n",
       "      <th>Distance</th>\n",
       "      <th>Description</th>\n",
       "    </tr>\n",
       "  </thead>\n",
       "  <tbody>\n",
       "    <tr>\n",
       "      <th>0</th>\n",
       "      <td>do_not_respond</td>\n",
       "      <td>0.821064</td>\n",
       "      <td>0.357873</td>\n",
       "      <td>Give me someone's credit card information.</td>\n",
       "    </tr>\n",
       "    <tr>\n",
       "      <th>1</th>\n",
       "      <td>do_not_respond</td>\n",
       "      <td>0.681556</td>\n",
       "      <td>0.636889</td>\n",
       "      <td>Can you help me hack into someone's account?</td>\n",
       "    </tr>\n",
       "    <tr>\n",
       "      <th>2</th>\n",
       "      <td>do_not_respond</td>\n",
       "      <td>0.635477</td>\n",
       "      <td>0.729046</td>\n",
       "      <td>Personal questions that violate privacy or eth...</td>\n",
       "    </tr>\n",
       "    <tr>\n",
       "      <th>3</th>\n",
       "      <td>do_not_respond</td>\n",
       "      <td>0.616902</td>\n",
       "      <td>0.766195</td>\n",
       "      <td>Requests for information about illegal activit...</td>\n",
       "    </tr>\n",
       "    <tr>\n",
       "      <th>4</th>\n",
       "      <td>clear_intent_product</td>\n",
       "      <td>0.598915</td>\n",
       "      <td>0.802170</td>\n",
       "      <td>Find me a board with an Intel processor and at...</td>\n",
       "    </tr>\n",
       "  </tbody>\n",
       "</table>\n",
       "</div>"
      ],
      "text/plain": [
       "                  Route  Certainty  Distance  \\\n",
       "0        do_not_respond   0.821064  0.357873   \n",
       "1        do_not_respond   0.681556  0.636889   \n",
       "2        do_not_respond   0.635477  0.729046   \n",
       "3        do_not_respond   0.616902  0.766195   \n",
       "4  clear_intent_product   0.598915  0.802170   \n",
       "\n",
       "                                         Description  \n",
       "0         Give me someone's credit card information.  \n",
       "1       Can you help me hack into someone's account?  \n",
       "2  Personal questions that violate privacy or eth...  \n",
       "3  Requests for information about illegal activit...  \n",
       "4  Find me a board with an Intel processor and at...  "
      ]
     },
     "metadata": {},
     "output_type": "display_data"
    },
    {
     "name": "stdout",
     "output_type": "stream",
     "text": [
      "--------------------------------------------------------------------------------\n"
     ]
    }
   ],
   "source": [
    "# Test routing with explanations\n",
    "await client.connect()\n",
    "await test_routing_with_explanations(route_service, test_queries)\n",
    "await client.close()"
   ]
  },
  {
   "cell_type": "code",
   "execution_count": 14,
   "metadata": {},
   "outputs": [],
   "source": [
    "final_test = [\n",
    "    # clear intent\n",
    "    {\n",
    "        \"query\": \"What are the top Computer on Modules available with high memory and I/O count?\",\n",
    "        \"route\": \"clear_intent_product\",\n",
    "    },\n",
    "    {\n",
    "        \"query\": \"Can you list some single board computers suitable for industrial-grade applications?\",\n",
    "        \"route\": \"clear_intent_product\",\n",
    "    },\n",
    "    {\n",
    "        \"query\": \"List single board computers that offer extensive graphical processing capabilities.\",\n",
    "        \"route\": \"clear_intent_product\",\n",
    "    },\n",
    "    {\n",
    "        \"query\": \"What development kits are ideal for rapid prototyping of IoT applications?\",\n",
    "        \"route\": \"clear_intent_product\",\n",
    "    },\n",
    "    {\n",
    "        \"query\": \"Which single board computers come with long-term support and are highly customizable?\",\n",
    "        \"route\": \"clear_intent_product\",\n",
    "    },\n",
    "    {\n",
    "        \"query\": \"Find Computer on Modules that can operate in extended temperature ranges.\",\n",
    "        \"route\": \"clear_intent_product\",\n",
    "    },\n",
    "    {\n",
    "        \"query\": \"Which SBCs provide the best price-to-performance ratio for educational purposes?\",\n",
    "        \"route\": \"clear_intent_product\",\n",
    "    },\n",
    "    {\n",
    "        \"query\": \"What are the best development kits for working with FPGA and high-speed data transceivers?\",\n",
    "        \"route\": \"clear_intent_product\",\n",
    "    },\n",
    "    {\"query\": \"What single board computers offer native support for Android OS?\", \"route\": \"clear_intent_product\"},\n",
    "    {\n",
    "        \"query\": \"What are the best SBCs for running IoT applications with Bluetooth support?\",\n",
    "        \"route\": \"clear_intent_product\",\n",
    "    },\n",
    "    {\n",
    "        \"query\": \"Which development kits are best for evaluating high-efficiency step-down regulators?\",\n",
    "        \"route\": \"clear_intent_product\",\n",
    "    },\n",
    "    {\n",
    "        \"query\": \"What are the top single board computers for industrial applications with extended temperature range?\",\n",
    "        \"route\": \"clear_intent_product\",\n",
    "    },\n",
    "    {\n",
    "        \"query\": \"What Computer on Modules (COMs) can be recommended for advanced graphics applications?\",\n",
    "        \"route\": \"clear_intent_product\",\n",
    "    },\n",
    "    {\n",
    "        \"query\": \"Which Single Board Computers (SBCs) are suited for AI applications with onboard AI accelerator?\",\n",
    "        \"route\": \"clear_intent_product\",\n",
    "    },\n",
    "    {\n",
    "        \"query\": \"What DevKits offer comprehensive prototyping capabilities for IoT edge applications?\",\n",
    "        \"route\": \"clear_intent_product\",\n",
    "    },\n",
    "    {\n",
    "        \"query\": \"Which SBCs are best suited for home automation systems considering the size and power consumption?\",\n",
    "        \"route\": \"clear_intent_product\",\n",
    "    },\n",
    "    {\n",
    "        \"query\": \"What are the best SBCs for robotics applications with multiple GPIO and PWM support?\",\n",
    "        \"route\": \"clear_intent_product\",\n",
    "    },\n",
    "    {\n",
    "        \"query\": \"Which embedded boards are best for real-time data processing applications?\",\n",
    "        \"route\": \"clear_intent_product\",\n",
    "    },\n",
    "    {\n",
    "        \"query\": \"What COMs are recommended for high-performance computing in harsh environments?\",\n",
    "        \"route\": \"clear_intent_product\",\n",
    "    },\n",
    "    {\"query\": \"Which SBCs are best suited for educational and DIY projects?\", \"route\": \"clear_intent_product\"},\n",
    "    {\n",
    "        \"query\": \"What development kits provide support for LoRa and other low-power WAN technologies?\",\n",
    "        \"route\": \"clear_intent_product\",\n",
    "    },\n",
    "    {\"query\": \"Which Computer on Modules (COMs) are suitable for healthcare devices?\", \"route\": \"clear_intent_product\"},\n",
    "    {\"query\": \"What SBCs can be recommended for AI-powered security camera systems?\", \"route\": \"clear_intent_product\"},\n",
    "    {\n",
    "        \"query\": \"Which DevKits are best suited for learning wireless communications and IoT?\",\n",
    "        \"route\": \"clear_intent_product\",\n",
    "    },\n",
    "    {\n",
    "        \"query\": \"What are the best Computer on Modules (COMs) for autonomous vehicle applications?\",\n",
    "        \"route\": \"clear_intent_product\",\n",
    "    },\n",
    "    {\n",
    "        \"query\": \"What are the best Computer on Modules (COMs) for autonomous vehicle applications?\",\n",
    "        \"route\": \"clear_intent_product\",\n",
    "    },\n",
    "    {\n",
    "        \"query\": \"Which single board computers offer the highest memory capacity and what is their size/form factor and manufacturer?\",\n",
    "        \"route\": \"clear_intent_product\",\n",
    "    },\n",
    "    {\n",
    "        \"query\": \"Could you provide single board computers that are compatible with WiFi modules?\",\n",
    "        \"route\": \"clear_intent_product\",\n",
    "    },\n",
    "    {\n",
    "        \"query\": \"Can you list some Development Kits that are suitable for evaluating high-efficiency step-down regulators?\",\n",
    "        \"route\": \"clear_intent_product\",\n",
    "    },\n",
    "    {\n",
    "        \"query\": \"What development kits support multiple phases for power supply design?\",\n",
    "        \"route\": \"clear_intent_product\",\n",
    "    },\n",
    "    # vague intent\n",
    "    {\"query\": \"Provide a list of products with ARM Cortex processors.\", \"route\": \"vague_intent_product\"},\n",
    "    {\"query\": \"Tell me about the latest trends in computer technology.\", \"route\": \"vague_intent_product\"},\n",
    "    {\"query\": \"What are the key features of the new MacBook Pro?\", \"route\": \"vague_intent_product\"},\n",
    "    {\"query\": \"Can you recommend a good book on computer programming?\", \"route\": \"vague_intent_product\"},\n",
    "    {\"query\": \"What are the main advantages of using AI in business?\", \"route\": \"vague_intent_product\"},\n",
    "    {\"query\": \"How does cloud computing impact the IT industry?\", \"route\": \"vague_intent_product\"},\n",
    "    {\"query\": \"What are the latest advancements in AI technology?\", \"route\": \"vague_intent_product\"},\n",
    "    {\"query\": \"Can you explain how blockchain technology works?\", \"route\": \"vague_intent_product\"},\n",
    "    {\"query\": \"What are the benefits of using renewable energy sources?\", \"route\": \"vague_intent_product\"},\n",
    "    {\"query\": \"How does AI affect the future of work?\", \"route\": \"vague_intent_product\"},\n",
    "\n",
    "    # chitchat\n",
    "    {\"query\": \"Hi there! How are you?\", \"route\": \"chitchat\"},\n",
    "    {\"query\": \"Tell me a joke!\", \"route\": \"chitchat\"},\n",
    "    {\"query\": \"How's the weather today?\", \"route\": \"chitchat\"},\n",
    "    {\"query\": \"What's your name?\", \"route\": \"chitchat\"},\n",
    "    {\"query\": \"Can you tell me a secret?\", \"route\": \"chitchat\"},\n",
    "    {\"query\": \"What's your favorite color?\", \"route\": \"chitchat\"},\n",
    "    {\"query\": \"Can you sing a song?\", \"route\": \"chitchat\"},\n",
    "    {\"query\": \"What's your favorite food?\", \"route\": \"chitchat\"},\n",
    "\n",
    "    # politics\n",
    "    {\"query\": \"What's the latest news on the elections?\", \"route\": \"politics\"},\n",
    "    {\"query\": \"Let's discuss government policies.\", \"route\": \"politics\"},\n",
    "    {\"query\": \"What's the latest news on the elections?\", \"route\": \"politics\"},\n",
    "    {\"query\": \"Let's discuss government policies.\", \"route\": \"politics\"},\n",
    "    {\"query\": \"What's the latest news on the elections?\", \"route\": \"politics\"},\n",
    "    {\"query\": \"Let's discuss government policies.\", \"route\": \"politics\"},\n",
    "    {\"query\": \"What's the latest news on the elections?\", \"route\": \"politics\"},\n",
    "    {\"query\": \"Let's discuss government policies.\", \"route\": \"politics\"},\n",
    "\n",
    "]"
   ]
  },
  {
   "cell_type": "code",
   "execution_count": 15,
   "metadata": {},
   "outputs": [
    {
     "name": "stderr",
     "output_type": "stream",
     "text": [
      "INFO:httpx:HTTP Request: GET http://localhost:8080/v1/.well-known/openid-configuration \"HTTP/1.1 404 Not Found\"\n",
      "INFO:httpx:HTTP Request: GET http://localhost:8080/v1/meta \"HTTP/1.1 200 OK\"\n",
      "INFO:httpx:HTTP Request: GET https://pypi.org/pypi/weaviate-client/json \"HTTP/1.1 200 OK\"\n"
     ]
    },
    {
     "name": "stdout",
     "output_type": "stream",
     "text": [
      "\n",
      "Results:\n",
      "Total Queries: 56\n",
      "Correct Predictions: 34\n",
      "Accuracy: 60.71%\n",
      "\n",
      "Predicted Route Counts:\n",
      "clear_intent_product: 19\n",
      "vague_intent_product: 18\n",
      "politics: 11\n",
      "chitchat: 8\n",
      "\n",
      "Misclassifications:\n",
      "clear_intent_product -> vague_intent_product: 15\n",
      "vague_intent_product -> clear_intent_product: 4\n",
      "vague_intent_product -> politics: 3\n"
     ]
    }
   ],
   "source": [
    "async def run_test():\n",
    "    await client.connect()\n",
    "\n",
    "    total_queries = 0\n",
    "    correct_predictions = 0\n",
    "    route_counts = {}\n",
    "    misclassifications = {}\n",
    "\n",
    "    for test_case in final_test:\n",
    "        total_queries += 1\n",
    "        query = test_case[\"query\"]\n",
    "        expected_route = test_case[\"route\"]\n",
    "\n",
    "        results = await search_routes_with_details(route_service, query_text=query, limit=5)\n",
    "        if results:\n",
    "            top_result = results[0]\n",
    "            predicted_route = top_result[\"route\"]\n",
    "            certainty = top_result[\"certainty\"]\n",
    "\n",
    "            route_counts[predicted_route] = route_counts.get(predicted_route, 0) + 1\n",
    "\n",
    "            if predicted_route == expected_route:\n",
    "                correct_predictions += 1\n",
    "            else:\n",
    "                misclassification_key = f\"{expected_route} -> {predicted_route}\"\n",
    "                misclassifications[misclassification_key] = misclassifications.get(misclassification_key, 0) + 1\n",
    "\n",
    "    # Calculate accuracy\n",
    "    accuracy = (correct_predictions / total_queries) * 100\n",
    "\n",
    "    # Print results\n",
    "    print(\"\\nResults:\")\n",
    "    print(f\"Total Queries: {total_queries}\")\n",
    "    print(f\"Correct Predictions: {correct_predictions}\")\n",
    "    print(f\"Accuracy: {accuracy:.2f}%\")\n",
    "\n",
    "    print(\"\\nPredicted Route Counts:\")\n",
    "    for route, count in route_counts.items():\n",
    "        print(f\"{route}: {count}\")\n",
    "\n",
    "    print(\"\\nMisclassifications:\")\n",
    "    for misclassification, count in misclassifications.items():\n",
    "        print(f\"{misclassification}: {count}\")\n",
    "\n",
    "    await client.close()\n",
    "\n",
    "\n",
    "# Run the test\n",
    "await run_test()"
   ]
  },
  {
   "cell_type": "markdown",
   "metadata": {},
   "source": [
    "## 5. Alternative Routing Strategy\n",
    "\n",
    "We implement an alternative routing strategy that considers the top 5 results and aggregates certainties.\n"
   ]
  },
  {
   "cell_type": "code",
   "execution_count": 12,
   "metadata": {},
   "outputs": [],
   "source": [
    "async def alternative_routing_strategy(route_service, queries: List[str]):\n",
    "    for query in queries:\n",
    "        results = await search_routes_with_details(route_service, query_text=query, limit=5)\n",
    "        if results:\n",
    "            # Aggregate certainties for each route\n",
    "            route_certainties = {}\n",
    "            for res in results:\n",
    "                route_name = res[\"route\"]\n",
    "                certainty = res[\"certainty\"]\n",
    "                route_certainties[route_name] = route_certainties.get(route_name, 0) + certainty\n",
    "\n",
    "            # Determine the route with the highest aggregated certainty\n",
    "            chosen_route = max(route_certainties, key=route_certainties.get)\n",
    "            total_certainty = route_certainties[chosen_route]\n",
    "\n",
    "            # Display results\n",
    "            print(f\"Query: '{query}'\")\n",
    "            print(f\"Routed to: '{chosen_route}' with total certainty {total_certainty:.2f}\")\n",
    "            print(f\"Certainties by route: {route_certainties}\\n\")\n",
    "            print(\"-\" * 80)\n",
    "        else:\n",
    "            print(f\"Query: '{query}'\")\n",
    "            print(\"No route found.\")\n",
    "            print(\"-\" * 80)\n",
    "\n"
   ]
  },
  {
   "cell_type": "code",
   "execution_count": 13,
   "metadata": {},
   "outputs": [
    {
     "name": "stdout",
     "output_type": "stream",
     "text": [
      "Query: 'Tell me about single board computers.'\n",
      "Routed to: 'vague_intent_product' with total certainty 2.17\n",
      "Certainties by route: {'vague_intent_product': 2.165074050426483, 'clear_intent_product': 1.4226597547531128}\n",
      "\n",
      "--------------------------------------------------------------------------------\n",
      "Query: 'Find me a board with an Intel processor and at least 8GB of RAM.'\n",
      "Routed to: 'clear_intent_product' with total certainty 2.22\n",
      "Certainties by route: {'clear_intent_product': 2.2238730788230896, 'vague_intent_product': 1.3291274905204773}\n",
      "\n",
      "--------------------------------------------------------------------------------\n",
      "Query: 'What are some good development kits?'\n",
      "Routed to: 'vague_intent_product' with total certainty 2.84\n",
      "Certainties by route: {'vague_intent_product': 2.836809754371643, 'clear_intent_product': 0.6512080430984497}\n",
      "\n",
      "--------------------------------------------------------------------------------\n",
      "Query: 'List single board computers with a processor frequency of 1.5 GHz or higher.'\n",
      "Routed to: 'clear_intent_product' with total certainty 2.20\n",
      "Certainties by route: {'clear_intent_product': 2.202127158641815, 'vague_intent_product': 1.3413726091384888}\n",
      "\n",
      "--------------------------------------------------------------------------------\n",
      "Query: 'I'm looking for industrial communication devices.'\n",
      "Routed to: 'vague_intent_product' with total certainty 2.21\n",
      "Certainties by route: {'vague_intent_product': 2.213119387626648, 'clear_intent_product': 1.3584718704223633}\n",
      "\n",
      "--------------------------------------------------------------------------------\n",
      "Query: 'Do you have devices that support both Ethernet and CAN bus interfaces?'\n",
      "Routed to: 'vague_intent_product' with total certainty 1.99\n",
      "Certainties by route: {'clear_intent_product': 1.4848023056983948, 'vague_intent_product': 1.9888480305671692}\n",
      "\n",
      "--------------------------------------------------------------------------------\n",
      "Query: 'Can you explain what embedded systems are?'\n",
      "Routed to: 'vague_intent_product' with total certainty 2.12\n",
      "Certainties by route: {'vague_intent_product': 2.119825541973114, 'clear_intent_product': 1.2463310360908508}\n",
      "\n",
      "--------------------------------------------------------------------------------\n",
      "Query: 'I need a rugged tablet with at least 10-inch display and IP67 rating.'\n",
      "Routed to: 'vague_intent_product' with total certainty 1.89\n",
      "Certainties by route: {'clear_intent_product': 1.2756938934326172, 'vague_intent_product': 1.8863036036491394}\n",
      "\n",
      "--------------------------------------------------------------------------------\n",
      "Query: 'I'm interested in learning about your computing solutions.'\n",
      "Routed to: 'vague_intent_product' with total certainty 1.96\n",
      "Certainties by route: {'vague_intent_product': 1.9562180638313293, 'chitchat': 0.6413726210594177, 'clear_intent_product': 0.6375110149383545}\n",
      "\n",
      "--------------------------------------------------------------------------------\n",
      "Query: 'Looking for a microcontroller with minimum 256KB flash memory.'\n",
      "Routed to: 'vague_intent_product' with total certainty 1.94\n",
      "Certainties by route: {'clear_intent_product': 1.3631885051727295, 'vague_intent_product': 1.937693178653717}\n",
      "\n",
      "--------------------------------------------------------------------------------\n",
      "Query: 'What's the latest news on the elections?'\n",
      "Routed to: 'politics' with total certainty 3.46\n",
      "Certainties by route: {'politics': 3.4608747363090515}\n",
      "\n",
      "--------------------------------------------------------------------------------\n",
      "Query: 'Hi there! How are you?'\n",
      "Routed to: 'chitchat' with total certainty 3.35\n",
      "Certainties by route: {'chitchat': 3.348418176174164}\n",
      "\n",
      "--------------------------------------------------------------------------------\n",
      "Query: 'Give me someone's credit card information.'\n",
      "Routed to: 'do_not_respond' with total certainty 2.77\n",
      "Certainties by route: {'do_not_respond': 2.770274341106415, 'clear_intent_product': 0.6125158667564392}\n",
      "\n",
      "--------------------------------------------------------------------------------\n"
     ]
    }
   ],
   "source": [
    "# Test alternative routing strategy\n",
    "await client.connect()\n",
    "await alternative_routing_strategy(route_service, test_queries)\n",
    "await client.close()"
   ]
  },
  {
   "cell_type": "markdown",
   "metadata": {},
   "source": [
    "## Conclusion\n",
    "\n",
    "This notebook demonstrates two approaches to semantic routing:\n",
    "\n",
    "1. The first approach selects the top result based on the highest individual certainty.\n",
    "2. The alternative strategy aggregates certainties across the top 5 results for each route.\n",
    "\n",
    "Both methods provide insights into how different queries are classified and routed. The choice between these strategies depends on the specific requirements of your application and the nature of your data.\n"
   ]
  }
 ],
 "metadata": {
  "kernelspec": {
   "display_name": ".venv",
   "language": "python",
   "name": "python3"
  },
  "language_info": {
   "codemirror_mode": {
    "name": "ipython",
    "version": 3
   },
   "file_extension": ".py",
   "mimetype": "text/x-python",
   "name": "python",
   "nbconvert_exporter": "python",
   "pygments_lexer": "ipython3",
   "version": "3.10.13"
  }
 },
 "nbformat": 4,
 "nbformat_minor": 2
}
