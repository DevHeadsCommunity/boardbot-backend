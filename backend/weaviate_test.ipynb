{
 "cells": [
  {
   "cell_type": "markdown",
   "metadata": {},
   "source": [
    "# Testing the Weaviate Interface Subpackage"
   ]
  },
  {
   "cell_type": "markdown",
   "metadata": {},
   "source": [
    "This notebook serves as both a testing suite and comprehensive documentation for the `weaviate_interface` subpackage. It demonstrates various functionalities provided by the subpackage, including connection management, schema operations, CRUD operations, searching, batch operations, and aggregations using the `ProductService` and `RouteService`."
   ]
  },
  {
   "cell_type": "markdown",
   "metadata": {},
   "source": [
    "## 1. Setup and Initialization\n",
    "\n",
    "First, we import the necessary modules and initialize the `WeaviateInterface`."
   ]
  },
  {
   "cell_type": "code",
   "execution_count": 1,
   "metadata": {},
   "outputs": [],
   "source": [
    "from config import Config\n",
    "from weaviate_interface import WeaviateInterface\n",
    "import logging\n",
    "\n",
    "logging.basicConfig(level=logging.INFO)\n",
    "\n",
    "# Load configuration\n",
    "config = Config()\n",
    "\n",
    "# Initialize WeaviateInterface\n",
    "weaviate_interface = WeaviateInterface(\n",
    "    url=config.WEAVIATE_URL,\n",
    "    openai_key=config.OPENAI_API_KEY,\n",
    ")\n",
    "\n",
    "# Access the client and schema manager\n",
    "client = weaviate_interface.client\n",
    "schema_manager = weaviate_interface.schema"
   ]
  },
  {
   "cell_type": "markdown",
   "metadata": {},
   "source": [
    "## 2. Connection Testing\n",
    "\n",
    "We test the connection to ensure the Weaviate instance is ready for operations."
   ]
  },
  {
   "cell_type": "code",
   "execution_count": 2,
   "metadata": {},
   "outputs": [
    {
     "name": "stdout",
     "output_type": "stream",
     "text": [
      "Testing connection to Weaviate...\n"
     ]
    },
    {
     "name": "stderr",
     "output_type": "stream",
     "text": [
      "INFO:httpx:HTTP Request: GET http://localhost:8080/v1/.well-known/openid-configuration \"HTTP/1.1 404 Not Found\"\n",
      "INFO:httpx:HTTP Request: GET http://localhost:8080/v1/meta \"HTTP/1.1 200 OK\"\n",
      "INFO:httpx:HTTP Request: GET https://pypi.org/pypi/weaviate-client/json \"HTTP/1.1 200 OK\"\n",
      "INFO:httpx:HTTP Request: GET http://localhost:8080/v1/.well-known/ready \"HTTP/1.1 200 OK\"\n"
     ]
    },
    {
     "name": "stdout",
     "output_type": "stream",
     "text": [
      "Weaviate is ready: True\n"
     ]
    }
   ],
   "source": [
    "async def test_connection():\n",
    "    print(\"Testing connection to Weaviate...\")\n",
    "    await client.connect()\n",
    "    is_ready = await client.is_ready()\n",
    "    print(f\"Weaviate is ready: {is_ready}\")\n",
    "    await client.close()\n",
    "\n",
    "\n",
    "await test_connection()"
   ]
  },
  {
   "cell_type": "markdown",
   "metadata": {},
   "source": [
    "## 3. Schema Validation and Reset\n",
    "\n",
    "We validate the current schema against the expected schema defined in `schema.py`. If the schema is not valid, we reset it."
   ]
  },
  {
   "cell_type": "code",
   "execution_count": 3,
   "metadata": {},
   "outputs": [
    {
     "name": "stderr",
     "output_type": "stream",
     "text": [
      "INFO:httpx:HTTP Request: GET http://localhost:8080/v1/.well-known/openid-configuration \"HTTP/1.1 404 Not Found\"\n",
      "INFO:httpx:HTTP Request: GET http://localhost:8080/v1/meta \"HTTP/1.1 200 OK\"\n"
     ]
    },
    {
     "name": "stdout",
     "output_type": "stream",
     "text": [
      "\n",
      "Validating schema...\n"
     ]
    },
    {
     "name": "stderr",
     "output_type": "stream",
     "text": [
      "INFO:httpx:HTTP Request: GET https://pypi.org/pypi/weaviate-client/json \"HTTP/1.1 200 OK\"\n",
      "INFO:httpx:HTTP Request: GET http://localhost:8080/v1/schema \"HTTP/1.1 200 OK\"\n",
      "INFO:weaviate_interface.schema_manager:Class mismatch: existing {'Route', 'Product'}, expected {'ProductSearchResult', 'ProductDataChunk', 'Route', 'Product', 'RawProductData'}\n",
      "INFO:httpx:HTTP Request: GET http://localhost:8080/v1/schema \"HTTP/1.1 200 OK\"\n",
      "INFO:httpx:HTTP Request: DELETE http://localhost:8080/v1/schema/Product \"HTTP/1.1 200 OK\"\n",
      "INFO:httpx:HTTP Request: DELETE http://localhost:8080/v1/schema/Route \"HTTP/1.1 200 OK\"\n"
     ]
    },
    {
     "name": "stdout",
     "output_type": "stream",
     "text": [
      "Is schema valid? False\n",
      "Resetting schema...\n"
     ]
    },
    {
     "name": "stderr",
     "output_type": "stream",
     "text": [
      "INFO:httpx:HTTP Request: POST http://localhost:8080/v1/schema \"HTTP/1.1 200 OK\"\n",
      "INFO:httpx:HTTP Request: POST http://localhost:8080/v1/schema \"HTTP/1.1 200 OK\"\n",
      "INFO:httpx:HTTP Request: POST http://localhost:8080/v1/schema \"HTTP/1.1 200 OK\"\n",
      "INFO:httpx:HTTP Request: POST http://localhost:8080/v1/schema \"HTTP/1.1 200 OK\"\n",
      "INFO:httpx:HTTP Request: POST http://localhost:8080/v1/schema \"HTTP/1.1 200 OK\"\n",
      "INFO:weaviate_interface.schema_manager:Schema reset successfully\n",
      "INFO:httpx:HTTP Request: GET http://localhost:8080/v1/schema \"HTTP/1.1 200 OK\"\n",
      "INFO:weaviate_interface.schema_manager:Mismatch in property product_id\n",
      "INFO:weaviate_interface.schema_manager:Property mismatch for RawProductData\n",
      "INFO:httpx:HTTP Request: GET http://localhost:8080/v1/schema \"HTTP/1.1 200 OK\"\n",
      "INFO:httpx:HTTP Request: POST http://localhost:8080/v1/graphql \"HTTP/1.1 200 OK\"\n",
      "INFO:weaviate_interface.weaviate_client:Aggregation results: AggregateReturn(properties={}, total_count=0)\n",
      "INFO:httpx:HTTP Request: POST http://localhost:8080/v1/graphql \"HTTP/1.1 200 OK\"\n",
      "INFO:weaviate_interface.weaviate_client:Aggregation results: AggregateReturn(properties={}, total_count=0)\n",
      "INFO:httpx:HTTP Request: POST http://localhost:8080/v1/graphql \"HTTP/1.1 200 OK\"\n",
      "INFO:weaviate_interface.weaviate_client:Aggregation results: AggregateReturn(properties={}, total_count=0)\n",
      "INFO:httpx:HTTP Request: POST http://localhost:8080/v1/graphql \"HTTP/1.1 200 OK\"\n",
      "INFO:weaviate_interface.weaviate_client:Aggregation results: AggregateReturn(properties={}, total_count=0)\n",
      "INFO:httpx:HTTP Request: POST http://localhost:8080/v1/graphql \"HTTP/1.1 200 OK\"\n",
      "INFO:weaviate_interface.weaviate_client:Aggregation results: AggregateReturn(properties={}, total_count=0)\n"
     ]
    },
    {
     "name": "stdout",
     "output_type": "stream",
     "text": [
      "Schema reset complete.\n",
      "Is schema valid after reset? False\n",
      "\n",
      "Schema Info:\n",
      "Weaviate Schema Information:\n",
      "\n",
      "Class: Product\n",
      "  Object Count: 0\n",
      "  Properties:\n",
      "    - name (Type: text) - The name of the product.\n",
      "    - ids (Type: text) - IDs of the products\n",
      "    - manufacturer (Type: text) - The manufacturer of the product.\n",
      "    - form_factor (Type: text) - The form of the product.\n",
      "    - processor (Type: text) - The processor of the product.\n",
      "    - core_count (Type: text) - The core count of the product.\n",
      "    - processor_tdp (Type: text) - The processor TDP of the product.\n",
      "    - memory (Type: text) - The memory of the product.\n",
      "    - io (Type: text) - The IO of the product.\n",
      "    - operating_system (Type: text) - The operating system of the product.\n",
      "    - environmentals (Type: text) - The environmentals of the product.\n",
      "    - certifications (Type: text) - The certifications of the product.\n",
      "    - short_summary (Type: text) - The short summary of the product.\n",
      "    - full_summary (Type: text) - The full product summary.\n",
      "    - full_product_description (Type: text) - The full description of the product.\n",
      "  Vectorizer: text2vec-openai\n",
      "\n",
      "Class: RawProductData\n",
      "  Object Count: 0\n",
      "  Properties:\n",
      "    - product_id (Type: text) - The unique identifier of the product\n",
      "    - raw_data (Type: text) - The full raw data for the product\n",
      "  Vectorizer: text2vec-openai\n",
      "\n",
      "Class: ProductSearchResult\n",
      "  Object Count: 0\n",
      "  Properties:\n",
      "    - product_id (Type: text) - The unique identifier of the product\n",
      "    - search_query (Type: text) - The query used for this search\n",
      "    - search_result (Type: text) - The full search result\n",
      "    - data_source (Type: text) - The source of the search result\n",
      "  Vectorizer: text2vec-openai\n",
      "\n",
      "Class: ProductDataChunk\n",
      "  Object Count: 0\n",
      "  Properties:\n",
      "    - chunk_text (Type: text) - The text content of the chunk\n",
      "    - product_id (Type: text) - The unique identifier of the product\n",
      "    - source_type (Type: text) - The type of source this chunk came from (raw_data or search_result)\n",
      "    - source_id (Type: text) - The ID of the source (either RawProductData or ProductSearchResult)\n",
      "  Vectorizer: text2vec-openai\n",
      "\n",
      "Class: Route\n",
      "  Object Count: 0\n",
      "  Properties:\n",
      "    - route (Type: text) - The route to follow\n",
      "    - description (Type: text) - Route description capturing different aspects of the route\n",
      "  Vectorizer: text2vec-openai\n",
      "\n"
     ]
    }
   ],
   "source": [
    "async def test_schema():\n",
    "    print(\"\\nValidating schema...\")\n",
    "    await client.connect()\n",
    "    is_valid = await schema_manager.is_valid()\n",
    "    print(f\"Is schema valid? {is_valid}\")\n",
    "\n",
    "    if not is_valid:\n",
    "        print(\"Resetting schema...\")\n",
    "        await schema_manager.reset_schema()\n",
    "        print(\"Schema reset complete.\")\n",
    "        is_valid = await schema_manager.is_valid()\n",
    "        print(f\"Is schema valid after reset? {is_valid}\")\n",
    "\n",
    "    schema_info = await schema_manager.info()\n",
    "    print(\"\\nSchema Info:\")\n",
    "    print(schema_info)\n",
    "    await client.close()\n",
    "\n",
    "\n",
    "await test_schema()"
   ]
  },
  {
   "cell_type": "markdown",
   "metadata": {},
   "source": [
    "## 4. Product Service: CRUD Operations\n",
    "\n",
    "We demonstrate Create, Read, Update, and Delete operations using the `ProductService`."
   ]
  },
  {
   "cell_type": "code",
   "execution_count": 4,
   "metadata": {},
   "outputs": [
    {
     "name": "stderr",
     "output_type": "stream",
     "text": [
      "INFO:httpx:HTTP Request: GET http://localhost:8080/v1/.well-known/openid-configuration \"HTTP/1.1 404 Not Found\"\n"
     ]
    },
    {
     "name": "stderr",
     "output_type": "stream",
     "text": [
      "INFO:httpx:HTTP Request: GET http://localhost:8080/v1/meta \"HTTP/1.1 200 OK\"\n"
     ]
    },
    {
     "name": "stdout",
     "output_type": "stream",
     "text": [
      "\n",
      "Testing Product Service CRUD operations...\n"
     ]
    },
    {
     "name": "stderr",
     "output_type": "stream",
     "text": [
      "INFO:httpx:HTTP Request: GET https://pypi.org/pypi/weaviate-client/json \"HTTP/1.1 200 OK\"\n",
      "INFO:httpx:HTTP Request: POST http://localhost:8080/v1/objects \"HTTP/1.1 200 OK\"\n",
      "INFO:weaviate_interface.weaviate_client:Object inserted with UUID: 61a4afbc-bbc6-48dc-9aef-70a8649f82bd\n"
     ]
    },
    {
     "name": "stdout",
     "output_type": "stream",
     "text": [
      "Created product with ID: 61a4afbc-bbc6-48dc-9aef-70a8649f82bd\n",
      "\n",
      "Retrieved Product:\n",
      "{'certifications': 'Class I Division 2 certified, UL, RoHS Directive 2011/65/EU', 'processor_tdp': 'Not available', 'full_product_description': None, 'io': 'Dual Row 20-pin header, Ethernet, Power, Serial, USB (Micro USB), RF Connector (MMCX)', 'ids': None, 'name': 'ZumLink Series OEM ZPC ZPCSR', 'form_factor': 'ZPC: 63.5 x 38.1 x 10.2 mm, ZPCSR: 76.2 x 50.8 x 10.2 mm', 'full_summary': None, 'environmentals': 'Operating Temperature: -40°C to 75°C (-40°F to 167°F), Humidity: 95% non-condensing', 'processor': 'ARM Cortex-A8 1 GHz', 'memory': 'RAM: 512 MB, Storage: 4 GB', 'manufacturer': 'FreeWave Technologies', 'operating_system': 'Debian-based Linux', 'core_count': '1', 'short_summary': 'The ZumLink Series OEM ZPC ZPCSR is an industrial Ethernet radio designed for secure, long-range, low-power wireless communications in rugged environments.'}\n"
     ]
    },
    {
     "name": "stderr",
     "output_type": "stream",
     "text": [
      "INFO:httpx:HTTP Request: PATCH http://localhost:8080/v1/objects/Product/61a4afbc-bbc6-48dc-9aef-70a8649f82bd \"HTTP/1.1 204 No Content\"\n",
      "INFO:httpx:HTTP Request: DELETE http://localhost:8080/v1/objects/Product/61a4afbc-bbc6-48dc-9aef-70a8649f82bd \"HTTP/1.1 204 No Content\"\n"
     ]
    },
    {
     "name": "stdout",
     "output_type": "stream",
     "text": [
      "\n",
      "Product updated.\n",
      "\n",
      "Updated Product:\n",
      "{'certifications': 'Class I Division 2 certified, UL, RoHS Directive 2011/65/EU', 'processor_tdp': 'Not available', 'full_product_description': None, 'io': 'Dual Row 20-pin header, Ethernet, Power, Serial, USB (Micro USB), RF Connector (MMCX)', 'ids': None, 'name': 'ZumLink Series OEM ZPC ZPCSR', 'form_factor': 'ZPC: 63.5 x 38.1 x 10.2 mm, ZPCSR: 76.2 x 50.8 x 10.2 mm', 'full_summary': None, 'environmentals': 'Operating Temperature: -40°C to 75°C (-40°F to 167°F), Humidity: 95% non-condensing', 'processor': 'ARM Cortex-A8 1 GHz', 'memory': 'RAM: 1 GB, Storage: 8 GB', 'manufacturer': 'FreeWave Technologies', 'operating_system': 'Debian-based Linux', 'short_summary': 'Updated: The ZumLink Series OEM ZPC ZPCSR is a rugged industrial Ethernet radio for secure wireless communications.', 'core_count': '1'}\n",
      "\n",
      "Product deleted.\n",
      "\n",
      "Attempt to retrieve deleted product:\n",
      "None\n"
     ]
    }
   ],
   "source": [
    "async def test_product_operations():\n",
    "    print(\"\\nTesting Product Service CRUD operations...\")\n",
    "    await client.connect()\n",
    "    product_service = weaviate_interface.get_service(\"Product\")\n",
    "\n",
    "    # Create a product\n",
    "    product_data = {\n",
    "        \"name\": \"ZumLink Series OEM ZPC ZPCSR\",\n",
    "        \"manufacturer\": \"FreeWave Technologies\",\n",
    "        \"form_factor\": \"ZPC: 63.5 x 38.1 x 10.2 mm, ZPCSR: 76.2 x 50.8 x 10.2 mm\",\n",
    "        \"processor\": \"ARM Cortex-A8 1 GHz\",\n",
    "        \"core_count\": \"1\",\n",
    "        \"processor_tdp\": \"Not available\",\n",
    "        \"memory\": \"RAM: 512 MB, Storage: 4 GB\",\n",
    "        \"io\": \"Dual Row 20-pin header, Ethernet, Power, Serial, USB (Micro USB), RF Connector (MMCX)\",\n",
    "        \"operating_system\": \"Debian-based Linux\",\n",
    "        \"environmentals\": \"Operating Temperature: -40°C to 75°C (-40°F to 167°F), Humidity: 95% non-condensing\",\n",
    "        \"certifications\": \"Class I Division 2 certified, UL, RoHS Directive 2011/65/EU\",\n",
    "        \"short_summary\": \"The ZumLink Series OEM ZPC ZPCSR is an industrial Ethernet radio designed for secure, long-range, low-power wireless communications in rugged environments.\",\n",
    "    }\n",
    "    product_id = await product_service.create(product_data)\n",
    "    print(f\"Created product with ID: {product_id}\")\n",
    "\n",
    "    # Retrieve the product\n",
    "    product = await product_service.get(product_id)\n",
    "    print(\"\\nRetrieved Product:\")\n",
    "    print(product)\n",
    "\n",
    "    # Update the product\n",
    "    update_data = {\n",
    "        \"short_summary\": \"Updated: The ZumLink Series OEM ZPC ZPCSR is a rugged industrial Ethernet radio for secure wireless communications.\",\n",
    "        \"memory\": \"RAM: 1 GB, Storage: 8 GB\",\n",
    "    }\n",
    "    await product_service.update(product_id, update_data)\n",
    "    print(\"\\nProduct updated.\")\n",
    "\n",
    "    updated_product = await product_service.get(product_id)\n",
    "    print(\"\\nUpdated Product:\")\n",
    "    print(updated_product)\n",
    "\n",
    "    # Delete the product\n",
    "    await product_service.delete(product_id)\n",
    "    print(\"\\nProduct deleted.\")\n",
    "\n",
    "    # Attempt to retrieve the deleted product\n",
    "    deleted_product = await product_service.get(product_id)\n",
    "    print(\"\\nAttempt to retrieve deleted product:\")\n",
    "    print(deleted_product)  # Should be None\n",
    "\n",
    "    await client.close()\n",
    "\n",
    "\n",
    "await test_product_operations()"
   ]
  },
  {
   "cell_type": "markdown",
   "metadata": {},
   "source": [
    "## 5. Product Service: Search Functionality\n",
    "\n",
    "We test the search functionality by adding sample products that match the structure of actual products and performing semantic searches."
   ]
  },
  {
   "cell_type": "code",
   "execution_count": 5,
   "metadata": {},
   "outputs": [],
   "source": [
    "from weaviate.classes.query import Filter"
   ]
  },
  {
   "cell_type": "code",
   "execution_count": 6,
   "metadata": {},
   "outputs": [
    {
     "name": "stderr",
     "output_type": "stream",
     "text": [
      "INFO:httpx:HTTP Request: GET http://localhost:8080/v1/.well-known/openid-configuration \"HTTP/1.1 404 Not Found\"\n",
      "INFO:httpx:HTTP Request: GET http://localhost:8080/v1/meta \"HTTP/1.1 200 OK\"\n"
     ]
    },
    {
     "name": "stdout",
     "output_type": "stream",
     "text": [
      "\n",
      "Testing Product Service search functionality...\n"
     ]
    },
    {
     "name": "stderr",
     "output_type": "stream",
     "text": [
      "INFO:httpx:HTTP Request: GET https://pypi.org/pypi/weaviate-client/json \"HTTP/1.1 200 OK\"\n",
      "INFO:httpx:HTTP Request: POST http://localhost:8080/v1/objects \"HTTP/1.1 200 OK\"\n",
      "INFO:weaviate_interface.weaviate_client:Object inserted with UUID: e590ae6c-7da2-43d0-8891-6dcff12071e1\n",
      "INFO:httpx:HTTP Request: POST http://localhost:8080/v1/objects \"HTTP/1.1 200 OK\"\n",
      "INFO:weaviate_interface.weaviate_client:Object inserted with UUID: da76560e-470e-4fe2-b04f-ca595bfbf699\n",
      "INFO:httpx:HTTP Request: POST http://localhost:8080/v1/objects \"HTTP/1.1 200 OK\"\n",
      "INFO:weaviate_interface.weaviate_client:Object inserted with UUID: 4c267e61-7819-4504-9db3-4059e0910862\n",
      "INFO:httpx:HTTP Request: POST http://localhost:8080/v1/objects \"HTTP/1.1 200 OK\"\n",
      "INFO:weaviate_interface.weaviate_client:Object inserted with UUID: 53ed235b-050f-4e0e-a665-0b5541e1955d\n"
     ]
    },
    {
     "name": "stdout",
     "output_type": "stream",
     "text": [
      "\n",
      "\n",
      "Results: [{'certifications': None, 'processor_tdp': None, 'full_product_description': None, 'io': None, 'ids': None, 'full_summary': None, 'form_factor': None, 'name': 'ZumLink Series OEM ZPC ZPCSR', 'environmentals': None, 'processor': 'ARM Cortex-A8 1 GHz', 'memory': 'RAM: 512 MB, Storage: 4 GB', 'manufacturer': 'FreeWave Technologies', 'operating_system': 'Debian-based Linux', 'core_count': None, 'short_summary': 'An industrial Ethernet radio for secure, long-range, low-power wireless communications in rugged environments.', 'distance': 0.5396135449409485, 'certainty': 0.7301932573318481}, {'certifications': None, 'processor_tdp': None, 'full_product_description': None, 'io': None, 'ids': None, 'name': 'LPC Development Kit', 'form_factor': None, 'environmentals': None, 'full_summary': None, 'processor': 'NXP LPC', 'memory': '32 MB SDRAM, 64 MB NAND Flash', 'manufacturer': 'NXP Semiconductors', 'operating_system': 'Embedded Linux', 'core_count': None, 'short_summary': 'A stable platform for building powerful user applications within an ARM Linux environment.', 'distance': 0.7149333953857422, 'certainty': 0.6425333023071289}]\n",
      "\n",
      "\n",
      "\n",
      "Semantic Search Results:\n",
      "Name: ZumLink Series OEM ZPC ZPCSR\n",
      "Manufacturer: FreeWave Technologies\n",
      "Summary: An industrial Ethernet radio for secure, long-range, low-power wireless communications in rugged environments.\n",
      "---\n",
      "Name: LPC Development Kit\n",
      "Manufacturer: NXP Semiconductors\n",
      "Summary: A stable platform for building powerful user applications within an ARM Linux environment.\n",
      "---\n",
      "\n",
      "Filtered Search Results (manufacturer: NXP Semiconductors):\n",
      "Name: LPC Development Kit\n",
      "Manufacturer: NXP Semiconductors\n",
      "Summary: A stable platform for building powerful user applications within an ARM Linux environment.\n",
      "---\n"
     ]
    }
   ],
   "source": [
    "async def test_product_search():\n",
    "    print(\"\\nTesting Product Service search functionality...\")\n",
    "    await client.connect()\n",
    "    product_service = weaviate_interface.get_service(\"Product\")\n",
    "\n",
    "    # Create sample products for search testing\n",
    "    products = [\n",
    "        {\n",
    "            \"name\": \"ZumLink Series OEM ZPC ZPCSR\",\n",
    "            \"manufacturer\": \"FreeWave Technologies\",\n",
    "            \"processor\": \"ARM Cortex-A8 1 GHz\",\n",
    "            \"memory\": \"RAM: 512 MB, Storage: 4 GB\",\n",
    "            \"operating_system\": \"Debian-based Linux\",\n",
    "            \"short_summary\": \"An industrial Ethernet radio for secure, long-range, low-power wireless communications in rugged environments.\",\n",
    "        },\n",
    "        {\n",
    "            \"name\": \"Zoom AM Experimenter Kit\",\n",
    "            \"manufacturer\": \"Logic Product Development\",\n",
    "            \"processor\": \"Texas Instruments AM Processor\",\n",
    "            \"memory\": \"Not available\",\n",
    "            \"operating_system\": \"Linux\",\n",
    "            \"short_summary\": \"A development kit for evaluating the functionality of the Texas Instruments AM processor.\",\n",
    "        },\n",
    "        {\n",
    "            \"name\": \"LPC Development Kit\",\n",
    "            \"manufacturer\": \"NXP Semiconductors\",\n",
    "            \"processor\": \"NXP LPC\",\n",
    "            \"memory\": \"32 MB SDRAM, 64 MB NAND Flash\",\n",
    "            \"operating_system\": \"Embedded Linux\",\n",
    "            \"short_summary\": \"A stable platform for building powerful user applications within an ARM Linux environment.\",\n",
    "        },\n",
    "        {\n",
    "            \"name\": \"XMC Microcontroller\",\n",
    "            \"manufacturer\": \"Infineon Technologies\",\n",
    "            \"processor\": \"ARM Cortex-M\",\n",
    "            \"memory\": \"Flash Memory\",\n",
    "            \"operating_system\": \"Not available\",\n",
    "            \"short_summary\": \"XMC Microcontroller with ARM Cortex-M processor and fixed flash wait states.\",\n",
    "        },\n",
    "    ]\n",
    "    for prod in products:\n",
    "        await product_service.create(prod)\n",
    "\n",
    "    # Perform a semantic search\n",
    "    search_results = await product_service.search(query_text=\"industrial wireless communication device\", limit=2)\n",
    "    print(f\"\\n\\nResults: {search_results}\\n\\n\")\n",
    "    print(\"\\nSemantic Search Results:\")\n",
    "    for result in search_results:\n",
    "        print(f\"Name: {result['name']}\")\n",
    "        print(f\"Manufacturer: {result['manufacturer']}\")\n",
    "        print(f\"Summary: {result['short_summary']}\")\n",
    "        print(\"---\")\n",
    "\n",
    "    # Perform a filtered search\n",
    "    filter_condition = Filter.by_property(\"manufacturer\").equal(\"NXP Semiconductors\")\n",
    "    filtered_results = await product_service.search(query_text=\"development kit\", filters=filter_condition, limit=3)\n",
    "    print(\"\\nFiltered Search Results (manufacturer: NXP Semiconductors):\")\n",
    "    for result in filtered_results:\n",
    "        print(f\"Name: {result['name']}\")\n",
    "        print(f\"Manufacturer: {result['manufacturer']}\")\n",
    "        print(f\"Summary: {result['short_summary']}\")\n",
    "        print(\"---\")\n",
    "\n",
    "    await client.close()\n",
    "\n",
    "\n",
    "await test_product_search()"
   ]
  },
  {
   "cell_type": "markdown",
   "metadata": {},
   "source": [
    "## 6. Product Service: Hybrid Search\n",
    "\n",
    "We demonstrate the hybrid search functionality, which combines semantic and keyword search, using the updated product data structure."
   ]
  },
  {
   "cell_type": "code",
   "execution_count": 7,
   "metadata": {},
   "outputs": [
    {
     "name": "stderr",
     "output_type": "stream",
     "text": [
      "INFO:httpx:HTTP Request: GET http://localhost:8080/v1/.well-known/openid-configuration \"HTTP/1.1 404 Not Found\"\n",
      "INFO:httpx:HTTP Request: GET http://localhost:8080/v1/meta \"HTTP/1.1 200 OK\"\n"
     ]
    },
    {
     "name": "stdout",
     "output_type": "stream",
     "text": [
      "\n",
      "Testing Product Service hybrid search...\n"
     ]
    },
    {
     "name": "stderr",
     "output_type": "stream",
     "text": [
      "INFO:httpx:HTTP Request: GET https://pypi.org/pypi/weaviate-client/json \"HTTP/1.1 200 OK\"\n"
     ]
    },
    {
     "name": "stdout",
     "output_type": "stream",
     "text": [
      "\n",
      "Hybrid Search Results:\n",
      "Name: ZumLink Series OEM ZPC ZPCSR\n",
      "Manufacturer: FreeWave Technologies\n",
      "Processor: ARM Cortex-A8 1 GHz\n",
      "Operating System: Debian-based Linux\n",
      "Summary: An industrial Ethernet radio for secure, long-range, low-power wireless communications in rugged environments.\n",
      "---\n",
      "Name: Zoom AM Experimenter Kit\n",
      "Manufacturer: Logic Product Development\n",
      "Processor: Texas Instruments AM Processor\n",
      "Operating System: Linux\n",
      "Summary: A development kit for evaluating the functionality of the Texas Instruments AM processor.\n",
      "---\n",
      "Name: LPC Development Kit\n",
      "Manufacturer: NXP Semiconductors\n",
      "Processor: NXP LPC\n",
      "Operating System: Embedded Linux\n",
      "Summary: A stable platform for building powerful user applications within an ARM Linux environment.\n",
      "---\n"
     ]
    }
   ],
   "source": [
    "async def test_hybrid_search():\n",
    "    print(\"\\nTesting Product Service hybrid search...\")\n",
    "    await client.connect()\n",
    "    product_service = weaviate_interface.get_service(\"Product\")\n",
    "\n",
    "    # Perform a hybrid search\n",
    "    hybrid_results = await product_service.hybrid_search(\n",
    "        query_text=\"ARM processor development kit\",\n",
    "        limit=3,\n",
    "        alpha=0.7,  # Adjust the balance between semantic and keyword search\n",
    "    )\n",
    "    print(\"\\nHybrid Search Results:\")\n",
    "    for result in hybrid_results:\n",
    "        print(f\"Name: {result['name']}\")\n",
    "        print(f\"Manufacturer: {result['manufacturer']}\")\n",
    "        print(f\"Processor: {result['processor']}\")\n",
    "        print(f\"Operating System: {result['operating_system']}\")\n",
    "        print(f\"Summary: {result['short_summary']}\")\n",
    "        print(\"---\")\n",
    "\n",
    "    await client.close()\n",
    "\n",
    "\n",
    "await test_hybrid_search()"
   ]
  },
  {
   "cell_type": "markdown",
   "metadata": {},
   "source": [
    "## 6. Product Service: Hybrid Search\n",
    "\n",
    "We demonstrate the hybrid search functionality, which combines semantic and keyword search, using the updated product data structure."
   ]
  },
  {
   "cell_type": "code",
   "execution_count": null,
   "metadata": {},
   "outputs": [],
   "source": [
    "async def test_vector_search():\n",
    "    print(\"\\nTesting Product Service vector search...\")\n",
    "    await client.connect()\n",
    "    product_service = weaviate_interface.get_service(\"Product\")\n",
    "\n",
    "    # Perform a vector search\n",
    "    print(\"\\nPerforming vector search for 'industrial IoT gateway'\")\n",
    "    vector_results = await product_service.vector_search(\n",
    "        query=\"industrial IoT gateway\",\n",
    "        limit=3,\n",
    "    )\n",
    "    print(\"Vector Search Results:\")\n",
    "    for result in vector_results:\n",
    "        print(f\"Name: {result['name']}\")\n",
    "        print(f\"Manufacturer: {result['manufacturer']}\")\n",
    "        print(f\"Processor: {result['processor']}\")\n",
    "        print(f\"Operating System: {result['operating_system']}\")\n",
    "        print(f\"Summary: {result['short_summary']}\")\n",
    "        print(\"---\")\n",
    "\n",
    "    await client.close()\n",
    "\n",
    "\n",
    "await test_vector_search()"
   ]
  },
  {
   "cell_type": "markdown",
   "metadata": {},
   "source": [
    "## 7. Route Service: Vector Search\n",
    "\n",
    "We demonstrate the vector search functionality, which searches for products based on vector similarity."
   ]
  },
  {
   "cell_type": "code",
   "execution_count": 2,
   "metadata": {},
   "outputs": [
    {
     "name": "stderr",
     "output_type": "stream",
     "text": [
      "INFO:httpx:HTTP Request: GET http://localhost:8080/v1/.well-known/openid-configuration \"HTTP/1.1 404 Not Found\"\n",
      "INFO:httpx:HTTP Request: GET http://localhost:8080/v1/meta \"HTTP/1.1 200 OK\"\n"
     ]
    },
    {
     "name": "stdout",
     "output_type": "stream",
     "text": [
      "\n",
      "Testing Product Service vector search...\n"
     ]
    },
    {
     "name": "stderr",
     "output_type": "stream",
     "text": [
      "INFO:httpx:HTTP Request: GET https://pypi.org/pypi/weaviate-client/json \"HTTP/1.1 200 OK\"\n"
     ]
    },
    {
     "name": "stdout",
     "output_type": "stream",
     "text": [
      "\n",
      "Performing vector search for 'industrial IoT gateway'\n",
      "Vector Search Results:\n",
      "Name: Industrial IoT Gateway\n",
      "Manufacturer: FreeWave Technologies\n",
      "Processor: ARM Cortex-A7\n",
      "Operating System: Debian-based Linux\n",
      "Summary: Rugged IoT gateway for industrial applications with advanced wireless capabilities.\n",
      "---\n",
      "Name: Industrial IoT Gateway\n",
      "Manufacturer: FreeWave Technologies\n",
      "Processor: ARM Cortex-A7\n",
      "Operating System: Debian-based Linux\n",
      "Summary: Rugged IoT gateway for industrial applications with advanced wireless capabilities.\n",
      "---\n",
      "Name: ZumLink Series OEM ZPC ZPCSR\n",
      "Manufacturer: FreeWave Technologies\n",
      "Processor: ARM Cortex-A8 1 GHz\n",
      "Operating System: Debian-based Linux\n",
      "Summary: An industrial Ethernet radio for secure, long-range, low-power wireless communications in rugged environments.\n",
      "---\n"
     ]
    }
   ],
   "source": [
    "async def test_vector_search():\n",
    "    print(\"\\nTesting Product Service vector search...\")\n",
    "    await client.connect()\n",
    "    product_service = weaviate_interface.get_service(\"Product\")\n",
    "\n",
    "    # Perform a vector search\n",
    "    print(\"\\nPerforming vector search for 'industrial IoT gateway'\")\n",
    "    vector_results = await product_service.vector_search(\n",
    "        query=\"industrial IoT gateway\",\n",
    "        limit=3,\n",
    "    )\n",
    "    print(\"Vector Search Results:\")\n",
    "    for result in vector_results:\n",
    "        print(f\"Name: {result['name']}\")\n",
    "        print(f\"Manufacturer: {result['manufacturer']}\")\n",
    "        print(f\"Processor: {result['processor']}\")\n",
    "        print(f\"Operating System: {result['operating_system']}\")\n",
    "        print(f\"Summary: {result['short_summary']}\")\n",
    "        print(\"---\")\n",
    "\n",
    "    await client.close()\n",
    "\n",
    "\n",
    "await test_vector_search()"
   ]
  },
  {
   "cell_type": "markdown",
   "metadata": {},
   "source": [
    "## 8. Product Service: Keyword Search\n",
    "\n",
    "We demonstrate the keyword search functionality, which searches for products based on specific keywords."
   ]
  },
  {
   "cell_type": "code",
   "execution_count": 3,
   "metadata": {},
   "outputs": [
    {
     "name": "stderr",
     "output_type": "stream",
     "text": [
      "INFO:httpx:HTTP Request: GET http://localhost:8080/v1/.well-known/openid-configuration \"HTTP/1.1 404 Not Found\"\n",
      "INFO:httpx:HTTP Request: GET http://localhost:8080/v1/meta \"HTTP/1.1 200 OK\"\n"
     ]
    },
    {
     "name": "stdout",
     "output_type": "stream",
     "text": [
      "\n",
      "Testing Product Service keyword search...\n"
     ]
    },
    {
     "name": "stderr",
     "output_type": "stream",
     "text": [
      "INFO:httpx:HTTP Request: GET https://pypi.org/pypi/weaviate-client/json \"HTTP/1.1 200 OK\"\n"
     ]
    },
    {
     "name": "stdout",
     "output_type": "stream",
     "text": [
      "\n",
      "Performing keyword search for 'ARM Cortex'\n",
      "Keyword Search Results:\n",
      "Name: Industrial IoT Gateway\n",
      "Manufacturer: FreeWave Technologies\n",
      "Processor: ARM Cortex-A7\n",
      "Summary: Rugged IoT gateway for industrial applications with advanced wireless capabilities.\n",
      "---\n",
      "Name: Industrial IoT Gateway\n",
      "Manufacturer: FreeWave Technologies\n",
      "Processor: ARM Cortex-A7\n",
      "Summary: Rugged IoT gateway for industrial applications with advanced wireless capabilities.\n",
      "---\n",
      "Name: Custom ARM Dev Board\n",
      "Manufacturer: NXP Semiconductors\n",
      "Processor: ARM Cortex-A53\n",
      "Summary: High-performance ARM development board for embedded applications.\n",
      "---\n"
     ]
    }
   ],
   "source": [
    "async def test_keyword_search():\n",
    "    print(\"\\nTesting Product Service keyword search...\")\n",
    "    await client.connect()\n",
    "    product_service = weaviate_interface.get_service(\"Product\")\n",
    "\n",
    "    # Perform a keyword search\n",
    "    print(\"\\nPerforming keyword search for 'ARM Cortex'\")\n",
    "    keyword_results = await product_service.keyword_search(\n",
    "        query_text=\"ARM Cortex\",\n",
    "        properties_to_search_on=[\"processor\", \"short_summary\"],\n",
    "        limit=3,\n",
    "    )\n",
    "    print(\"Keyword Search Results:\")\n",
    "    for result in keyword_results:\n",
    "        print(f\"Name: {result['name']}\")\n",
    "        print(f\"Manufacturer: {result['manufacturer']}\")\n",
    "        print(f\"Processor: {result['processor']}\")\n",
    "        print(f\"Summary: {result['short_summary']}\")\n",
    "        print(\"---\")\n",
    "\n",
    "    await client.close()\n",
    "\n",
    "\n",
    "await test_keyword_search()"
   ]
  },
  {
   "cell_type": "markdown",
   "metadata": {},
   "source": [
    "## 9. Route Service: Testing and Demonstration\n",
    "\n",
    "We test the `RouteService` by creating sample routes and demonstrating how to determine routing based on query text."
   ]
  },
  {
   "cell_type": "code",
   "execution_count": 9,
   "metadata": {},
   "outputs": [
    {
     "name": "stderr",
     "output_type": "stream",
     "text": [
      "INFO:httpx:HTTP Request: GET http://localhost:8080/v1/.well-known/openid-configuration \"HTTP/1.1 404 Not Found\"\n",
      "INFO:httpx:HTTP Request: GET http://localhost:8080/v1/meta \"HTTP/1.1 200 OK\"\n"
     ]
    },
    {
     "name": "stdout",
     "output_type": "stream",
     "text": [
      "\n",
      "Testing Route Service...\n"
     ]
    },
    {
     "name": "stderr",
     "output_type": "stream",
     "text": [
      "INFO:httpx:HTTP Request: GET https://pypi.org/pypi/weaviate-client/json \"HTTP/1.1 200 OK\"\n",
      "INFO:httpx:HTTP Request: POST http://localhost:8080/v1/objects \"HTTP/1.1 200 OK\"\n",
      "INFO:weaviate_interface.weaviate_client:Object inserted with UUID: 68eb3eed-c704-4aa4-b664-a3852c1d6c0a\n",
      "INFO:httpx:HTTP Request: POST http://localhost:8080/v1/objects \"HTTP/1.1 200 OK\"\n",
      "INFO:weaviate_interface.weaviate_client:Object inserted with UUID: daf550a1-801e-4ae1-8373-12f05c39ea35\n",
      "INFO:httpx:HTTP Request: POST http://localhost:8080/v1/objects \"HTTP/1.1 200 OK\"\n",
      "INFO:weaviate_interface.weaviate_client:Object inserted with UUID: f6efd4a7-0f99-4df3-8a63-d75831f39d3f\n",
      "INFO:httpx:HTTP Request: POST http://localhost:8080/v1/objects \"HTTP/1.1 200 OK\"\n",
      "INFO:weaviate_interface.weaviate_client:Object inserted with UUID: 8ed20cf1-272d-483f-8960-bae0f43b6cfe\n"
     ]
    },
    {
     "name": "stdout",
     "output_type": "stream",
     "text": [
      "Sample routes created.\n",
      "\n",
      "Query: 'What are the specs of your latest gaming computer?'\n",
      "Routed to: 'product'\n",
      "------------------------------\n",
      "\n",
      "Query: 'I need help with my order, it hasn't arrived yet.'\n",
      "Routed to: 'support'\n",
      "------------------------------\n",
      "\n",
      "Query: 'Are there any discounts available for bulk purchases?'\n",
      "Routed to: 'sales'\n",
      "------------------------------\n",
      "\n",
      "Query: 'What are your company's operating hours?'\n",
      "Routed to: 'general'\n",
      "------------------------------\n",
      "\n",
      "Query: 'Can you recommend a good laptop for video editing?'\n",
      "Routed to: 'product'\n",
      "------------------------------\n"
     ]
    }
   ],
   "source": [
    "async def test_route_service():\n",
    "    print(\"\\nTesting Route Service...\")\n",
    "    await client.connect()\n",
    "    route_service = weaviate_interface.get_service(\"Route\")\n",
    "\n",
    "    # Create sample routes\n",
    "    routes = [\n",
    "        {\"route\": \"product\", \"description\": \"Queries about products, hardware, and specifications.\"},\n",
    "        {\"route\": \"support\", \"description\": \"Questions about customer support, troubleshooting, and services.\"},\n",
    "        {\"route\": \"sales\", \"description\": \"Inquiries about pricing, discounts, and purchasing.\"},\n",
    "        {\"route\": \"general\", \"description\": \"General inquiries, company information, and miscellaneous questions.\"},\n",
    "    ]\n",
    "    for route in routes:\n",
    "        await route_service.create(route)\n",
    "    print(\"Sample routes created.\")\n",
    "\n",
    "    # Test route search with sample queries\n",
    "    test_queries = [\n",
    "        \"What are the specs of your latest gaming computer?\",\n",
    "        \"I need help with my order, it hasn't arrived yet.\",\n",
    "        \"Are there any discounts available for bulk purchases?\",\n",
    "        \"What are your company's operating hours?\",\n",
    "        \"Can you recommend a good laptop for video editing?\",\n",
    "    ]\n",
    "\n",
    "    for query in test_queries:\n",
    "        results = await route_service.search(query_text=query, limit=1)\n",
    "        if results:\n",
    "            route_name = results[0][\"route\"]\n",
    "            print(f\"\\nQuery: '{query}'\")\n",
    "            print(f\"Routed to: '{route_name}'\")\n",
    "        else:\n",
    "            print(f\"\\nQuery: '{query}'\")\n",
    "            print(\"No route found.\")\n",
    "        print(\"-\" * 30)\n",
    "\n",
    "    await client.close()\n",
    "\n",
    "\n",
    "await test_route_service()"
   ]
  },
  {
   "cell_type": "markdown",
   "metadata": {},
   "source": [
    "## 10. Batch Operations\n",
    "\n",
    "We will test batch creation, retrieval, and deletion of products using the `ProductService`.\n"
   ]
  },
  {
   "cell_type": "code",
   "execution_count": 2,
   "metadata": {},
   "outputs": [
    {
     "name": "stderr",
     "output_type": "stream",
     "text": [
      "INFO:httpx:HTTP Request: GET http://localhost:8080/v1/.well-known/openid-configuration \"HTTP/1.1 404 Not Found\"\n",
      "INFO:httpx:HTTP Request: GET http://localhost:8080/v1/meta \"HTTP/1.1 200 OK\"\n"
     ]
    },
    {
     "name": "stdout",
     "output_type": "stream",
     "text": [
      "\n",
      "Testing batch operations...\n"
     ]
    },
    {
     "name": "stderr",
     "output_type": "stream",
     "text": [
      "INFO:httpx:HTTP Request: GET https://pypi.org/pypi/weaviate-client/json \"HTTP/1.1 200 OK\"\n",
      "INFO:weaviate_interface.weaviate_client:Inserting 3 objects into collection Product\n",
      "INFO:httpx:HTTP Request: POST http://localhost:8080/v1/objects \"HTTP/1.1 200 OK\"\n",
      "INFO:weaviate_interface.weaviate_client:Object inserted with UUID: a4e91886-d669-4e8c-94d1-99c449aba516\n",
      "INFO:httpx:HTTP Request: POST http://localhost:8080/v1/objects \"HTTP/1.1 200 OK\"\n",
      "INFO:weaviate_interface.weaviate_client:Object inserted with UUID: 21ec1669-bd09-4235-aa9e-8fb31a837599\n",
      "INFO:httpx:HTTP Request: POST http://localhost:8080/v1/objects \"HTTP/1.1 200 OK\"\n",
      "INFO:weaviate_interface.weaviate_client:Object inserted with UUID: 928bdad7-00ae-4cce-ad65-dd5079082e47\n",
      "INFO:weaviate_interface.weaviate_client:Batch insert completed. 3 objects inserted.\n",
      "ERROR:weaviate_interface.base_service:Error retrieving all objects from Product: '_QueryCollectionAsync' object has no attribute 'get_all'\n",
      "INFO:weaviate_interface.weaviate_client:Batch delete result: DeleteManyReturn(failed=0, matches=3, objects=None, successful=3)\n",
      "ERROR:weaviate_interface.base_service:Error retrieving all objects from Product: '_QueryCollectionAsync' object has no attribute 'get_all'\n"
     ]
    },
    {
     "name": "stdout",
     "output_type": "stream",
     "text": [
      "\n",
      "Batch created product IDs: [UUID('928bdad7-00ae-4cce-ad65-dd5079082e47'), UUID('a4e91886-d669-4e8c-94d1-99c449aba516'), UUID('21ec1669-bd09-4235-aa9e-8fb31a837599')]\n",
      "\n",
      "Batch retrieved products:\n",
      "\n",
      "Batch deletion complete.\n",
      "\n",
      "Remaining products after batch deletion: 0\n"
     ]
    }
   ],
   "source": [
    "async def test_batch_operations():\n",
    "    print(\"\\nTesting batch operations...\")\n",
    "    await client.connect()\n",
    "    product_service = weaviate_interface.get_service(\"Product\")\n",
    "\n",
    "    # Batch create products\n",
    "    batch_products = [\n",
    "        {\"name\": \"Batch Product 1\", \"short_summary\": \"First batch product\"},\n",
    "        {\"name\": \"Batch Product 2\", \"short_summary\": \"Second batch product\"},\n",
    "        {\"name\": \"Batch Product 3\", \"short_summary\": \"Third batch product\"},\n",
    "    ]\n",
    "    batch_ids = await product_service.batch_create_objects(batch_products)\n",
    "    print(f\"\\nBatch created product IDs: {batch_ids}\")\n",
    "\n",
    "    # Batch retrieve products\n",
    "    batch_retrieved = await product_service.get_all(limit=100)\n",
    "    print(\"\\nBatch retrieved products:\")\n",
    "    for product in batch_retrieved:\n",
    "        print(product)\n",
    "\n",
    "    # Batch delete products\n",
    "    await product_service.batch_delete_objects(batch_ids)\n",
    "    print(\"\\nBatch deletion complete.\")\n",
    "\n",
    "    # Verify deletion\n",
    "    remaining = await product_service.get_all(limit=100)\n",
    "    print(f\"\\nRemaining products after batch deletion: {len(remaining)}\")\n",
    "\n",
    "    await client.close()\n",
    "\n",
    "# Run the batch operations test function\n",
    "await test_batch_operations()"
   ]
  },
  {
   "cell_type": "markdown",
   "metadata": {},
   "source": [
    "## 11. Aggregation Queries\n",
    "\n",
    "We demonstrate aggregation queries using the `ProductService` to group products and calculate aggregate properties based on the updated product data structure. Aggregation is useful for generating summary statistics and insights from your data."
   ]
  },
  {
   "cell_type": "code",
   "execution_count": 5,
   "metadata": {},
   "outputs": [
    {
     "name": "stderr",
     "output_type": "stream",
     "text": [
      "INFO:httpx:HTTP Request: GET http://localhost:8080/v1/.well-known/openid-configuration \"HTTP/1.1 404 Not Found\"\n",
      "INFO:httpx:HTTP Request: GET http://localhost:8080/v1/meta \"HTTP/1.1 200 OK\"\n"
     ]
    },
    {
     "name": "stdout",
     "output_type": "stream",
     "text": [
      "\n",
      "Testing aggregation queries...\n"
     ]
    },
    {
     "name": "stderr",
     "output_type": "stream",
     "text": [
      "INFO:httpx:HTTP Request: GET https://pypi.org/pypi/weaviate-client/json \"HTTP/1.1 200 OK\"\n",
      "INFO:httpx:HTTP Request: POST http://localhost:8080/v1/objects \"HTTP/1.1 200 OK\"\n",
      "INFO:weaviate_interface.weaviate_client:Object inserted with UUID: b0e2bf89-037a-4413-a48b-d3a294987af5\n",
      "INFO:httpx:HTTP Request: POST http://localhost:8080/v1/objects \"HTTP/1.1 200 OK\"\n",
      "INFO:weaviate_interface.weaviate_client:Object inserted with UUID: ac441ddf-accb-4a33-b6dc-b6fa45214802\n",
      "ERROR:weaviate_interface.weaviate_client:Error performing aggregation in collection Product: '_AggregateCollectionAsync' object has no attribute 'group_by'\n"
     ]
    },
    {
     "name": "stdout",
     "output_type": "stream",
     "text": [
      "\n",
      "Aggregation Results:\n"
     ]
    }
   ],
   "source": [
    "async def test_aggregation():\n",
    "    print(\"\\nTesting aggregation queries...\")\n",
    "    await client.connect()\n",
    "    product_service = weaviate_interface.get_service(\"Product\")\n",
    "\n",
    "    # Create additional products for aggregation\n",
    "    products = [\n",
    "        {\n",
    "            \"name\": \"Custom ARM Dev Board\",\n",
    "            \"manufacturer\": \"NXP Semiconductors\",\n",
    "            \"processor\": \"ARM Cortex-A53\",\n",
    "            \"memory\": \"2 GB RAM, 16 GB eMMC\",\n",
    "            \"operating_system\": \"Embedded Linux\",\n",
    "            \"short_summary\": \"High-performance ARM development board for embedded applications.\",\n",
    "        },\n",
    "        {\n",
    "            \"name\": \"Industrial IoT Gateway\",\n",
    "            \"manufacturer\": \"FreeWave Technologies\",\n",
    "            \"processor\": \"ARM Cortex-A7\",\n",
    "            \"memory\": \"1 GB RAM, 8 GB Flash\",\n",
    "            \"operating_system\": \"Debian-based Linux\",\n",
    "            \"short_summary\": \"Rugged IoT gateway for industrial applications with advanced wireless capabilities.\",\n",
    "        },\n",
    "    ]\n",
    "    for prod in products:\n",
    "        await product_service.create(prod)\n",
    "\n",
    "    # Perform aggregation\n",
    "    agg_results = await product_service.aggregate(\n",
    "        group_by=[\"manufacturer\", \"operating_system\"], properties=[\"processor\"]\n",
    "    )\n",
    "    print(\"\\nAggregation Results:\")\n",
    "    for group in agg_results.get(\"groups\", []):\n",
    "        print(f\"Manufacturer: {group['groupBy'][0]}, Operating System: {group['groupBy'][1]}\")\n",
    "        print(f\"  Count: {group['count']}\")\n",
    "        print(f\"  Processors:\")\n",
    "        for prop in group.get(\"properties\", []):\n",
    "            if prop[\"name\"] == \"processor\":\n",
    "                print(f\"    Unique Values: {prop.get('uniqueCount', 0)}\")\n",
    "        print(\"-\" * 30)\n",
    "\n",
    "    await client.close()\n",
    "\n",
    "\n",
    "await test_aggregation()"
   ]
  },
  {
   "cell_type": "code",
   "execution_count": 6,
   "metadata": {},
   "outputs": [
    {
     "name": "stdout",
     "output_type": "stream",
     "text": [
      "\n",
      "Testing aggregation queries...\n"
     ]
    },
    {
     "name": "stderr",
     "output_type": "stream",
     "text": [
      "INFO:httpx:HTTP Request: POST http://localhost:8080/v1/objects \"HTTP/1.1 200 OK\"\n",
      "INFO:weaviate_interface.weaviate_client:Object inserted with UUID: ac6bf07b-35bf-49fd-ac8f-cb6f35ded85d\n",
      "INFO:httpx:HTTP Request: POST http://localhost:8080/v1/objects \"HTTP/1.1 200 OK\"\n",
      "INFO:weaviate_interface.weaviate_client:Object inserted with UUID: 20d70128-3fba-4f2d-8f2d-f827886084e4\n",
      "INFO:httpx:HTTP Request: POST http://localhost:8080/v1/graphql \"HTTP/1.1 200 OK\"\n",
      "INFO:weaviate_interface.weaviate_client:Aggregation results: AggregateReturn(properties={}, total_count=18)\n"
     ]
    },
    {
     "name": "stdout",
     "output_type": "stream",
     "text": [
      "\n",
      "Performing aggregation on products\n",
      "\n",
      "Aggregation Results:\n",
      "Total number of products: 18\n",
      "\n",
      "Manual grouping by manufacturer:\n",
      "Manufacturer: FreeWave Technologies\n",
      "  Number of products: 7\n",
      "  Products:\n",
      "    - Industrial IoT Gateway\n",
      "    - Industrial IoT Gateway\n",
      "    - Industrial IoT Gateway\n",
      "    - Industrial IoT Gateway\n",
      "    - ZumLink Series OEM ZPC ZPCSR\n",
      "    - Industrial IoT Gateway\n",
      "    - ZumLink Series OEM ZPC ZPCSR\n",
      "------------------------------\n",
      "Manufacturer: Infineon Technologies\n",
      "  Number of products: 2\n",
      "  Products:\n",
      "    - XMC Microcontroller\n",
      "    - XMC Microcontroller\n",
      "------------------------------\n",
      "Manufacturer: NXP Semiconductors\n",
      "  Number of products: 7\n",
      "  Products:\n",
      "    - Custom ARM Dev Board\n",
      "    - LPC Development Kit\n",
      "    - LPC Development Kit\n",
      "    - Custom ARM Dev Board\n",
      "    - Custom ARM Dev Board\n",
      "    - Custom ARM Dev Board\n",
      "    - Custom ARM Dev Board\n",
      "------------------------------\n",
      "Manufacturer: Logic Product Development\n",
      "  Number of products: 2\n",
      "  Products:\n",
      "    - Zoom AM Experimenter Kit\n",
      "    - Zoom AM Experimenter Kit\n",
      "------------------------------\n"
     ]
    }
   ],
   "source": [
    "async def test_aggregation():\n",
    "    print(\"\\nTesting aggregation queries...\")\n",
    "    await client.connect()\n",
    "    product_service = weaviate_interface.get_service(\"Product\")\n",
    "\n",
    "    # Create additional products for aggregation\n",
    "    products = [\n",
    "        {\n",
    "            \"name\": \"Custom ARM Dev Board\",\n",
    "            \"manufacturer\": \"NXP Semiconductors\",\n",
    "            \"processor\": \"ARM Cortex-A53\",\n",
    "            \"memory\": \"2 GB RAM, 16 GB eMMC\",\n",
    "            \"operating_system\": \"Embedded Linux\",\n",
    "            \"short_summary\": \"High-performance ARM development board for embedded applications.\",\n",
    "        },\n",
    "        {\n",
    "            \"name\": \"Industrial IoT Gateway\",\n",
    "            \"manufacturer\": \"FreeWave Technologies\",\n",
    "            \"processor\": \"ARM Cortex-A7\",\n",
    "            \"memory\": \"1 GB RAM, 8 GB Flash\",\n",
    "            \"operating_system\": \"Debian-based Linux\",\n",
    "            \"short_summary\": \"Rugged IoT gateway for industrial applications with advanced wireless capabilities.\",\n",
    "        },\n",
    "    ]\n",
    "    for prod in products:\n",
    "        await product_service.create(prod)\n",
    "\n",
    "    # Perform aggregation\n",
    "    print(\"\\nPerforming aggregation on products\")\n",
    "    agg_results = await product_service.aggregate()\n",
    "    print(\"\\nAggregation Results:\")\n",
    "    print(f\"Total number of products: {agg_results.total_count}\")\n",
    "\n",
    "    # Demonstrate a workaround using get_all and manual grouping\n",
    "    all_products = await product_service.get_all(limit=100)\n",
    "\n",
    "    # Manual grouping by manufacturer\n",
    "    manufacturers = {}\n",
    "    for product in all_products:\n",
    "        manufacturer = product.get(\"manufacturer\", \"Unknown\")\n",
    "        if manufacturer not in manufacturers:\n",
    "            manufacturers[manufacturer] = []\n",
    "        manufacturers[manufacturer].append(product)\n",
    "\n",
    "    print(\"\\nManual grouping by manufacturer:\")\n",
    "    for manufacturer, products in manufacturers.items():\n",
    "        print(f\"Manufacturer: {manufacturer}\")\n",
    "        print(f\"  Number of products: {len(products)}\")\n",
    "        print(f\"  Products:\")\n",
    "        for product in products:\n",
    "            print(f\"    - {product['name']}\")\n",
    "        print(\"-\" * 30)\n",
    "\n",
    "    await client.close()\n",
    "\n",
    "\n",
    "await test_aggregation()"
   ]
  },
  {
   "cell_type": "markdown",
   "metadata": {},
   "source": [
    "## 12. RawProductDataService Testing\n"
   ]
  },
  {
   "cell_type": "code",
   "execution_count": 2,
   "metadata": {},
   "outputs": [
    {
     "name": "stderr",
     "output_type": "stream",
     "text": [
      "INFO:httpx:HTTP Request: GET http://localhost:8080/v1/.well-known/openid-configuration \"HTTP/1.1 404 Not Found\"\n",
      "INFO:httpx:HTTP Request: GET http://localhost:8080/v1/meta \"HTTP/1.1 200 OK\"\n"
     ]
    },
    {
     "name": "stdout",
     "output_type": "stream",
     "text": [
      "\n",
      "Testing RawProductDataService...\n"
     ]
    },
    {
     "name": "stderr",
     "output_type": "stream",
     "text": [
      "INFO:httpx:HTTP Request: GET https://pypi.org/pypi/weaviate-client/json \"HTTP/1.1 200 OK\"\n",
      "INFO:httpx:HTTP Request: POST http://localhost:8080/v1/objects \"HTTP/1.1 200 OK\"\n",
      "INFO:weaviate_interface.weaviate_client:Object inserted with UUID: f56f0017-f462-4521-85f3-6d45fee9ddb8\n"
     ]
    },
    {
     "name": "stdout",
     "output_type": "stream",
     "text": [
      "Created raw product data with ID: f56f0017-f462-4521-85f3-6d45fee9ddb8\n",
      "\n",
      "Retrieved Raw Product Data:\n",
      "{'raw_data': 'This is a test product with various specifications and details...', 'product_id': 'test_product_001'}\n"
     ]
    },
    {
     "name": "stderr",
     "output_type": "stream",
     "text": [
      "INFO:httpx:HTTP Request: PATCH http://localhost:8080/v1/objects/RawProductData/f56f0017-f462-4521-85f3-6d45fee9ddb8 \"HTTP/1.1 204 No Content\"\n"
     ]
    },
    {
     "name": "stdout",
     "output_type": "stream",
     "text": [
      "\n",
      "Raw Product Data updated.\n",
      "\n",
      "Updated Raw Product Data:\n",
      "{'raw_data': 'This is a test product with various specifications and details...', 'product_id': 'test_product_001'}\n",
      "\n",
      "Raw Product Data deleted.\n",
      "\n",
      "Attempt to retrieve deleted raw product data:\n",
      "None\n"
     ]
    }
   ],
   "source": [
    "async def test_raw_product_data_service():\n",
    "    print(\"\\nTesting RawProductDataService...\")\n",
    "    await client.connect()\n",
    "    raw_product_data_service = weaviate_interface.raw_product_data_service\n",
    "\n",
    "    # Create a sample raw product data\n",
    "    raw_data = {\n",
    "        \"product_id\": \"test_product_001\",\n",
    "        \"raw_data\": \"This is a test product with various specifications and details...\"\n",
    "    }\n",
    "    raw_data_id = await raw_product_data_service.create(raw_data)\n",
    "    print(f\"Created raw product data with ID: {raw_data_id}\")\n",
    "\n",
    "    # Retrieve the raw product data\n",
    "    retrieved_data = await raw_product_data_service.get_by_product_id(\"test_product_001\")\n",
    "    print(\"\\nRetrieved Raw Product Data:\")\n",
    "    print(retrieved_data)\n",
    "\n",
    "    # Update the raw product data\n",
    "    update_data = {\n",
    "        \"raw_data\": \"Updated test product data with more information...\"\n",
    "    }\n",
    "    await raw_product_data_service.update(raw_data_id, update_data)\n",
    "    print(\"\\nRaw Product Data updated.\")\n",
    "\n",
    "    updated_data = await raw_product_data_service.get_by_product_id(\"test_product_001\")\n",
    "    print(\"\\nUpdated Raw Product Data:\")\n",
    "    print(updated_data)\n",
    "\n",
    "    # Delete the raw product data\n",
    "    await raw_product_data_service.delete_by_product_id(\"test_product_001\")\n",
    "    print(\"\\nRaw Product Data deleted.\")\n",
    "\n",
    "    # Attempt to retrieve the deleted data\n",
    "    deleted_data = await raw_product_data_service.get_by_product_id(\"test_product_001\")\n",
    "    print(\"\\nAttempt to retrieve deleted raw product data:\")\n",
    "    print(deleted_data)  # Should be None\n",
    "\n",
    "    await client.close()\n",
    "\n",
    "await test_raw_product_data_service()"
   ]
  },
  {
   "cell_type": "markdown",
   "metadata": {},
   "source": [
    "## 13. ProductSearchResultService Testing\n"
   ]
  },
  {
   "cell_type": "code",
   "execution_count": 2,
   "metadata": {},
   "outputs": [
    {
     "name": "stderr",
     "output_type": "stream",
     "text": [
      "INFO:httpx:HTTP Request: GET http://localhost:8080/v1/.well-known/openid-configuration \"HTTP/1.1 404 Not Found\"\n",
      "INFO:httpx:HTTP Request: GET http://localhost:8080/v1/meta \"HTTP/1.1 200 OK\"\n"
     ]
    },
    {
     "name": "stdout",
     "output_type": "stream",
     "text": [
      "\n",
      "Testing ProductSearchResultService...\n"
     ]
    },
    {
     "name": "stderr",
     "output_type": "stream",
     "text": [
      "INFO:httpx:HTTP Request: GET https://pypi.org/pypi/weaviate-client/json \"HTTP/1.1 200 OK\"\n",
      "INFO:httpx:HTTP Request: POST http://localhost:8080/v1/objects \"HTTP/1.1 200 OK\"\n",
      "INFO:weaviate_interface.weaviate_client:Object inserted with UUID: 70914228-9086-453b-877a-038fc6831c58\n"
     ]
    },
    {
     "name": "stdout",
     "output_type": "stream",
     "text": [
      "Created search result with ID: 70914228-9086-453b-877a-038fc6831c58\n"
     ]
    },
    {
     "name": "stderr",
     "output_type": "stream",
     "text": [
      "INFO:httpx:HTTP Request: POST http://localhost:8080/v1/objects \"HTTP/1.1 200 OK\"\n",
      "INFO:weaviate_interface.weaviate_client:Object inserted with UUID: a7c0037a-bef3-4b35-be8a-2e35bac35a3f\n"
     ]
    },
    {
     "name": "stdout",
     "output_type": "stream",
     "text": [
      "Created search result with ID: a7c0037a-bef3-4b35-be8a-2e35bac35a3f\n",
      "\n",
      "Retrieved Search Results:\n",
      "{'data_source': 'https://example.com/search', 'search_result': 'Found 3 matching products...', 'search_query': 'embedded system with ARM processor', 'product_id': 'test_product_001'}\n",
      "{'data_source': 'https://example.com/search', 'search_result': 'Found 2 matching products...', 'search_query': 'industrial IoT gateway', 'product_id': 'test_product_001'}\n",
      "{'data_source': 'https://example.com/search', 'search_result': 'Found 3 matching products...', 'search_query': 'embedded system with ARM processor', 'product_id': 'test_product_001'}\n",
      "{'data_source': 'https://example.com/search', 'search_result': 'Found 2 matching products...', 'search_query': 'industrial IoT gateway', 'product_id': 'test_product_001'}\n",
      "\n",
      "Search results deleted.\n",
      "\n",
      "Remaining search results after deletion:\n",
      "[]\n"
     ]
    }
   ],
   "source": [
    "async def test_product_search_result_service():\n",
    "    print(\"\\nTesting ProductSearchResultService...\")\n",
    "    await client.connect()\n",
    "    product_search_result_service = weaviate_interface.get_service(\"ProductSearchResult\")\n",
    "\n",
    "    # Create sample search results\n",
    "    search_results = [\n",
    "        {\n",
    "            \"product_id\": \"test_product_001\",\n",
    "            \"search_query\": \"embedded system with ARM processor\",\n",
    "            \"search_result\": \"Found 3 matching products...\",\n",
    "            \"data_source\": \"https://example.com/search\"\n",
    "        },\n",
    "        {\n",
    "            \"product_id\": \"test_product_001\",\n",
    "            \"search_query\": \"industrial IoT gateway\",\n",
    "            \"search_result\": \"Found 2 matching products...\",\n",
    "            \"data_source\": \"https://example.com/search\"\n",
    "        }\n",
    "    ]\n",
    "\n",
    "    for result in search_results:\n",
    "        result_id = await product_search_result_service.create(result)\n",
    "        print(f\"Created search result with ID: {result_id}\")\n",
    "\n",
    "    # Retrieve search results for a product\n",
    "    retrieved_results = await product_search_result_service.get_by_product_id(\"test_product_001\")\n",
    "    print(\"\\nRetrieved Search Results:\")\n",
    "    for result in retrieved_results:\n",
    "        print(result)\n",
    "\n",
    "    # Delete search results for a product\n",
    "    await product_search_result_service.delete_by_product_id(\"test_product_001\")\n",
    "    print(\"\\nSearch results deleted.\")\n",
    "\n",
    "    # Verify deletion\n",
    "    remaining_results = await product_search_result_service.get_by_product_id(\"test_product_001\")\n",
    "    print(\"\\nRemaining search results after deletion:\")\n",
    "    print(remaining_results)  # Should be an empty list\n",
    "\n",
    "    await client.close()\n",
    "\n",
    "await test_product_search_result_service()\n"
   ]
  },
  {
   "cell_type": "markdown",
   "metadata": {},
   "source": [
    "## 14. ProductDataChunkService Testing\n"
   ]
  },
  {
   "cell_type": "code",
   "execution_count": 2,
   "metadata": {},
   "outputs": [
    {
     "name": "stderr",
     "output_type": "stream",
     "text": [
      "INFO:httpx:HTTP Request: GET http://localhost:8080/v1/.well-known/openid-configuration \"HTTP/1.1 404 Not Found\"\n",
      "INFO:httpx:HTTP Request: GET http://localhost:8080/v1/meta \"HTTP/1.1 200 OK\"\n"
     ]
    },
    {
     "name": "stdout",
     "output_type": "stream",
     "text": [
      "\n",
      "Testing ProductDataChunkService...\n"
     ]
    },
    {
     "name": "stderr",
     "output_type": "stream",
     "text": [
      "INFO:httpx:HTTP Request: GET https://pypi.org/pypi/weaviate-client/json \"HTTP/1.1 200 OK\"\n",
      "INFO:weaviate_interface.weaviate_client:Inserting 3 objects into collection ProductDataChunk\n",
      "INFO:httpx:HTTP Request: POST http://localhost:8080/v1/objects \"HTTP/1.1 200 OK\"\n",
      "INFO:weaviate_interface.weaviate_client:Object inserted with UUID: 53d3b1bb-bb41-4d3c-a3d3-d65867dcf3fa\n",
      "INFO:httpx:HTTP Request: POST http://localhost:8080/v1/objects \"HTTP/1.1 200 OK\"\n",
      "INFO:httpx:HTTP Request: POST http://localhost:8080/v1/objects \"HTTP/1.1 200 OK\"\n",
      "INFO:weaviate_interface.weaviate_client:Object inserted with UUID: 2e5a8323-8532-4663-9370-e2e6fbae0e3a\n",
      "INFO:weaviate_interface.weaviate_client:Object inserted with UUID: 1eb099f7-37d0-479c-8056-1f62ca61e4f9\n",
      "INFO:weaviate_interface.weaviate_client:Batch insert completed. 3 objects inserted.\n"
     ]
    },
    {
     "name": "stdout",
     "output_type": "stream",
     "text": [
      "Created 3 data chunks\n",
      "\n",
      "Retrieved Data Chunks:\n",
      "{'source_type': 'raw_data', 'source_id': 'raw_data_001', 'product_id': 'test_product_001', 'chunk_text': 'This is the first chunk of product data...'}\n",
      "{'source_type': 'raw_data', 'source_id': 'raw_data_001', 'product_id': 'test_product_001', 'chunk_text': 'And this is the third chunk with specifications...'}\n",
      "{'source_type': 'raw_data', 'source_id': 'raw_data_001', 'product_id': 'test_product_001', 'chunk_text': 'This is the second chunk with more details...'}\n",
      "{'source_type': 'raw_data', 'source_id': 'raw_data_001', 'product_id': 'test_product_001', 'chunk_text': 'This is the second chunk with more details...'}\n",
      "{'source_type': 'raw_data', 'source_id': 'raw_data_001', 'product_id': 'test_product_001', 'chunk_text': 'This is the first chunk of product data...'}\n",
      "{'source_type': 'raw_data', 'source_id': 'raw_data_001', 'product_id': 'test_product_001', 'chunk_text': 'And this is the third chunk with specifications...'}\n",
      "\n",
      "Semantic Search Results:\n",
      "{'source_type': 'raw_data', 'chunk_text': 'And this is the third chunk with specifications...', 'distance': 0.5509623289108276, 'certainty': 0.7245188355445862}\n",
      "{'source_type': 'raw_data', 'chunk_text': 'And this is the third chunk with specifications...', 'distance': 0.5509623289108276, 'certainty': 0.7245188355445862}\n",
      "\n",
      "Data chunks deleted.\n",
      "\n",
      "Remaining data chunks after deletion:\n",
      "[]\n"
     ]
    }
   ],
   "source": [
    "async def test_product_data_chunk_service():\n",
    "    print(\"\\nTesting ProductDataChunkService...\")\n",
    "    await client.connect()\n",
    "    product_data_chunk_service = weaviate_interface.get_service(\"ProductDataChunk\")\n",
    "\n",
    "    # Create sample data chunks\n",
    "    chunks = [\n",
    "        \"This is the first chunk of product data...\",\n",
    "        \"This is the second chunk with more details...\",\n",
    "        \"And this is the third chunk with specifications...\"\n",
    "    ]\n",
    "\n",
    "    chunk_ids = await product_data_chunk_service.create_chunks(\n",
    "        chunks=chunks,\n",
    "        product_id=\"test_product_001\",\n",
    "        source_type=\"raw_data\",\n",
    "        source_id=\"raw_data_001\"\n",
    "    )\n",
    "    print(f\"Created {len(chunk_ids)} data chunks\")\n",
    "\n",
    "    # Retrieve chunks for a product\n",
    "    retrieved_chunks = await product_data_chunk_service.get_by_product_id(\"test_product_001\")\n",
    "    print(\"\\nRetrieved Data Chunks:\")\n",
    "    for chunk in retrieved_chunks:\n",
    "        print(chunk)\n",
    "\n",
    "    # Perform a semantic search on chunks\n",
    "    search_results = await product_data_chunk_service.semantic_search(\n",
    "        query=\"product specifications\",\n",
    "        product_id=\"test_product_001\",\n",
    "        limit=2\n",
    "    )\n",
    "    print(\"\\nSemantic Search Results:\")\n",
    "    for result in search_results:\n",
    "        print(result)\n",
    "\n",
    "    # Delete chunks for a product\n",
    "    await product_data_chunk_service.delete_by_product_id(\"test_product_001\")\n",
    "    print(\"\\nData chunks deleted.\")\n",
    "\n",
    "    # Verify deletion\n",
    "    remaining_chunks = await product_data_chunk_service.get_by_product_id(\"test_product_001\")\n",
    "    print(\"\\nRemaining data chunks after deletion:\")\n",
    "    print(remaining_chunks)  # Should be an empty list\n",
    "\n",
    "    await client.close()\n",
    "\n",
    "await test_product_data_chunk_service()"
   ]
  },
  {
   "cell_type": "markdown",
   "metadata": {},
   "source": [
    "## Conclusion\n",
    "\n",
    "This notebook has tested various functionalities of the `weaviate_interface` subpackage, ensuring that it works as expected with the latest `WeaviateAsyncClient` API. We've demonstrated:\n",
    "\n",
    "1. Connection and schema management\n",
    "2. CRUD operations for products\n",
    "3. Various search functionalities including semantic, filtered, hybrid, vector, and keyword searches\n",
    "4. Route service for query routing\n",
    "5. Batch operations for efficient data manipulation\n",
    "6. Aggregation queries for data analysis\n",
    "\n",
    "These tests cover a wide range of use cases and should help ensure the reliability and functionality of the `weaviate_interface` subpackage.\n"
   ]
  }
 ],
 "metadata": {
  "kernelspec": {
   "display_name": ".venv",
   "language": "python",
   "name": "python3"
  },
  "language_info": {
   "codemirror_mode": {
    "name": "ipython",
    "version": 3
   },
   "file_extension": ".py",
   "mimetype": "text/x-python",
   "name": "python",
   "nbconvert_exporter": "python",
   "pygments_lexer": "ipython3",
   "version": "3.10.13"
  }
 },
 "nbformat": 4,
 "nbformat_minor": 2
}
