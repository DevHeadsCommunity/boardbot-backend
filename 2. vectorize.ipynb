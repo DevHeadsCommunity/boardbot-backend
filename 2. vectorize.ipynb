{
 "cells": [
  {
   "cell_type": "code",
   "execution_count": 1,
   "metadata": {},
   "outputs": [],
   "source": [
    "import os\n",
    "import asyncio\n",
    "import json\n",
    "import nest_asyncio\n",
    "import pandas as pd\n",
    "import numpy as npp\n",
    "import seaborn as sns\n",
    "from config import Config\n",
    "import matplotlib.pyplot as plt\n",
    "from openai_client import OpenAIClient\n",
    "from weaviate.weaviate_interface import WeaviateInterface\n",
    "from IPython.core.interactiveshell import InteractiveShell"
   ]
  },
  {
   "cell_type": "code",
   "execution_count": 2,
   "metadata": {},
   "outputs": [],
   "source": [
    "sns.set()\n",
    "%matplotlib inline\n",
    "pd.set_option('display.max_columns', None)\n",
    "pd.set_option('display.max_colwidth', None)\n",
    "pd.set_option(\"expand_frame_repr\", False)\n",
    "pd.set_option('display.float_format', '{:.2f}'.format)\n",
    "InteractiveShell.ast_node_interactivity = 'all'"
   ]
  },
  {
   "cell_type": "code",
   "execution_count": 3,
   "metadata": {},
   "outputs": [],
   "source": [
    "nest_asyncio.apply()\n",
    "\n",
    "\n",
    "def run_async_in_notebook(coroutine):\n",
    "    loop = asyncio.get_event_loop()\n",
    "    if loop.is_running():\n",
    "        task = loop.create_task(coroutine)\n",
    "        task.add_done_callback(lambda future: print(f\"Result: {future.result()}\"))\n",
    "        return task\n",
    "    else:\n",
    "        result = loop.run_until_complete(coroutine)\n",
    "        print(f\"Result: {result}\")\n",
    "        return result"
   ]
  },
  {
   "cell_type": "markdown",
   "metadata": {},
   "source": [
    "### Load data"
   ]
  },
  {
   "cell_type": "code",
   "execution_count": 4,
   "metadata": {},
   "outputs": [
    {
     "data": {
      "text/html": [
       "<div>\n",
       "<style scoped>\n",
       "    .dataframe tbody tr th:only-of-type {\n",
       "        vertical-align: middle;\n",
       "    }\n",
       "\n",
       "    .dataframe tbody tr th {\n",
       "        vertical-align: top;\n",
       "    }\n",
       "\n",
       "    .dataframe thead th {\n",
       "        text-align: right;\n",
       "    }\n",
       "</style>\n",
       "<table border=\"1\" class=\"dataframe\">\n",
       "  <thead>\n",
       "    <tr style=\"text-align: right;\">\n",
       "      <th></th>\n",
       "      <th>id</th>\n",
       "      <th>raw_data</th>\n",
       "      <th>raw_length</th>\n",
       "      <th>name</th>\n",
       "      <th>description</th>\n",
       "      <th>feature</th>\n",
       "      <th>specification</th>\n",
       "      <th>location</th>\n",
       "      <th>summary</th>\n",
       "    </tr>\n",
       "  </thead>\n",
       "  <tbody>\n",
       "    <tr>\n",
       "      <th>0</th>\n",
       "      <td>0SU51068</td>\n",
       "      <td>Eaton Boulevard Cleveland OH United States Smart IP Access Extend KVM control IP Highlights l l l l l l Adds remote KVM control servers computers KVM switches Features two ports remote control serial devices Features dual NIC ports network redundancy security Able utilize standard Kbps analog modem connection allowing adaptive configurable bandwidth consumption accessed via LAN SNMP traps monitoring Smart IP Access events operation Compliant Federal Trade Agreements Act TAA GSA Schedule purchases System Requirements Operating System l l Host Computer DOS Windows Novell Linux Client Computer Windows IE higher Resolution l l Host Computer Up x Hz Client Computer Recommended client computer resolution higher resolution host computer Package Includes l l l l Smart Access Unit KVM Cable Kit RS Cable Rackmount Kit MODEL NUMBER SU Description Add remote IP access existing servers Smart IP Access IP device provides remote KVM access servers network devices It provides access via LAN WAN Internet connection either single server mixed server environments Smart IP Access ideal data centers highdensity server environments mediumtolarge businesses managed legacy KVM switches Smart IP Access attached almost switch server making perfect addon device preserving existing investment It comes configuration definitions KVM switches Smart IP Access provides builtin remote control two serial devices For example serial control power management enables reboot remotely power servers location Smart IP Access offers industry standard bit SSL encryption prevent security breaches In addition dual IP connection provides redundancy security Features l l l l l l Adds remote KVM control servers computers KVM switches Features two ports remote control serial devices Features dual NIC ports network redundancy security Able utilize standard Kbps analog modem connection allowing adaptive configurable bandwidth consumption accessed via LAN SNMP traps monitoring Smart IP Access events operation Compliant Federal Trade Agreements Act TAA GSA Schedule purchases Specifications OVERVIEW UPC Code Accessory Type Accessory Class PHYSICAL Color Remote Management KVM Switch Accessories Black Shipping Dimensions hwd x x Shipping Dimensions hwd cm x x Shipping Weight lbs Shipping Weight kg ENVIRONMENTAL Storage Temperature Range F C Relative Humidity NonCondensing Operating Temperature C F CONNECTIONS PCServer Connections VGA PS FEATURES SPECIFICATIONS Number Users STANDARDS COMPLIANCE Product Compliance Trade Agreements Act TAA WARRANTY SUPPORT Product Warranty Period Worldwide year limited warranty Eaton Boulevard Cleveland OH United States Eaton All Rights Reserved Eaton registered trademark All trademarks property respective owners Mouser Electronics Authorized Distributor Click View Pricing Inventory Delivery Lifecycle Information Tripp Lite SU</td>\n",
       "      <td>403</td>\n",
       "      <td>Smart IP Access</td>\n",
       "      <td>Add remote IP access to existing servers with Smart IP Access. This IP device provides remote KVM access to servers and network devices. It provides access via LAN, WAN, or Internet connection to either a single server or mixed server environments. Smart IP Access is ideal for data centers, high-density server environments, and medium-to-large businesses managing legacy KVM switches. Smart IP Access can be attached to almost any switch or server, making it the perfect add-on device for preserving existing investment.</td>\n",
       "      <td>Adds remote KVM control to servers, computers, KVM switches. Features two ports for remote control of serial devices. Features dual NIC ports for network redundancy and security. Able to utilize standard Kbps analog modem connection allowing adaptive and configurable bandwidth consumption. Accessed via LAN. SNMP traps for monitoring Smart IP Access events and operation. Compliant with Federal Trade Agreements Act (TAA) for GSA Schedule purchases.</td>\n",
       "      <td>OVERVIEW: UPC Code, Accessory Type, Accessory Class, PHYSICAL: Color: Black, Shipping Dimensions (hwd / in): x x , Shipping Dimensions (hwd / cm): x x , Shipping Weight (lbs), Shipping Weight (kg), ENVIRONMENTAL: Storage Temperature Range (°F / °C), Relative Humidity (Non-Condensing), Operating Temperature (°C / °F), CONNECTIONS: PC/Server Connections: VGA, PS/2, FEATURES &amp; SPECIFICATIONS: Number of Users, STANDARDS COMPLIANCE: Product Compliance: Trade Agreements Act (TAA), WARRANTY &amp; SUPPORT: Product Warranty Period (Worldwide): 1 year limited warranty</td>\n",
       "      <td>Eaton Boulevard Cleveland OH United States</td>\n",
       "      <td>Smart IP Access is a device that enables remote KVM control over servers and network devices, offering features such as remote control of serial devices, dual NIC ports for enhanced security, and compliance with TAA for GSA Schedule purchases. It is designed for use in various environments, including data centers and businesses with legacy KVM switches, and supports a wide range of operating systems.</td>\n",
       "    </tr>\n",
       "  </tbody>\n",
       "</table>\n",
       "</div>"
      ],
      "text/plain": [
       "         id                                                                                                                                                                                                                                                                                                                                                                                                                                                                                                                                                                                                                                                                                                                                                                                                                                                                                                                                                                                                                                                                                                                                                                                                                                                                                                                                                                                                                                                                                                                                                                                                                                                                                                                                                                                                                                                                                                                                                                                                                                                                                                                                                                                                                                                                                                                                                                                                                                                                                                                                                                                                                                                                                                                                                                                                                                                                                                                                                             raw_data  raw_length             name                                                                                                                                                                                                                                                                                                                                                                                                                                                                                                                                 description                                                                                                                                                                                                                                                                                                                                                                                                                                                             feature                                                                                                                                                                                                                                                                                                                                                                                                                                                                                                                                                                     specification                                    location                                                                                                                                                                                                                                                                                                                                                                                                              summary\n",
       "0  0SU51068  Eaton Boulevard Cleveland OH United States Smart IP Access Extend KVM control IP Highlights l l l l l l Adds remote KVM control servers computers KVM switches Features two ports remote control serial devices Features dual NIC ports network redundancy security Able utilize standard Kbps analog modem connection allowing adaptive configurable bandwidth consumption accessed via LAN SNMP traps monitoring Smart IP Access events operation Compliant Federal Trade Agreements Act TAA GSA Schedule purchases System Requirements Operating System l l Host Computer DOS Windows Novell Linux Client Computer Windows IE higher Resolution l l Host Computer Up x Hz Client Computer Recommended client computer resolution higher resolution host computer Package Includes l l l l Smart Access Unit KVM Cable Kit RS Cable Rackmount Kit MODEL NUMBER SU Description Add remote IP access existing servers Smart IP Access IP device provides remote KVM access servers network devices It provides access via LAN WAN Internet connection either single server mixed server environments Smart IP Access ideal data centers highdensity server environments mediumtolarge businesses managed legacy KVM switches Smart IP Access attached almost switch server making perfect addon device preserving existing investment It comes configuration definitions KVM switches Smart IP Access provides builtin remote control two serial devices For example serial control power management enables reboot remotely power servers location Smart IP Access offers industry standard bit SSL encryption prevent security breaches In addition dual IP connection provides redundancy security Features l l l l l l Adds remote KVM control servers computers KVM switches Features two ports remote control serial devices Features dual NIC ports network redundancy security Able utilize standard Kbps analog modem connection allowing adaptive configurable bandwidth consumption accessed via LAN SNMP traps monitoring Smart IP Access events operation Compliant Federal Trade Agreements Act TAA GSA Schedule purchases Specifications OVERVIEW UPC Code Accessory Type Accessory Class PHYSICAL Color Remote Management KVM Switch Accessories Black Shipping Dimensions hwd x x Shipping Dimensions hwd cm x x Shipping Weight lbs Shipping Weight kg ENVIRONMENTAL Storage Temperature Range F C Relative Humidity NonCondensing Operating Temperature C F CONNECTIONS PCServer Connections VGA PS FEATURES SPECIFICATIONS Number Users STANDARDS COMPLIANCE Product Compliance Trade Agreements Act TAA WARRANTY SUPPORT Product Warranty Period Worldwide year limited warranty Eaton Boulevard Cleveland OH United States Eaton All Rights Reserved Eaton registered trademark All trademarks property respective owners Mouser Electronics Authorized Distributor Click View Pricing Inventory Delivery Lifecycle Information Tripp Lite SU         403  Smart IP Access  Add remote IP access to existing servers with Smart IP Access. This IP device provides remote KVM access to servers and network devices. It provides access via LAN, WAN, or Internet connection to either a single server or mixed server environments. Smart IP Access is ideal for data centers, high-density server environments, and medium-to-large businesses managing legacy KVM switches. Smart IP Access can be attached to almost any switch or server, making it the perfect add-on device for preserving existing investment.  Adds remote KVM control to servers, computers, KVM switches. Features two ports for remote control of serial devices. Features dual NIC ports for network redundancy and security. Able to utilize standard Kbps analog modem connection allowing adaptive and configurable bandwidth consumption. Accessed via LAN. SNMP traps for monitoring Smart IP Access events and operation. Compliant with Federal Trade Agreements Act (TAA) for GSA Schedule purchases.  OVERVIEW: UPC Code, Accessory Type, Accessory Class, PHYSICAL: Color: Black, Shipping Dimensions (hwd / in): x x , Shipping Dimensions (hwd / cm): x x , Shipping Weight (lbs), Shipping Weight (kg), ENVIRONMENTAL: Storage Temperature Range (°F / °C), Relative Humidity (Non-Condensing), Operating Temperature (°C / °F), CONNECTIONS: PC/Server Connections: VGA, PS/2, FEATURES & SPECIFICATIONS: Number of Users, STANDARDS COMPLIANCE: Product Compliance: Trade Agreements Act (TAA), WARRANTY & SUPPORT: Product Warranty Period (Worldwide): 1 year limited warranty  Eaton Boulevard Cleveland OH United States  Smart IP Access is a device that enables remote KVM control over servers and network devices, offering features such as remote control of serial devices, dual NIC ports for enhanced security, and compliance with TAA for GSA Schedule purchases. It is designed for use in various environments, including data centers and businesses with legacy KVM switches, and supports a wide range of operating systems."
      ]
     },
     "execution_count": 4,
     "metadata": {},
     "output_type": "execute_result"
    }
   ],
   "source": [
    "products = pd.read_csv(\"data/clean_products.csv\")\n",
    "products.head(1)"
   ]
  },
  {
   "cell_type": "markdown",
   "metadata": {},
   "source": [
    "### Weaviate"
   ]
  },
  {
   "cell_type": "code",
   "execution_count": 5,
   "metadata": {},
   "outputs": [],
   "source": [
    "# Connect to Weaviate\n",
    "config = Config()\n",
    "schema_file = \"src/optik/weaviate_interface/document_schema.json\"\n",
    "\n",
    "weaviate_interface = WeaviateInterface(config.WEAVIATE_URL, config.OPENAI_API_KEY, schema_file)"
   ]
  },
  {
   "cell_type": "code",
   "execution_count": 6,
   "metadata": {},
   "outputs": [
    {
     "data": {
      "text/plain": [
       "<Task pending name='Task-1' coro=<WeaviateInterface.async_init() running at /Users/e729/Workspace/Tenacious/ThroughPut/weaviate/weaviate_interface.py:14> cb=[run_async_in_notebook.<locals>.<lambda>() at /var/folders/rp/6b0gnlkd7cl_wvl_lj9y8nx40000gn/T/ipykernel_71225/47769366.py:8]>"
      ]
     },
     "execution_count": 6,
     "metadata": {},
     "output_type": "execute_result"
    }
   ],
   "source": [
    "run_async_in_notebook(weaviate_interface.async_init())"
   ]
  },
  {
   "cell_type": "code",
   "execution_count": 7,
   "metadata": {},
   "outputs": [
    {
     "data": {
      "text/plain": [
       "<Task pending name='Task-3' coro=<SchemaManager.reset() running at /Users/e729/Workspace/Tenacious/ThroughPut/weaviate/schema_manager.py:51> cb=[run_async_in_notebook.<locals>.<lambda>() at /var/folders/rp/6b0gnlkd7cl_wvl_lj9y8nx40000gn/T/ipykernel_71225/47769366.py:8]>"
      ]
     },
     "execution_count": 7,
     "metadata": {},
     "output_type": "execute_result"
    }
   ],
   "source": [
    "run_async_in_notebook(weaviate_interface.schema.reset())"
   ]
  },
  {
   "cell_type": "code",
   "execution_count": 8,
   "metadata": {},
   "outputs": [
    {
     "data": {
      "text/plain": [
       "<Task pending name='Task-5' coro=<SchemaManager.is_valid() running at /Users/e729/Workspace/Tenacious/ThroughPut/weaviate/schema_manager.py:23> cb=[run_async_in_notebook.<locals>.<lambda>() at /var/folders/rp/6b0gnlkd7cl_wvl_lj9y8nx40000gn/T/ipykernel_71225/47769366.py:8]>"
      ]
     },
     "execution_count": 8,
     "metadata": {},
     "output_type": "execute_result"
    },
    {
     "name": "stdout",
     "output_type": "stream",
     "text": [
      "Result: False\n"
     ]
    }
   ],
   "source": [
    "run_async_in_notebook(weaviate_interface.schema.is_valid())"
   ]
  },
  {
   "cell_type": "code",
   "execution_count": 9,
   "metadata": {},
   "outputs": [
    {
     "data": {
      "text/plain": [
       "<Task pending name='Task-7' coro=<SchemaManager.info() running at /Users/e729/Workspace/Tenacious/ThroughPut/weaviate/schema_manager.py:64> cb=[run_async_in_notebook.<locals>.<lambda>() at /var/folders/rp/6b0gnlkd7cl_wvl_lj9y8nx40000gn/T/ipykernel_71225/47769366.py:8]>"
      ]
     },
     "execution_count": 9,
     "metadata": {},
     "output_type": "execute_result"
    },
    {
     "name": "stdout",
     "output_type": "stream",
     "text": [
      "Result: Weaviate Schema Information\n",
      "\n",
      "\n"
     ]
    }
   ],
   "source": [
    "run_async_in_notebook(weaviate_interface.schema.info())"
   ]
  },
  {
   "cell_type": "code",
   "execution_count": 10,
   "metadata": {},
   "outputs": [
    {
     "data": {
      "text/plain": [
       "{'id': '0SU51068',\n",
       " 'raw_data': 'Eaton Boulevard Cleveland OH United States Smart IP Access Extend KVM control IP Highlights l l l l l l Adds remote KVM control servers computers KVM switches Features two ports remote control serial devices Features dual NIC ports network redundancy security Able utilize standard Kbps analog modem connection allowing adaptive configurable bandwidth consumption accessed via LAN SNMP traps monitoring Smart IP Access events operation Compliant Federal Trade Agreements Act TAA GSA Schedule purchases System Requirements Operating System l l Host Computer DOS Windows Novell Linux Client Computer Windows IE higher Resolution l l Host Computer Up x Hz Client Computer Recommended client computer resolution higher resolution host computer Package Includes l l l l Smart Access Unit KVM Cable Kit RS Cable Rackmount Kit MODEL NUMBER SU Description Add remote IP access existing servers Smart IP Access IP device provides remote KVM access servers network devices It provides access via LAN WAN Internet connection either single server mixed server environments Smart IP Access ideal data centers highdensity server environments mediumtolarge businesses managed legacy KVM switches Smart IP Access attached almost switch server making perfect addon device preserving existing investment It comes configuration definitions KVM switches Smart IP Access provides builtin remote control two serial devices For example serial control power management enables reboot remotely power servers location Smart IP Access offers industry standard bit SSL encryption prevent security breaches In addition dual IP connection provides redundancy security Features l l l l l l Adds remote KVM control servers computers KVM switches Features two ports remote control serial devices Features dual NIC ports network redundancy security Able utilize standard Kbps analog modem connection allowing adaptive configurable bandwidth consumption accessed via LAN SNMP traps monitoring Smart IP Access events operation Compliant Federal Trade Agreements Act TAA GSA Schedule purchases Specifications OVERVIEW UPC Code Accessory Type Accessory Class PHYSICAL Color Remote Management KVM Switch Accessories Black Shipping Dimensions hwd x x Shipping Dimensions hwd cm x x Shipping Weight lbs Shipping Weight kg ENVIRONMENTAL Storage Temperature Range F C Relative Humidity NonCondensing Operating Temperature C F CONNECTIONS PCServer Connections VGA PS FEATURES SPECIFICATIONS Number Users STANDARDS COMPLIANCE Product Compliance Trade Agreements Act TAA WARRANTY SUPPORT Product Warranty Period Worldwide year limited warranty Eaton Boulevard Cleveland OH United States Eaton All Rights Reserved Eaton registered trademark All trademarks property respective owners Mouser Electronics Authorized Distributor Click View Pricing Inventory Delivery Lifecycle Information Tripp Lite SU',\n",
       " 'raw_length': 403,\n",
       " 'name': 'Smart IP Access',\n",
       " 'description': 'Add remote IP access to existing servers with Smart IP Access. This IP device provides remote KVM access to servers and network devices. It provides access via LAN, WAN, or Internet connection to either a single server or mixed server environments. Smart IP Access is ideal for data centers, high-density server environments, and medium-to-large businesses managing legacy KVM switches. Smart IP Access can be attached to almost any switch or server, making it the perfect add-on device for preserving existing investment.',\n",
       " 'feature': 'Adds remote KVM control to servers, computers, KVM switches. Features two ports for remote control of serial devices. Features dual NIC ports for network redundancy and security. Able to utilize standard Kbps analog modem connection allowing adaptive and configurable bandwidth consumption. Accessed via LAN. SNMP traps for monitoring Smart IP Access events and operation. Compliant with Federal Trade Agreements Act (TAA) for GSA Schedule purchases.',\n",
       " 'specification': 'OVERVIEW: UPC Code, Accessory Type, Accessory Class, PHYSICAL: Color: Black, Shipping Dimensions (hwd / in): x x , Shipping Dimensions (hwd / cm): x x , Shipping Weight (lbs), Shipping Weight (kg), ENVIRONMENTAL: Storage Temperature Range (°F / °C), Relative Humidity (Non-Condensing), Operating Temperature (°C / °F), CONNECTIONS: PC/Server Connections: VGA, PS/2, FEATURES & SPECIFICATIONS: Number of Users, STANDARDS COMPLIANCE: Product Compliance: Trade Agreements Act (TAA), WARRANTY & SUPPORT: Product Warranty Period (Worldwide): 1 year limited warranty',\n",
       " 'location': 'Eaton Boulevard Cleveland OH United States',\n",
       " 'summary': 'Smart IP Access is a device that enables remote KVM control over servers and network devices, offering features such as remote control of serial devices, dual NIC ports for enhanced security, and compliance with TAA for GSA Schedule purchases. It is designed for use in various environments, including data centers and businesses with legacy KVM switches, and supports a wide range of operating systems.'}"
      ]
     },
     "execution_count": 10,
     "metadata": {},
     "output_type": "execute_result"
    },
    {
     "data": {
      "text/plain": [
       "<Task pending name='Task-9' coro=<ProductService.upsert() running at /Users/e729/Workspace/Tenacious/ThroughPut/weaviate/product_service.py:24> cb=[run_async_in_notebook.<locals>.<lambda>() at /var/folders/rp/6b0gnlkd7cl_wvl_lj9y8nx40000gn/T/ipykernel_71225/47769366.py:8]>"
      ]
     },
     "execution_count": 10,
     "metadata": {},
     "output_type": "execute_result"
    }
   ],
   "source": [
    "products_data = products.to_dict(orient=\"records\")\n",
    "products_data[0]\n",
    "run_async_in_notebook(weaviate_interface.product.upsert(products_data[0]))"
   ]
  }
 ],
 "metadata": {
  "kernelspec": {
   "display_name": "Python 3",
   "language": "python",
   "name": "python3"
  },
  "language_info": {
   "codemirror_mode": {
    "name": "ipython",
    "version": 3
   },
   "file_extension": ".py",
   "mimetype": "text/x-python",
   "name": "python",
   "nbconvert_exporter": "python",
   "pygments_lexer": "ipython3",
   "version": "3.10.13"
  }
 },
 "nbformat": 4,
 "nbformat_minor": 2
}
